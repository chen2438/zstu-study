{
 "cells": [
  {
   "cell_type": "markdown",
   "metadata": {},
   "source": [
    "# 科学计算\n",
    "## 浙江理工大学 沈炜"
   ]
  },
  {
   "cell_type": "markdown",
   "metadata": {},
   "source": [
    "## 使用numpy包求逆矩阵\n",
    "### 使用numpy包求逆矩阵非常简单\n",
    "### 假定m是一个numpy和矩阵对象\n",
    "### 直接调用m.I，就是求m的逆矩阵"
   ]
  },
  {
   "cell_type": "code",
   "execution_count": 1,
   "metadata": {},
   "outputs": [],
   "source": [
    "m=([[1, 2], [3, 4]]) "
   ]
  },
  {
   "cell_type": "code",
   "execution_count": 2,
   "metadata": {},
   "outputs": [
    {
     "data": {
      "text/plain": [
       "matrix([[1, 2],\n",
       "        [3, 4]])"
      ]
     },
     "execution_count": 2,
     "metadata": {},
     "output_type": "execute_result"
    }
   ],
   "source": [
    "import numpy as np\n",
    "matrix=np.matrix(m)\n",
    "matrix"
   ]
  },
  {
   "cell_type": "code",
   "execution_count": 3,
   "metadata": {},
   "outputs": [
    {
     "data": {
      "text/plain": [
       "matrix([[-2. ,  1. ],\n",
       "        [ 1.5, -0.5]])"
      ]
     },
     "execution_count": 3,
     "metadata": {},
     "output_type": "execute_result"
    }
   ],
   "source": [
    "matrix.I"
   ]
  },
  {
   "cell_type": "code",
   "execution_count": 4,
   "metadata": {},
   "outputs": [
    {
     "data": {
      "text/plain": [
       "matrix([[-0.66666667,  0.        ,  0.33333333],\n",
       "        [-2.66666667,  3.        , -0.66666667],\n",
       "        [ 2.33333333, -2.        ,  0.33333333]])"
      ]
     },
     "execution_count": 4,
     "metadata": {},
     "output_type": "execute_result"
    }
   ],
   "source": [
    "# 再一个例子\n",
    "A = np.mat(\"1 2 3; 2 3 4; 5 4 6\") #从一个字符串创建矩阵\n",
    "A.I"
   ]
  },
  {
   "cell_type": "markdown",
   "metadata": {},
   "source": [
    "## 使用sympy求解线性方程组"
   ]
  },
  {
   "cell_type": "code",
   "execution_count": 5,
   "metadata": {},
   "outputs": [
    {
     "name": "stdout",
     "output_type": "stream",
     "text": [
      "{x: 2, y: 1}\n"
     ]
    }
   ],
   "source": [
    "from sympy import *\n",
    "x = Symbol('x')\n",
    "y = Symbol('y')\n",
    "print(solve([2 * x - y - 3, 3 * x + y - 7],[x, y]))"
   ]
  },
  {
   "cell_type": "markdown",
   "metadata": {},
   "source": [
    "## 使用scipy求解线性方程组"
   ]
  },
  {
   "cell_type": "markdown",
   "metadata": {},
   "source": [
    "$\\left\\{\n",
    "    \\begin{array}{l}\n",
    "            2x-y-3=0 \\\\\n",
    "            3x+y-7=0\n",
    "        \\end{array}\n",
    "\\right.$\n",
    "要改写成\n",
    "$\\left\\{\n",
    "    \\begin{array}{l}\n",
    "            2x-y＝3 \\\\\n",
    "            3x+y＝7\n",
    "        \\end{array}\n",
    "\\right.$"
   ]
  },
  {
   "cell_type": "code",
   "execution_count": 6,
   "metadata": {},
   "outputs": [
    {
     "name": "stdout",
     "output_type": "stream",
     "text": [
      "[2. 1.]\n"
     ]
    }
   ],
   "source": [
    "import numpy as np\n",
    "from scipy.linalg import solve\n",
    "a = np.array([[2,-1],[3,1]])\n",
    "b = np.array([3,7])\n",
    "x = solve(a, b)\n",
    "print(x)"
   ]
  },
  {
   "cell_type": "markdown",
   "metadata": {},
   "source": [
    "$\\left\\{\n",
    "    \\begin{array}{l}\n",
    "            3x_1+x_2-2x_3=5 \\\\\n",
    "            x_1-x_2+4x_3=-2 \\\\\n",
    "            2x_1+3x_3=2.5\n",
    "        \\end{array}\n",
    "\\right.$"
   ]
  },
  {
   "cell_type": "code",
   "execution_count": 7,
   "metadata": {},
   "outputs": [
    {
     "name": "stdout",
     "output_type": "stream",
     "text": [
      "[0.5 4.5 0.5]\n"
     ]
    }
   ],
   "source": [
    "import numpy as np\n",
    "from scipy.linalg import solve\n",
    "a = np.array([[3, 1, -2], [1, -1, 4], [2, 0, 3]])\n",
    "b = np.array([5, -2, 2.5])\n",
    "x = solve(a, b)\n",
    "print(x)"
   ]
  },
  {
   "cell_type": "markdown",
   "metadata": {},
   "source": [
    "## 自己写的消元法求解线性方程组"
   ]
  },
  {
   "cell_type": "markdown",
   "metadata": {},
   "source": [
    "求解这个线性方程组\n",
    "$\\left\\{\n",
    "    \\begin{array}{l}\n",
    "        x + 2y +3z = 6 \\\\\n",
    "        3x + y = 3 \\\\\n",
    "        -x + y = 3\n",
    "\\end{array}\n",
    "\\right.$<br>\n",
    "思路：先消元，再求解"
   ]
  },
  {
   "cell_type": "code",
   "execution_count": 9,
   "metadata": {},
   "outputs": [],
   "source": [
    "# 一个n*n非奇异线性方程组求解函数\n",
    "# Elimination：消元\n",
    "def elimination_sub(A):\n",
    "    for i in range(1, A.shape[0]):\n",
    "        A[i] = A[i] - A[0]*(A[i,0]/A[0,0])      \n",
    "    return(A)\n",
    "\n",
    "def elimination(A):\n",
    "    j = A.shape[0] - 1\n",
    "    i = 0\n",
    "    while j > 0:\n",
    "        A[i:,i:] = elimination_sub(A[i:,i:])\n",
    "        i = i + 1\n",
    "        j = j - 1\n",
    "    return(A)"
   ]
  },
  {
   "cell_type": "code",
   "execution_count": 10,
   "metadata": {},
   "outputs": [
    {
     "data": {
      "text/plain": [
       "matrix([[  1,   2,   3,   6],\n",
       "        [  0,  -5,  -9, -15],\n",
       "        [  0,   0,  -2,   0]])"
      ]
     },
     "execution_count": 10,
     "metadata": {},
     "output_type": "execute_result"
    }
   ],
   "source": [
    "import numpy as np\n",
    "A = np.matrix([[1,2,3,6],[3,1,0,3],[-1,1,0,3]])\n",
    "elimination(A)"
   ]
  },
  {
   "cell_type": "code",
   "execution_count": 11,
   "metadata": {},
   "outputs": [],
   "source": [
    "# 求解方程组\n",
    "def solveX(A = None):\n",
    "    A = elimination(A)\n",
    "    X = {}\n",
    "    m = A.shape[0]\n",
    "    for i in range(m):\n",
    "        j = m-1-i\n",
    "        Y = A[j,-1]\n",
    "        k = i\n",
    "        count = 0\n",
    "        while(k>0): \n",
    "            Y = Y - A[2-k-count,-2-count]*X[2-count]\n",
    "            count = count + 1\n",
    "            k = k-1\n",
    "        X[j] = Y/A[j,-2-i]\n",
    "    return X"
   ]
  },
  {
   "cell_type": "code",
   "execution_count": 12,
   "metadata": {},
   "outputs": [
    {
     "data": {
      "text/plain": [
       "{2: -0.0, 1: 3.0, 0: 0.0}"
      ]
     },
     "execution_count": 12,
     "metadata": {},
     "output_type": "execute_result"
    }
   ],
   "source": [
    "import numpy as np\n",
    "A = np.matrix([[1,2,3,6],[3,1,0,3],[-1,1,0,3]])\n",
    "solveX(A)"
   ]
  },
  {
   "cell_type": "markdown",
   "metadata": {},
   "source": [
    "## 使用sympy求解非线性方程组\n",
    "### 方程表示\n",
    "<center>公式与代码之间转换</center>\n",
    "\n",
    "|运算|运算符\n",
    "|:-|:-\n",
    "|加号| +\n",
    "|减号| -\n",
    "|除号| /\n",
    "|乘号|*\n",
    "|指数|**\n",
    "|对数|log()\n",
    "|e的指数次幂| exp()"
   ]
  },
  {
   "cell_type": "markdown",
   "metadata": {},
   "source": [
    "求解$x^2+2x-1=0$"
   ]
  },
  {
   "cell_type": "code",
   "execution_count": 8,
   "metadata": {},
   "outputs": [
    {
     "name": "stdout",
     "output_type": "stream",
     "text": [
      "[-1]\n"
     ]
    }
   ],
   "source": [
    "from sympy import *\n",
    "x= symbols('x')\n",
    "print(solve(x**2+2*x+1,x))"
   ]
  },
  {
   "cell_type": "markdown",
   "metadata": {},
   "source": [
    "$\\left\\{\n",
    "    \\begin{array}{l}\n",
    "            3x+x^2-2x^3=5 \\\\\n",
    "            x-x^2+4x^3=-2 \\\\\n",
    "            2x+3x^3=2.5\n",
    "        \\end{array}\n",
    "\\right.$"
   ]
  },
  {
   "cell_type": "code",
   "execution_count": 9,
   "metadata": {},
   "outputs": [
    {
     "name": "stdout",
     "output_type": "stream",
     "text": [
      "[]\n"
     ]
    }
   ],
   "source": [
    "from sympy import *\n",
    "x = Symbol('x')\n",
    "print(solve([3*x+x**2-2*x**3-5, x-x**2+4*x**3+2, 2*x+3*x**3-2.5],[x]))"
   ]
  },
  {
   "cell_type": "code",
   "execution_count": 10,
   "metadata": {},
   "outputs": [
    {
     "name": "stdout",
     "output_type": "stream",
     "text": [
      "3\n",
      "-9/2\n",
      "1\n",
      "-1/18\n",
      "-78\n",
      "45/2\n",
      "-2\n",
      "1/18\n"
     ]
    }
   ],
   "source": [
    "#求解一个8元1次方程组\n",
    "from sympy import *\n",
    "\n",
    "a1,b1,c1,d1,a2,b2,c2,d2=symbols('a1,b1,c1,d1,a2,b2,c2,d2')\n",
    "x0,x1,x2,y0,y1,y2=symbols('x0,x1,x2,y0,y1,y2')\n",
    "result=solve([a1+b1*x0+c1*x0*x0+d1*x0*x0*x0-y0,\n",
    "\ta1+b1*x1+c1*x1*x1+d1*x1*x1*x1-y1,\n",
    "\ta2+b2*x1+c2*x1*x1+d2*x1*x1*x1-y1,\n",
    "\ta2+b2*x2+c2*x2*x2+d2*x2*x2*x2-y2,\n",
    "\tb1+2*c1*x1+3*d1*x1*x1-b2-2*c2*x1-3*d2*x1*x1,\n",
    "\tc1+3*d1*x1-c2-3*d2*x1,\n",
    "\tc1+3*d1*x0,\n",
    "\tc2+3*d2*x2],[a1,b1,c1,d1,a2,b2,c2,d2])\n",
    "#设置参数\n",
    "cs=[(x0,6),(x1,9),(x2,12),(y0,0),(y1,3),(y2,0)]\n",
    "\n",
    "# print(result[a1])\n",
    "# print(result[b1])\n",
    "# print(result[c1])\n",
    "# print(result[d1])\n",
    "# print(result[a2])\n",
    "# print(result[b2])\n",
    "# print(result[c2])\n",
    "# print(result[d2])\n",
    "\n",
    "a1=result[a1].subs(cs)\n",
    "b1=result[b1].subs(cs)\n",
    "c1=result[c1].subs(cs)\n",
    "d1=result[d1].subs(cs)\n",
    "a2=result[a2].subs(cs)\n",
    "b2=result[b2].subs(cs)\n",
    "c2=result[c2].subs(cs)\n",
    "d2=result[d2].subs(cs)\n",
    "print(a1)\n",
    "print(b1)\n",
    "print(c1)\n",
    "print(d1)\n",
    "print(a2)\n",
    "print(b2)\n",
    "print(c2)\n",
    "print(d2)"
   ]
  }
 ],
 "metadata": {
  "kernelspec": {
   "display_name": "Python 3",
   "language": "python",
   "name": "python3"
  },
  "language_info": {
   "codemirror_mode": {
    "name": "ipython",
    "version": 3
   },
   "file_extension": ".py",
   "mimetype": "text/x-python",
   "name": "python",
   "nbconvert_exporter": "python",
   "pygments_lexer": "ipython3",
   "version": "3.7.4"
  }
 },
 "nbformat": 4,
 "nbformat_minor": 4
}
