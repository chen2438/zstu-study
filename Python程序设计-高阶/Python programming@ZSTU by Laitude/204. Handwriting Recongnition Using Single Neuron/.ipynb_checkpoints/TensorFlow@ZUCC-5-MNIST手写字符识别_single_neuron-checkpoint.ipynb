{
 "cells": [
  {
   "cell_type": "markdown",
   "metadata": {},
   "source": [
    "# 基于单个神经元的手写数字识别\n",
    "\n",
    "吴明晖\n",
    "\n",
    "浙江大学城市学院\n",
    "\n",
    "2018.7"
   ]
  },
  {
   "cell_type": "markdown",
   "metadata": {
    "toc": true
   },
   "source": [
    "<h1>目录<span class=\"tocSkip\"></span></h1>\n",
    "<div class=\"toc\"><ul class=\"toc-item\"><li><span><a href=\"#本章内容介绍\" data-toc-modified-id=\"本章内容介绍-1\"><span class=\"toc-item-num\">1&nbsp;&nbsp;</span>本章内容介绍</a></span></li><li><span><a href=\"#Tensorflow实现基于单个神经元的手写数字识别\" data-toc-modified-id=\"Tensorflow实现基于单个神经元的手写数字识别-2\"><span class=\"toc-item-num\">2&nbsp;&nbsp;</span>Tensorflow实现基于单个神经元的手写数字识别</a></span><ul class=\"toc-item\"><li><span><a href=\"#神经元函数及优化方法\" data-toc-modified-id=\"神经元函数及优化方法-2.1\"><span class=\"toc-item-num\">2.1&nbsp;&nbsp;</span>神经元函数及优化方法</a></span><ul class=\"toc-item\"><li><span><a href=\"#单个神经元的网络模型\" data-toc-modified-id=\"单个神经元的网络模型-2.1.1\"><span class=\"toc-item-num\">2.1.1&nbsp;&nbsp;</span>单个神经元的网络模型</a></span></li><li><span><a href=\"#激活函数\" data-toc-modified-id=\"激活函数-2.1.2\"><span class=\"toc-item-num\">2.1.2&nbsp;&nbsp;</span>激活函数</a></span></li></ul></li><li><span><a href=\"#载入数据\" data-toc-modified-id=\"载入数据-2.2\"><span class=\"toc-item-num\">2.2&nbsp;&nbsp;</span>载入数据</a></span></li><li><span><a href=\"#构建模型\" data-toc-modified-id=\"构建模型-2.3\"><span class=\"toc-item-num\">2.3&nbsp;&nbsp;</span>构建模型</a></span></li><li><span><a href=\"#训练模型\" data-toc-modified-id=\"训练模型-2.4\"><span class=\"toc-item-num\">2.4&nbsp;&nbsp;</span>训练模型</a></span></li><li><span><a href=\"#评估模型\" data-toc-modified-id=\"评估模型-2.5\"><span class=\"toc-item-num\">2.5&nbsp;&nbsp;</span>评估模型</a></span></li><li><span><a href=\"#进行预测\" data-toc-modified-id=\"进行预测-2.6\"><span class=\"toc-item-num\">2.6&nbsp;&nbsp;</span>进行预测</a></span></li></ul></li><li><span><a href=\"#Tensorflow实现基于单隐层神经网络的手写数字识别\" data-toc-modified-id=\"Tensorflow实现基于单隐层神经网络的手写数字识别-3\"><span class=\"toc-item-num\">3&nbsp;&nbsp;</span>Tensorflow实现基于单隐层神经网络的手写数字识别</a></span></li><li><span><a href=\"#Tensorflow实现基于多隐层神经网络的手写数字识别\" data-toc-modified-id=\"Tensorflow实现基于多隐层神经网络的手写数字识别-4\"><span class=\"toc-item-num\">4&nbsp;&nbsp;</span>Tensorflow实现基于多隐层神经网络的手写数字识别</a></span></li></ul></div>"
   ]
  },
  {
   "cell_type": "markdown",
   "metadata": {},
   "source": [
    "# 本章内容介绍"
   ]
  },
  {
   "cell_type": "markdown",
   "metadata": {},
   "source": [
    "** 本章将介绍如何使用Tensorflow建立神经网络，训练、评估模型并使用训练好的模型识别手写数字MNIST。 ** <br> \n",
    "<br>\n",
    "** 关于MNIST数据集的介绍 **<br>\n",
    "详见：mnist_introduce.ipynb<br>\n",
    "<br>\n",
    "** 由简入繁，首先，构建由单个神经元组成的神经网络，然后尝试将模型加宽和加深，以提高分类准确率。 ** <br> \n",
    "** 参考范例程序： ** <br> \n",
    "- 单个神经元：mnist_single_neuron.ipynb <br> \n",
    "- 单隐层神经网络：mnist_h256.ipynb <br> \n",
    "- 多隐层神经网络：mnist_h256_h256.ipynb <br> \n"
   ]
  },
  {
   "cell_type": "markdown",
   "metadata": {},
   "source": [
    "# Tensorflow实现基于单个神经元的手写数字识别"
   ]
  },
  {
   "cell_type": "markdown",
   "metadata": {},
   "source": [
    "## 神经元函数及优化方法"
   ]
  },
  {
   "cell_type": "markdown",
   "metadata": {},
   "source": [
    "### 单个神经元的网络模型"
   ]
  },
  {
   "cell_type": "markdown",
   "metadata": {},
   "source": [
    "** 网络模型 **"
   ]
  },
  {
   "cell_type": "markdown",
   "metadata": {},
   "source": [
    "<center>\n",
    "<img src=\"neuron.jpg\" width=500 height=450 />\n",
    "图1. 单个神经元的网络模型\n",
    "</center>"
   ]
  },
  {
   "cell_type": "markdown",
   "metadata": {},
   "source": [
    "计算公式如下："
   ]
  },
  {
   "cell_type": "markdown",
   "metadata": {},
   "source": [
    "$${\\rm {output}}=f(z)=f(\\sum_{i=1}^n w_i \\times x_i + b)$$"
   ]
  },
  {
   "cell_type": "markdown",
   "metadata": {},
   "source": [
    "其中，$z$为输出结果，$x_i$为输入，$w_i$为相应的权重，$b$为偏置，$f$为激活函数。"
   ]
  },
  {
   "cell_type": "markdown",
   "metadata": {},
   "source": [
    "** 正向传播 **"
   ]
  },
  {
   "cell_type": "markdown",
   "metadata": {},
   "source": [
    "数据是从输入端流向输出端的，当赋予$w$和$b$合适的值并结合合适的激活函数时，可产生很好的拟合效果。"
   ]
  },
  {
   "cell_type": "markdown",
   "metadata": {},
   "source": [
    "** 反向传播 **"
   ]
  },
  {
   "cell_type": "markdown",
   "metadata": {},
   "source": [
    "- 反向传播的意义在于，告诉我们需要将w和b调整到多少。\n",
    "- 在刚开始没有得到合适的w和b时，正向传播所产生的结果与真实值之间存在误差，反向传播就是利用这个误差信号修正w和b的取值，从而获得一个与真实值更加接近的输出。\n",
    "- 在实际训练过程中，往往需要多次调整$w$和$b$，直至模型输出值与真实值小于某个阈值。"
   ]
  },
  {
   "cell_type": "markdown",
   "metadata": {},
   "source": [
    "### 激活函数"
   ]
  },
  {
   "cell_type": "markdown",
   "metadata": {},
   "source": [
    "运行时激活神经网络中部分神经元，将激活信息向后传入下一层神经网络。<br>\n",
    "激活函数的主要作用是，加入非线性因素，以解决线性模型表达能力不足的问题。<br>\n",
    "<br>\n",
    "** 常用激活函数 **<br>\n",
    "- （1）** Sigmoid **，在Tensorflow中对应函数为：tf.nn.sigmoid(x, name=None)\n",
    "- （2）** Tanh **，在Tensorflow中对应函数为：tf.nn.tanh(x, name=None)\n",
    "- （3）** Relu **，在Tensorflow中对应函数为：tf.nn.relu(x, name=None)\n"
   ]
  },
  {
   "cell_type": "markdown",
   "metadata": {},
   "source": [
    "## 载入数据"
   ]
  },
  {
   "cell_type": "code",
   "execution_count": 1,
   "metadata": {
    "collapsed": true
   },
   "outputs": [],
   "source": [
    "import tensorflow as tf "
   ]
  },
  {
   "cell_type": "code",
   "execution_count": 2,
   "metadata": {
    "collapsed": false
   },
   "outputs": [
    {
     "name": "stdout",
     "output_type": "stream",
     "text": [
      "Extracting MNIST_data/train-images-idx3-ubyte.gz\n",
      "Extracting MNIST_data/train-labels-idx1-ubyte.gz\n",
      "Extracting MNIST_data/t10k-images-idx3-ubyte.gz\n",
      "Extracting MNIST_data/t10k-labels-idx1-ubyte.gz\n"
     ]
    }
   ],
   "source": [
    "from tensorflow.examples.tutorials.mnist import input_data\n",
    "mnist = input_data.read_data_sets(\"MNIST_data/\", one_hot=True)"
   ]
  },
  {
   "cell_type": "markdown",
   "metadata": {},
   "source": [
    "## 构建模型"
   ]
  },
  {
   "cell_type": "markdown",
   "metadata": {},
   "source": [
    "** 定义$x$和$y$的占位符 **"
   ]
  },
  {
   "cell_type": "code",
   "execution_count": 3,
   "metadata": {
    "collapsed": true
   },
   "outputs": [],
   "source": [
    "tf.reset_default_graph() #清除default graph和不断增加的节点\n",
    "\n",
    "x = tf.placeholder(tf.float32, [None, 784]) # mnist 中每张图片共有28*28=784个像素点\n",
    "y = tf.placeholder(tf.float32, [None, 10]) # 0-9 一共10个数字=> 10 个类别"
   ]
  },
  {
   "cell_type": "markdown",
   "metadata": {},
   "source": [
    "** 创建变量 **"
   ]
  },
  {
   "cell_type": "markdown",
   "metadata": {},
   "source": [
    "在神经网络中，权值$W$的初始值通常设为正态分布的随机数，偏置项$b$的初始值通常也设为正态分布的随机数或常数。在Tensorflow中，通常利用以下函数实现正态分布随机数的生成："
   ]
  },
  {
   "cell_type": "markdown",
   "metadata": {},
   "source": [
    "** tf.random_normal **"
   ]
  },
  {
   "cell_type": "code",
   "execution_count": 4,
   "metadata": {
    "collapsed": false
   },
   "outputs": [
    {
     "name": "stdout",
     "output_type": "stream",
     "text": [
      "[-1.7266053  -1.11680114  1.70301569  0.19905332 -0.8418225  -0.45542353\n",
      "  0.83493608 -1.15863383  0.23788783 -1.28282928]\n"
     ]
    }
   ],
   "source": [
    "norm = tf.random_normal([100]) #生成100个随机数\n",
    "with tf.Session() as sess:\n",
    "    norm_data=norm.eval()\n",
    "print(norm_data[:10])                  #打印前10个随机数"
   ]
  },
  {
   "cell_type": "code",
   "execution_count": 5,
   "metadata": {
    "collapsed": false
   },
   "outputs": [
    {
     "data": {
      "image/png": "[encoded data removed]",
      "text/plain": [
       "<matplotlib.figure.Figure at 0x2dd28598630>"
      ]
     },
     "metadata": {},
     "output_type": "display_data"
    }
   ],
   "source": [
    "import matplotlib.pyplot as plt\n",
    "plt.hist(norm_data)\n",
    "plt.show()"
   ]
  },
  {
   "cell_type": "markdown",
   "metadata": {},
   "source": [
    "在本案例中，以正态分布的随机数初始化权重$W$，以常数0初始化偏置$b$"
   ]
  },
  {
   "cell_type": "code",
   "execution_count": 6,
   "metadata": {
    "collapsed": true
   },
   "outputs": [],
   "source": [
    "W = tf.Variable(tf.random_normal([784, 10]))\n",
    "b = tf.Variable(tf.zeros([10])) "
   ]
  },
  {
   "cell_type": "markdown",
   "metadata": {},
   "source": [
    "** 用单个神经元构建神经网络 **"
   ]
  },
  {
   "cell_type": "code",
   "execution_count": 7,
   "metadata": {
    "collapsed": false
   },
   "outputs": [
    {
     "data": {
      "text/plain": [
       "<tf.Tensor 'forward:0' shape=() dtype=string>"
      ]
     },
     "execution_count": 7,
     "metadata": {},
     "output_type": "execute_result"
    }
   ],
   "source": [
    "forward=tf.matmul(x, W) + b # 前向输出\n",
    "tf.summary.histogram('forward',forward)#将前向输出值以直方图显示"
   ]
  },
  {
   "cell_type": "markdown",
   "metadata": {},
   "source": [
    "示例中在执行训练后在tensorboard界面可查看到如下关于forward的直方图：\n",
    "\n",
    "<img src=\"forward_hist_single.jpg\"width=400 height=400 />"
   ]
  },
  {
   "cell_type": "markdown",
   "metadata": {},
   "source": [
    "** 关于Softmax Regression **"
   ]
  },
  {
   "cell_type": "markdown",
   "metadata": {},
   "source": [
    "当我们处理多分类任务时，通常需要使用Softmax Regression模型。<br>\n",
    "Softmax Regression会对每一类别估算出一个概率。<br>\n",
    "** 工作原理： **将判定为某一类的特征相加，然后将这些特征转化为判定是这一类的概率。<br>"
   ]
  },
  {
   "cell_type": "code",
   "execution_count": 8,
   "metadata": {
    "collapsed": true
   },
   "outputs": [],
   "source": [
    "pred = tf.nn.softmax(forward) # Softmax分类"
   ]
  },
  {
   "cell_type": "markdown",
   "metadata": {},
   "source": [
    "## 训练模型"
   ]
  },
  {
   "cell_type": "markdown",
   "metadata": {},
   "source": [
    "** 设置训练参数 **"
   ]
  },
  {
   "cell_type": "code",
   "execution_count": 9,
   "metadata": {
    "collapsed": true
   },
   "outputs": [],
   "source": [
    "train_epochs = 30\n",
    "batch_size = 100\n",
    "total_batch= int(mnist.train.num_examples/batch_size)\n",
    "display_step = 1\n",
    "learning_rate=0.01\n"
   ]
  },
  {
   "cell_type": "markdown",
   "metadata": {},
   "source": [
    "** 定义损失函数 **"
   ]
  },
  {
   "cell_type": "code",
   "execution_count": 10,
   "metadata": {
    "collapsed": false
   },
   "outputs": [
    {
     "data": {
      "text/plain": [
       "<tf.Tensor 'loss:0' shape=() dtype=string>"
      ]
     },
     "execution_count": 10,
     "metadata": {},
     "output_type": "execute_result"
    }
   ],
   "source": [
    "loss_function = tf.reduce_mean(-tf.reduce_sum(y*tf.log(pred), reduction_indices=1)) # 交叉熵\n",
    "tf.summary.scalar('loss', loss_function)#将损失以标量显示\n"
   ]
  },
  {
   "cell_type": "markdown",
   "metadata": {},
   "source": [
    "** 选择优化器 **"
   ]
  },
  {
   "cell_type": "code",
   "execution_count": 11,
   "metadata": {
    "collapsed": true
   },
   "outputs": [],
   "source": [
    "optimizer = tf.train.GradientDescentOptimizer(learning_rate).minimize(loss_function) #梯度下降"
   ]
  },
  {
   "cell_type": "markdown",
   "metadata": {},
   "source": [
    "** 定义准确率 **"
   ]
  },
  {
   "cell_type": "code",
   "execution_count": 12,
   "metadata": {
    "collapsed": false
   },
   "outputs": [
    {
     "data": {
      "text/plain": [
       "<tf.Tensor 'accuracy:0' shape=() dtype=string>"
      ]
     },
     "execution_count": 12,
     "metadata": {},
     "output_type": "execute_result"
    }
   ],
   "source": [
    "# 检查预测类别tf.argmax(pred, 1)与实际类别tf.argmax(y, 1)的匹配情况\n",
    "correct_prediction = tf.equal(tf.argmax(pred, 1), tf.argmax(y, 1))\n",
    "# 准确率\n",
    "accuracy = tf.reduce_mean(tf.cast(correct_prediction, tf.float32)) # 将布尔值转化为浮点数，并计算平均值\n",
    "\n",
    "tf.summary.scalar('accuracy', accuracy)#将准确率以标量显示"
   ]
  },
  {
   "cell_type": "code",
   "execution_count": 13,
   "metadata": {
    "collapsed": true
   },
   "outputs": [],
   "source": [
    "sess = tf.Session() #声明会话\n",
    "init = tf.global_variables_initializer() # 变量初始化\n",
    "sess.run(init)"
   ]
  },
  {
   "cell_type": "code",
   "execution_count": 14,
   "metadata": {
    "collapsed": true
   },
   "outputs": [],
   "source": [
    "merged_summary_op = tf.summary.merge_all()#合并所有summary\n",
    "writer = tf.summary.FileWriter('log/mnist_single_neuron', sess.graph) #创建写入符\n"
   ]
  },
  {
   "cell_type": "code",
   "execution_count": 15,
   "metadata": {
    "collapsed": false
   },
   "outputs": [
    {
     "name": "stdout",
     "output_type": "stream",
     "text": [
      "Train Epoch: 01 Loss= 5.133010387  Accuracy= 0.3204\n",
      "Train Epoch: 02 Loss= 3.300506353  Accuracy= 0.4778\n",
      "Train Epoch: 03 Loss= 2.494049549  Accuracy= 0.5658\n",
      "Train Epoch: 04 Loss= 2.058095694  Accuracy= 0.6232\n",
      "Train Epoch: 05 Loss= 1.787340641  Accuracy= 0.6638\n",
      "Train Epoch: 06 Loss= 1.602910161  Accuracy= 0.6898\n",
      "Train Epoch: 07 Loss= 1.468765974  Accuracy= 0.7124\n",
      "Train Epoch: 08 Loss= 1.365462661  Accuracy= 0.7324\n",
      "Train Epoch: 09 Loss= 1.283793211  Accuracy= 0.7442\n",
      "Train Epoch: 10 Loss= 1.216475725  Accuracy= 0.7572\n",
      "Train Epoch: 11 Loss= 1.161064982  Accuracy= 0.7666\n",
      "Train Epoch: 12 Loss= 1.112899661  Accuracy= 0.7746\n",
      "Train Epoch: 13 Loss= 1.071725965  Accuracy= 0.7812\n",
      "Train Epoch: 14 Loss= 1.036259413  Accuracy= 0.7882\n",
      "Train Epoch: 15 Loss= 1.005038619  Accuracy= 0.7944\n",
      "Train Epoch: 16 Loss= 0.976728320  Accuracy= 0.7994\n",
      "Train Epoch: 17 Loss= 0.950408101  Accuracy= 0.8056\n",
      "Train Epoch: 18 Loss= 0.927580833  Accuracy= 0.8086\n",
      "Train Epoch: 19 Loss= 0.906117797  Accuracy= 0.8108\n",
      "Train Epoch: 20 Loss= 0.886634886  Accuracy= 0.8148\n",
      "Train Epoch: 21 Loss= 0.869289458  Accuracy= 0.8180\n",
      "Train Epoch: 22 Loss= 0.852348447  Accuracy= 0.8210\n",
      "Train Epoch: 23 Loss= 0.837004185  Accuracy= 0.8232\n",
      "Train Epoch: 24 Loss= 0.822987378  Accuracy= 0.8244\n",
      "Train Epoch: 25 Loss= 0.809123516  Accuracy= 0.8264\n",
      "Train Epoch: 26 Loss= 0.796577275  Accuracy= 0.8294\n",
      "Train Epoch: 27 Loss= 0.785474300  Accuracy= 0.8314\n",
      "Train Epoch: 28 Loss= 0.774057567  Accuracy= 0.8324\n",
      "Train Epoch: 29 Loss= 0.763347507  Accuracy= 0.8342\n",
      "Train Epoch: 30 Loss= 0.753482521  Accuracy= 0.8358\n",
      "Train Finished!\n"
     ]
    }
   ],
   "source": [
    "# 开始训练\n",
    "for epoch in range(train_epochs ):\n",
    "    for batch in range(total_batch):\n",
    "        xs, ys = mnist.train.next_batch(batch_size)# 读取批次数据\n",
    "        sess.run(optimizer,feed_dict={x: xs,y: ys}) # 执行批次训练\n",
    "        \n",
    "        #生成summary\n",
    "        summary_str = sess.run(merged_summary_op,feed_dict={x: xs,y: ys})\n",
    "        writer.add_summary(summary_str, epoch)#将summary 写入文件\n",
    "        #total_batch个批次训练完成后，使用验证数据计算误差与准确率   \n",
    "    loss,acc = sess.run([loss_function,accuracy],\n",
    "                        feed_dict={x: mnist.validation.images, y: mnist.validation.labels})\n",
    "    # 打印训练过程中的详细信息\n",
    "    if (epoch+1) % display_step == 0:\n",
    "        print(\"Train Epoch:\", '%02d' % (epoch+1), \"Loss=\", \"{:.9f}\".format(loss),\" Accuracy=\",\"{:.4f}\".format(acc))\n",
    "\n",
    "print(\"Train Finished!\")  "
   ]
  },
  {
   "cell_type": "markdown",
   "metadata": {},
   "source": [
    "从上述打印结果可以看出损失值** Loss **是趋于更小的，同时，准确率** Accuracy **越来越高。<br>\n",
    "此外，我们还可以通过Tensorboard查看loss和accuracy的执行过程。<br>\n",
    "<br>\n",
    "通过tensorboard --logdir=log/mnist_single_neuron进入可视化界面，在scalar版面中可以查看loss和accuracy，如下图所示：<br>\n",
    "\n"
   ]
  },
  {
   "cell_type": "markdown",
   "metadata": {},
   "source": [
    "<img src=\"acc_scalar_single.jpg\"/> \n",
    "<img src=\"loss_scalar_single.jpg\"/>"
   ]
  },
  {
   "cell_type": "markdown",
   "metadata": {},
   "source": [
    "## 评估模型"
   ]
  },
  {
   "cell_type": "markdown",
   "metadata": {},
   "source": [
    "** 完成训练后，在测试集上评估模型的准确率 **"
   ]
  },
  {
   "cell_type": "code",
   "execution_count": 16,
   "metadata": {
    "collapsed": false
   },
   "outputs": [
    {
     "name": "stdout",
     "output_type": "stream",
     "text": [
      "Test Accuracy: 0.841\n"
     ]
    }
   ],
   "source": [
    "print(\"Test Accuracy:\", sess.run(accuracy,\n",
    "                           feed_dict={x: mnist.test.images, y: mnist.test.labels}))"
   ]
  },
  {
   "cell_type": "markdown",
   "metadata": {},
   "source": [
    "## 进行预测"
   ]
  },
  {
   "cell_type": "markdown",
   "metadata": {},
   "source": [
    "** 在建立模型并进行训练后，若认为准确率可以接受，则可以使用此模型进行预测。 **"
   ]
  },
  {
   "cell_type": "code",
   "execution_count": 18,
   "metadata": {
    "collapsed": true
   },
   "outputs": [],
   "source": [
    "prediction_result=sess.run(tf.argmax(pred,1), # 由于pred预测结果是one-hot编码格式，所以需要转换为0~9数字\n",
    "                           feed_dict={x: mnist.test.images })"
   ]
  },
  {
   "cell_type": "markdown",
   "metadata": {},
   "source": [
    "** 查看预测结果 **"
   ]
  },
  {
   "cell_type": "code",
   "execution_count": 19,
   "metadata": {
    "collapsed": false
   },
   "outputs": [
    {
     "data": {
      "text/plain": [
       "array([7, 2, 1, 0, 4, 1, 4, 9, 6, 7], dtype=int64)"
      ]
     },
     "execution_count": 19,
     "metadata": {},
     "output_type": "execute_result"
    }
   ],
   "source": [
    "prediction_result[0:10] #查看预测结果中的前10项"
   ]
  },
  {
   "cell_type": "markdown",
   "metadata": {},
   "source": [
    "** 定义可视化函数 **"
   ]
  },
  {
   "cell_type": "code",
   "execution_count": 20,
   "metadata": {
    "collapsed": true
   },
   "outputs": [],
   "source": [
    "import matplotlib.pyplot as plt\n",
    "import numpy as np\n",
    "def plot_images_labels_prediction(images,labels,\n",
    "                                  prediction,idx,num=10):\n",
    "    fig = plt.gcf()\n",
    "    fig.set_size_inches(10, 12)\n",
    "    if num>25: num=25 \n",
    "    for i in range(0, num):\n",
    "        ax=plt.subplot(5,5, 1+i)\n",
    "        \n",
    "        ax.imshow(np.reshape(images[idx],(28, 28)), \n",
    "                  cmap='binary')\n",
    "            \n",
    "        title= \"label=\" +str(np.argmax(labels[idx]))\n",
    "        if len(prediction)>0:\n",
    "            title+=\",predict=\"+str(prediction[idx]) \n",
    "            \n",
    "        ax.set_title(title,fontsize=10) \n",
    "        ax.set_xticks([]);ax.set_yticks([])        \n",
    "        idx+=1 \n",
    "    plt.show()"
   ]
  },
  {
   "cell_type": "code",
   "execution_count": 23,
   "metadata": {
    "collapsed": false
   },
   "outputs": [
    {
     "data": {
      "image/png": "[encoded data removed]",
      "text/plain": [
       "<matplotlib.figure.Figure at 0x2dd2d7e6e80>"
      ]
     },
     "metadata": {},
     "output_type": "display_data"
    }
   ],
   "source": [
    "plot_images_labels_prediction(mnist.test.images,\n",
    "                              mnist.test.labels,\n",
    "                              prediction_result,0)"
   ]
  },
  {
   "cell_type": "markdown",
   "metadata": {},
   "source": [
    "从上面结果可知，通过30次迭代所训练的由** 单个神经元 **构成的神经网络模型，在测试集上能够取得百分之八十以上的准确率。接下来，我们将尝试** 加宽 **和** 加深 **模型，看看能否得到更高的准确率。"
   ]
  },
  {
   "cell_type": "markdown",
   "metadata": {},
   "source": [
    "# Tensorflow实现基于单隐层神经网络的手写数字识别"
   ]
  },
  {
   "cell_type": "markdown",
   "metadata": {},
   "source": [
    "详见mnist_h256.ipynb "
   ]
  },
  {
   "cell_type": "markdown",
   "metadata": {},
   "source": [
    "# Tensorflow实现基于多隐层神经网络的手写数字识别"
   ]
  },
  {
   "cell_type": "markdown",
   "metadata": {
    "collapsed": true
   },
   "source": [
    "详见mnist_h256_h128.ipynb "
   ]
  },
  {
   "cell_type": "code",
   "execution_count": null,
   "metadata": {
    "collapsed": true
   },
   "outputs": [],
   "source": []
  }
 ],
 "metadata": {
  "anaconda-cloud": {},
  "kernelspec": {
   "display_name": "Python [default]",
   "language": "python",
   "name": "python3"
  },
  "language_info": {
   "codemirror_mode": {
    "name": "ipython",
    "version": 3
   },
   "file_extension": ".py",
   "mimetype": "text/x-python",
   "name": "python",
   "nbconvert_exporter": "python",
   "pygments_lexer": "ipython3",
   "version": "3.5.2"
  },
  "toc": {
   "base_numbering": 1,
   "nav_menu": {},
   "number_sections": true,
   "sideBar": true,
   "skip_h1_title": false,
   "title_cell": "目录",
   "title_sidebar": "Contents",
   "toc_cell": true,
   "toc_position": {},
   "toc_section_display": true,
   "toc_window_display": true
  }
 },
 "nbformat": 4,
 "nbformat_minor": 1
}
