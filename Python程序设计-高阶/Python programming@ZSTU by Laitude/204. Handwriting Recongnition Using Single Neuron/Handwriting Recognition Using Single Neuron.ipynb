{
 "cells": [
  {
   "cell_type": "markdown",
   "metadata": {},
   "source": [
    "# 基于单个神经元的手写数字识别（Hangwriting Recongnition Using Single Neron）\n",
    "## 浙江理工大学 沈炜"
   ]
  },
  {
   "cell_type": "markdown",
   "metadata": {},
   "source": [
    "## 单个神经元的网络模型"
   ]
  },
  {
   "cell_type": "markdown",
   "metadata": {},
   "source": [
    "### 生物神经元\n",
    "<img src='1.jpg' width=400 height=120>\n",
    "神经元：一端受到刺激会将信号传递到另一端<br>\n",
    "### 生物神经网络\n",
    "<img src='2.jpg'>\n",
    "神经网络：一个神经元将刺激信号传给另一个神经元，神经元与神经元连接构成网络"
   ]
  },
  {
   "cell_type": "markdown",
   "metadata": {},
   "source": [
    "### 单个神经元（感知机）\n",
    "<img src=\"timg.jpg\" width=500 height=450 >"
   ]
  },
  {
   "cell_type": "markdown",
   "metadata": {},
   "source": [
    "计算公式如下："
   ]
  },
  {
   "cell_type": "markdown",
   "metadata": {},
   "source": [
    "$${\\rm {output}}=f(z)=f(\\sum_{i=1}^n w_i \\times x_i + b)$$"
   ]
  },
  {
   "cell_type": "markdown",
   "metadata": {},
   "source": [
    "其中，**$z$**为**输出结果**，**$x_i$**为输入，**$w_i$**为相应的**权重**，**$b$**为**偏置**，$f$为**激活函数**。<br>\n",
    "单个感知机的计算分成两个部分，<font color=red>线性部分$\\sum_{i=1}^n w_i \\times x_i + b$</font>，<font color=blue>非线性部分$f()$</font>"
   ]
  },
  {
   "cell_type": "markdown",
   "metadata": {},
   "source": [
    "### 神经网络模型（多层感知机）\n",
    "<img src='net.jpg'>\n",
    "输入层，隐含层，输出层"
   ]
  },
  {
   "cell_type": "markdown",
   "metadata": {},
   "source": [
    "### 几个重要的概念\n",
    "** 全连接 **  \n",
    "- 每一个神经元都和下一层的神经元相连。<br>\n",
    "\n",
    "** 正向传播 **  \n",
    "- <font color=red>**由输入计算预测值的过程就是正向传播的过程**</font>。\n",
    "- 数据是从输入端流向输出端的，**当赋予$w$和$b$合适的值并结合合适的激活函数时**，可产生很好的拟合效果。<br>\n",
    "为什么这样简单的数学模型的组合能够很好的模拟人的智能，这个目前在数学与生物学上，还没有很好的结论。<br>\n",
    "\n",
    "** 反向传播 **\n",
    "- 反向传播的意义在于，告诉我们需要将w和b调整到多少；\n",
    "- 在刚开始没有得到合适的w和b时，正向传播所产生的结果与真实值之间存在误差；\n",
    "- **反向传播就是利用这个误差信号修正w和b的取值，从而获得一个与真实值更加接近的输出**。\n",
    "- 在实际训练过程中，往往需要多次调整$w$和$b$，直至模型输出值与真实值小于某个阈值。"
   ]
  },
  {
   "cell_type": "markdown",
   "metadata": {},
   "source": [
    "### 激活函数\n",
    "运行时激活神经网络中部分神经元，将激活信息向后传入下一层神经网络。<br>\n",
    "激活函数的主要作用是，加入非线性因素，以解决线性模型表达能力不足的问题。<br>\n",
    "<br>\n",
    "** 常用激活函数 **<br>\n",
    "- ** Sigmoid **，在Tensorflow中对应函数为：tf.nn.sigmoid(x, name=None)\n",
    "- ** Tanh **，在Tensorflow中对应函数为：tf.nn.tanh(x, name=None)\n",
    "- ** Relu **，在Tensorflow中对应函数为：tf.nn.relu(x, name=None)\n",
    "<img src='activation.jpg'>"
   ]
  },
  {
   "cell_type": "markdown",
   "metadata": {},
   "source": [
    "### 训练三部曲\n",
    "- 正向传播\n",
    "- 反向传播\n",
    "- 优化\n",
    "<img src='1112.gif'>"
   ]
  },
  {
   "cell_type": "markdown",
   "metadata": {},
   "source": [
    "## 载入数据"
   ]
  },
  {
   "cell_type": "code",
   "execution_count": 1,
   "metadata": {},
   "outputs": [
    {
     "name": "stderr",
     "output_type": "stream",
     "text": [
      "c:\\python37\\lib\\site-packages\\tensorflow\\python\\framework\\dtypes.py:516: FutureWarning: Passing (type, 1) or '1type' as a synonym of type is deprecated; in a future version of numpy, it will be understood as (type, (1,)) / '(1,)type'.\n",
      "  _np_qint8 = np.dtype([(\"qint8\", np.int8, 1)])\n",
      "c:\\python37\\lib\\site-packages\\tensorflow\\python\\framework\\dtypes.py:517: FutureWarning: Passing (type, 1) or '1type' as a synonym of type is deprecated; in a future version of numpy, it will be understood as (type, (1,)) / '(1,)type'.\n",
      "  _np_quint8 = np.dtype([(\"quint8\", np.uint8, 1)])\n",
      "c:\\python37\\lib\\site-packages\\tensorflow\\python\\framework\\dtypes.py:518: FutureWarning: Passing (type, 1) or '1type' as a synonym of type is deprecated; in a future version of numpy, it will be understood as (type, (1,)) / '(1,)type'.\n",
      "  _np_qint16 = np.dtype([(\"qint16\", np.int16, 1)])\n",
      "c:\\python37\\lib\\site-packages\\tensorflow\\python\\framework\\dtypes.py:519: FutureWarning: Passing (type, 1) or '1type' as a synonym of type is deprecated; in a future version of numpy, it will be understood as (type, (1,)) / '(1,)type'.\n",
      "  _np_quint16 = np.dtype([(\"quint16\", np.uint16, 1)])\n",
      "c:\\python37\\lib\\site-packages\\tensorflow\\python\\framework\\dtypes.py:520: FutureWarning: Passing (type, 1) or '1type' as a synonym of type is deprecated; in a future version of numpy, it will be understood as (type, (1,)) / '(1,)type'.\n",
      "  _np_qint32 = np.dtype([(\"qint32\", np.int32, 1)])\n",
      "c:\\python37\\lib\\site-packages\\tensorflow\\python\\framework\\dtypes.py:525: FutureWarning: Passing (type, 1) or '1type' as a synonym of type is deprecated; in a future version of numpy, it will be understood as (type, (1,)) / '(1,)type'.\n",
      "  np_resource = np.dtype([(\"resource\", np.ubyte, 1)])\n",
      "c:\\python37\\lib\\site-packages\\tensorboard\\compat\\tensorflow_stub\\dtypes.py:541: FutureWarning: Passing (type, 1) or '1type' as a synonym of type is deprecated; in a future version of numpy, it will be understood as (type, (1,)) / '(1,)type'.\n",
      "  _np_qint8 = np.dtype([(\"qint8\", np.int8, 1)])\n",
      "c:\\python37\\lib\\site-packages\\tensorboard\\compat\\tensorflow_stub\\dtypes.py:542: FutureWarning: Passing (type, 1) or '1type' as a synonym of type is deprecated; in a future version of numpy, it will be understood as (type, (1,)) / '(1,)type'.\n",
      "  _np_quint8 = np.dtype([(\"quint8\", np.uint8, 1)])\n",
      "c:\\python37\\lib\\site-packages\\tensorboard\\compat\\tensorflow_stub\\dtypes.py:543: FutureWarning: Passing (type, 1) or '1type' as a synonym of type is deprecated; in a future version of numpy, it will be understood as (type, (1,)) / '(1,)type'.\n",
      "  _np_qint16 = np.dtype([(\"qint16\", np.int16, 1)])\n",
      "c:\\python37\\lib\\site-packages\\tensorboard\\compat\\tensorflow_stub\\dtypes.py:544: FutureWarning: Passing (type, 1) or '1type' as a synonym of type is deprecated; in a future version of numpy, it will be understood as (type, (1,)) / '(1,)type'.\n",
      "  _np_quint16 = np.dtype([(\"quint16\", np.uint16, 1)])\n",
      "c:\\python37\\lib\\site-packages\\tensorboard\\compat\\tensorflow_stub\\dtypes.py:545: FutureWarning: Passing (type, 1) or '1type' as a synonym of type is deprecated; in a future version of numpy, it will be understood as (type, (1,)) / '(1,)type'.\n",
      "  _np_qint32 = np.dtype([(\"qint32\", np.int32, 1)])\n",
      "c:\\python37\\lib\\site-packages\\tensorboard\\compat\\tensorflow_stub\\dtypes.py:550: FutureWarning: Passing (type, 1) or '1type' as a synonym of type is deprecated; in a future version of numpy, it will be understood as (type, (1,)) / '(1,)type'.\n",
      "  np_resource = np.dtype([(\"resource\", np.ubyte, 1)])\n"
     ]
    }
   ],
   "source": [
    "#%matplotlib notebook\n",
    "%matplotlib inline\n",
    "import tensorflow as tf "
   ]
  },
  {
   "cell_type": "code",
   "execution_count": 2,
   "metadata": {
    "scrolled": true
   },
   "outputs": [
    {
     "name": "stdout",
     "output_type": "stream",
     "text": [
      "WARNING:tensorflow:From <ipython-input-2-cf5eb01747a9>:2: read_data_sets (from tensorflow.contrib.learn.python.learn.datasets.mnist) is deprecated and will be removed in a future version.\n",
      "Instructions for updating:\n",
      "Please use alternatives such as official/mnist/dataset.py from tensorflow/models.\n",
      "WARNING:tensorflow:From c:\\python37\\lib\\site-packages\\tensorflow\\contrib\\learn\\python\\learn\\datasets\\mnist.py:260: maybe_download (from tensorflow.contrib.learn.python.learn.datasets.base) is deprecated and will be removed in a future version.\n",
      "Instructions for updating:\n",
      "Please write your own downloading logic.\n",
      "WARNING:tensorflow:From c:\\python37\\lib\\site-packages\\tensorflow\\contrib\\learn\\python\\learn\\datasets\\mnist.py:262: extract_images (from tensorflow.contrib.learn.python.learn.datasets.mnist) is deprecated and will be removed in a future version.\n",
      "Instructions for updating:\n",
      "Please use tf.data to implement this functionality.\n",
      "Extracting MNIST_data/train-images-idx3-ubyte.gz\n",
      "WARNING:tensorflow:From c:\\python37\\lib\\site-packages\\tensorflow\\contrib\\learn\\python\\learn\\datasets\\mnist.py:267: extract_labels (from tensorflow.contrib.learn.python.learn.datasets.mnist) is deprecated and will be removed in a future version.\n",
      "Instructions for updating:\n",
      "Please use tf.data to implement this functionality.\n",
      "Extracting MNIST_data/train-labels-idx1-ubyte.gz\n",
      "WARNING:tensorflow:From c:\\python37\\lib\\site-packages\\tensorflow\\contrib\\learn\\python\\learn\\datasets\\mnist.py:110: dense_to_one_hot (from tensorflow.contrib.learn.python.learn.datasets.mnist) is deprecated and will be removed in a future version.\n",
      "Instructions for updating:\n",
      "Please use tf.one_hot on tensors.\n",
      "Extracting MNIST_data/t10k-images-idx3-ubyte.gz\n",
      "Extracting MNIST_data/t10k-labels-idx1-ubyte.gz\n",
      "WARNING:tensorflow:From c:\\python37\\lib\\site-packages\\tensorflow\\contrib\\learn\\python\\learn\\datasets\\mnist.py:290: DataSet.__init__ (from tensorflow.contrib.learn.python.learn.datasets.mnist) is deprecated and will be removed in a future version.\n",
      "Instructions for updating:\n",
      "Please use alternatives such as official/mnist/dataset.py from tensorflow/models.\n"
     ]
    }
   ],
   "source": [
    "from tensorflow.examples.tutorials.mnist import input_data\n",
    "mnist = input_data.read_data_sets(\"MNIST_data/\", one_hot=True) # one-hot编码\n",
    "# http://www.cnblogs.com/lianyingteng/p/7755545.html"
   ]
  },
  {
   "cell_type": "markdown",
   "metadata": {},
   "source": [
    "## 构建模型"
   ]
  },
  {
   "cell_type": "markdown",
   "metadata": {},
   "source": [
    "** 定义$x$和$y$的占位符 **"
   ]
  },
  {
   "cell_type": "code",
   "execution_count": 3,
   "metadata": {},
   "outputs": [],
   "source": [
    "tf.reset_default_graph() #清除default graph和不断增加的节点\n",
    "\n",
    "x = tf.placeholder(tf.float32, (None, 784)) # mnist 中每张图片共有28*28=784个像素点\n",
    "y = tf.placeholder(tf.float32, (None, 10)) # 0-9 一共10个数字=> 10 个类别"
   ]
  },
  {
   "cell_type": "markdown",
   "metadata": {},
   "source": [
    "** 创建变量 **"
   ]
  },
  {
   "cell_type": "markdown",
   "metadata": {},
   "source": [
    "在神经网络中，权值$W$的初始值通常设为正态分布的随机数，偏置项$b$的初始值通常也设为正态分布的随机数或常数。在Tensorflow中，通常利用以下函数实现正态分布随机数的生成："
   ]
  },
  {
   "cell_type": "markdown",
   "metadata": {},
   "source": [
    "** tf.random_normal **"
   ]
  },
  {
   "cell_type": "code",
   "execution_count": 4,
   "metadata": {
    "scrolled": true
   },
   "outputs": [
    {
     "name": "stdout",
     "output_type": "stream",
     "text": [
      "Tensor(\"random_normal:0\", shape=(100,), dtype=float32)\n",
      "[-0.83913755 -1.1060884   0.6519198  -0.35599175 -0.79133904  1.5514859\n",
      "  0.11304513 -0.63606685 -1.145411    0.5800881 ]\n"
     ]
    }
   ],
   "source": [
    "norm = tf.random_normal((100,)) #生成100个随机数\n",
    "#参数：\n",
    "#shape: 输出张量的形状，必选\n",
    "#mean: 正态分布的均值，默认为0\n",
    "#stddev: 正态分布的标准差，默认为1.0\n",
    "#dtype: 输出的类型，默认为tf.float32\n",
    "#seed: 随机数种子，是一个整数，当设置之后，每次生成的随机数都一样\n",
    "#name: 操作的名称\n",
    "print(norm)\n",
    "with tf.Session() as sess:\n",
    "    norm_data=norm.eval()    # 求norm的值，这样就变成了一个列表\n",
    "print(norm_data[:10])                  #打印前10个随机数"
   ]
  },
  {
   "cell_type": "code",
   "execution_count": 5,
   "metadata": {},
   "outputs": [
    {
     "data": {
      "image/png": "[encoded data removed]",
      "text/plain": [
       "<Figure size 432x288 with 1 Axes>"
      ]
     },
     "metadata": {
      "needs_background": "light"
     },
     "output_type": "display_data"
    }
   ],
   "source": [
    "import matplotlib.pyplot as plt\n",
    "plt.hist(norm_data)  # 分布图\n",
    "plt.show()  # 基本满足正态分布"
   ]
  },
  {
   "cell_type": "markdown",
   "metadata": {},
   "source": [
    "在本案例中，以正态分布的随机数初始化权重$W$，以常数0初始化偏置$b$"
   ]
  },
  {
   "cell_type": "code",
   "execution_count": 6,
   "metadata": {},
   "outputs": [],
   "source": [
    "W = tf.Variable(tf.random_normal((784, 10))) # 为什么是784？为什么有个10？\n",
    "b = tf.Variable(tf.zeros((10,))) "
   ]
  },
  {
   "cell_type": "markdown",
   "metadata": {},
   "source": [
    "<img src='recongnition.jpg'>"
   ]
  },
  {
   "cell_type": "markdown",
   "metadata": {},
   "source": [
    "** 用单个神经元构建神经网络 **"
   ]
  },
  {
   "cell_type": "code",
   "execution_count": 7,
   "metadata": {
    "scrolled": true
   },
   "outputs": [
    {
     "data": {
      "text/plain": [
       "<tf.Tensor 'forward:0' shape=() dtype=string>"
      ]
     },
     "execution_count": 7,
     "metadata": {},
     "output_type": "execute_result"
    }
   ],
   "source": [
    "forward=tf.matmul(x, W) + b # 正向传播，前向输出\n",
    "tf.summary.histogram('forward',forward)#将前向输出值以直方图显示\n",
    "# tf.summary.histogram(tags, values, collections=None, name=None)\n",
    "# name：生成的节点名称.作为TensorBoard中的一个系列名称.\n",
    "# values：一个实数张量.用于构建直方图的值.\n",
    "# collections：图形集合键的可选列表.添加新的summary操作到这些集合中.默认为GraphKeys.SUMMARIES.\n",
    "# family： summary标签名称的前缀,用于在Tensorboard上显示的标签名称.(可选项)"
   ]
  },
  {
   "cell_type": "markdown",
   "metadata": {},
   "source": [
    "示例中在执行训练后在tensorboard界面可查看到如下关于forward的直方图：\n",
    "\n",
    "<img src=\"forward_hist_single.jpg\" width=400 height=400 />"
   ]
  },
  {
   "cell_type": "markdown",
   "metadata": {},
   "source": [
    "** 关于Softmax Regression **"
   ]
  },
  {
   "cell_type": "markdown",
   "metadata": {},
   "source": [
    "当我们处理多分类任务时，通常需要使用Softmax Regression模型。<br>\n",
    "Softmax Regression会对每一类别估算出一个概率，这些类的概率和为1。<br>\n",
    "** 工作原理： **将判定为某一类的特征相加，然后将这些特征转化为判定是这一类的概率。<br>\n",
    "<img src='softmax.jpg' width=320>"
   ]
  },
  {
   "cell_type": "code",
   "execution_count": 8,
   "metadata": {},
   "outputs": [
    {
     "name": "stdout",
     "output_type": "stream",
     "text": [
      "Tensor(\"Softmax:0\", shape=(?, 10), dtype=float32)\n"
     ]
    }
   ],
   "source": [
    "# 注意：forward=tf.matmul(x, W) + b 所以forward是一张量\n",
    "pred = tf.nn.softmax(forward) # Softmax分类\n",
    "print(pred)"
   ]
  },
  {
   "cell_type": "markdown",
   "metadata": {},
   "source": [
    "## 训练模型"
   ]
  },
  {
   "cell_type": "markdown",
   "metadata": {},
   "source": [
    "** 设置训练参数 **"
   ]
  },
  {
   "cell_type": "code",
   "execution_count": 9,
   "metadata": {},
   "outputs": [],
   "source": [
    "train_epochs = 35\n",
    "batch_size = 100\n",
    "total_batch= int(mnist.train.num_examples/batch_size)\n",
    "display_step = 1\n",
    "learning_rate=0.01"
   ]
  },
  {
   "cell_type": "markdown",
   "metadata": {},
   "source": [
    "** 定义损失函数 **"
   ]
  },
  {
   "cell_type": "code",
   "execution_count": 10,
   "metadata": {},
   "outputs": [
    {
     "data": {
      "text/plain": [
       "<tf.Tensor 'loss:0' shape=() dtype=string>"
      ]
     },
     "execution_count": 10,
     "metadata": {},
     "output_type": "execute_result"
    }
   ],
   "source": [
    "loss_function = tf.reduce_mean(-tf.reduce_sum(y*tf.log(pred), reduction_indices=1)) # 交叉熵\n",
    "#loss_function = tf.reduce_mean(tf.nn.softmax_cross_entropy_with_logits(logits=tf.log(pred),labels=y))\n",
    "# https://www.cnblogs.com/kyrieng/p/8694705.html\n",
    "tf.summary.scalar('loss', loss_function)#将损失以标量显示"
   ]
  },
  {
   "cell_type": "markdown",
   "metadata": {},
   "source": [
    "** 选择优化器 **"
   ]
  },
  {
   "cell_type": "code",
   "execution_count": 11,
   "metadata": {},
   "outputs": [],
   "source": [
    "optimizer = tf.train.GradientDescentOptimizer(learning_rate).minimize(loss_function) #梯度下降"
   ]
  },
  {
   "cell_type": "markdown",
   "metadata": {},
   "source": [
    "** 定义准确率 **"
   ]
  },
  {
   "cell_type": "code",
   "execution_count": 12,
   "metadata": {},
   "outputs": [
    {
     "data": {
      "text/plain": [
       "<tf.Tensor 'accuracy:0' shape=() dtype=string>"
      ]
     },
     "execution_count": 12,
     "metadata": {},
     "output_type": "execute_result"
    }
   ],
   "source": [
    "# 检查预测类别tf.argmax(pred, 1)与实际类别tf.argmax(y, 1)的匹配情况\n",
    "correct_prediction = tf.equal(tf.argmax(pred, 1), tf.argmax(y, 1))\n",
    "# 准确率\n",
    "accuracy = tf.reduce_mean(tf.cast(correct_prediction, tf.float32)) # 将布尔值转化为浮点数，并计算平均值\n",
    "\n",
    "tf.summary.scalar('accuracy', accuracy)#将准确率以标量显示"
   ]
  },
  {
   "cell_type": "code",
   "execution_count": 13,
   "metadata": {},
   "outputs": [],
   "source": [
    "sess = tf.Session() #声明会话\n",
    "init = tf.global_variables_initializer() # 变量初始化\n",
    "sess.run(init)"
   ]
  },
  {
   "cell_type": "code",
   "execution_count": 14,
   "metadata": {},
   "outputs": [],
   "source": [
    "log_dir='d:/log'\n",
    "merged_summary_op = tf.summary.merge_all()#合并所有summary\n",
    "writer = tf.summary.FileWriter(log_dir, sess.graph) #创建写入符"
   ]
  },
  {
   "cell_type": "code",
   "execution_count": null,
   "metadata": {},
   "outputs": [
    {
     "name": "stdout",
     "output_type": "stream",
     "text": [
      "Train Epoch: 01 Loss= 5.287127972  Accuracy= 0.3078\n",
      "Train Epoch: 02 Loss= 3.421632767  Accuracy= 0.4638\n",
      "Train Epoch: 03 Loss= 2.570934296  Accuracy= 0.5606\n"
     ]
    }
   ],
   "source": [
    "# 开始训练\n",
    "for epoch in range(train_epochs):\n",
    "    for batch in range(total_batch):\n",
    "        xs, ys = mnist.train.next_batch(batch_size)# 读取批次数据\n",
    "        sess.run(optimizer,feed_dict={x: xs,y: ys}) # 执行批次训练\n",
    "        \n",
    "        #生成summary\n",
    "        summary_str = sess.run(merged_summary_op,feed_dict={x: xs,y: ys})\n",
    "        writer.add_summary(summary_str, epoch)#将summary 写入文件\n",
    "        #total_batch个批次训练完成后，使用验证数据计算误差与准确率   \n",
    "    loss,acc = sess.run([loss_function,accuracy],\n",
    "                        feed_dict={x: mnist.validation.images, y: mnist.validation.labels})\n",
    "    # 打印训练过程中的详细信息\n",
    "    if (epoch+1) % display_step == 0:\n",
    "        print(\"Train Epoch:\", '%02d' % (epoch+1), \"Loss=\", \"{:.9f}\".format(loss),\" Accuracy=\",\"{:.4f}\".format(acc))\n",
    "\n",
    "print(\"Train Finished!\")  "
   ]
  },
  {
   "cell_type": "markdown",
   "metadata": {},
   "source": [
    "从上述打印结果可以看出损失值** Loss **是趋于更小的，同时，准确率** Accuracy **越来越高。<br>\n",
    "此外，我们还可以通过Tensorboard查看loss和accuracy的执行过程。<br>\n",
    "<br>\n",
    "通过tensorboard --logdir=log/mnist_single_neuron进入可视化界面，在scalar版面中可以查看loss和accuracy，如下图所示：<br>\n",
    "\n"
   ]
  },
  {
   "cell_type": "markdown",
   "metadata": {},
   "source": [
    "<img src=\"acc_scalar_single.jpg\"/> \n",
    "<img src=\"loss_scalar_single.jpg\"/>"
   ]
  },
  {
   "cell_type": "markdown",
   "metadata": {},
   "source": [
    "## 评估模型"
   ]
  },
  {
   "cell_type": "markdown",
   "metadata": {},
   "source": [
    "** 完成训练后，在测试集上评估模型的准确率 **"
   ]
  },
  {
   "cell_type": "code",
   "execution_count": 23,
   "metadata": {},
   "outputs": [
    {
     "name": "stdout",
     "output_type": "stream",
     "text": [
      "Test Accuracy: 0.8562\n"
     ]
    }
   ],
   "source": [
    "print(\"Test Accuracy:\", sess.run(accuracy,\n",
    "                           feed_dict={x: mnist.test.images, y: mnist.test.labels}))"
   ]
  },
  {
   "cell_type": "markdown",
   "metadata": {},
   "source": [
    "## 进行预测"
   ]
  },
  {
   "cell_type": "markdown",
   "metadata": {},
   "source": [
    "** 在建立模型并进行训练后，若认为准确率可以接受，则可以使用此模型进行预测。 **"
   ]
  },
  {
   "cell_type": "code",
   "execution_count": 24,
   "metadata": {},
   "outputs": [],
   "source": [
    "prediction_result=sess.run(tf.argmax(pred,1), # 由于pred预测结果是one-hot编码格式，所以需要转换为0~9数字\n",
    "                           feed_dict={x: mnist.test.images })"
   ]
  },
  {
   "cell_type": "markdown",
   "metadata": {},
   "source": [
    "** 查看预测结果 **"
   ]
  },
  {
   "cell_type": "code",
   "execution_count": 25,
   "metadata": {},
   "outputs": [
    {
     "data": {
      "text/plain": [
       "array([7, 2, 1, 0, 9, 1, 4, 5, 6, 7], dtype=int64)"
      ]
     },
     "execution_count": 25,
     "metadata": {},
     "output_type": "execute_result"
    }
   ],
   "source": [
    "prediction_result[0:10] #查看预测结果中的前10项"
   ]
  },
  {
   "cell_type": "markdown",
   "metadata": {},
   "source": [
    "** 定义可视化函数 **"
   ]
  },
  {
   "cell_type": "code",
   "execution_count": 26,
   "metadata": {},
   "outputs": [],
   "source": [
    "#%matplotlib notebook  # jupyter notebook的写法\n",
    "# jupyter lab 写法\n",
    "%matplotlib inline    \n",
    "import matplotlib.pyplot as plt\n",
    "import numpy as np\n",
    "def plot_images_labels_prediction(images,labels,\n",
    "                                  prediction,idx,num=10):\n",
    "    fig = plt.gcf()\n",
    "    fig.set_size_inches(10, 12)\n",
    "    if num>25: num=25 \n",
    "    for i in range(0, num):\n",
    "        ax=plt.subplot(5,5, 1+i)\n",
    "        \n",
    "        ax.imshow(np.reshape(images[idx],(28, 28)), \n",
    "                  cmap='binary')\n",
    "            \n",
    "        title= \"label=\" +str(np.argmax(labels[idx]))\n",
    "        if len(prediction)>0:\n",
    "            title+=\",predict=\"+str(prediction[idx]) \n",
    "            \n",
    "        ax.set_title(title,fontsize=10) \n",
    "        ax.set_xticks([]);ax.set_yticks([])        \n",
    "        idx+=1 \n",
    "    plt.show()"
   ]
  },
  {
   "cell_type": "code",
   "execution_count": 27,
   "metadata": {
    "scrolled": true
   },
   "outputs": [
    {
     "data": {
      "image/png": "[encoded data removed]",
      "text/plain": [
       "<Figure size 720x864 with 10 Axes>"
      ]
     },
     "metadata": {},
     "output_type": "display_data"
    }
   ],
   "source": [
    "plot_images_labels_prediction(mnist.test.images,\n",
    "                              mnist.test.labels,\n",
    "                              prediction_result,0)"
   ]
  },
  {
   "cell_type": "markdown",
   "metadata": {},
   "source": [
    "从上面结果可知，通过30次迭代所训练的由** 单个神经元 **构成的神经网络模型，在测试集上能够取得百分之八十以上的准确率。接下来，我们将尝试** 加宽 **和** 加深 **模型，看看能否得到更高的准确率。"
   ]
  },
  {
   "cell_type": "markdown",
   "metadata": {},
   "source": [
    "## 实验题\n",
    "### 实验题1：变更迭代次数和其他的相关设置，观察识别准确率的变化情况，并自己总结。"
   ]
  }
 ],
 "metadata": {
  "anaconda-cloud": {},
  "kernelspec": {
   "display_name": "Python 3",
   "language": "python",
   "name": "python3"
  },
  "language_info": {
   "codemirror_mode": {
    "name": "ipython",
    "version": 3
   },
   "file_extension": ".py",
   "mimetype": "text/x-python",
   "name": "python",
   "nbconvert_exporter": "python",
   "pygments_lexer": "ipython3",
   "version": "3.7.4"
  },
  "toc": {
   "base_numbering": 1,
   "nav_menu": {},
   "number_sections": true,
   "sideBar": true,
   "skip_h1_title": false,
   "title_cell": "目录",
   "title_sidebar": "Contents",
   "toc_cell": true,
   "toc_position": {},
   "toc_section_display": true,
   "toc_window_display": true
  }
 },
 "nbformat": 4,
 "nbformat_minor": 4
}
