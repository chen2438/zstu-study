{
 "cells": [
  {
   "cell_type": "markdown",
   "metadata": {},
   "source": [
    "# Python 程序设计基础\n",
    "\n",
    "## 浙江理工大学 沈炜\n",
    "## QQ:120259565，Lab:10-309"
   ]
  },
  {
   "cell_type": "markdown",
   "metadata": {},
   "source": [
    "## 关于作业和考试\n",
    "1. 作业以组为单位交，每个组一般为3人；\n",
    "2. 作业以pdf格式提交，pdf文件名规范：作业X_组名.pdf，例：作业1_demo.pdf；文件名不符合要求的作业无成绩；如果需要提交程序的，一般以ipynb格式提交，文件命名规范同pdf文件；\n",
    "3. 作业必须说明：组成员的学号、姓名、工作内容、所占的工作量比例；\n",
    "4. 如果需要答辩，则答辩人为工作量最少的，如果工作量最少有相同的，则答辩时随机指定；\n",
    "5. 组的成员在前5次作业中可以自由组合，方便成员磨合，之后至考试以作业组为单位参加，无组成员无考试资格；\n",
    "6. 作业成绩，作业成绩按作业完成质量、参与人数综合评定。"
   ]
  },
  {
   "cell_type": "markdown",
   "metadata": {},
   "source": [
    "<img src=\"python.jpg\">\n",
    "\n",
    "## Python语言简介\n",
    "Python是一门跨平台、开源、免费的**解释型**高级动态编程语言，支持伪编译将Python源程序转换为字节码来优化程序和提高运行速度，支持使用py2exe、pyinstaller或cx_Freeze工具将Python程序转换为二进制可执行文件。\n",
    "\n",
    "动态语言，是指程序在运行时可以改变其结构：新的函数可以被引进，已有的函数可以被删除等在结构上的变化，类型的检查是在运行时做的，优点是方便阅读，清晰明了，缺点是不方便调试。\n",
    "\n",
    "Python支持**命令式编程（How to do）**、**函数式编程（What to do）**，完全的面向对象程序设计，语法简洁清晰，拥有大量的几乎支持所有领域应用开发的成熟扩展库；或者说Python同时兼具**过程化**语言和**非过程化**（像SQL）语言的特性。\n",
    "\n",
    "胶水语言：可以把多种不同语言编写的程序融合到一起实现无缝拼接，更好地发挥不同语言和工具的优势，满足不同应用领域的需求。"
   ]
  },
  {
   "cell_type": "markdown",
   "metadata": {},
   "source": [
    "## 几个网址\n",
    "https://www.python.org/ <br>\n",
    "https://www.python.org/doc/ <br>\n",
    "http://bugs.python.org/ <br>\n",
    "http://www.runoob.com/python/python-tutorial.html     菜鸟教程 <br>\n",
    "http://stackoverflow.com/questions/tagged/python <br>"
   ]
  },
  {
   "cell_type": "markdown",
   "metadata": {},
   "source": [
    "## 工欲善其事，必先利其器\n",
    "### 课程使用的几个工具\n",
    "\n",
    "包管理工具：2018年推荐：Anaconda （Anaconda 2019.07 for Windows Installer，内含Python3.7）<br>\n",
    "2019年推荐：pip install<br>\n",
    "\n",
    "教学工具：\n",
    "2018年：jupyter（Anaconda包含）<br>\n",
    "2019年：jupyter lab（直接pip install jpupyterlab）<br>\n",
    "\n",
    "Python版本:\n",
    "2018年：Python 3.6<br>\n",
    "2019年：推荐使用3.7及以后版本<br>\n",
    "2021年：3.9<br>\n",
    "python两个版本系列，2.x和3.x，他们不是简单的升级关系，3.x是趋势，2.x还在用（<font color=red>不推荐</font>），但大部分原来基于2.x的包，现在都已经改成支持3.x<br>\n",
    "\n",
    "编辑器：Sublime，可以用来编辑相对简单的py文件或项目 <br>\n",
    "集成IDE：推荐Pycharm（比较大，速度慢）, VSCode <br>"
   ]
  },
  {
   "cell_type": "markdown",
   "metadata": {},
   "source": [
    "# Jupyter 的公式功能（Latex语法）\n",
    "this is a demo of equations.\n",
    "\n",
    "$x^2+y^2=1$<br>\n",
    "$\\sqrt[2]{(x_1-x_2)^2+(y_1-y_2)^2}$"
   ]
  },
  {
   "cell_type": "markdown",
   "metadata": {},
   "source": [
    "## 安装 Anaconda 2019.07 (本课程从2019年开始，使用jupyter lab）\n",
    "\n",
    "1. 下载网址：https://www.anaconda.com/distribution/\n",
    "2. 选择Python 3.7 Version\n",
    "3. 下载完毕，进行安装，安装好以后，就同时有了Python3.7和Anaconda2019.07\n",
    "\n",
    "Anaconda是一个包管理器，Python的包概念我们后面会接触到\n",
    "\n",
    "### 建议大家使用虚拟机构建自己的Python开发环境（其实其他环境也一样），在安装配置时，使用虚拟机提供的快照功能，因为到后期，我们使用的环境会改变，万一发现环境有问题了，快照可以帮助我们快速地返回到拍摄快照的时虚拟机的状态。\n",
    "关于虚拟机快照，可以参见网址：https://jingyan.baidu.com/article/8275fc86519bda46a13cf611.html"
   ]
  },
  {
   "cell_type": "markdown",
   "metadata": {},
   "source": [
    "## Python运行\n",
    "运行cmd\n",
    "如下图"
   ]
  },
  {
   "cell_type": "markdown",
   "metadata": {},
   "source": [
    "<img src='cmd.png'>"
   ]
  },
  {
   "cell_type": "markdown",
   "metadata": {},
   "source": [
    "输入 python<br>\n",
    "\\>>>是python的提示符\n",
    "\n",
    "下面我们写第一行python代码\n",
    "<img src='3.png'>"
   ]
  },
  {
   "cell_type": "markdown",
   "metadata": {},
   "source": [
    "## 包管理工具 pip\n",
    "pip参考网址，菜鸟教程：https://www.runoob.com/w3cnote/python-pip-install-usage.html<br>\n",
    "安装包：\n",
    "pip install XXX（包名）<br>\n",
    "pip install -i https://pypi.tuna.tsinghua.edu.cn/simple pymysql （指定源，这样速度快）\n",
    "\n",
    "列出安装的包：\n",
    "pip list\n",
    "\n",
    "删除包：\n",
    "pip uninstall xxx（包名）"
   ]
  },
  {
   "cell_type": "markdown",
   "metadata": {},
   "source": [
    "## jupyter lab\n",
    "基于web的交互式计算环境，现在已经是使用最多的数据分析和算法设计环境<br>\n",
    "jupyter的升级版\n",
    "如果不想安装自己的Jupyter，可以使用阿里天池：https://tianchi.aliyun.com/home/\n",
    "<br>下面在jupyter中写并运行第一行代码"
   ]
  },
  {
   "cell_type": "code",
   "execution_count": 2,
   "metadata": {},
   "outputs": [
    {
     "name": "stdout",
     "output_type": "stream",
     "text": [
      "hello world!\n"
     ]
    }
   ],
   "source": [
    "# 请输入print('hello python') 并运行\n",
    "print('hello world!')"
   ]
  },
  {
   "cell_type": "code",
   "execution_count": 3,
   "metadata": {},
   "outputs": [
    {
     "name": "stdout",
     "output_type": "stream",
     "text": [
      "hello python\n"
     ]
    }
   ],
   "source": [
    "print('hello python')"
   ]
  },
  {
   "cell_type": "markdown",
   "metadata": {},
   "source": [
    "## jupyter 的一个有用的小技巧\n",
    "!command # 执行 shell 命令"
   ]
  },
  {
   "cell_type": "code",
   "execution_count": null,
   "metadata": {},
   "outputs": [],
   "source": [
    "!pip list"
   ]
  },
  {
   "cell_type": "markdown",
   "metadata": {},
   "source": [
    "## Python输出函数print （类比C中的printf）\n",
    "通过几行代码来初步了解一下print函数"
   ]
  },
  {
   "cell_type": "code",
   "execution_count": 6,
   "metadata": {},
   "outputs": [
    {
     "name": "stdout",
     "output_type": "stream",
     "text": [
      "hello\n"
     ]
    }
   ],
   "source": [
    "print('hello')"
   ]
  },
  {
   "cell_type": "code",
   "execution_count": 7,
   "metadata": {},
   "outputs": [
    {
     "name": "stdout",
     "output_type": "stream",
     "text": [
      "hello\n",
      "world\n"
     ]
    }
   ],
   "source": [
    "print('hello') # 换行输出\n",
    "print('world')"
   ]
  },
  {
   "cell_type": "code",
   "execution_count": 9,
   "metadata": {},
   "outputs": [
    {
     "name": "stdout",
     "output_type": "stream",
     "text": [
      "Hello world! python 55 5.5 False I love python\n"
     ]
    }
   ],
   "source": [
    "print(\"Hello\", \"world!\", 'python', 55, 5.5, 1==2, 'I love python')"
   ]
  },
  {
   "cell_type": "markdown",
   "metadata": {},
   "source": [
    "## 对象\n",
    "对象是python语言中最基本的概念，在python中处理的**一切都是对象**。python中有许多内置对象可供编程者使用，内置对象可直接使用，如数字、字符串、列表、del等；非内置对象需要导入**包**才能使用，如正弦函数sin(x)，随机数产生函数random( )等。"
   ]
  },
  {
   "cell_type": "markdown",
   "metadata": {},
   "source": [
    "## 对象类型\n",
    "\n",
    "| 对象类型 | 类型名称 | 示例 | 简要说明 |\n",
    "| ---- | ---- | ---- | ---- |\n",
    "| 数字 | int, float, complex | 1234,  3.14, 1.3e5, 3+4j | 数字大小没有限制，内置支持复数及其运算|\n",
    "| 字符串 | str | 'swfu', \"I'm student\", '''Python ''', r'abc', R'bcd' | 使用单引号、双引号、三引号作为定界符，以字母r或R引导的表示原始字符串 |\n",
    "| 字节串 | bytes | b’hello world’ | 以字母b引导，可以使用单引号、双引号、三引号作为定界符 |\n",
    "| 列表 | list | [1, 2, 3]，['a', 'b', ['c', 2]] | 所有元素放在一对方括号中，元素之间使用逗号分隔，其中的元素可以是任意类型 |\n",
    "| 字典 | dict | {1:'food' ,2:'taste', 3:'import'} | 所有元素放在一对大括号中，元素之间使用逗号分隔，元素形式为“键:值” |\n",
    "| 元组 | tuple | (2, -5, 6), (3,) | 不可变，所有元素放在一对圆括号中，元素之间使用逗号分隔，如果元组中只有一个元素的话，后面的逗号不能省略 |\n",
    "| 集合 | set，frozenset | \\{'a', 'b', 'c'\\} | 所有元素放在一对大括号中，元素之间使用逗号分隔，元素不允许重复，另外，set是可变的，而frozenset是不可变的 | \n",
    "| 布尔型 | bool | True, False | 逻辑值，关系运算符、成员测试运算符、同一性测试运算符组成的表达式的值一般为True或False |\n",
    "| 空类型 | NoneType | None | 空值 |\n",
    "| 异常 | Exception、ValueError、TypeError |   | Python内置大量异常类，分别对应不同类型的异常 |\n",
    "| 文件 |   | f = open('data.dat', 'rb') | open是Python内置函数，使用指定的模式打开文件，返回文件对象 |\n",
    "| 其他可迭代对象 |   | 生成器对象、range对象、zip对象、enumerate对象、map对象、filter对象等等 | 具有惰性求值的特点，除range对象之外，其他对象中的元素只能看一次 |\n",
    "| 编程单元 |   | 函数（使用def定义），类（使用class定义），模块（类型为module | 类和函数都属于可调用对象，模块用来集中存放函数、类、常量或其他对象 |\n"
   ]
  },
  {
   "cell_type": "markdown",
   "metadata": {},
   "source": [
    "## 变量\n",
    "\n",
    "### 每个变量在内存中创建，都包括变量的标识，名称和数据这些信息\n",
    "### 每个变量在赋值时创建，赋值号是 =，也可以使用复合赋值号，如：+=, -=, *=, /=等，与C语言类似\n",
    "### 变量有确定的类型，但不事先指定（与大部分编译型语言不同），在赋值时定义并确定（强类型语言）\n",
    "### 变量类型可以动态变化（动态语言），反之为静态语言（在编译时必须确定变量的数据类型）\n",
    "\n",
    "<center><img src='4.jpg' width=320></center><br>\n",
    "静态语言\n",
    "静态语言是在编译时变量的数据类型即可确定的语言，多数静态类型语言要求在使用变量之前必须声明数据类型。\n",
    "\n",
    "动态语言\n",
    "动态语言是在运行时确定数据类型的语言。变量使用之前不需要类型声明，通常变量的类型是被赋值的那个值的类型。 \n",
    "\n",
    "强类型定义语言\n",
    "强制数据类型定义的语言，一旦一个变量被指定了某个数据类型，如果不经过强制转换，无法改变它的数据类型。\n",
    "\n",
    "弱类型定义语言\n",
    "数据类型可以被忽略的语言。它与强类型定义语言相反, 一个变量可以赋不同数据类型的值。"
   ]
  },
  {
   "cell_type": "markdown",
   "metadata": {},
   "source": [
    "## 变量的命名（类比C语言）\n",
    "### 以字母和下划线开头\n",
    "### 变量名中不能有空格及标点\n",
    "### 不能使用关键字，如class\n",
    "### 大小写敏感"
   ]
  },
  {
   "cell_type": "code",
   "execution_count": 10,
   "metadata": {},
   "outputs": [
    {
     "data": {
      "text/plain": [
       "['False',\n",
       " 'None',\n",
       " 'True',\n",
       " 'and',\n",
       " 'as',\n",
       " 'assert',\n",
       " 'async',\n",
       " 'await',\n",
       " 'break',\n",
       " 'class',\n",
       " 'continue',\n",
       " 'def',\n",
       " 'del',\n",
       " 'elif',\n",
       " 'else',\n",
       " 'except',\n",
       " 'finally',\n",
       " 'for',\n",
       " 'from',\n",
       " 'global',\n",
       " 'if',\n",
       " 'import',\n",
       " 'in',\n",
       " 'is',\n",
       " 'lambda',\n",
       " 'nonlocal',\n",
       " 'not',\n",
       " 'or',\n",
       " 'pass',\n",
       " 'raise',\n",
       " 'return',\n",
       " 'try',\n",
       " 'while',\n",
       " 'with',\n",
       " 'yield']"
      ]
     },
     "execution_count": 10,
     "metadata": {},
     "output_type": "execute_result"
    }
   ],
   "source": [
    "import keyword\n",
    "keyword.kwlist"
   ]
  },
  {
   "cell_type": "code",
   "execution_count": 15,
   "metadata": {},
   "outputs": [
    {
     "name": "stdout",
     "output_type": "stream",
     "text": [
      "3 3.1415926 Hello\n"
     ]
    }
   ],
   "source": [
    "int_var = 3 #赋值语句\n",
    "float_var = 3.1415926\n",
    "str_var = \"Hello\"\n",
    "#str_var = 1.5\n",
    "print(int_var, float_var, str_var)"
   ]
  },
  {
   "cell_type": "code",
   "execution_count": 13,
   "metadata": {},
   "outputs": [
    {
     "name": "stdout",
     "output_type": "stream",
     "text": [
      "i = 8\n",
      "i = I become a string\n"
     ]
    }
   ],
   "source": [
    "i = 3\n",
    "i += 5\n",
    "print('i =',i)\n",
    "i = 'I become a string'\n",
    "print('i =',i)"
   ]
  },
  {
   "cell_type": "markdown",
   "metadata": {},
   "source": [
    "### type函数\n",
    "获取变量类型"
   ]
  },
  {
   "cell_type": "code",
   "execution_count": 16,
   "metadata": {},
   "outputs": [
    {
     "name": "stdout",
     "output_type": "stream",
     "text": [
      "3 <class 'int'>\n",
      "3.1415926 <class 'float'>\n",
      "Hello <class 'str'>\n"
     ]
    }
   ],
   "source": [
    "print(int_var, type(int_var))\n",
    "print(float_var, type(float_var))\n",
    "print(str_var, type(str_var))"
   ]
  },
  {
   "cell_type": "markdown",
   "metadata": {},
   "source": [
    "### isinstance函数\n",
    "判断变量是否是一个特定的类型（bool函数）"
   ]
  },
  {
   "cell_type": "code",
   "execution_count": 17,
   "metadata": {},
   "outputs": [
    {
     "data": {
      "text/plain": [
       "True"
      ]
     },
     "execution_count": 17,
     "metadata": {},
     "output_type": "execute_result"
    }
   ],
   "source": [
    "isinstance(3, int)"
   ]
  },
  {
   "cell_type": "code",
   "execution_count": 18,
   "metadata": {},
   "outputs": [
    {
     "data": {
      "text/plain": [
       "False"
      ]
     },
     "execution_count": 18,
     "metadata": {},
     "output_type": "execute_result"
    }
   ],
   "source": [
    "isinstance('333', int)"
   ]
  },
  {
   "cell_type": "code",
   "execution_count": 19,
   "metadata": {},
   "outputs": [
    {
     "data": {
      "text/plain": [
       "True"
      ]
     },
     "execution_count": 19,
     "metadata": {},
     "output_type": "execute_result"
    }
   ],
   "source": [
    "isinstance('333', str)"
   ]
  },
  {
   "cell_type": "markdown",
   "metadata": {},
   "source": [
    "### id()函数\n",
    "id() 函数用于获取对象的内存地址\n",
    "思考题：请自己使用id()并总结Python变量名和值之间的关系，另外从类和对象的角度来考虑一下为什么会是这样"
   ]
  },
  {
   "cell_type": "code",
   "execution_count": 21,
   "metadata": {},
   "outputs": [
    {
     "name": "stdout",
     "output_type": "stream",
     "text": [
      "8791495766336 8791495766336\n",
      "8791495766336\n",
      "8791495766432 8791495766336\n"
     ]
    }
   ],
   "source": [
    "#参考如下代码\n",
    "x = 3\n",
    "z=3\n",
    "print(id(x), id(z)) # 输出1\n",
    "y = x\n",
    "print(id(y)) # 输出2\n",
    "x += 3    # 类似C语言中的 += 赋值\n",
    "print(id(x),id(y))"
   ]
  },
  {
   "cell_type": "markdown",
   "metadata": {},
   "source": [
    "## 数字类型\n",
    "Python支持三种不同的数字类型：\n",
    "* \tint（有符号整型），缺省十进制，还可以表示2进制、8进制和16进制；Python3 不再保留长整形，统一为int\n",
    "*\tfloat（浮点型），可以用科学计数法表示\n",
    "*\tcomplex（复数），复数由实数部分和虚数部分构成，可以用 a + bj,或者 complex(a,b) 表示， 复数的实部 a 和虚部 b 都是浮点型"
   ]
  },
  {
   "cell_type": "markdown",
   "metadata": {},
   "source": [
    "#### 0b, 0o, 0x 分别代表2进制、8进制和16进制数"
   ]
  },
  {
   "cell_type": "code",
   "execution_count": 22,
   "metadata": {},
   "outputs": [
    {
     "name": "stdout",
     "output_type": "stream",
     "text": [
      "2 8 16\n"
     ]
    }
   ],
   "source": [
    "var1 = 0b10;  var2 = 0o10; var3 = 0x10\n",
    "print (var1, var2, var3)"
   ]
  },
  {
   "cell_type": "markdown",
   "metadata": {},
   "source": [
    "### python支持很大的数字值"
   ]
  },
  {
   "cell_type": "code",
   "execution_count": 23,
   "metadata": {},
   "outputs": [
    {
     "name": "stdout",
     "output_type": "stream",
     "text": [
      "123456789012345678901234567890 <class 'int'>\n"
     ]
    }
   ],
   "source": [
    "var1 = 123456789012345678901234567890\n",
    "print (var1, type(var1))"
   ]
  },
  {
   "cell_type": "markdown",
   "metadata": {},
   "source": [
    "### 其他数据类型"
   ]
  },
  {
   "cell_type": "code",
   "execution_count": 24,
   "metadata": {},
   "outputs": [
    {
     "data": {
      "text/plain": [
       "(15.0, 0.37, 1200.0, 3.1415)"
      ]
     },
     "execution_count": 24,
     "metadata": {},
     "output_type": "execute_result"
    }
   ],
   "source": [
    "15.0, 0.37, 12e2, 314.15e-2 # 浮点数的几种形式"
   ]
  },
  {
   "cell_type": "code",
   "execution_count": 25,
   "metadata": {},
   "outputs": [
    {
     "data": {
      "text/plain": [
       "False"
      ]
     },
     "execution_count": 25,
     "metadata": {},
     "output_type": "execute_result"
    }
   ],
   "source": [
    "0.4 - 0.1 == 0.3   # 想一想这说明什么?"
   ]
  },
  {
   "cell_type": "code",
   "execution_count": 26,
   "metadata": {},
   "outputs": [
    {
     "data": {
      "text/plain": [
       "((1+3j), (5-4j), (3.5+0.6j))"
      ]
     },
     "execution_count": 26,
     "metadata": {},
     "output_type": "execute_result"
    }
   ],
   "source": [
    "1+3j, 5-4j, 3.5+0.6j  # python的复数形式"
   ]
  },
  {
   "cell_type": "code",
   "execution_count": 27,
   "metadata": {},
   "outputs": [
    {
     "data": {
      "text/plain": [
       "((17+11j), (1+11j))"
      ]
     },
     "execution_count": 27,
     "metadata": {},
     "output_type": "execute_result"
    }
   ],
   "source": [
    "(1+3j) * (5-4j), 1+3j*5-4j  # 复数运算表达式"
   ]
  },
  {
   "cell_type": "markdown",
   "metadata": {},
   "source": [
    "## 运算符和表达式"
   ]
  },
  {
   "cell_type": "code",
   "execution_count": 28,
   "metadata": {},
   "outputs": [
    {
     "data": {
      "text/plain": [
       "(15, 1.6666666666666667, 1, 125, 2)"
      ]
     },
     "execution_count": 28,
     "metadata": {},
     "output_type": "execute_result"
    }
   ],
   "source": [
    "5 * 3 , 5 / 3 , 5 // 3, 5 ** 3, 5 % 3  # 几个运算符和对应的表达式"
   ]
  },
  {
   "cell_type": "markdown",
   "metadata": {},
   "source": [
    "## 字符串\n",
    "python没有字符型（和C不一样），单个字符也按字符串处理\n",
    "字符串用'或\"括起来\n",
    "长字符串（可换行）用'''或\"\"\"括起来"
   ]
  },
  {
   "cell_type": "code",
   "execution_count": 29,
   "metadata": {},
   "outputs": [
    {
     "data": {
      "text/plain": [
       "('abc', 'abc123', '12345678')"
      ]
     },
     "execution_count": 29,
     "metadata": {},
     "output_type": "execute_result"
    }
   ],
   "source": [
    "'abc', 'abc'+'123', '1234''5678', # 注意第3个字符串"
   ]
  },
  {
   "cell_type": "markdown",
   "metadata": {},
   "source": [
    "## 内置函数\n",
    "不需要导入任何包即可以使用<br>\n",
    "dir(__builtins__)"
   ]
  },
  {
   "cell_type": "code",
   "execution_count": null,
   "metadata": {},
   "outputs": [],
   "source": [
    "dir(__builtins__) # 看一下有哪些内置函数"
   ]
  },
  {
   "cell_type": "code",
   "execution_count": 31,
   "metadata": {},
   "outputs": [
    {
     "data": {
      "text/plain": [
       "(1, '0b111', 3, '178')"
      ]
     },
     "execution_count": 31,
     "metadata": {},
     "output_type": "execute_result"
    }
   ],
   "source": [
    "abs(-1), bin(7), len('abc'), str(178)"
   ]
  },
  {
   "cell_type": "code",
   "execution_count": 32,
   "metadata": {},
   "outputs": [
    {
     "name": "stdout",
     "output_type": "stream",
     "text": [
      "Help on built-in function abs in module builtins:\n",
      "\n",
      "abs(x, /)\n",
      "    Return the absolute value of the argument.\n",
      "\n"
     ]
    }
   ],
   "source": [
    "help('abs') # 查看abs函数的帮助"
   ]
  },
  {
   "cell_type": "markdown",
   "metadata": {},
   "source": [
    "## 基本的输入输出\n",
    "输入 input()，注意输入的值类型都是字符串<br>\n",
    "输出 print()"
   ]
  },
  {
   "cell_type": "code",
   "execution_count": 35,
   "metadata": {},
   "outputs": [
    {
     "name": "stdin",
     "output_type": "stream",
     "text": [
      "please input x:  3.14159\n"
     ]
    },
    {
     "name": "stdout",
     "output_type": "stream",
     "text": [
      "3.14159\n",
      "<class 'str'>\n"
     ]
    }
   ],
   "source": [
    "x = input('please input x: ')\n",
    "print(x)\n",
    "print(type(x))"
   ]
  },
  {
   "cell_type": "markdown",
   "metadata": {},
   "source": [
    "## Python的包（模块）\n",
    "语法 import packagename\n",
    "\n",
    "    example: import os [as aliasname]\n",
    "\n",
    "from packagename import objectname [as aliasname]\n",
    "\n",
    "    example: from math import sin\n",
    "\n",
    "差别：import导入整个包，调用包内的对象需要指定包名；<br>\n",
    "from * import * 则导入指定的部分，调用导入的对象不需要指定包名<br>\n",
    "dir()和help()，分别用于查看包中的对象列表，和包的使用帮助\n",
    "\n",
    "    example: dir('os')"
   ]
  },
  {
   "cell_type": "code",
   "execution_count": 36,
   "metadata": {},
   "outputs": [
    {
     "data": {
      "text/plain": [
       "-0.9589242746631385"
      ]
     },
     "execution_count": 36,
     "metadata": {},
     "output_type": "execute_result"
    }
   ],
   "source": [
    "import math\n",
    "math.sin(5)"
   ]
  },
  {
   "cell_type": "code",
   "execution_count": 37,
   "metadata": {},
   "outputs": [
    {
     "data": {
      "text/plain": [
       "-0.9589242746631385"
      ]
     },
     "execution_count": 37,
     "metadata": {},
     "output_type": "execute_result"
    }
   ],
   "source": [
    "from math import sin\n",
    "sin(5)"
   ]
  },
  {
   "cell_type": "code",
   "execution_count": 38,
   "metadata": {},
   "outputs": [
    {
     "data": {
      "text/plain": [
       "-0.9589242746631385"
      ]
     },
     "execution_count": 38,
     "metadata": {},
     "output_type": "execute_result"
    }
   ],
   "source": [
    "from math import sin as f\n",
    "f(5)"
   ]
  },
  {
   "cell_type": "markdown",
   "metadata": {},
   "source": [
    "### 导入的顺序\n",
    "标准包<br>\n",
    "成熟的第三方包<br>\n",
    "自己写的包<br>"
   ]
  },
  {
   "cell_type": "markdown",
   "metadata": {},
   "source": [
    "## 代码规范\n",
    "1. 一行就是一个语句，语句从一行第1列开始（除非与第3点冲突），没有结束符（这一点和C语言不同）\n",
    "2. 语句太长，分行用\\\n",
    "3. 缩进用于组合一系列语句形成一个语句体（类似于C中的复合语句）, 或未结束的语句，缩进一般用4个空格\n",
    "4. #用于单行注释\n",
    "5. 一对'''用于表示多行注释（在jupyter中可能不工作）\n",
    "6. pycharm会有很好的提示"
   ]
  },
  {
   "cell_type": "code",
   "execution_count": 42,
   "metadata": {},
   "outputs": [
    {
     "data": {
      "text/plain": [
       "8"
      ]
     },
     "execution_count": 42,
     "metadata": {},
     "output_type": "execute_result"
    }
   ],
   "source": [
    "def f():\n",
    "    return 5+3\n",
    "\n",
    "f()"
   ]
  },
  {
   "cell_type": "code",
   "execution_count": 43,
   "metadata": {},
   "outputs": [
    {
     "name": "stdout",
     "output_type": "stream",
     "text": [
      "this is a line\n",
      "8\n"
     ]
    },
    {
     "data": {
      "text/plain": [
       "' a\\n    a demo of \\n    multi-line\\n    comments\\n'"
      ]
     },
     "execution_count": 43,
     "metadata": {},
     "output_type": "execute_result"
    }
   ],
   "source": [
    "print('this is a line') \n",
    "# a demo of a single line comment\n",
    "a = 5 +\\\n",
    "    3\n",
    "print(a)\n",
    "\n",
    "''' a\n",
    "    a demo of \n",
    "    multi-line\n",
    "    comments\n",
    "'''"
   ]
  },
  {
   "cell_type": "markdown",
   "metadata": {},
   "source": [
    "### 课内练习\n",
    "1. 输入一个3位自然数，输出其各个数位上的值。example: input 100, output 1, 0, 0"
   ]
  },
  {
   "cell_type": "code",
   "execution_count": 44,
   "metadata": {},
   "outputs": [
    {
     "name": "stdin",
     "output_type": "stream",
     "text": [
      "input a natural number with 3 digits:  789\n"
     ]
    },
    {
     "name": "stdout",
     "output_type": "stream",
     "text": [
      "7 8 9\n"
     ]
    }
   ],
   "source": [
    "x=input('input a natural number with 3 digits: ')\n",
    "x=int(x)\n",
    "a=x // 100\n",
    "b=x //10 % 10\n",
    "c=x % 10\n",
    "print(a,b,c)"
   ]
  },
  {
   "cell_type": "code",
   "execution_count": 45,
   "metadata": {},
   "outputs": [
    {
     "name": "stdin",
     "output_type": "stream",
     "text": [
      "input a natural number with 3 digits:  789\n"
     ]
    },
    {
     "name": "stdout",
     "output_type": "stream",
     "text": [
      "7 8 9\n"
     ]
    }
   ],
   "source": [
    "x=input('input a natural number with 3 digits: ')\n",
    "x=int(x)\n",
    "a,b=divmod(x,100) # 注意python特有的赋值语句\n",
    "# print(a,b)\n",
    "b,c=divmod(b,10)\n",
    "print(a,b,c)"
   ]
  },
  {
   "cell_type": "code",
   "execution_count": 46,
   "metadata": {},
   "outputs": [
    {
     "name": "stdin",
     "output_type": "stream",
     "text": [
      "input a natural number with 3 digits:  789\n"
     ]
    },
    {
     "name": "stdout",
     "output_type": "stream",
     "text": [
      "7 8 9\n"
     ]
    }
   ],
   "source": [
    "x=input('input a natural number with 3 digits: ')\n",
    "a,b,c=map(int,x)\n",
    "print(a,b,c)"
   ]
  },
  {
   "cell_type": "markdown",
   "metadata": {},
   "source": [
    "### 练习\n",
    "1. 输入两个自然数，求他们的最大公约数。\n",
    "2. 比较完成同样目的一个python程序和一个C、java或其他语言的程序，他们的效率如何，比如，求100位的$\\pi$。"
   ]
  }
 ],
 "metadata": {
  "kernelspec": {
   "display_name": "Python 3 (ipykernel)",
   "language": "python",
   "name": "python3"
  },
  "language_info": {
   "codemirror_mode": {
    "name": "ipython",
    "version": 3
   },
   "file_extension": ".py",
   "mimetype": "text/x-python",
   "name": "python",
   "nbconvert_exporter": "python",
   "pygments_lexer": "ipython3",
   "version": "3.11.5"
  }
 },
 "nbformat": 4,
 "nbformat_minor": 4
}
