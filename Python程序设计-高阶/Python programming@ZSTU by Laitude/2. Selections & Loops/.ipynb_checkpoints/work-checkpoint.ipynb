{
 "cells": [
  {
   "cell_type": "markdown",
   "metadata": {},
   "source": [
    "# 作业1\n",
    "## 实验/作业目的：\n",
    "建立Python环境<br>\n",
    "掌握在Jupyter下进行Python初步编程的知识和能力<br>\n",
    "掌握变量、表达式的概念<br>\n",
    "掌握选择、循环结构<br>\n",
    "\n",
    "## 实验/作业 内容："
   ]
  },
  {
   "cell_type": "markdown",
   "metadata": {},
   "source": [
    "### 题1：思考题:利率\n",
    "\n",
    "你去银行存过钱吧，这个我们并不陌生。我们现在假定银行一年<font color=red>内</font>的年利率都是<font color=red>100%</font>，好像银行大发慈悲。:-)<br>\n",
    "现在，问你，如果你有1元，如何设定存钱策略，让你的收益最大化？<br>\n",
    "你的最大化收益是多少？"
   ]
  },
  {
   "cell_type": "markdown",
   "metadata": {},
   "source": [
    "### 解答：\n",
    "\n",
    "将现有的存款不断分割，使得在每一小段时间内都能获得最高的收益。\n",
    "\n",
    "根据连续复利公式:\n",
    "\n",
    "$A = P e^{(rt)}$\n",
    "\n",
    "其中：\n",
    "\n",
    "A 是最终的金额, P 是本金, r 是年利率, t 是时间（年）\n",
    "\n",
    "代入，得：\n",
    "\n",
    "$A = 1  e^{1} = e$"
   ]
  },
  {
   "cell_type": "code",
   "execution_count": 1,
   "metadata": {},
   "outputs": [
    {
     "name": "stdout",
     "output_type": "stream",
     "text": [
      "2.718281828459045\n"
     ]
    }
   ],
   "source": [
    "import math\n",
    "\n",
    "P = 1  # 本金\n",
    "r = 1  # 年利率\n",
    "t = 1  # 时间\n",
    "\n",
    "A = P * math.exp(r * t)\n",
    "print(A)"
   ]
  },
  {
   "cell_type": "markdown",
   "metadata": {},
   "source": [
    "### 题2：CPU乱序执行<font color=red>***</font><br>\n",
    "\n",
    "统筹方法在CPU指令执行上的表现，就是乱序执行。所谓乱序执行，就是在后面的指令可能比前面的指令先执行。现在，请你设计一个程序，能够证明CPU执行代码时，是乱序执行的。"
   ]
  },
  {
   "cell_type": "markdown",
   "metadata": {},
   "source": [
    "### 解答：\n",
    "\n",
    "由于全局解释器锁GIL，即使在多线程环境下，Python代码也总是按顺序执行的。在Python中观察CPU的乱序执行非常困难，因为Python的执行模型已经隐藏了底层硬件的很多细节。编译器和操作系统会自动处理乱序执行带来的同步问题。\n",
    "\n",
    "不过GIL只存在于某些特定的Python解释器实现中，例如CPython。其他实现，如Jython和IronPython，并不使用GIL。此外，Python中的许多标准库和第三方库（如NumPy）可以通过C扩展来绕过GIL，以实现并行执行。"
   ]
  },
  {
   "cell_type": "markdown",
   "metadata": {},
   "source": [
    "### 题3：蚂蚁金服为什么不上市了？\n",
    "\n",
    "1. 蚂蚁金服核心业务就是放贷——花呗是信用卡消费模式，借呗是小额贷模式；而花呗通过还款分期与借呗绑定在一起。其实本质上就是银行的业务。\n",
    "2. 马云喷银行保守、没有互联网思维，那是因为银行被层层制度和监管束缚着——这种监管是必要的，是对社会负责的体现。否则这样大体量的金融企业暴雷，全社会来买单。\n",
    "3. 蚂蚁赚钱的本质：走高杠杆与“放贷+卖债”的组合。\n",
    "4. 假定：蚂蚁有1亿，放100000笔贷款，每笔1000元，利率10%，贷款违约率是多少蚂蚁开始亏钱？\n",
    "5. 加一次杠杆，也就是从银行用这1亿贷款的利润融资0.1亿，利息收益和银行对半分，贷款违约率多少蚂蚁开始亏钱？\n",
    "6. 最最重要的是：<font color=red>$x$倍杠杆时，蚂蚁的本金只能保证多大违约率</font>？。\n",
    "\n",
    "你可以得到什么结论？"
   ]
  },
  {
   "cell_type": "code",
   "execution_count": 7,
   "metadata": {},
   "outputs": [
    {
     "name": "stdout",
     "output_type": "stream",
     "text": [
      "杠杆次数：20\n",
      "违约数：95239, 违约率：0.0476195\n"
     ]
    }
   ],
   "source": [
    "r = int(input())\n",
    "print(f\"杠杆次数：{r}\")\n",
    "i = 1\n",
    "while 1000 * i + 1000 * i * 0.05 < 10 ** 8:\n",
    "    i += 1\n",
    "print(f\"违约数：{i}, 违约率：{i / ((10 ** 5) * r)}\")"
   ]
  },
  {
   "cell_type": "markdown",
   "metadata": {},
   "source": [
    "### 参考资料\n",
    "\n",
    "https://docs.python.org/zh-cn/3/tutorial/controlflow.html\n",
    "\n",
    "### 信息来源\n",
    "\n",
    "1. python.org\n",
    "2. gpt-4 AI model\n",
    "\n",
    "### 参考代码来源\n",
    "\n",
    "1. gpt-4 AI model\n",
    "2. loops循环.ipynb\n",
    "\n",
    "### 学习心得\n",
    "\n",
    "1 使用 f-string 进行格式化输出，例如：\n",
    "\n",
    "```python\n",
    "name = \"Bob\"\n",
    "age = 30\n",
    "print(f\"My name is {name} and I am {age} years old.\")\n",
    "```\n",
    "\n",
    "2 全局解释器锁GIL\n",
    "\n",
    "Python解释器的设计初衷是简单而安全地让多个线程在同一个进程中运行。然而，由于Python的内存管理机制并不是线程安全的，所以需要引入GIL来保护解释器的内部数据结构。GIL实际上是一个互斥锁，它在同一时间只允许一个线程执行Python字节码。\n",
    "\n",
    "由于GIL的存在，多线程的Python程序并不能充分利用多核处理器的优势。即使在多核CPU上运行多个线程，由于只有一个线程能够执行Python字节码，其他线程将被阻塞，无法真正并行执行。\n",
    "\n",
    "GIL只存在于某些特定的Python解释器实现中，例如CPython。其他实现，如Jython和IronPython，并不使用GIL。Python中的许多标准库和第三方库（如NumPy）可以通过C扩展来绕过GIL，以实现并行执行。"
   ]
  }
 ],
 "metadata": {
  "kernelspec": {
   "display_name": "Python 3 (ipykernel)",
   "language": "python",
   "name": "python3"
  },
  "language_info": {
   "codemirror_mode": {
    "name": "ipython",
    "version": 3
   },
   "file_extension": ".py",
   "mimetype": "text/x-python",
   "name": "python",
   "nbconvert_exporter": "python",
   "pygments_lexer": "ipython3",
   "version": "3.11.5"
  }
 },
 "nbformat": 4,
 "nbformat_minor": 2
}
