{
 "cells": [
  {
   "cell_type": "markdown",
   "metadata": {
    "slideshow": {
     "slide_type": "slide"
    }
   },
   "source": [
    "# 循环（Loops）"
   ]
  },
  {
   "cell_type": "markdown",
   "metadata": {},
   "source": [
    "## 循环结构\n",
    "### 课程目标和要求\n",
    "1. 掌握Python语言的while和for循环语法和语句结构\n",
    "2. 能够用while和for循环实现对循环结构的编程\n",
    "3. 综合运用知识，分析解决带有循环结构的具有一定复杂性的工程、理论和社会问题"
   ]
  },
  {
   "cell_type": "markdown",
   "metadata": {},
   "source": [
    "### while 循环\n",
    "while循环一般用于<font color=red>难以提前确定</font>的情况，也可以用于<font color=blue>循环次数确定</font>的情况。<br>\n",
    "<center><img src='2.png'></center>"
   ]
  },
  {
   "cell_type": "code",
   "execution_count": 2,
   "metadata": {},
   "outputs": [
    {
     "name": "stdout",
     "output_type": "stream",
     "text": [
      "sum is 2500\n"
     ]
    }
   ],
   "source": [
    "# 求1加到100的和\n",
    "sum = 0\n",
    "i = 1\n",
    "while i <= 100:\n",
    "    if i%2==1:\n",
    "        sum += i\n",
    "    i += 1\n",
    "print(\"sum is\", sum) # sum is 5050"
   ]
  },
  {
   "cell_type": "markdown",
   "metadata": {},
   "source": [
    "### for 循环\n",
    "for循环一般用于循环次数可以<font color=red>提前确定</font>的情况，注意这种提前确定是通过<font color=red>枚举序列或迭代对象</font>中的元素来实现的。<br>\n",
    "<center><img src='3.png'></center>"
   ]
  },
  {
   "cell_type": "code",
   "execution_count": 4,
   "metadata": {},
   "outputs": [
    {
     "name": "stdout",
     "output_type": "stream",
     "text": [
      "10\n",
      "9\n",
      "8\n",
      "7\n",
      "6\n",
      "5\n",
      "4\n",
      "3\n",
      "2\n"
     ]
    }
   ],
   "source": [
    "for i in range(10,1,-1):  # 注意range函数的三个参数，分别是起点、终点（不包含）和步长\n",
    "    print(i)"
   ]
  },
  {
   "cell_type": "code",
   "execution_count": 5,
   "metadata": {},
   "outputs": [
    {
     "data": {
      "text/plain": [
       "(True, False)"
      ]
     },
     "execution_count": 5,
     "metadata": {},
     "output_type": "execute_result"
    }
   ],
   "source": [
    "100 in range(101), 101 in range(101)"
   ]
  },
  {
   "cell_type": "code",
   "execution_count": 7,
   "metadata": {},
   "outputs": [
    {
     "name": "stdout",
     "output_type": "stream",
     "text": [
      "sum is 5050\n"
     ]
    }
   ],
   "source": [
    "sum = 0\n",
    "# for i in range(1,101,1):  # for (i=0;i<101;i++)\n",
    "for i in range(101):\n",
    "    sum +=i\n",
    "print(\"sum is\", sum) # sum is 5050"
   ]
  },
  {
   "cell_type": "markdown",
   "metadata": {},
   "source": [
    "### 自己练\n",
    "求100以内所有奇数的和"
   ]
  },
  {
   "cell_type": "markdown",
   "metadata": {},
   "source": [
    "### break 和 continue\n",
    "- break中止当前循环\n",
    "- continue短路当前循环"
   ]
  },
  {
   "cell_type": "code",
   "execution_count": 9,
   "metadata": {},
   "outputs": [
    {
     "data": {
      "text/plain": [
       "(10.0, 10)"
      ]
     },
     "execution_count": 9,
     "metadata": {},
     "output_type": "execute_result"
    }
   ],
   "source": [
    "import math\n",
    "n=100\n",
    "k=math.sqrt(n)\n",
    "k,int(k)"
   ]
  },
  {
   "cell_type": "code",
   "execution_count": 14,
   "metadata": {},
   "outputs": [
    {
     "name": "stdout",
     "output_type": "stream",
     "text": [
      "please input a number larger than 1: 9\n"
     ]
    },
    {
     "name": "stdout",
     "output_type": "stream",
     "text": [
      "9 is not a prime number\n"
     ]
    }
   ],
   "source": [
    "#判断素数\n",
    "import math\n",
    "n = input('please input a number larger than 1:')\n",
    "n = int(n)\n",
    "k = int(math.sqrt(n))  # 调用math包中的sqrt函数求平方根\n",
    "for i in range(2,k+1):\n",
    "\tif n % i ==0:\n",
    "\t\tprint(n, 'is not a prime number')\n",
    "\t\tbreak\n",
    "else:  # for的一个python特定用法，如果循环体执行未被打断，执行else的语句体\n",
    "    print(n, 'is a prime number!')"
   ]
  },
  {
   "cell_type": "markdown",
   "metadata": {},
   "source": [
    "## 思考\n",
    "为什么只要循环到k就可以了？"
   ]
  },
  {
   "cell_type": "markdown",
   "metadata": {},
   "source": [
    "### 循环嵌套（多重循环）\n",
    "#### 循环内部再出现循环\n",
    "#### break和continue只能对<font color=red>所在循环</font>起作用"
   ]
  },
  {
   "cell_type": "code",
   "execution_count": 15,
   "metadata": {},
   "outputs": [
    {
     "name": "stdout",
     "output_type": "stream",
     "text": [
      "2 \t3 \t5 \t7 \t11 \t13 \t17 \t19 \t23 \t29 \t31 \t37 \t41 \t43 \t47 \t53 \t59 \t61 \t67 \t71 \t73 \t79 \t83 \t89 \t97 \t"
     ]
    }
   ],
   "source": [
    "# 求100以内的素数\n",
    "import math\n",
    "for i in range(2, 100):\n",
    "    k = int(math.sqrt(i))\n",
    "    for j in range(2, k+1):\n",
    "        if i % j ==0:\n",
    "            break\n",
    "    else:  # for的一个python特定用法，如果循环体执行未被打断，执行else的语句体\n",
    "        print(i,'\\t',end='')"
   ]
  },
  {
   "cell_type": "markdown",
   "metadata": {},
   "source": [
    "## 循环的应用"
   ]
  },
  {
   "cell_type": "markdown",
   "metadata": {},
   "source": [
    "## 案例1：蚂蚁金服为什么不上市了？\n",
    "1. 蚂蚁金服核心业务就是放贷——花呗是信用卡消费模式，借呗是小额贷模式；而花呗通过还款分期与借呗绑定在一起。其实本质上就是银行的业务。\n",
    "2. 马云喷银行保守、没有互联网思维，那是因为银行被层层制度和监管束缚着——这种监管是必要的，是对社会负责的体现。否则这样大体量的金融企业暴雷，全社会来买单。\n",
    "3. 蚂蚁赚钱的本质：走高杠杆与“放贷+卖债”的组合。\n",
    "4. 假定：蚂蚁有1亿，放100000笔贷款，每笔1000元，利率10%，贷款违约率是多少蚂蚁开始亏钱？\n",
    "5. 加一次杠杆，也就是从银行用这1亿贷款的利润融资0.1亿，利息收益和银行对半分，贷款违约率多少蚂蚁开始亏钱？\n",
    "6. 最最重要的是：<font color=red>$x$倍杠杆时，蚂蚁的本金只能保证多大违约率</font>？。\n",
    "\n",
    "你可以得到什么结论？"
   ]
  },
  {
   "cell_type": "code",
   "execution_count": 1,
   "metadata": {},
   "outputs": [
    {
     "name": "stdout",
     "output_type": "stream",
     "text": [
      "9091 0.09091\n"
     ]
    }
   ],
   "source": [
    "p=10**8\n",
    "for i in range(1,10**5):\n",
    "    if 1000*i>=(p-1000*i)*0.1:\n",
    "        print(i, i/10**5)\n",
    "        break"
   ]
  },
  {
   "cell_type": "code",
   "execution_count": 3,
   "metadata": {},
   "outputs": [
    {
     "name": "stdout",
     "output_type": "stream",
     "text": [
      "4546 0.04546\n"
     ]
    }
   ],
   "source": [
    "#r=int(input('请输入杠杆轮次:'))\n",
    "r=1\n",
    "p=(10**8)*r\n",
    "for i in range(1,(10**5)*r):\n",
    "    if 1000*i+1000*i*0.05>=(p-1000*i)*0.05*r:    # 坏账大于蚂蚁收入\n",
    "        print(i, i/((10**5)*r))\n",
    "        break"
   ]
  },
  {
   "cell_type": "code",
   "execution_count": 6,
   "metadata": {},
   "outputs": [
    {
     "name": "stdout",
     "output_type": "stream",
     "text": [
      "请输入杠杆轮次: 50\n"
     ]
    },
    {
     "name": "stdout",
     "output_type": "stream",
     "text": [
      "95239 0.0190478\n"
     ]
    }
   ],
   "source": [
    "r=int(input('请输入杠杆轮次:'))\n",
    "p=(10**8)*r\n",
    "for i in range(1,(10**5)*r):\n",
    "    if 1000*i+1000*i*0.05>=10**8:\n",
    "        print(i, i/((10**5)*r))\n",
    "        break"
   ]
  },
  {
   "cell_type": "markdown",
   "metadata": {},
   "source": [
    "#### 案例2：求$\\pi$（蒙特卡洛方法）\n",
    "蒙特卡洛方法是使用随机数和概率来解决问题，在计算机数学、物理、化学和经济方面都有非常广泛的应用。"
   ]
  },
  {
   "cell_type": "markdown",
   "metadata": {},
   "source": [
    "<center><img src='Pi_30K.gif'></center>"
   ]
  },
  {
   "cell_type": "code",
   "execution_count": null,
   "metadata": {},
   "outputs": [],
   "source": [
    "from random import random\n",
    "from math import sqrt\n",
    "# random的用法：  x,y=ramdom(),ramdom()   ramdom()函数生成一个[0,1]之间的随机数\n",
    "pi=0.0\n",
    "###\n",
    "### 在这里补充你的代码\n",
    "###\n",
    "print('pi is %s'%pi)"
   ]
  },
  {
   "cell_type": "code",
   "execution_count": null,
   "metadata": {},
   "outputs": [],
   "source": [
    "from random import random\n",
    "from math import sqrt\n",
    "# random的用法：  x,y=ramdom(),ramdom()   ramdom()函数生成一个[0,1]之间的随机数,\n",
    "pi=0.0\n",
    "###\n",
    "### 在这里补充你的代码\n",
    "###\n",
    "print('pi is %s'%pi)\n"
   ]
  },
  {
   "cell_type": "markdown",
   "metadata": {},
   "source": [
    "## 总结\n",
    "1. while和for循环，与我们学习过的C语言中的循环语句非常类似，可以类比\n",
    "2. 二者都可以用于确定次数的循环，但要注意：<font color=red>for循环的次数是通过遍历一个可枚举或迭代对象实现，最常见就是使用range()函数</font>\n"
   ]
  }
 ],
 "metadata": {
  "kernelspec": {
   "display_name": "Python 3",
   "language": "python",
   "name": "python3"
  },
  "language_info": {
   "codemirror_mode": {
    "name": "ipython",
    "version": 3
   },
   "file_extension": ".py",
   "mimetype": "text/x-python",
   "name": "python",
   "nbconvert_exporter": "python",
   "pygments_lexer": "ipython3",
   "version": "3.10.11"
  }
 },
 "nbformat": 4,
 "nbformat_minor": 4
}
