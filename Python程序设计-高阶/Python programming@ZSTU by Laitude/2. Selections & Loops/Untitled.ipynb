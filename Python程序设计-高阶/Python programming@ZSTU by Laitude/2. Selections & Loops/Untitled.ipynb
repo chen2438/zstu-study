{
 "cells": [
  {
   "cell_type": "code",
   "execution_count": 5,
   "id": "15bf8df8-d182-4795-b76e-04e5300bcd99",
   "metadata": {
    "tags": []
   },
   "outputs": [
    {
     "name": "stdout",
     "output_type": "stream",
     "text": [
      "[[1, 2, 1, 2], [1, 2, 1, 2], [1, 2, 1, 2]] 2763767215808 2763684079952 2763684079952\n"
     ]
    },
    {
     "data": {
      "text/plain": [
       "[[], [1, 2, 1, 2], [1, 2, 1, 2]]"
      ]
     },
     "execution_count": 5,
     "metadata": {},
     "output_type": "execute_result"
    }
   ],
   "source": [
    "a=[[1,2]*2]*3\n",
    "print(a,id(a),id(a[0][1]),id(a[1][1]))\n",
    "a[0]=[]\n",
    "a"
   ]
  }
 ],
 "metadata": {
  "kernelspec": {
   "display_name": "Python 3 (ipykernel)",
   "language": "python",
   "name": "python3"
  },
  "language_info": {
   "codemirror_mode": {
    "name": "ipython",
    "version": 3
   },
   "file_extension": ".py",
   "mimetype": "text/x-python",
   "name": "python",
   "nbconvert_exporter": "python",
   "pygments_lexer": "ipython3",
   "version": "3.9.12"
  }
 },
 "nbformat": 4,
 "nbformat_minor": 5
}
