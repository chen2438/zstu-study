{
 "cells": [
  {
   "cell_type": "markdown",
   "metadata": {},
   "source": [
    "4. 思考题:利率 <br>\n",
    "你去银行存过钱吧，这个我们并不陌生。我们现在假定银行一年<font color=red>内</font>的年利率都是<font color=red>100%</font>，好像银行大发慈悲。:-)<br>\n",
    "现在，问你，如果你有1元，如何设定存钱策略，让你的收益最大化？<br>\n",
    "你的最大化收益是多少？"
   ]
  },
  {
   "cell_type": "markdown",
   "metadata": {},
   "source": [
    "将现有的存款不断分割，使得在每一小段时间内都能获得最高的收益。\n",
    "\n",
    "根据连续复利公式:\n",
    "\n",
    "$A = P e^{(rt)}$\n",
    "\n",
    "其中：\n",
    "\n",
    "A 是最终的金额, P 是本金, r 是年利率, t 是时间（年）\n",
    "\n",
    "代入，得：\n",
    "\n",
    "$A = 1  e^{1} = e$"
   ]
  },
  {
   "cell_type": "code",
   "execution_count": 2,
   "metadata": {},
   "outputs": [
    {
     "name": "stdout",
     "output_type": "stream",
     "text": [
      "2.718281828459045\n"
     ]
    }
   ],
   "source": [
    "import math\n",
    "\n",
    "P = 1  # 本金\n",
    "r = 1  # 年利率\n",
    "t = 1  # 时间\n",
    "\n",
    "A = P * math.exp(r * t)\n",
    "print(A)"
   ]
  },
  {
   "cell_type": "markdown",
   "metadata": {},
   "source": [
    "6. CPU乱序执行<font color=red>***</font><br>\n",
    "统筹方法在CPU指令执行上的表现，就是乱序执行。所谓乱序执行，就是在后面的指令可能比前面的指令先执行。现在，请你设计一个程序，能够证明CPU执行代码时，是乱序执行的。"
   ]
  },
  {
   "cell_type": "markdown",
   "metadata": {},
   "source": [
    "由于全局解释器锁GIL，即使在多线程环境下，Python代码也总是按顺序执行的。在Python中观察CPU的乱序执行非常困难，因为Python的执行模型已经隐藏了底层硬件的很多细节。编译器和操作系统会自动处理乱序执行带来的同步问题。"
   ]
  },
  {
   "cell_type": "markdown",
   "metadata": {},
   "source": [
    "## 案例1：蚂蚁金服为什么不上市了？\n",
    "1. 蚂蚁金服核心业务就是放贷——花呗是信用卡消费模式，借呗是小额贷模式；而花呗通过还款分期与借呗绑定在一起。其实本质上就是银行的业务。\n",
    "2. 马云喷银行保守、没有互联网思维，那是因为银行被层层制度和监管束缚着——这种监管是必要的，是对社会负责的体现。否则这样大体量的金融企业暴雷，全社会来买单。\n",
    "3. 蚂蚁赚钱的本质：走高杠杆与“放贷+卖债”的组合。\n",
    "4. 假定：蚂蚁有1亿，放100000笔贷款，每笔1000元，利率10%，贷款违约率是多少蚂蚁开始亏钱？\n",
    "5. 加一次杠杆，也就是从银行用这1亿贷款的利润融资0.1亿，利息收益和银行对半分，贷款违约率多少蚂蚁开始亏钱？\n",
    "6. 最最重要的是：<font color=red>$x$倍杠杆时，蚂蚁的本金只能保证多大违约率</font>？。\n",
    "\n",
    "你可以得到什么结论？"
   ]
  },
  {
   "cell_type": "code",
   "execution_count": 14,
   "metadata": {},
   "outputs": [
    {
     "name": "stdout",
     "output_type": "stream",
     "text": [
      "违约率:0.09091\n"
     ]
    }
   ],
   "source": [
    "#设违约有x笔，不违约有100000-x笔\n",
    "x = 0\n",
    "while True:\n",
    "    profit=-x*1000+(100000-x)*1000*0.1\n",
    "    if profit < 0:\n",
    "        print(f\"违约率:{x/100000}\")\n",
    "        break\n",
    "    x += 1"
   ]
  },
  {
   "cell_type": "code",
   "execution_count": 15,
   "metadata": {},
   "outputs": [
    {
     "name": "stdout",
     "output_type": "stream",
     "text": [
      "违约率:0.04546\n"
     ]
    }
   ],
   "source": [
    "#设违约有x笔，不违约有100000-x笔\n",
    "x = 0\n",
    "while True:\n",
    "    profit=-x*1000-x*1000*0.05+(100000-x)*1000*0.05\n",
    "    if profit < 0:\n",
    "        print(f\"违约率:{x/100000}\")\n",
    "        break\n",
    "    x += 1"
   ]
  },
  {
   "cell_type": "code",
   "execution_count": null,
   "metadata": {},
   "outputs": [],
   "source": [
    "#设违约有x笔，不违约有100000-x笔\n",
    "x = 0\n",
    "while True:\n",
    "    profit=-x*1000+(100000-x)*1000*0.05\n",
    "    \n",
    "    if profit < 0:\n",
    "        print(f\"违约率:{x/100000}\")\n",
    "        break\n",
    "    x += 1"
   ]
  }
 ],
 "metadata": {
  "kernelspec": {
   "display_name": "Python 3",
   "language": "python",
   "name": "python3"
  },
  "language_info": {
   "codemirror_mode": {
    "name": "ipython",
    "version": 3
   },
   "file_extension": ".py",
   "mimetype": "text/x-python",
   "name": "python",
   "nbconvert_exporter": "python",
   "pygments_lexer": "ipython3",
   "version": "3.10.11"
  },
  "orig_nbformat": 4
 },
 "nbformat": 4,
 "nbformat_minor": 2
}
