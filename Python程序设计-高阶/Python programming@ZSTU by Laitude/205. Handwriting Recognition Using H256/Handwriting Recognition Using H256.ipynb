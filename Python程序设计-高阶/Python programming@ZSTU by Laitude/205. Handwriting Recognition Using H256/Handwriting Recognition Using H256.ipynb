{
 "cells": [
  {
   "cell_type": "markdown",
   "metadata": {},
   "source": [
    "# 基于单隐层神经网络的手写数字识别（Hangwriting Recongnition Using Single-hidden Layer Neural Network）\n",
    "## 浙江理工大学 沈炜"
   ]
  },
  {
   "cell_type": "markdown",
   "metadata": {},
   "source": [
    "** 上一节用单个神经元实现手写数字识别，本节将在此基础上拓展神经网络的深度，使其从包含单个神经元的网络拓展为包含256个神经元的单隐层神经网络。本节我们将掌握： **<br>\n",
    "- 神经网络的搭建：通过定义全连接操作来简化网络搭建\n",
    "- 存储模型：在检查点checkpoint保存参数\n",
    "- 读取模型：通过读取ckpt文件将已训练模型用于预测"
   ]
  },
  {
   "cell_type": "markdown",
   "metadata": {},
   "source": [
    "## 载入数据"
   ]
  },
  {
   "cell_type": "code",
   "execution_count": 1,
   "metadata": {},
   "outputs": [
    {
     "name": "stderr",
     "output_type": "stream",
     "text": [
      "c:\\python37\\lib\\site-packages\\tensorflow\\python\\framework\\dtypes.py:516: FutureWarning: Passing (type, 1) or '1type' as a synonym of type is deprecated; in a future version of numpy, it will be understood as (type, (1,)) / '(1,)type'.\n",
      "  _np_qint8 = np.dtype([(\"qint8\", np.int8, 1)])\n",
      "c:\\python37\\lib\\site-packages\\tensorflow\\python\\framework\\dtypes.py:517: FutureWarning: Passing (type, 1) or '1type' as a synonym of type is deprecated; in a future version of numpy, it will be understood as (type, (1,)) / '(1,)type'.\n",
      "  _np_quint8 = np.dtype([(\"quint8\", np.uint8, 1)])\n",
      "c:\\python37\\lib\\site-packages\\tensorflow\\python\\framework\\dtypes.py:518: FutureWarning: Passing (type, 1) or '1type' as a synonym of type is deprecated; in a future version of numpy, it will be understood as (type, (1,)) / '(1,)type'.\n",
      "  _np_qint16 = np.dtype([(\"qint16\", np.int16, 1)])\n",
      "c:\\python37\\lib\\site-packages\\tensorflow\\python\\framework\\dtypes.py:519: FutureWarning: Passing (type, 1) or '1type' as a synonym of type is deprecated; in a future version of numpy, it will be understood as (type, (1,)) / '(1,)type'.\n",
      "  _np_quint16 = np.dtype([(\"quint16\", np.uint16, 1)])\n",
      "c:\\python37\\lib\\site-packages\\tensorflow\\python\\framework\\dtypes.py:520: FutureWarning: Passing (type, 1) or '1type' as a synonym of type is deprecated; in a future version of numpy, it will be understood as (type, (1,)) / '(1,)type'.\n",
      "  _np_qint32 = np.dtype([(\"qint32\", np.int32, 1)])\n",
      "c:\\python37\\lib\\site-packages\\tensorflow\\python\\framework\\dtypes.py:525: FutureWarning: Passing (type, 1) or '1type' as a synonym of type is deprecated; in a future version of numpy, it will be understood as (type, (1,)) / '(1,)type'.\n",
      "  np_resource = np.dtype([(\"resource\", np.ubyte, 1)])\n",
      "c:\\python37\\lib\\site-packages\\tensorboard\\compat\\tensorflow_stub\\dtypes.py:541: FutureWarning: Passing (type, 1) or '1type' as a synonym of type is deprecated; in a future version of numpy, it will be understood as (type, (1,)) / '(1,)type'.\n",
      "  _np_qint8 = np.dtype([(\"qint8\", np.int8, 1)])\n",
      "c:\\python37\\lib\\site-packages\\tensorboard\\compat\\tensorflow_stub\\dtypes.py:542: FutureWarning: Passing (type, 1) or '1type' as a synonym of type is deprecated; in a future version of numpy, it will be understood as (type, (1,)) / '(1,)type'.\n",
      "  _np_quint8 = np.dtype([(\"quint8\", np.uint8, 1)])\n",
      "c:\\python37\\lib\\site-packages\\tensorboard\\compat\\tensorflow_stub\\dtypes.py:543: FutureWarning: Passing (type, 1) or '1type' as a synonym of type is deprecated; in a future version of numpy, it will be understood as (type, (1,)) / '(1,)type'.\n",
      "  _np_qint16 = np.dtype([(\"qint16\", np.int16, 1)])\n",
      "c:\\python37\\lib\\site-packages\\tensorboard\\compat\\tensorflow_stub\\dtypes.py:544: FutureWarning: Passing (type, 1) or '1type' as a synonym of type is deprecated; in a future version of numpy, it will be understood as (type, (1,)) / '(1,)type'.\n",
      "  _np_quint16 = np.dtype([(\"quint16\", np.uint16, 1)])\n",
      "c:\\python37\\lib\\site-packages\\tensorboard\\compat\\tensorflow_stub\\dtypes.py:545: FutureWarning: Passing (type, 1) or '1type' as a synonym of type is deprecated; in a future version of numpy, it will be understood as (type, (1,)) / '(1,)type'.\n",
      "  _np_qint32 = np.dtype([(\"qint32\", np.int32, 1)])\n",
      "c:\\python37\\lib\\site-packages\\tensorboard\\compat\\tensorflow_stub\\dtypes.py:550: FutureWarning: Passing (type, 1) or '1type' as a synonym of type is deprecated; in a future version of numpy, it will be understood as (type, (1,)) / '(1,)type'.\n",
      "  np_resource = np.dtype([(\"resource\", np.ubyte, 1)])\n"
     ]
    },
    {
     "name": "stdout",
     "output_type": "stream",
     "text": [
      "WARNING:tensorflow:From <ipython-input-1-cf8d7a65a687>:5: read_data_sets (from tensorflow.contrib.learn.python.learn.datasets.mnist) is deprecated and will be removed in a future version.\n",
      "Instructions for updating:\n",
      "Please use alternatives such as official/mnist/dataset.py from tensorflow/models.\n",
      "WARNING:tensorflow:From c:\\python37\\lib\\site-packages\\tensorflow\\contrib\\learn\\python\\learn\\datasets\\mnist.py:260: maybe_download (from tensorflow.contrib.learn.python.learn.datasets.base) is deprecated and will be removed in a future version.\n",
      "Instructions for updating:\n",
      "Please write your own downloading logic.\n",
      "WARNING:tensorflow:From c:\\python37\\lib\\site-packages\\tensorflow\\contrib\\learn\\python\\learn\\datasets\\mnist.py:262: extract_images (from tensorflow.contrib.learn.python.learn.datasets.mnist) is deprecated and will be removed in a future version.\n",
      "Instructions for updating:\n",
      "Please use tf.data to implement this functionality.\n",
      "Extracting MNIST_data/train-images-idx3-ubyte.gz\n",
      "WARNING:tensorflow:From c:\\python37\\lib\\site-packages\\tensorflow\\contrib\\learn\\python\\learn\\datasets\\mnist.py:267: extract_labels (from tensorflow.contrib.learn.python.learn.datasets.mnist) is deprecated and will be removed in a future version.\n",
      "Instructions for updating:\n",
      "Please use tf.data to implement this functionality.\n",
      "Extracting MNIST_data/train-labels-idx1-ubyte.gz\n",
      "WARNING:tensorflow:From c:\\python37\\lib\\site-packages\\tensorflow\\contrib\\learn\\python\\learn\\datasets\\mnist.py:110: dense_to_one_hot (from tensorflow.contrib.learn.python.learn.datasets.mnist) is deprecated and will be removed in a future version.\n",
      "Instructions for updating:\n",
      "Please use tf.one_hot on tensors.\n",
      "Extracting MNIST_data/t10k-images-idx3-ubyte.gz\n",
      "Extracting MNIST_data/t10k-labels-idx1-ubyte.gz\n",
      "WARNING:tensorflow:From c:\\python37\\lib\\site-packages\\tensorflow\\contrib\\learn\\python\\learn\\datasets\\mnist.py:290: DataSet.__init__ (from tensorflow.contrib.learn.python.learn.datasets.mnist) is deprecated and will be removed in a future version.\n",
      "Instructions for updating:\n",
      "Please use alternatives such as official/mnist/dataset.py from tensorflow/models.\n"
     ]
    }
   ],
   "source": [
    "import os\n",
    "import tensorflow as tf #导入Tensorflow\n",
    "import tensorflow.examples.tutorials.mnist.input_data as input_data #导入Tensorflow提供的读取MNIST的模块\n",
    "\n",
    "mnist = input_data.read_data_sets(\"MNIST_data/\", one_hot=True) # 读取MNIST数据"
   ]
  },
  {
   "cell_type": "markdown",
   "metadata": {},
   "source": [
    "## 建立模型"
   ]
  },
  {
   "cell_type": "markdown",
   "metadata": {},
   "source": [
    "多层神经网络，上一层与下一层神经元之间如果都是全连接，这种网络称为全连接网络（Fully Connected Networks, FCN），有时也称为多层感知机（Multi-Layer Perceptron，MLP）。<br>\n",
    "<img src='net.jpg'><br>\n",
    "定义全连接层是构建FCN或MLP的基础，因此，我们先定义全连接层的函数fcn_layer."
   ]
  },
  {
   "cell_type": "code",
   "execution_count": 4,
   "metadata": {},
   "outputs": [],
   "source": [
    "def fcn_layer(output_dim,input_dim,inputs, activation=None):\n",
    "#input_dim为输入神经元数量，output_dim为输出神经元数量\n",
    "#inputs是输入的二维数组placeholder, activation是激活函数\n",
    "    W = tf.Variable(tf.random_normal([input_dim, output_dim])) #以正态分布的随机数初始化W\n",
    "    b = tf.Variable(tf.random_normal([1, output_dim])) #以正态分布的随机数初始化b\n",
    "    XWb = tf.matmul(inputs, W) + b # 建立表达式：inputs x W + b\n",
    "    if activation is None: # 默认不使用激活函数\n",
    "        outputs = XWb\n",
    "    else: # 若传入激活函数，则用其对输出结果进行变换\n",
    "        outputs = activation(XWb)\n",
    "    return outputs"
   ]
  },
  {
   "cell_type": "markdown",
   "metadata": {},
   "source": [
    "### 构建输入层 "
   ]
  },
  {
   "cell_type": "code",
   "execution_count": 6,
   "metadata": {},
   "outputs": [
    {
     "data": {
      "text/plain": [
       "<tf.Tensor 'Placeholder_1:0' shape=(?, 784) dtype=float32>"
      ]
     },
     "execution_count": 6,
     "metadata": {},
     "output_type": "execute_result"
    }
   ],
   "source": [
    "x = tf.placeholder(\"float\", (None, 784))\n",
    "x"
   ]
  },
  {
   "cell_type": "markdown",
   "metadata": {},
   "source": [
    "### 构建隐藏层"
   ]
  },
  {
   "cell_type": "code",
   "execution_count": 7,
   "metadata": {},
   "outputs": [],
   "source": [
    "# 隐藏层包含256个神经元\n",
    "h1=fcn_layer(output_dim=256,input_dim=784,inputs=x ,activation=tf.nn.relu)\n",
    "# 注意这里的输入输出维度"
   ]
  },
  {
   "cell_type": "markdown",
   "metadata": {},
   "source": [
    "### 构建输出层"
   ]
  },
  {
   "cell_type": "code",
   "execution_count": 9,
   "metadata": {},
   "outputs": [],
   "source": [
    "pred=fcn_layer(output_dim=10,input_dim=256,inputs=h1,activation=None)\n",
    "# 注意这里的输入输出维度,输出是10原因是什么？"
   ]
  },
  {
   "cell_type": "markdown",
   "metadata": {},
   "source": [
    "## 训练模型"
   ]
  },
  {
   "cell_type": "markdown",
   "metadata": {},
   "source": [
    "### 定义损失函数"
   ]
  },
  {
   "cell_type": "code",
   "execution_count": 11,
   "metadata": {},
   "outputs": [],
   "source": [
    "y = tf.placeholder(\"float\", (None, 10))\n",
    "# 交叉熵\n",
    "loss_function = tf.reduce_mean( \n",
    "                  tf.nn.softmax_cross_entropy_with_logits\n",
    "                         (logits=pred, \n",
    "                          labels=y))"
   ]
  },
  {
   "cell_type": "markdown",
   "metadata": {},
   "source": [
    "### 设置训练参数"
   ]
  },
  {
   "cell_type": "code",
   "execution_count": 13,
   "metadata": {},
   "outputs": [],
   "source": [
    "train_epochs = 30\n",
    "batch_size = 100\n",
    "total_batch = int(mnist.train.num_examples/batch_size)\n",
    "display_step = 1\n",
    "save_step=5\n",
    "learning_rate = 0.001\n",
    "epoch_list=[];loss_list=[];accuracy_list=[]\n",
    "\n",
    "ckpt_dir = \"./ckpt_dir/\"\n",
    "if not os.path.exists(ckpt_dir):\n",
    "    os.makedirs(ckpt_dir)\n",
    "\n",
    "from time import time\n",
    "startTime=time()"
   ]
  },
  {
   "cell_type": "markdown",
   "metadata": {},
   "source": [
    "每个固定间隔（save_step）在检查点保存一个模型（.ckpt文件，检查点文件，checkpoint），可便于随时将模型拿来进行预测。<br>\n",
    "通常，观察前几次的预测效果就可以粗略估计出神经网络设计得是否合理。"
   ]
  },
  {
   "cell_type": "markdown",
   "metadata": {},
   "source": [
    "### 选择优化器"
   ]
  },
  {
   "cell_type": "code",
   "execution_count": 15,
   "metadata": {},
   "outputs": [],
   "source": [
    "optimizer = tf.train.AdamOptimizer(learning_rate).minimize(loss_function)  "
   ]
  },
  {
   "cell_type": "markdown",
   "metadata": {},
   "source": [
    "### 定义准确率"
   ]
  },
  {
   "cell_type": "code",
   "execution_count": 16,
   "metadata": {},
   "outputs": [],
   "source": [
    "correct_prediction = tf.equal(tf.argmax(y, 1), tf.argmax(pred, 1))\n",
    "accuracy = tf.reduce_mean(tf.cast(correct_prediction, \"float\")) # 求平均值"
   ]
  },
  {
   "cell_type": "markdown",
   "metadata": {},
   "source": [
    "### 训练并存储模型"
   ]
  },
  {
   "cell_type": "code",
   "execution_count": 17,
   "metadata": {},
   "outputs": [
    {
     "name": "stdout",
     "output_type": "stream",
     "text": [
      "Train Epoch: 01 Loss= 6.056272984  Accuracy= 0.8508\n",
      "Train Epoch: 02 Loss= 3.960555792  Accuracy= 0.8928\n",
      "Train Epoch: 03 Loss= 3.073551893  Accuracy= 0.9116\n",
      "Train Epoch: 04 Loss= 2.589569569  Accuracy= 0.9166\n",
      "Train Epoch: 05 Loss= 2.245946407  Accuracy= 0.9236\n",
      "mnist_h256_model_000005.ckpt saved\n",
      "Train Epoch: 06 Loss= 1.951390624  Accuracy= 0.9308\n",
      "Train Epoch: 07 Loss= 1.835075021  Accuracy= 0.9318\n",
      "Train Epoch: 08 Loss= 1.660187125  Accuracy= 0.9370\n",
      "Train Epoch: 09 Loss= 1.517823935  Accuracy= 0.9382\n",
      "Train Epoch: 10 Loss= 1.457973838  Accuracy= 0.9396\n",
      "mnist_h256_model_000010.ckpt saved\n",
      "Train Epoch: 11 Loss= 1.412962675  Accuracy= 0.9406\n",
      "Train Epoch: 12 Loss= 1.351998925  Accuracy= 0.9412\n",
      "Train Epoch: 13 Loss= 1.275559306  Accuracy= 0.9440\n",
      "Train Epoch: 14 Loss= 1.240844369  Accuracy= 0.9420\n",
      "Train Epoch: 15 Loss= 1.224065185  Accuracy= 0.9450\n",
      "mnist_h256_model_000015.ckpt saved\n",
      "Train Epoch: 16 Loss= 1.184730649  Accuracy= 0.9440\n",
      "Train Epoch: 17 Loss= 1.159984350  Accuracy= 0.9466\n",
      "Train Epoch: 18 Loss= 1.146862507  Accuracy= 0.9452\n",
      "Train Epoch: 19 Loss= 1.110536575  Accuracy= 0.9504\n",
      "Train Epoch: 20 Loss= 1.119104266  Accuracy= 0.9512\n",
      "mnist_h256_model_000020.ckpt saved\n",
      "Train Epoch: 21 Loss= 1.033815861  Accuracy= 0.9506\n",
      "Train Epoch: 22 Loss= 1.079016566  Accuracy= 0.9510\n",
      "Train Epoch: 23 Loss= 1.082150578  Accuracy= 0.9514\n",
      "Train Epoch: 24 Loss= 1.060862541  Accuracy= 0.9532\n",
      "Train Epoch: 25 Loss= 1.039487123  Accuracy= 0.9516\n",
      "mnist_h256_model_000025.ckpt saved\n",
      "Train Epoch: 26 Loss= 1.031831861  Accuracy= 0.9544\n",
      "Train Epoch: 27 Loss= 1.043827295  Accuracy= 0.9550\n",
      "Train Epoch: 28 Loss= 1.031500816  Accuracy= 0.9538\n",
      "Train Epoch: 29 Loss= 1.049731851  Accuracy= 0.9560\n",
      "Train Epoch: 30 Loss= 0.999648035  Accuracy= 0.9538\n",
      "WARNING:tensorflow:From c:\\python37\\lib\\site-packages\\tensorflow\\python\\training\\saver.py:960: remove_checkpoint (from tensorflow.python.training.checkpoint_management) is deprecated and will be removed in a future version.\n",
      "Instructions for updating:\n",
      "Use standard file APIs to delete files with this prefix.\n",
      "mnist_h256_model_000030.ckpt saved\n",
      "Train Finished takes: 110.80 seconds\n",
      "Model saved!\n"
     ]
    }
   ],
   "source": [
    "#声明完所有变量后，调用tf.train.Saver，用于保存模型\n",
    "saver = tf.train.Saver()\n",
    "\n",
    "sess = tf.Session()\n",
    "sess.run(tf.global_variables_initializer())\n",
    "\n",
    "for epoch in range(train_epochs):\n",
    "    for batch in range(total_batch):\n",
    "        xs, ys = mnist.train.next_batch(batch_size)# 读取批次数据\n",
    "        sess.run(optimizer,feed_dict={x: xs,y: ys}) # 执行批次训练\n",
    "           \n",
    "    #total_batch个批次训练完成后，使用验证数据计算误差与准确率   \n",
    "    loss,acc = sess.run([loss_function,accuracy],\n",
    "                        feed_dict={x: mnist.validation.images, y: mnist.validation.labels})\n",
    "    \n",
    "    epoch_list.append(epoch)\n",
    "    loss_list.append(loss)\n",
    "    accuracy_list.append(acc)    \n",
    "    \n",
    "    if (epoch+1) % display_step == 0:\n",
    "        print(\"Train Epoch:\", '%02d' % (epoch+1), \"Loss=\", \"{:.9f}\".format(loss),\" Accuracy=\",\"{:.4f}\".format(acc))\n",
    "    if (epoch+1) % save_step == 0:\n",
    "            saver.save(sess, os.path.join(ckpt_dir, 'mnist_h256_model_{:06d}.ckpt'.format(epoch+1)))#存储模型\n",
    "            print('mnist_h256_model_{:06d}.ckpt saved'.format(epoch+1))\n",
    "\n",
    "# 显示运行总时间    \n",
    "duration =time()-startTime\n",
    "print(\"Train Finished takes:\",\"{:.2f} seconds\".format(duration))\n",
    "\n",
    "saver.save(sess, os.path.join(ckpt_dir, 'mnist_h256_model.ckpt'))#生成检查点文件\n",
    "print(\"Model saved!\")"
   ]
  },
  {
   "cell_type": "markdown",
   "metadata": {},
   "source": [
    "从上述打印结果可以看出包含256个神经元的单隐层神经网络的分类性能比仅包含一个神经元的神经网络更优。"
   ]
  },
  {
   "cell_type": "code",
   "execution_count": 18,
   "metadata": {},
   "outputs": [],
   "source": [
    "sess.close()"
   ]
  },
  {
   "cell_type": "markdown",
   "metadata": {},
   "source": [
    "## 进行预测"
   ]
  },
  {
   "cell_type": "markdown",
   "metadata": {},
   "source": [
    "在建立模型并进行训练后，若认为在验证集上的准确率可以接受，则可以使用此模型进行预测。<br>\n",
    "我们之前通过** tf.train.Saver **对已训练的模型进行了保存，我们可以在./ckpt_dir/文件夹下找到相关文件，如下图所示："
   ]
  },
  {
   "cell_type": "markdown",
   "metadata": {},
   "source": [
    "<img src=\"checkpoint.png\">"
   ]
  },
  {
   "cell_type": "markdown",
   "metadata": {},
   "source": [
    "共包含16个文件，包括，5个.data文件，5个.index文件，5个.meta文件，以及1个检查点文件checkpoint。<br>\n",
    "可以发现无论迭代训练多少次，检查点文件中最多只保存当前最新5个模型，这是Tensorflow中默认的设置。"
   ]
  },
  {
   "cell_type": "markdown",
   "metadata": {},
   "source": [
    "### 读取模型"
   ]
  },
  {
   "cell_type": "code",
   "execution_count": 19,
   "metadata": {},
   "outputs": [
    {
     "name": "stdout",
     "output_type": "stream",
     "text": [
      "Starting another session for prediction\n",
      "WARNING:tensorflow:From c:\\python37\\lib\\site-packages\\tensorflow\\python\\training\\saver.py:1276: checkpoint_exists (from tensorflow.python.training.checkpoint_management) is deprecated and will be removed in a future version.\n",
      "Instructions for updating:\n",
      "Use standard file APIs to check for files with this prefix.\n",
      "INFO:tensorflow:Restoring parameters from ./ckpt_dir/mnist_h256_model.ckpt\n",
      "Accuracy: 0.9502\n"
     ]
    }
   ],
   "source": [
    "print(\"Starting another session for prediction\")\n",
    "saver = tf.train.Saver()\n",
    "\n",
    "sess = tf.Session() \n",
    "init = tf.global_variables_initializer() \n",
    "sess.run(init)\n",
    "\n",
    "ckpt = tf.train.get_checkpoint_state(ckpt_dir)\n",
    "\n",
    "if ckpt and ckpt.model_checkpoint_path:\n",
    "    saver.restore(sess, ckpt.model_checkpoint_path)# 从已保存的模型中读取参数\n",
    "print (\"Accuracy:\", accuracy.eval(session=sess, feed_dict={x: mnist.test.images, y: mnist.test.labels}))\n",
    "# 想一想，为什么这里准确率和前面显示的不一样"
   ]
  },
  {
   "cell_type": "markdown",
   "metadata": {},
   "source": [
    "### 可视化"
   ]
  },
  {
   "cell_type": "code",
   "execution_count": 20,
   "metadata": {},
   "outputs": [],
   "source": [
    "# %matplotlib notebook\n",
    "%matplotlib inline\n",
    "import matplotlib.pyplot as plt\n",
    "import numpy as np\n",
    "def plot_images_labels_prediction(images,labels,\n",
    "                                  prediction,idx,num=10):\n",
    "    fig = plt.gcf()\n",
    "    fig.set_size_inches(10, 12)\n",
    "    if num>25: num=25 \n",
    "    for i in range(0, num):\n",
    "        ax=plt.subplot(5,5, 1+i)\n",
    "        \n",
    "        ax.imshow(np.reshape(images[idx],(28, 28)), \n",
    "                  cmap='binary')\n",
    "            \n",
    "        title= \"label=\" +str(np.argmax(labels[idx]))\n",
    "        if len(prediction)>0:\n",
    "            title+=\",predict=\"+str(prediction[idx]) \n",
    "            \n",
    "        ax.set_title(title,fontsize=10) \n",
    "        ax.set_xticks([]);ax.set_yticks([])        \n",
    "        idx+=1 \n",
    "    plt.show()"
   ]
  },
  {
   "cell_type": "code",
   "execution_count": 22,
   "metadata": {},
   "outputs": [
    {
     "data": {
      "image/png": "[encoded data removed]",
      "text/plain": [
       "<Figure size 720x864 with 10 Axes>"
      ]
     },
     "metadata": {},
     "output_type": "display_data"
    }
   ],
   "source": [
    "prediction_result=sess.run(tf.argmax(pred,1), # 由于pred预测结果是one-hot编码格式，所以需要转换为0~9数字\n",
    "                           feed_dict={x: mnist.test.images })\n",
    "plot_images_labels_prediction(mnist.test.images,\n",
    "                              mnist.test.labels,\n",
    "                              prediction_result,10)"
   ]
  },
  {
   "cell_type": "markdown",
   "metadata": {},
   "source": [
    "## 找出预测错误"
   ]
  },
  {
   "cell_type": "code",
   "execution_count": 23,
   "metadata": {},
   "outputs": [
    {
     "name": "stdout",
     "output_type": "stream",
     "text": [
      "i=63   label= 3 predict= 2\n",
      "i=66   label= 6 predict= 7\n",
      "i=100   label= 6 predict= 1\n",
      "i=118   label= 9 predict= 2\n",
      "i=139   label= 4 predict= 8\n",
      "i=149   label= 2 predict= 3\n",
      "i=193   label= 9 predict= 8\n",
      "i=233   label= 8 predict= 7\n",
      "i=241   label= 9 predict= 8\n",
      "i=245   label= 3 predict= 5\n",
      "i=247   label= 4 predict= 2\n",
      "i=259   label= 6 predict= 0\n",
      "i=268   label= 8 predict= 3\n",
      "i=300   label= 4 predict= 6\n",
      "i=320   label= 9 predict= 1\n",
      "i=321   label= 2 predict= 3\n",
      "i=324   label= 0 predict= 5\n",
      "i=340   label= 5 predict= 3\n",
      "i=381   label= 3 predict= 2\n",
      "i=403   label= 8 predict= 5\n",
      "i=412   label= 5 predict= 3\n",
      "i=425   label= 4 predict= 2\n",
      "i=432   label= 4 predict= 5\n",
      "i=448   label= 9 predict= 8\n",
      "i=449   label= 3 predict= 5\n",
      "i=464   label= 3 predict= 7\n",
      "i=478   label= 5 predict= 6\n",
      "i=479   label= 9 predict= 5\n",
      "count= 28\n"
     ]
    }
   ],
   "source": [
    "count=0\n",
    "for i in range(500):\n",
    "    if prediction_result[i]!=np.argmax(mnist.test.labels[i]):\n",
    "        print(\"i=\"+str(i)+\n",
    "              \"   label=\",np.argmax(mnist.test.labels[i]),\n",
    "              \"predict=\",prediction_result[i])\n",
    "        count+=1\n",
    "print(\"count=\", count)\n",
    "    "
   ]
  },
  {
   "cell_type": "code",
   "execution_count": 17,
   "metadata": {},
   "outputs": [],
   "source": [
    "sess.close()"
   ]
  },
  {
   "cell_type": "markdown",
   "metadata": {},
   "source": [
    "## 实验题\n",
    "### 实验题1：改变训练的相关参数，如batch_size和train_epochs，观察训练结果的变化，再增加一些代码，用TensorBoard看看，分析一下原因。"
   ]
  }
 ],
 "metadata": {
  "anaconda-cloud": {},
  "kernelspec": {
   "display_name": "Python 3",
   "language": "python",
   "name": "python3"
  },
  "language_info": {
   "codemirror_mode": {
    "name": "ipython",
    "version": 3
   },
   "file_extension": ".py",
   "mimetype": "text/x-python",
   "name": "python",
   "nbconvert_exporter": "python",
   "pygments_lexer": "ipython3",
   "version": "3.7.4"
  },
  "toc": {
   "base_numbering": "3",
   "nav_menu": {},
   "number_sections": true,
   "sideBar": true,
   "skip_h1_title": false,
   "title_cell": "目录",
   "title_sidebar": "Contents",
   "toc_cell": true,
   "toc_position": {
    "height": "calc(100% - 180px)",
    "left": "10px",
    "top": "150px",
    "width": "273px"
   },
   "toc_section_display": true,
   "toc_window_display": true
  }
 },
 "nbformat": 4,
 "nbformat_minor": 4
}
