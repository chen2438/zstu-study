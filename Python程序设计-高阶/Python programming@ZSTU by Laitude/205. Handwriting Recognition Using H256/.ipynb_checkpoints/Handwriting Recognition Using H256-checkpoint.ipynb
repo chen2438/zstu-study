{
 "cells": [
  {
   "cell_type": "markdown",
   "metadata": {},
   "source": [
    "# 基于单隐层神经网络的手写数字识别（Hangwriting Recongnition Using Single-hidden Layer Neural Network）\n",
    "## 浙江理工大学 沈炜"
   ]
  },
  {
   "cell_type": "markdown",
   "metadata": {},
   "source": [
    "** 上一节用单个神经元实现手写数字识别，本节将在此基础上拓展神经网络的深度，使其从包含单个神经元的网络拓展为包含256个神经元的单隐层神经网络。本节我们将掌握： **<br>\n",
    "- 神经网络的搭建：通过定义全连接操作来简化网络搭建\n",
    "- 存储模型：在检查点checkpoint保存参数\n",
    "- 读取模型：通过读取ckpt文件将已训练模型用于预测"
   ]
  },
  {
   "cell_type": "markdown",
   "metadata": {},
   "source": [
    "## 载入数据"
   ]
  },
  {
   "cell_type": "code",
   "execution_count": 9,
   "metadata": {},
   "outputs": [
    {
     "name": "stdout",
     "output_type": "stream",
     "text": [
      "Extracting MNIST_data/train-images-idx3-ubyte.gz\n",
      "Extracting MNIST_data/train-labels-idx1-ubyte.gz\n",
      "Extracting MNIST_data/t10k-images-idx3-ubyte.gz\n",
      "Extracting MNIST_data/t10k-labels-idx1-ubyte.gz\n"
     ]
    }
   ],
   "source": [
    "import os\n",
    "import tensorflow as tf #导入Tensorflow\n",
    "import tensorflow.examples.tutorials.mnist.input_data as input_data #导入Tensorflow提供的读取MNIST的模块\n",
    "\n",
    "mnist = input_data.read_data_sets(\"MNIST_data/\", one_hot=True) # 读取MNIST数据"
   ]
  },
  {
   "cell_type": "markdown",
   "metadata": {},
   "source": [
    "## 建立模型"
   ]
  },
  {
   "cell_type": "markdown",
   "metadata": {},
   "source": [
    "多层神经网络，上一层与下一层神经元之间如果都是全连接，这种网络称为全连接网络（Fully Connected Networks, FCN），有时也称为多层感知机（Multi-Layer Perceptron，MLP）。<br>\n",
    "<img src='net.jpg'><br>\n",
    "定义全连接层是构建FCN或MLP的基础，因此，我们先定义全连接层的函数fcn_layer."
   ]
  },
  {
   "cell_type": "code",
   "execution_count": 10,
   "metadata": {},
   "outputs": [],
   "source": [
    "def fcn_layer(output_dim,input_dim,inputs, activation=None):\n",
    "#input_dim为输入神经元数量，output_dim为输出神经元数量\n",
    "#inputs是输入的二维数组placeholder, activation是激活函数\n",
    "    W = tf.Variable(tf.random_normal([input_dim, output_dim])) #以正态分布的随机数初始化W\n",
    "    b = tf.Variable(tf.random_normal([1, output_dim])) #以正态分布的随机数初始化b\n",
    "    XWb = tf.matmul(inputs, W) + b # 建立表达式：inputs x W + b\n",
    "    if activation is None: # 默认不使用激活函数\n",
    "        outputs = XWb\n",
    "    else: # 若传入激活函数，则用其对输出结果进行变换\n",
    "        outputs = activation(XWb)\n",
    "    return outputs"
   ]
  },
  {
   "cell_type": "markdown",
   "metadata": {},
   "source": [
    "### 构建输入层 "
   ]
  },
  {
   "cell_type": "code",
   "execution_count": 11,
   "metadata": {},
   "outputs": [
    {
     "data": {
      "text/plain": [
       "<tf.Tensor 'Placeholder_3:0' shape=(?, 784) dtype=float32>"
      ]
     },
     "execution_count": 11,
     "metadata": {},
     "output_type": "execute_result"
    }
   ],
   "source": [
    "x = tf.placeholder(\"float\", (None, 784))\n",
    "x"
   ]
  },
  {
   "cell_type": "markdown",
   "metadata": {},
   "source": [
    "### 构建隐藏层"
   ]
  },
  {
   "cell_type": "code",
   "execution_count": 12,
   "metadata": {},
   "outputs": [],
   "source": [
    "# 隐藏层包含256个神经元\n",
    "h1=fcn_layer(output_dim=256,input_dim=784,inputs=x ,activation=tf.nn.relu)\n",
    "# 注意这里的输入输出维度"
   ]
  },
  {
   "cell_type": "markdown",
   "metadata": {},
   "source": [
    "### 构建输出层"
   ]
  },
  {
   "cell_type": "code",
   "execution_count": 13,
   "metadata": {},
   "outputs": [],
   "source": [
    "pred=fcn_layer(output_dim=10,input_dim=256,inputs=h1,activation=None)\n",
    "# 注意这里的输入输出维度,输出是10原因是什么？"
   ]
  },
  {
   "cell_type": "markdown",
   "metadata": {},
   "source": [
    "## 训练模型"
   ]
  },
  {
   "cell_type": "markdown",
   "metadata": {},
   "source": [
    "### 定义损失函数"
   ]
  },
  {
   "cell_type": "code",
   "execution_count": 14,
   "metadata": {},
   "outputs": [],
   "source": [
    "y = tf.placeholder(\"float\", (None, 10))\n",
    "# 交叉熵\n",
    "loss_function = tf.reduce_mean( \n",
    "                  tf.nn.softmax_cross_entropy_with_logits\n",
    "                         (logits=pred, \n",
    "                          labels=y))"
   ]
  },
  {
   "cell_type": "markdown",
   "metadata": {},
   "source": [
    "### 设置训练参数"
   ]
  },
  {
   "cell_type": "code",
   "execution_count": 15,
   "metadata": {},
   "outputs": [],
   "source": [
    "train_epochs = 30\n",
    "batch_size = 100\n",
    "total_batch = int(mnist.train.num_examples/batch_size)\n",
    "display_step = 1\n",
    "save_step=5\n",
    "learning_rate = 0.001\n",
    "epoch_list=[];loss_list=[];accuracy_list=[]\n",
    "\n",
    "ckpt_dir = \"./ckpt_dir/\"\n",
    "if not os.path.exists(ckpt_dir):\n",
    "    os.makedirs(ckpt_dir)\n",
    "\n",
    "from time import time\n",
    "startTime=time()"
   ]
  },
  {
   "cell_type": "markdown",
   "metadata": {},
   "source": [
    "每个固定间隔（save_step）在检查点保存一个模型（.ckpt文件，检查点文件，checkpoint），可便于随时将模型拿来进行预测。<br>\n",
    "通常，观察前几次的预测效果就可以粗略估计出神经网络设计得是否合理。"
   ]
  },
  {
   "cell_type": "markdown",
   "metadata": {},
   "source": [
    "### 选择优化器"
   ]
  },
  {
   "cell_type": "code",
   "execution_count": 16,
   "metadata": {},
   "outputs": [],
   "source": [
    "optimizer = tf.train.AdamOptimizer(learning_rate).minimize(loss_function)  "
   ]
  },
  {
   "cell_type": "markdown",
   "metadata": {},
   "source": [
    "### 定义准确率"
   ]
  },
  {
   "cell_type": "code",
   "execution_count": 17,
   "metadata": {},
   "outputs": [],
   "source": [
    "correct_prediction = tf.equal(tf.argmax(y, 1), tf.argmax(pred, 1))\n",
    "accuracy = tf.reduce_mean(tf.cast(correct_prediction, \"float\")) # 求平均值"
   ]
  },
  {
   "cell_type": "markdown",
   "metadata": {},
   "source": [
    "### 训练并存储模型"
   ]
  },
  {
   "cell_type": "code",
   "execution_count": 18,
   "metadata": {},
   "outputs": [
    {
     "name": "stdout",
     "output_type": "stream",
     "text": [
      "Train Epoch: 01 Loss= 6.139655113  Accuracy= 0.8404\n",
      "Train Epoch: 02 Loss= 3.829798460  Accuracy= 0.8860\n",
      "Train Epoch: 03 Loss= 2.895484686  Accuracy= 0.9046\n",
      "Train Epoch: 04 Loss= 2.404165506  Accuracy= 0.9132\n",
      "Train Epoch: 05 Loss= 2.134365320  Accuracy= 0.9236\n",
      "mnist_h256_model_000005.ckpt saved\n",
      "Train Epoch: 06 Loss= 1.908923984  Accuracy= 0.9256\n",
      "Train Epoch: 07 Loss= 1.684736133  Accuracy= 0.9334\n",
      "Train Epoch: 08 Loss= 1.557669520  Accuracy= 0.9360\n",
      "Train Epoch: 09 Loss= 1.469683051  Accuracy= 0.9382\n",
      "Train Epoch: 10 Loss= 1.421056151  Accuracy= 0.9394\n",
      "mnist_h256_model_000010.ckpt saved\n",
      "Train Epoch: 11 Loss= 1.343100548  Accuracy= 0.9406\n",
      "Train Epoch: 12 Loss= 1.287250996  Accuracy= 0.9418\n",
      "Train Epoch: 13 Loss= 1.262745261  Accuracy= 0.9432\n",
      "Train Epoch: 14 Loss= 1.273491740  Accuracy= 0.9448\n",
      "Train Epoch: 15 Loss= 1.235546708  Accuracy= 0.9456\n",
      "mnist_h256_model_000015.ckpt saved\n",
      "Train Epoch: 16 Loss= 1.235503197  Accuracy= 0.9462\n",
      "Train Epoch: 17 Loss= 1.204334259  Accuracy= 0.9474\n",
      "Train Epoch: 18 Loss= 1.169867754  Accuracy= 0.9500\n",
      "Train Epoch: 19 Loss= 1.171783447  Accuracy= 0.9508\n",
      "Train Epoch: 20 Loss= 1.156033158  Accuracy= 0.9500\n",
      "mnist_h256_model_000020.ckpt saved\n",
      "Train Epoch: 21 Loss= 1.125707626  Accuracy= 0.9502\n",
      "Train Epoch: 22 Loss= 1.118087649  Accuracy= 0.9504\n",
      "Train Epoch: 23 Loss= 1.122323871  Accuracy= 0.9540\n",
      "Train Epoch: 24 Loss= 1.139151216  Accuracy= 0.9500\n",
      "Train Epoch: 25 Loss= 1.147536755  Accuracy= 0.9502\n",
      "mnist_h256_model_000025.ckpt saved\n",
      "Train Epoch: 26 Loss= 1.086193204  Accuracy= 0.9550\n",
      "Train Epoch: 27 Loss= 1.047262192  Accuracy= 0.9546\n",
      "Train Epoch: 28 Loss= 1.073340535  Accuracy= 0.9556\n",
      "Train Epoch: 29 Loss= 1.089997768  Accuracy= 0.9544\n",
      "Train Epoch: 30 Loss= 1.105440617  Accuracy= 0.9546\n",
      "WARNING:tensorflow:From c:\\python37\\lib\\site-packages\\tensorflow\\python\\training\\saver.py:966: remove_checkpoint (from tensorflow.python.training.checkpoint_management) is deprecated and will be removed in a future version.\n",
      "Instructions for updating:\n",
      "Use standard file APIs to delete files with this prefix.\n",
      "mnist_h256_model_000030.ckpt saved\n",
      "Train Finished takes: 63.70\n",
      "Model saved!\n"
     ]
    }
   ],
   "source": [
    "#声明完所有变量后，调用tf.train.Saver，用于保存模型\n",
    "saver = tf.train.Saver()\n",
    "\n",
    "sess = tf.Session()\n",
    "sess.run(tf.global_variables_initializer())\n",
    "\n",
    "for epoch in range(train_epochs):\n",
    "    for batch in range(total_batch):\n",
    "        xs, ys = mnist.train.next_batch(batch_size)# 读取批次数据\n",
    "        sess.run(optimizer,feed_dict={x: xs,y: ys}) # 执行批次训练\n",
    "           \n",
    "    #total_batch个批次训练完成后，使用验证数据计算误差与准确率   \n",
    "    loss,acc = sess.run([loss_function,accuracy],\n",
    "                        feed_dict={x: mnist.validation.images, y: mnist.validation.labels})\n",
    "    \n",
    "    epoch_list.append(epoch)\n",
    "    loss_list.append(loss)\n",
    "    accuracy_list.append(acc)    \n",
    "    \n",
    "    if (epoch+1) % display_step == 0:\n",
    "        print(\"Train Epoch:\", '%02d' % (epoch+1), \"Loss=\", \"{:.9f}\".format(loss),\" Accuracy=\",\"{:.4f}\".format(acc))\n",
    "    if (epoch+1) % save_step == 0:\n",
    "            saver.save(sess, os.path.join(ckpt_dir, 'mnist_h256_model_{:06d}.ckpt'.format(epoch+1)))#存储模型\n",
    "            print('mnist_h256_model_{:06d}.ckpt saved'.format(epoch+1))\n",
    "\n",
    "# 显示运行总时间    \n",
    "duration =time()-startTime\n",
    "print(\"Train Finished takes:\",\"{:.2f} seconds\".format(duration))\n",
    "\n",
    "saver.save(sess, os.path.join(ckpt_dir, 'mnist_h256_model.ckpt'))#生成检查点文件\n",
    "print(\"Model saved!\")"
   ]
  },
  {
   "cell_type": "markdown",
   "metadata": {},
   "source": [
    "从上述打印结果可以看出包含256个神经元的单隐层神经网络的分类性能比仅包含一个神经元的神经网络更优。"
   ]
  },
  {
   "cell_type": "code",
   "execution_count": 11,
   "metadata": {},
   "outputs": [],
   "source": [
    "sess.close()"
   ]
  },
  {
   "cell_type": "markdown",
   "metadata": {},
   "source": [
    "## 进行预测"
   ]
  },
  {
   "cell_type": "markdown",
   "metadata": {},
   "source": [
    "在建立模型并进行训练后，若认为在验证集上的准确率可以接受，则可以使用此模型进行预测。<br>\n",
    "我们之前通过** tf.train.Saver **对已训练的模型进行了保存，我们可以在./ckpt_dir/文件夹下找到相关文件，如下图所示："
   ]
  },
  {
   "cell_type": "markdown",
   "metadata": {},
   "source": [
    "<img src=\"checkpoint.png\">"
   ]
  },
  {
   "cell_type": "markdown",
   "metadata": {},
   "source": [
    "共包含16个文件，包括，5个.data文件，5个.index文件，5个.meta文件，以及1个检查点文件checkpoint。<br>\n",
    "可以发现无论迭代训练多少次，检查点文件中最多只保存当前最新5个模型，这是Tensorflow中默认的设置。"
   ]
  },
  {
   "cell_type": "markdown",
   "metadata": {},
   "source": [
    "### 读取模型"
   ]
  },
  {
   "cell_type": "code",
   "execution_count": 19,
   "metadata": {},
   "outputs": [
    {
     "name": "stdout",
     "output_type": "stream",
     "text": [
      "Starting another session for prediction\n",
      "WARNING:tensorflow:From c:\\python37\\lib\\site-packages\\tensorflow\\python\\training\\saver.py:1266: checkpoint_exists (from tensorflow.python.training.checkpoint_management) is deprecated and will be removed in a future version.\n",
      "Instructions for updating:\n",
      "Use standard file APIs to check for files with this prefix.\n",
      "INFO:tensorflow:Restoring parameters from ./ckpt_dir/mnist_h256_model.ckpt\n",
      "Accuracy: 0.9529\n"
     ]
    }
   ],
   "source": [
    "print(\"Starting another session for prediction\")\n",
    "saver = tf.train.Saver()\n",
    "\n",
    "sess = tf.Session() \n",
    "init = tf.global_variables_initializer() \n",
    "sess.run(init)\n",
    "\n",
    "ckpt = tf.train.get_checkpoint_state(ckpt_dir)\n",
    "\n",
    "if ckpt and ckpt.model_checkpoint_path:\n",
    "    saver.restore(sess, ckpt.model_checkpoint_path)# 从已保存的模型中读取参数\n",
    "print (\"Accuracy:\", accuracy.eval(session=sess, feed_dict={x: mnist.test.images, y: mnist.test.labels}))\n",
    "# 想一想，为什么这里准确率和前面显示的不一样"
   ]
  },
  {
   "cell_type": "markdown",
   "metadata": {},
   "source": [
    "### 可视化"
   ]
  },
  {
   "cell_type": "code",
   "execution_count": 20,
   "metadata": {},
   "outputs": [],
   "source": [
    "# %matplotlib notebook\n",
    "%matplotlib inline\n",
    "import matplotlib.pyplot as plt\n",
    "import numpy as np\n",
    "def plot_images_labels_prediction(images,labels,\n",
    "                                  prediction,idx,num=10):\n",
    "    fig = plt.gcf()\n",
    "    fig.set_size_inches(10, 12)\n",
    "    if num>25: num=25 \n",
    "    for i in range(0, num):\n",
    "        ax=plt.subplot(5,5, 1+i)\n",
    "        \n",
    "        ax.imshow(np.reshape(images[idx],(28, 28)), \n",
    "                  cmap='binary')\n",
    "            \n",
    "        title= \"label=\" +str(np.argmax(labels[idx]))\n",
    "        if len(prediction)>0:\n",
    "            title+=\",predict=\"+str(prediction[idx]) \n",
    "            \n",
    "        ax.set_title(title,fontsize=10) \n",
    "        ax.set_xticks([]);ax.set_yticks([])        \n",
    "        idx+=1 \n",
    "    plt.show()"
   ]
  },
  {
   "cell_type": "code",
   "execution_count": 21,
   "metadata": {},
   "outputs": [
    {
     "data": {
      "image/png": "[encoded data removed]",
      "text/plain": [
       "<Figure size 720x864 with 10 Axes>"
      ]
     },
     "metadata": {},
     "output_type": "display_data"
    }
   ],
   "source": [
    "prediction_result=sess.run(tf.argmax(pred,1), # 由于pred预测结果是one-hot编码格式，所以需要转换为0~9数字\n",
    "                           feed_dict={x: mnist.test.images })\n",
    "plot_images_labels_prediction(mnist.test.images,\n",
    "                              mnist.test.labels,\n",
    "                              prediction_result,10)"
   ]
  },
  {
   "cell_type": "markdown",
   "metadata": {},
   "source": [
    "## 找出预测错误"
   ]
  },
  {
   "cell_type": "code",
   "execution_count": 22,
   "metadata": {},
   "outputs": [
    {
     "name": "stdout",
     "output_type": "stream",
     "text": [
      "i=8   label= 5 predict= 6\n",
      "i=18   label= 3 predict= 8\n",
      "i=59   label= 5 predict= 7\n",
      "i=63   label= 3 predict= 8\n",
      "i=64   label= 7 predict= 3\n",
      "i=149   label= 2 predict= 5\n",
      "i=241   label= 9 predict= 8\n",
      "i=244   label= 2 predict= 3\n",
      "i=247   label= 4 predict= 2\n",
      "i=259   label= 6 predict= 0\n",
      "i=274   label= 9 predict= 3\n",
      "i=278   label= 2 predict= 8\n",
      "i=300   label= 4 predict= 6\n",
      "i=318   label= 2 predict= 3\n",
      "i=321   label= 2 predict= 7\n",
      "i=324   label= 0 predict= 8\n",
      "i=337   label= 7 predict= 9\n",
      "i=340   label= 5 predict= 3\n",
      "i=341   label= 6 predict= 0\n",
      "i=381   label= 3 predict= 7\n",
      "i=394   label= 9 predict= 7\n",
      "i=403   label= 8 predict= 2\n",
      "i=445   label= 6 predict= 0\n",
      "i=447   label= 4 predict= 9\n",
      "i=448   label= 9 predict= 8\n",
      "i=449   label= 3 predict= 5\n",
      "i=468   label= 7 predict= 3\n",
      "i=479   label= 9 predict= 8\n",
      "i=492   label= 2 predict= 8\n",
      "count= 29\n"
     ]
    }
   ],
   "source": [
    "count=0\n",
    "for i in range(500):\n",
    "    if prediction_result[i]!=np.argmax(mnist.test.labels[i]):\n",
    "        print(\"i=\"+str(i)+\n",
    "              \"   label=\",np.argmax(mnist.test.labels[i]),\n",
    "              \"predict=\",prediction_result[i])\n",
    "        count+=1\n",
    "print(\"count=\", count)\n",
    "    "
   ]
  },
  {
   "cell_type": "code",
   "execution_count": 23,
   "metadata": {},
   "outputs": [],
   "source": [
    "sess.close()"
   ]
  },
  {
   "cell_type": "markdown",
   "metadata": {},
   "source": [
    "## 实验题\n",
    "### 实验题1：改变训练的相关参数，如batch_size和train_epochs，观察训练结果的变化，再增加一些代码，用TensorBoard看看，分析一下原因。"
   ]
  }
 ],
 "metadata": {
  "anaconda-cloud": {},
  "kernelspec": {
   "display_name": "Python 3",
   "language": "python",
   "name": "python3"
  },
  "language_info": {
   "codemirror_mode": {
    "name": "ipython",
    "version": 3
   },
   "file_extension": ".py",
   "mimetype": "text/x-python",
   "name": "python",
   "nbconvert_exporter": "python",
   "pygments_lexer": "ipython3",
   "version": "3.7.4"
  },
  "toc": {
   "base_numbering": "3",
   "nav_menu": {},
   "number_sections": true,
   "sideBar": true,
   "skip_h1_title": false,
   "title_cell": "目录",
   "title_sidebar": "Contents",
   "toc_cell": true,
   "toc_position": {
    "height": "calc(100% - 180px)",
    "left": "10px",
    "top": "150px",
    "width": "273px"
   },
   "toc_section_display": true,
   "toc_window_display": true
  }
 },
 "nbformat": 4,
 "nbformat_minor": 4
}
