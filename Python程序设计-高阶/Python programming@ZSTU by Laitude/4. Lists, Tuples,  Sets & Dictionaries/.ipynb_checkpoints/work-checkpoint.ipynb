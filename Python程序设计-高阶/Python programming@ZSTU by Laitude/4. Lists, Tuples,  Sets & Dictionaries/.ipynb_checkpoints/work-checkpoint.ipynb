{
 "cells": [
  {
   "cell_type": "code",
   "execution_count": 1,
   "id": "8a0dc5cd-6467-475f-bbd9-d9b340ead994",
   "metadata": {
    "tags": []
   },
   "outputs": [
    {
     "name": "stdout",
     "output_type": "stream",
     "text": [
      "这是一本非常好的书，作者用心了\n",
      "作者大大辛苦了\n",
      "好书，感谢作者提供了这么多的好案例\n",
      "书在运输的路上破损了，我好悲伤。。。\n",
      "书的内容很充实\n",
      "你的书上好多代码啊，不过想想也是，编程的书嘛，肯定代码多一些\n",
      "书很不错!!一级棒!!买书就上当当，正版，价格又实惠，让人放心!!!\n",
      "无意中来到你小铺就淘到心意的宝贝，心情不错!\n",
      "送给朋友的、很不错\n",
      "这是一本好书，讲解内容深入浅出又清晰明了，推荐给所有喜欢阅读的朋友同好们。\n",
      "好好好，下一个看看\n",
      "很好的书，五颗星\n"
     ]
    }
   ],
   "source": [
    "def is_spam(text):\n",
    "    length = len(text)\n",
    "    for i in range(2, length // 2 + 1):  # 这里 i 是子串的长度\n",
    "        for j in range(0, length - i * 2 + 1):  # j 是子串的起始位置\n",
    "            if text[j: j + i] * 2 == text[j: j + i * 2]:  # 如果子串在字符串中重复，那么这是灌水评论\n",
    "                return True\n",
    "    return False\n",
    "\n",
    "reviews = ['这是一本非常好的书，作者用心了',\n",
    "'作者大大辛苦了',\n",
    "'好书，感谢作者提供了这么多的好案例',\n",
    "'书在运输的路上破损了，我好悲伤。。。',\n",
    "'为啥我买的书上有菜汤。。。。',\n",
    "'啊啊啊啊啊啊，我怎么才发现这么好的书啊，相见恨晚',\n",
    "'书的质量有问题啊，怎么会开胶呢？？？？？？',\n",
    "'好好好好好好好好好好好',\n",
    "'好难啊看不懂好难啊看不懂好难啊看不懂',\n",
    "'书的内容很充实',\n",
    "'你的书上好多代码啊，不过想想也是，编程的书嘛，肯定代码多一些',\n",
    "'书很不错!!一级棒!!买书就上当当，正版，价格又实惠，让人放心!!!',\n",
    "'无意中来到你小铺就淘到心意的宝贝，心情不错!',\n",
    "'送给朋友的、很不错',\n",
    "'这是一本好书，讲解内容深入浅出又清晰明了，推荐给所有喜欢阅读的朋友同好们。',\n",
    "'好好好，下一个看看',\n",
    "'渣渣渣渣渣渣渣渣',\n",
    "'没用没用没用没用',\n",
    "'很好的书，五颗星']\n",
    "\n",
    "filtered_reviews = [review for review in reviews if not is_spam(review)]\n",
    "print('\\n'.join(filtered_reviews))\n"
   ]
  },
  {
   "cell_type": "code",
   "execution_count": 2,
   "id": "8c0e6278-c783-48de-a874-eb37beac0248",
   "metadata": {
    "tags": []
   },
   "outputs": [
    {
     "name": "stdout",
     "output_type": "stream",
     "text": [
      "The most common word is 'and' which appears 62 times.\n"
     ]
    }
   ],
   "source": [
    "from collections import Counter\n",
    "import re\n",
    "\n",
    "text = \"\"\"\n",
    "Python Success Stories\n",
    "\n",
    "Background\n",
    "\n",
    "Industrial Light & Magic (ILM) was started in 1975 by filmmaker George Lucas, in order to create the special effects for the original Star Wars film. Since then, ILM has grown into a visual effects powerhouse that has contributed not just to the entire Star Wars series, but also to films as diverse as Forrest Gump, Jurassic Park, Who Framed Roger Rabbit, Raiders of the Lost Ark, and Terminator 2. ILM has won numerous Academy Awards for Best Visual Effects, not to mention a string of Clio awards for its work on television advertisements.\n",
    "\n",
    "While much of ILM's early work was done with miniature models and motion controlled cameras, ILM has long been on the bleeding edge of computer generated visual effects. Its computer graphics division dates back to 1979, and its first CG production was the 1982 Genesis sequence from Star Trek II: The Wrath of Khan.\n",
    "\n",
    "In the early days, ILM was involved with the creation of custom computer graphics hardware and software for scanning, modeling, rendering, and compositing (the process of joining rendered and scanned images together). Some of these systems made significant advances in areas such as morphing and simulating muscles and hair.\n",
    "\n",
    "Naturally, as time went by many of the early innovations at ILM made it into the commercial realm, but the company's position on the cutting edge of visual effects technology continues to rely on an ever-changing combination of custom in-house technologies and commercial products.\n",
    "\n",
    "Today, ILM runs a batch processing environment capable of modeling, rendering and compositing tens of thousands of motion picture frames per day. Thousands of machines running Linux, IRIX, Compaq Tru64, OS X, Solaris, and Windows join together to provide a production pipeline that is used by approximately eight hundred users daily, many of whom write or modify code that controls every step of the production process. In this context, hundreds of commercial and in-house software components are combined to create and process each frame of computer-generated or enhanced film.\n",
    "\n",
    "Making all this work, and keeping it working, requires a certain degree of technical wizardry, as well as a tool set that is up to the task of integrating diverse and frequently changing systems.\n",
    "\n",
    "Enter Python\n",
    "Back in 1996, in the 101 Dalmation days, ILM was exclusively an SGI IRIX shop, and the production pipeline was controlled by Unix shell scripting. At that time, ILM was producing 15-30 shots per show, typically only a small part of each feature length film to which they were contributing.\n",
    "\n",
    "Looking ahead towards more CG-intensive films, ILM staff began to search for ways to control an increasingly complex and compute-intensive production process.\n",
    "\n",
    "It was around this time that Python version 1.4 came out, and Python was coming into its own as a powerful yet simple language that could be used to replace Unix shell scripting. Python was evaluated, compared to other technologies available at the time (such as Tcl and Perl), and chosen as an easier to learn and use language with which to incrementally replace older scripts.\n",
    "\n",
    "At ILM, speed of development is key, and Python was a faster way to code (and re-code) the programs that controlled the production pipeline.\n",
    "\n",
    "Python Streamlines Production\n",
    "But Python was not designed just as a replacement for shell scripting and, as it turns out, Python enabled much more for ILM than just process control.\n",
    "\n",
    "Unlike Unix shell scripting, Python can be embedded whole as a scripting language within a larger software system. In this case, Python code can invoke specific functions of that system, even if those functions are written in C or C++. And C and C++ code can easily make calls back into Python code as well.\n",
    "\n",
    "Using this capability, ILM integrated Python into custom applications written in C or C++, such as ILM's in-house lighting tool, which is used to place light sources into a 3D scene and to facilitate the writing, generation, and previewing of shaders and materials used on CG elements. It is the lighting tool that is ultimately responsible for writing the 3D scene out to a format that a renderer can interpret and render.\n",
    "\n",
    "At the same time, more and more components, such as those responsible for ILM's many custom file formats and data structures, were re-wrapped as Python extension modules\n",
    "\n",
    "As Python was used more widely, extending and customizing in-house software became a lot easier. By writing in Python, users could recombine wrapped software components and extend or enhance standard CG applications needed for each new image production run. This let ILM staff to do exactly what a production needed at any given time, whether that meant allowing for a specific look for an entire show, or just a single CG character or element.\n",
    "\n",
    "As it turned out, even some of ILM's non-technical users were able to learn enough Python to develop simple plug-ins and to create and modify production control scripts along side the technical users.\n",
    "\n",
    "Python Unifies the Toolset\n",
    "Encouraged by its successes in batch process control and in scripting applications and software components, ILM started to use Python in other applications as well.\n",
    "\n",
    "Python is now used for tracking and auditing functionality within the production pipeline, where an Oracle database keeps track of the hundreds of thousands of images that are created and processed for each film. DCOracle2, one of the Oracle integration libraries available for Python, has performed well in this task and is now in use on Linux, IRIX, Tru64, and Solaris.\n",
    "\n",
    "Python is also used to develop the CG artist's interface to ILM's asset management system. Designed to be modular, this tool has been enhanced by a large group of developers and non-developers alike to extend well beyond its original mandate. The application is now used not only to manage CG assets and elements, but also in daily shot review, as a network-based whiteboard, as an instant messenger, and even allows an occasional game of chess.\n",
    "\n",
    "As Python was applied in more ways, it slowly crowded out a plethora of competing technologies for shell scripting and batch control, embedded scripting, component software development, database application development, and so forth. Python's versatility ultimately simplified the developers' toolset and reduced the number of technologies that needed to be deployed to ILM's thousands of production computers. This new, simpler toolset translated directly into an easier to manage and more reliable development and production process.\n",
    "\n",
    "Hardware Costs Reduced\n",
    "Although chosen initially for its ease of use and integration capabilities, Python's portability to many other operating systems eventually became one of its key strengths.\n",
    "\n",
    "Once Python was in use, it made the production control system portable. This gave ILM additional freedom in making hardware technology choices, including a large-scale introduction of commodity PC hardware and Linux, a move that has saved the company substantial amounts of money in recent years.\n",
    "\n",
    "Source Code Access Important\n",
    "After having used Python intensively for six years, ILM has yet to run into significant bugs or portability issues with the language. As a result, ILM has since Python 1.5 been able to rely on stock distributions in unmodified form.\n",
    "\n",
    "However, availability of source code for the language acts as an important insurance policy should problems arise in the future, or should custom extensions or improvements become necessary. Without this, ILM could never have bought into Python so heavily for its mission-critical production process.\n",
    "\n",
    "One case where access to source has already been beneficial was in ILM's continued use of Python 1.4, which is generally considered obsolete. Because the production facility is under continuous use, upgrading systems to new Python versions would result in significant disruption of the production process.\n",
    "\n",
    "Instead, ILM installs new systems with newer versions of Python but maintains older systems only so they can run the same scripts as the newer systems. Supporting this mix has relied on access to the Python sources in order to back-port some changes found in newer Python versions, and to reimplement portions of newer support libraries under older versions of Python. ILM is currently running a mix of Python 1.4, 1.5, and 2.1.\n",
    "\n",
    "Python Tested by Time\n",
    "The visual effects industry is intensely competitive. To stay on top of the heap, ILM continuously reviews its production methods and evaluates new technologies as they become available.\n",
    "\n",
    "Since its adoption in 1996, the use of Python has also been reviewed numerous times. Each time, ILM failed to find a more compelling solution. Python's unique mix of simplicity and power continues to be the best available choice for controlling ILM's complex and changing computing environment.\n",
    "\n",
    "About the Author\n",
    " Tim Fortenberry joined Industrial Light & Magic in 1999 as an intern. Later that same year he began to work full time in the Resources department. He worked as a scripts/tools programmer. Shortly after, Fortenberry joined the Research and Development department.  He is one of the founding members of the Pipeline and TD Tools groups that helped bridge the gap between artists and technology.\n",
    "\n",
    "As an engineer, Fortenberry is responsible for developing and maintaining the myriad of applications used for rendering and pipline control flow of images at ILM. Prior to joining ILM, Fortenberry worked as a Linux systems administrator for VA Linux Systems.\n",
    "\n",
    "Originally from Southern California, Fortenberry received his Bachelor of Arts degree from the University of California at Berkeley in Anthropology with an emphasis in Archaeology.\n",
    "\"\"\"\n",
    "\n",
    "# 将文本转换为小写并移除非字母字符\n",
    "text = re.sub(r'[^a-zA-Z\\s]', '', text.lower())\n",
    "\n",
    "# 分割单词并统计数量\n",
    "word_counts = Counter(text.split())\n",
    "\n",
    "# 找出数量最多的单词\n",
    "most_common_word, count = word_counts.most_common(1)[0]\n",
    "\n",
    "print(f\"The most common word is '{most_common_word}' which appears {count} times.\")\n"
   ]
  },
  {
   "cell_type": "code",
   "execution_count": 4,
   "id": "5df2b601-a719-4d0e-a3ef-22a600225507",
   "metadata": {
    "tags": []
   },
   "outputs": [
    {
     "name": "stdout",
     "output_type": "stream",
     "text": [
      "相似度: 0.05364713178398249\n"
     ]
    }
   ],
   "source": [
    "from sklearn.feature_extraction.text import TfidfVectorizer\n",
    "from sklearn.metrics.pairwise import cosine_similarity\n",
    "\n",
    "with open('水浒传.txt', 'r', encoding='utf-8') as file:\n",
    "    text1 = file.read()\n",
    "\n",
    "with open('三国演义.txt', 'r', encoding='utf-8') as file:\n",
    "    text2 = file.read()\n",
    "\n",
    "vectorizer = TfidfVectorizer().fit([text1, text2])\n",
    "tfidf_matrix = vectorizer.transform([text1, text2])\n",
    "\n",
    "similarity_score = cosine_similarity(tfidf_matrix[0:1], tfidf_matrix[1:2])\n",
    "\n",
    "print(f\"相似度: {similarity_score[0][0]}\")\n"
   ]
  },
  {
   "cell_type": "markdown",
   "id": "18df3c67-337d-4f3e-ab6c-42acde699e2d",
   "metadata": {},
   "source": [
    "使用TF-IDF来为每个文本生成特征向量，然后使用余弦相似度来比较这两个特征向量。\n",
    "\n",
    "TF-IDF是一种统计方法，用来评估一个词对于一个文件集或一个语料库中的一个文件的重要程度。余弦相似度是一种衡量两个非零向量之间的相似度的度量方法。\n",
    "\n",
    "`vectorizer = TfidfVectorizer().fit([text1, text2])`\n",
    "使用fit方法让TfidfVectorizer学习语料库（text1和text2）。\n",
    "`tfidf_matrix = vectorizer.transform([text1, text2])`\n",
    "使用transform方法将文本转化为TF-IDF矩阵，一个二维数组，其中每一行代表一个文档，每一列代表一个词，每个元素是该词在该文档中的TF-IDF值。\n",
    "`similarity_score = cosine_similarity(tfidf_matrix[0:1], tfidf_matrix[1:2])`\n",
    "使用cosine_similarity函数来计算两个文档的相似度。这个函数会计算TF-IDF矩阵的第一行和第二行之间的余弦相似度，值越接近1，表示两个文档越相似。"
   ]
  }
 ],
 "metadata": {
  "kernelspec": {
   "display_name": "Python 3 (ipykernel)",
   "language": "python",
   "name": "python3"
  },
  "language_info": {
   "codemirror_mode": {
    "name": "ipython",
    "version": 3
   },
   "file_extension": ".py",
   "mimetype": "text/x-python",
   "name": "python",
   "nbconvert_exporter": "python",
   "pygments_lexer": "ipython3",
   "version": "3.11.5"
  }
 },
 "nbformat": 4,
 "nbformat_minor": 5
}
