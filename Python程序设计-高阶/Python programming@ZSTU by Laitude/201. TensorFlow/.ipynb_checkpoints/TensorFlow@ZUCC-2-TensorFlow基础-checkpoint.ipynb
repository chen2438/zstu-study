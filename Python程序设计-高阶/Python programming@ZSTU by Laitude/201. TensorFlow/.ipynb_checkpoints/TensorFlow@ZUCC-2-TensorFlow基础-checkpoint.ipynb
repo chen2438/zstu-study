{
 "cells": [
  {
   "cell_type": "markdown",
   "metadata": {},
   "source": [
    "# TensorFlow入门\n",
    "\n",
    "吴明晖\n",
    "\n",
    "浙江大学城市学院\n",
    "\n",
    "\n",
    "TensorFlow™ 是一个开放源代码软件库，用于进行高性能数值计算。借助其灵活的架构，用户可以轻松地将计算工作部署到多种平台（CPU、GPU、TPU）和设备（桌面设备、服务器集群、移动设备、边缘设备等）。TensorFlow™ 最初是由 Google Brain 团队（隶属于 Google 的 AI 部门）中的研究人员和工程师开发的，可为机器学习和深度学习提供强力支持，并且其灵活的数值计算核心广泛应用于许多其他科学领域\n",
    "\n",
    "<img src=\"TensorflowLogo.png\">\n",
    "\n",
    "\n",
    "TensorFlow™是使用数据流图进行高效数值计算的一个开源库。"
   ]
  },
  {
   "cell_type": "code",
   "execution_count": null,
   "metadata": {
    "collapsed": false
   },
   "outputs": [],
   "source": [
    "# 测试安装是否成功\n",
    "import tensorflow as tf\n",
    "tf.__version__"
   ]
  },
  {
   "cell_type": "markdown",
   "metadata": {},
   "source": [
    "### 用TensorFlow说Hello World!"
   ]
  },
  {
   "cell_type": "code",
   "execution_count": null,
   "metadata": {
    "collapsed": false
   },
   "outputs": [],
   "source": [
    "# 创建一个常值运算，将作为一个节点加入到默认计算图中\n",
    "hello = tf.constant(\"Hello, World!\")\n",
    "\n",
    "# 创建一个TF对话\n",
    "sess = tf.Session()\n",
    "\n",
    "# 运行并获得结果\n",
    "print(sess.run(hello))"
   ]
  },
  {
   "cell_type": "markdown",
   "metadata": {},
   "source": [
    "这里‘b’表示Bytes literals（字节文字）。"
   ]
  },
  {
   "cell_type": "markdown",
   "metadata": {},
   "source": [
    "### 数据流图\n",
    "\n",
    "TensorFlow程序的执行分为创建流图、执行对话两个部分。\n",
    "\n",
    "TensorFlow内部将上述计算过程表征为**数据流图**，也称为**计算图**。\n",
    "\n",
    "创建流图（或计算图）就是建立计算模型，执行对话则是提供数据并获得结果。\n",
    "\n",
    "计算图是一个有向图，由以下内容构成：\n",
    "\n",
    "- 一组节点，每个节点都代表一种运算\n",
    "\n",
    "\n",
    "- 一组有向边，每个边代表实施运算所需要的数据\n",
    "\n",
    "TensorFlow有两种边：\n",
    "\n",
    "- 常规边：带有节点之间的数据结构。一个节点的运算输出成为另一个节点的输入，连接两个节点的边携带着值。\n",
    "\n",
    "\n",
    "- 特殊边：不携带值，值表示两个节点之间的控制相关性。比如，$X$和$Y$之间的边可以表示只有当$X$中的运算执行完毕后才执行$X$。\n",
    "\n",
    "\n",
    "<img src=\"TensorFlow数据流图.gif\">\n",
    "\n"
   ]
  },
  {
   "cell_type": "code",
   "execution_count": null,
   "metadata": {
    "collapsed": true
   },
   "outputs": [],
   "source": [
    "# 一个简单计算图\n",
    "node1 = tf.constant(3.0,tf.float32,name=\"node1\")\n",
    "node2 = tf.constant(4.0,tf.float32,name=\"node2\")\n",
    "node3 = tf.add(node1, node2)"
   ]
  },
  {
   "cell_type": "code",
   "execution_count": null,
   "metadata": {
    "collapsed": false
   },
   "outputs": [],
   "source": [
    "print(node3)"
   ]
  },
  {
   "cell_type": "markdown",
   "metadata": {},
   "source": [
    "输出的结果不是一个具体的数字，而是一个张量的结构"
   ]
  },
  {
   "cell_type": "code",
   "execution_count": null,
   "metadata": {
    "collapsed": false
   },
   "outputs": [],
   "source": [
    "print(node1)"
   ]
  },
  {
   "cell_type": "code",
   "execution_count": null,
   "metadata": {
    "collapsed": false
   },
   "outputs": [],
   "source": [
    "# 建立对话并显示运行结果\n",
    "sess = tf.Session()\n",
    "print(\"运行sess.run(node1)的结果：\", sess.run(node1))"
   ]
  },
  {
   "cell_type": "code",
   "execution_count": null,
   "metadata": {
    "collapsed": false
   },
   "outputs": [],
   "source": [
    "# 更新变量并返回计算结果\n",
    "print(\"运行sess.run(node3)的结果：\", sess.run(node3))\n",
    "\n",
    "# 关闭session\n",
    "sess.close()"
   ]
  },
  {
   "cell_type": "markdown",
   "metadata": {},
   "source": [
    "### 张量的属性"
   ]
  },
  {
   "cell_type": "markdown",
   "metadata": {},
   "source": [
    "Tensor(\"add:0\", shape=(2,), dtype=float32)\n",
    "\n",
    "名字（name）\n",
    "\n",
    "\t“node:src_output”：node 节点名称，src_output 来自节点的第几个输出\n",
    "    \n",
    "形状（shape）\n",
    "\n",
    "\t张量的维度信息， shape=(2,) 一维数组，长度为2\n",
    "    \n",
    "类型（type）\n",
    "\n",
    "\t每一个张量会有一个唯一的类型。\n",
    "    \n",
    "\tTensorFlow会对参与运算的所有张量进行类型的检查，发现类型不匹配时会报错\n",
    "    "
   ]
  },
  {
   "cell_type": "markdown",
   "metadata": {},
   "source": [
    "### 张量的阶（Rank）、秩"
   ]
  },
  {
   "cell_type": "markdown",
   "metadata": {},
   "source": [
    "<img src=\"张量的阶.png\">"
   ]
  },
  {
   "cell_type": "markdown",
   "metadata": {},
   "source": [
    "#### 获取张量的元素"
   ]
  },
  {
   "cell_type": "markdown",
   "metadata": {},
   "source": [
    "阶为1的张量等价于向量；\n",
    "\n",
    "阶为2的张量等价于矩阵，通过t[i,j] 获取元素；\n",
    "\n",
    "阶为3的张量，通过t[i,j,k] 获取元素；\n",
    "\n",
    "例：\n",
    "\n"
   ]
  },
  {
   "cell_type": "code",
   "execution_count": null,
   "metadata": {
    "collapsed": false
   },
   "outputs": [],
   "source": [
    "import tensorflow as tf\n",
    "tens1 = tf.constant([[[1,2],[2,3]],[[3,4],[5,6]]])\n",
    "\n",
    "sess = tf.Session()\n",
    "print(sess.run(tens1)[1,1,0])\n",
    "sess.close()"
   ]
  },
  {
   "cell_type": "markdown",
   "metadata": {},
   "source": [
    "下标从0开始"
   ]
  },
  {
   "cell_type": "markdown",
   "metadata": {},
   "source": [
    "### 张量的形状（Shape）"
   ]
  },
  {
   "cell_type": "markdown",
   "metadata": {},
   "source": [
    "<img src=\"张量的形.png\">"
   ]
  },
  {
   "cell_type": "code",
   "execution_count": null,
   "metadata": {
    "collapsed": false
   },
   "outputs": [],
   "source": [
    "import tensorflow as tf\n",
    "tens1 = tf.constant([[[1,2],[2,3]],[[3,4],[5,6]],[[7,8],[9,10]]])\n",
    "\n",
    "print(tens1)"
   ]
  },
  {
   "cell_type": "code",
   "execution_count": null,
   "metadata": {
    "collapsed": false
   },
   "outputs": [],
   "source": [
    "import tensorflow as tf\n",
    "\n",
    "scalar = tf.constant(100)\n",
    "vector = tf.constant([1, 2, 3, 4, 5])\n",
    "matrix = tf.constant([[1, 2, 3], [4, 5, 6]])\n",
    "cube_matrix = tf.constant([[[1], [2], [3]], [[4], [5], [6]], [[7], [8], [9]]])\n",
    "\n",
    "print(scalar.get_shape())\n",
    "print(vector.get_shape())\n",
    "print(matrix.get_shape())\n",
    "print(cube_matrix.get_shape())"
   ]
  },
  {
   "cell_type": "markdown",
   "metadata": {},
   "source": [
    "### 张量的类型"
   ]
  },
  {
   "cell_type": "markdown",
   "metadata": {},
   "source": [
    "TensorFlow支持14种不同的类型\n",
    "\n",
    "实数 \ttf.float32, tf.float64\n",
    "\n",
    "整数 \ttf.int8, tf.int16, tf.int32, tf.int64, tf.uint8\n",
    "\n",
    "布尔 \ttf.bool\n",
    "\n",
    "复数 \ttf.complex64, tf.complex128\n",
    "\n"
   ]
  },
  {
   "cell_type": "markdown",
   "metadata": {},
   "source": [
    "默认类型：\n",
    "\n",
    "不带小数点的数会被默认为int32\n",
    "\n",
    "带小数点的会被默认为float32\n"
   ]
  },
  {
   "cell_type": "code",
   "execution_count": null,
   "metadata": {
    "collapsed": false
   },
   "outputs": [],
   "source": [
    "import tensorflow as tf\n",
    "a = tf.constant([1, 2], name=\"a\")\n",
    "b = tf.constant([2.0, 3.0], name=\"b\")\n",
    "result = a + b"
   ]
  },
  {
   "cell_type": "markdown",
   "metadata": {},
   "source": [
    "运行报错：\n",
    "\n",
    "ValueError: Tensor conversion requested dtype int32 for Tensor with dtype float32: 'Tensor(\"b_3:0\", shape=(2,), dtype=float32)'\n",
    "\n",
    "TensorFlow会对参与运算的所有张量进行类型的检查，发现类型不匹配时会报错\n"
   ]
  },
  {
   "cell_type": "markdown",
   "metadata": {},
   "source": [
    "### 会话 Session"
   ]
  },
  {
   "cell_type": "markdown",
   "metadata": {},
   "source": [
    "会话拥有并管理TensorFlow程序运行时的所有资源\n",
    "\n",
    "当所有计算完成之后需要关闭会话帮助系统回收资源\n"
   ]
  },
  {
   "cell_type": "markdown",
   "metadata": {},
   "source": [
    "### 会话的典型模式1"
   ]
  },
  {
   "cell_type": "code",
   "execution_count": null,
   "metadata": {
    "collapsed": true
   },
   "outputs": [],
   "source": [
    "# 创建一个会话\n",
    "sess = tf.Session()\n",
    "#使用这个创建好的会话来得到关心的运算的结果。比如可以调用 sess.run(result)\n",
    "#来得到张量result的取值\n",
    "sess.run()\n",
    "#关闭会话使得本次运行中使用到的资源可以被释放\n",
    "sess.close()\n"
   ]
  },
  {
   "cell_type": "markdown",
   "metadata": {},
   "source": [
    "需要明确调用 Session.close函数来关闭会话并释放资源\n"
   ]
  },
  {
   "cell_type": "markdown",
   "metadata": {},
   "source": [
    "### 会话的典型模式2 \n"
   ]
  },
  {
   "cell_type": "code",
   "execution_count": null,
   "metadata": {
    "collapsed": false
   },
   "outputs": [],
   "source": [
    "node1 = tf.constant(3.0,tf.float32,name=\"node1\")\n",
    "node2 = tf.constant(4.0,tf.float32,name=\"node2\")\n",
    "result = tf.add(node1, node2)\n",
    "\n",
    "#创建一个会话，并通过Python中的上下文管理器来管理这个会话\n",
    "with tf.Session() as sess:\n",
    "    #使用这创建好的会话来计算关心的结果\n",
    "    print(sess.run(result))\n",
    "# 不需要再调用 Session.close() 函数来关闭会话\n",
    "# 当上下文退出时会话关闭和资源释放也自动完成了\n"
   ]
  },
  {
   "cell_type": "markdown",
   "metadata": {},
   "source": [
    "### 指定默认的会话"
   ]
  },
  {
   "cell_type": "markdown",
   "metadata": {},
   "source": [
    "TensorFlow不会自动生成默认的会话，需要手动指定\n",
    "\n",
    "当默认的会话被指定之后可以通过 tf.Tensor.eval 函数来计算一个张量的取值"
   ]
  },
  {
   "cell_type": "code",
   "execution_count": null,
   "metadata": {
    "collapsed": false
   },
   "outputs": [],
   "source": [
    "node1 = tf.constant(3.0,tf.float32,name=\"node1\")\n",
    "node2 = tf.constant(4.0,tf.float32,name=\"node2\")\n",
    "result = tf.add(node1, node2)\n",
    "\n",
    "sess = tf.Session()\n",
    "with sess.as_default():\n",
    "    print(result.eval())\n"
   ]
  },
  {
   "cell_type": "markdown",
   "metadata": {},
   "source": [
    "下面代码也可以完成相同的功能"
   ]
  },
  {
   "cell_type": "code",
   "execution_count": null,
   "metadata": {
    "collapsed": false
   },
   "outputs": [],
   "source": [
    "sess = tf.Session()\n",
    "\n",
    "#下面两个命令有相同的功能\n",
    "print(sess.run(result))\n",
    "\n",
    "print(result.eval(session=sess))\n"
   ]
  },
  {
   "cell_type": "markdown",
   "metadata": {},
   "source": [
    "### 交互式环境下设置默认会话"
   ]
  },
  {
   "cell_type": "markdown",
   "metadata": {},
   "source": [
    "在交互式环境下，Python脚本或者Jupyter编辑器下，通过设置默认会话来获取张量的取值更加方便\n",
    "\n",
    "tf.InteractiveSession 使用这个函数会自动将生成的会话注册为默认会话\n"
   ]
  },
  {
   "cell_type": "code",
   "execution_count": null,
   "metadata": {
    "collapsed": false
   },
   "outputs": [],
   "source": [
    "node1 = tf.constant(3.0,tf.float32,name=\"node1\")\n",
    "node2 = tf.constant(4.0,tf.float32,name=\"node2\")\n",
    "result = tf.add(node1, node2)\n",
    "\n",
    "sess = tf.InteractiveSession()\n",
    "\n",
    "print(result.eval())\n",
    "sess.close()\n"
   ]
  },
  {
   "cell_type": "markdown",
   "metadata": {},
   "source": [
    "### 常量"
   ]
  },
  {
   "cell_type": "code",
   "execution_count": null,
   "metadata": {
    "collapsed": false
   },
   "outputs": [],
   "source": [
    "a = tf.constant(1.0, name='a')\n",
    "b = tf.constant(2.5, name='b')\n",
    "c = tf.add(a, b, name='c')\n",
    "\n",
    "sess = tf.Session()\n",
    "c_value = sess.run(c)\n",
    "print(c_value)\n",
    "sess.close()"
   ]
  },
  {
   "cell_type": "markdown",
   "metadata": {},
   "source": [
    "### 变量"
   ]
  },
  {
   "cell_type": "markdown",
   "metadata": {},
   "source": [
    "由TensorFlow系统内部进行调整的动态参数\n",
    "\n",
    "创建语句：\n",
    "\n",
    "name_variable = tf.Variable(value, name)\n",
    "\n",
    "注意V是大写字母\n",
    "\n",
    "初始化语句：\n",
    "\n",
    "个别变量初始化：\n",
    "\n",
    "init_op = name_variable.initializer()\n",
    "\n",
    "所有变量初始化：\n",
    "\n",
    "init_op = tf.global_variables_initializer()\n"
   ]
  },
  {
   "cell_type": "code",
   "execution_count": null,
   "metadata": {
    "collapsed": false
   },
   "outputs": [],
   "source": [
    "node1 = tf.Variable(3.0,tf.float32,name=\"node1\")\n",
    "node2 = tf.Variable(4.0,tf.float32,name=\"node2\")\n",
    "result = tf.add(node1, node2, name='add')\n",
    "\n",
    "sess = tf.Session()\n",
    "\n",
    "#变量初始化\n",
    "init = tf.global_variables_initializer()\n",
    "sess.run(init)\n",
    "\n",
    "print(sess.run(result))"
   ]
  },
  {
   "cell_type": "markdown",
   "metadata": {},
   "source": [
    "以上代码在Session对话变量后，增加了一个init初始化变量，并调用会话的run命令对参数进行初始化。\n",
    "\n",
    "使用了Variable变量类型，不进行初始化数值会出现运行错误"
   ]
  },
  {
   "cell_type": "markdown",
   "metadata": {},
   "source": [
    "### 变量赋值 assign"
   ]
  },
  {
   "cell_type": "code",
   "execution_count": null,
   "metadata": {
    "collapsed": false
   },
   "outputs": [],
   "source": [
    "import tensorflow as tf\n",
    "\n",
    "value = tf.Variable(0, name=\"value\")\n",
    "one = tf.constant(1)\n",
    "new_value = tf.add(value, one)\n",
    "update_value = tf.assign(value, new_value)\n",
    "\n",
    "init = tf.global_variables_initializer()\n",
    "\n",
    "with tf.Session() as sess:\n",
    "    sess.run(init)\n",
    "    print(sess.run(value))\n",
    "    for _ in range(10):\n",
    "        sess.run(update_value)\n",
    "        print(sess.run(value))"
   ]
  },
  {
   "cell_type": "markdown",
   "metadata": {},
   "source": [
    "与传统编程语言不同，TensorFlow中的变量一般定义后，无须人工手动赋值，系统会根据算法模型自动调整变量的数值。后面在将机器学习模型训练时会更能体会，比如权重Weight变量w，经过多次迭代，会自动调整。"
   ]
  },
  {
   "cell_type": "markdown",
   "metadata": {},
   "source": [
    "### 占位符"
   ]
  },
  {
   "cell_type": "markdown",
   "metadata": {},
   "source": [
    "TensorFlow中的Variable变量类型，在定义时需要初始化，但有些变量定义时并不知道其数值，只有当真正开始运行程序时，才由外部输入，比如训练数据，这时候需要用到占位符"
   ]
  },
  {
   "cell_type": "markdown",
   "metadata": {},
   "source": [
    "tf.placeholder占位符，是TensorFlow中特有的一种数据结构，类似动态变量，或者传统语言的“宏替换”符号；\n",
    "\n",
    "TensorFlow占位符Placeholder，先定义一种数据，其参数为数据的Type和Space，占位符Placeholder的函数接口如下：\n",
    "\n",
    "tf.placeholder(dtype, shape=None, name=None)"
   ]
  },
  {
   "cell_type": "code",
   "execution_count": null,
   "metadata": {
    "collapsed": true
   },
   "outputs": [],
   "source": [
    "x = tf.placeholder(tf.float32, [2, 2], name='tx')\n",
    "\n",
    "# 此代码生成一个2x2的二维矩阵，矩阵中每个元素的类型都是tf.float32，内部对应的符号名称是tx"
   ]
  },
  {
   "cell_type": "markdown",
   "metadata": {},
   "source": [
    "### Feed提交数据和Fetch提取输出\n"
   ]
  },
  {
   "cell_type": "code",
   "execution_count": null,
   "metadata": {
    "collapsed": false
   },
   "outputs": [],
   "source": [
    "a = tf.placeholder(tf.float32, name='ta')\n",
    "b = tf.placeholder(tf.float32, name='tb')\n",
    "c = tf.multiply(a, b, name='tc')\n",
    "\n",
    "init = tf.global_variables_initializer()\n",
    "\n",
    "with tf.Session() as sess:\n",
    "    sess.run(init)\n",
    "    \n",
    "    result = sess.run(c, feed_dict={a:8.0, b:3.5})\n",
    "    \n",
    "    print(result)"
   ]
  },
  {
   "cell_type": "code",
   "execution_count": null,
   "metadata": {
    "collapsed": false
   },
   "outputs": [],
   "source": [
    "a = tf.placeholder(tf.float32, name='ta')\n",
    "b = tf.placeholder(tf.float32, name='tb')\n",
    "c = tf.multiply(a, b, name='tc')\n",
    "d = tf.subtract(a, b, name='td')\n",
    "\n",
    "init = tf.global_variables_initializer()\n",
    "\n",
    "with tf.Session() as sess:\n",
    "    sess.run(init)\n",
    "    \n",
    "    result = sess.run([c,d], feed_dict={a:[8.0,2.0,3.5], b:[1.5,2.0,4.]})\n",
    "    \n",
    "    print(result)\n",
    "    \n",
    "    print(result[0])"
   ]
  },
  {
   "cell_type": "markdown",
   "metadata": {},
   "source": [
    "### 可视化 TesnorBoard"
   ]
  },
  {
   "cell_type": "markdown",
   "metadata": {},
   "source": [
    "TensorBoard是TensorFlow的可视化工具\n",
    "\n",
    "通过TensorFlow程序运行过程中输出的日志文件可视化TensorFlow程序的运行状态\n",
    "\n",
    "TensorBoard和TensorFlow程序跑在不同的进程中\n"
   ]
  },
  {
   "cell_type": "code",
   "execution_count": null,
   "metadata": {
    "collapsed": true
   },
   "outputs": [],
   "source": [
    "import tensorflow as tf\n",
    "\n",
    "# logdir改为自己机器上的合适路径\n",
    "logdir='E:/log'\n",
    "\n",
    "#定义一个简单的计算图，实现向量加法的操作\n",
    "input1 = tf.constant([1.0, 2.0, 3.0], name=\"input1\")\n",
    "input2 = tf.Variable(tf.random_uniform([3]), name=\"input2\")\n",
    "output = tf.add_n([input1, input2], name=\"add\")\n",
    "\n",
    "#生成一个写日志的writer，并将当前的TensorFlow计算图写入日志。\n",
    "writer = tf.summary.FileWriter(logdir,tf.get_default_graph())\n",
    "writer.close()\n"
   ]
  },
  {
   "cell_type": "markdown",
   "metadata": {},
   "source": [
    "生成的文件\n",
    "<img src=\"生产的Log文件.png\">"
   ]
  },
  {
   "cell_type": "markdown",
   "metadata": {},
   "source": [
    "#### 启动TensorBoard"
   ]
  },
  {
   "cell_type": "markdown",
   "metadata": {},
   "source": [
    "TensorBoard不需要额外安装，在TensorFlow安装时已自动完成\n",
    "\n",
    "在Anaconda Prompt中运行TensorBoard，并将日志的地址指向程序日志输出的地址\n",
    "\n",
    "命令：tensorboard --logdir=/path/log\n",
    "<img src=\"启动TensorBoard.png\">\n",
    "\n",
    "启动服务的端口默认为6006；使用 --port 参数可以改编启动服务的端口\n",
    "\n"
   ]
  },
  {
   "cell_type": "markdown",
   "metadata": {},
   "source": [
    "#### 访问TensorBoard"
   ]
  },
  {
   "cell_type": "markdown",
   "metadata": {},
   "source": [
    "浏览器访问网址\n",
    "\n",
    "http://localhost:6006\n",
    "\n",
    "<img src=\"浏览器访问TensorBoard.png\">\n"
   ]
  },
  {
   "cell_type": "markdown",
   "metadata": {},
   "source": [
    "#### TensorBoard常用API"
   ]
  },
  {
   "cell_type": "markdown",
   "metadata": {},
   "source": [
    "<img src=\"TensorBoardAPI.png\">"
   ]
  },
  {
   "cell_type": "code",
   "execution_count": null,
   "metadata": {
    "collapsed": true
   },
   "outputs": [],
   "source": []
  }
 ],
 "metadata": {
  "anaconda-cloud": {},
  "kernelspec": {
   "display_name": "Python [default]",
   "language": "python",
   "name": "python3"
  },
  "language_info": {
   "codemirror_mode": {
    "name": "ipython",
    "version": 3
   },
   "file_extension": ".py",
   "mimetype": "text/x-python",
   "name": "python",
   "nbconvert_exporter": "python",
   "pygments_lexer": "ipython3",
   "version": "3.5.2"
  }
 },
 "nbformat": 4,
 "nbformat_minor": 2
}
