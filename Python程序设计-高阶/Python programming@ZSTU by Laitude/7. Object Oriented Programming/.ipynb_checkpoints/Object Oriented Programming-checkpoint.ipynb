{
 "cells": [
  {
   "cell_type": "markdown",
   "metadata": {},
   "source": [
    "# 面向对象程序设计（Object Oriented Programming）\n",
    "## 浙江理工大学 沈炜"
   ]
  },
  {
   "cell_type": "markdown",
   "metadata": {},
   "source": [
    "## 面向对象程序设计与Python"
   ]
  },
  {
   "cell_type": "markdown",
   "metadata": {},
   "source": [
    "### 面向对象程序设计主要针对大型软件设计而提出，使得软件设计更加灵活，能够很好地支持代码复用和设计复用，并且使得代码具有更好的可读性和可扩展性"
   ]
  },
  {
   "cell_type": "markdown",
   "metadata": {},
   "source": [
    "### Python完全采用了面向对象程序设计的思想，是真正面向对象的高级动态编程语言，完全支持面向对象的基本功能，如封装、继承、多态以及对基类方法的覆盖或重写\n",
    "### Python<font color=red>所见皆对象</font>"
   ]
  },
  {
   "cell_type": "markdown",
   "metadata": {},
   "source": [
    "## 类定义（类对象）\n",
    "### Python使用class关键字来定义类，class关键字之后是一个空格，然后是类的名字，再然后是一个冒号，最后换行并定义类的内部实现\n",
    "### 类名的首字母一般要大写，当然也可以按照自己的习惯定义类名，但一般推荐参考惯例来命名，并在整个系统的设计和实现中保持风格一致，这一点对于团队合作尤其重要\n",
    "### 创建类时用变量形式表示的对象属性称为<font color=red>数据成员</font>，用函数形式表示的对象行为称为<font color=red>方法（或函数）成员</font>，成员属性和成员方法统称为类的<font color=red>成员</font>"
   ]
  },
  {
   "cell_type": "code",
   "execution_count": 2,
   "metadata": {},
   "outputs": [],
   "source": [
    "class Car:\n",
    "    def info(self):\n",
    "        print(\" This is a car \") "
   ]
  },
  {
   "cell_type": "code",
   "execution_count": 3,
   "metadata": {},
   "outputs": [
    {
     "name": "stdout",
     "output_type": "stream",
     "text": [
      " This is a car \n"
     ]
    }
   ],
   "source": [
    "car=Car()  # p = new Class()\n",
    "car.info()"
   ]
  },
  {
   "cell_type": "markdown",
   "metadata": {},
   "source": [
    "## 构造方法"
   ]
  },
  {
   "cell_type": "code",
   "execution_count": 5,
   "metadata": {},
   "outputs": [],
   "source": [
    "class Circle:\n",
    "    def __init__(self, radius = 1):    # 构造方法\n",
    "        self.radius=radius   # 定义了一个数据成员,想想为什么要加self  this.radius=radius\n",
    "        \n",
    "    def get_radius(self):    # 注意这里的self参数，看看不加会出现什么问题\n",
    "        print(self.radius)"
   ]
  },
  {
   "cell_type": "code",
   "execution_count": 6,
   "metadata": {},
   "outputs": [
    {
     "name": "stdout",
     "output_type": "stream",
     "text": [
      "5\n",
      "1\n"
     ]
    }
   ],
   "source": [
    "circle=Circle(5)    # 定义了一个实例对象，由类定义的对象\n",
    "circle.get_radius()    # 如果没有self参数，调用会如何？\n",
    "c1=Circle()\n",
    "c1.get_radius()"
   ]
  },
  {
   "cell_type": "code",
   "execution_count": 7,
   "metadata": {},
   "outputs": [
    {
     "name": "stdout",
     "output_type": "stream",
     "text": [
      "1\n"
     ]
    }
   ],
   "source": [
    "circle1=Circle()\n",
    "circle1.get_radius()"
   ]
  },
  {
   "cell_type": "markdown",
   "metadata": {},
   "source": [
    "### self参数\n",
    "#### 类的所有<font color=red>实例方法</font>都必须至少有一个名为self的参数，并且必须是方法的第一个形参（如果有多个形参的话），self参数代表<font color=red>将来要创建的对象本身</font>\n",
    "#### 在类的实例方法中访问实例属性时需要以self为前缀，有点类似于C++中的this\n",
    "#### 在外部通过对象名调用对象方法时并不需要传递这个参数，通过对象调用方法时，<font color=red>对象本身将被作为第一个参数隐式传递过去</font>\n",
    "#### 如果在外部通过类名调用对象方法则需要显式为self参数传值"
   ]
  },
  {
   "cell_type": "code",
   "execution_count": 8,
   "metadata": {},
   "outputs": [
    {
     "name": "stdout",
     "output_type": "stream",
     "text": [
      "5\n",
      "5\n"
     ]
    }
   ],
   "source": [
    "a=Circle(5)\n",
    "a.get_radius()\n",
    "Circle.get_radius(a)"
   ]
  },
  {
   "cell_type": "markdown",
   "metadata": {},
   "source": [
    "### 访问成员"
   ]
  },
  {
   "cell_type": "code",
   "execution_count": 9,
   "metadata": {},
   "outputs": [
    {
     "name": "stdout",
     "output_type": "stream",
     "text": [
      "6\n"
     ]
    }
   ],
   "source": [
    "circle.radius=6\n",
    "circle.get_radius()"
   ]
  },
  {
   "cell_type": "markdown",
   "metadata": {},
   "source": [
    "### 一个较为完整的例子"
   ]
  },
  {
   "cell_type": "code",
   "execution_count": 10,
   "metadata": {},
   "outputs": [],
   "source": [
    "class Car: \n",
    "    def __init__(self):   # 构造方法\n",
    "        self.speed = 0    # 数据成员\n",
    "        \n",
    "    def info(self):\n",
    "        print(\"This is a car at speed %d\" % self.speed)\n",
    "        \n",
    "    def run(self):\n",
    "        if self.speed == 0:\n",
    "            self.speed=1\n",
    "        self.info()\n",
    "    \n",
    "    def stop(self):\n",
    "        self.speed=0\n",
    "        self.info()\n",
    "        \n",
    "    def accelerate(self):\n",
    "        self.speed+=10\n",
    "        self.info()\n",
    "        \n",
    "    def auto_run(self):\n",
    "        pass"
   ]
  },
  {
   "cell_type": "code",
   "execution_count": 11,
   "metadata": {},
   "outputs": [
    {
     "name": "stdout",
     "output_type": "stream",
     "text": [
      "This is a car at speed 0\n",
      "This is a car at speed 1\n",
      "This is a car at speed 11\n",
      "This is a car at speed 0\n"
     ]
    }
   ],
   "source": [
    "car=Car()\n",
    "car.info()\n",
    "car.run()\n",
    "car.accelerate()\n",
    "car.stop()"
   ]
  },
  {
   "cell_type": "markdown",
   "metadata": {},
   "source": [
    "### 关键字 pass\n",
    "#### 类似于空语句，可以用在类和函数的定义中或者选择结构中。当暂时没有确定如何实现功能，或者为以后的软件升级预留空间，或者其他类型功能时，可以使用该关键字来“占位”"
   ]
  },
  {
   "cell_type": "markdown",
   "metadata": {},
   "source": [
    "### 析构方法"
   ]
  },
  {
   "cell_type": "code",
   "execution_count": 14,
   "metadata": {},
   "outputs": [
    {
     "name": "stdout",
     "output_type": "stream",
     "text": [
      "car count is 1\n",
      "This is a car at speed 0 with max spped at 100, car count 1\n",
      "car count is 2\n",
      "This is a car at speed 10 with max spped at 100, car count 2\n",
      "This is a car at speed 10 with max spped at 100, car count 2\n"
     ]
    }
   ],
   "source": [
    "class Car:    # 一个带有类成员和析构方法的例子\n",
    "    count = 0    # 定义类成员,不是对象成员\n",
    "    \n",
    "    def __init__(self):   # 构造方法\n",
    "        self.speed = 0\n",
    "        self.max_speed = 100\n",
    "        Car.count += 1    # 注意如何访问\n",
    "        print('car count is %d' % Car.count)\n",
    "        \n",
    "    def info(self):\n",
    "        print(\"This is a car at speed %d with max spped at %d, car count %d\" % (self.speed, self.max_speed, Car.count))\n",
    "        \n",
    "    def run(self):\n",
    "        if self.speed == 0:\n",
    "            self.speed=1\n",
    "        self.info()\n",
    "    \n",
    "    def stop(self):\n",
    "        self.speed=0\n",
    "        self.info()\n",
    "        \n",
    "    def accelerate(self):\n",
    "        self.speed+=10\n",
    "        if self.speed > self.max_speed:\n",
    "            self.speed = self.max_speed\n",
    "        self.info()\n",
    "        \n",
    "    def auto_run(self):\n",
    "        pass\n",
    "    \n",
    "    def __del__(self):    # 析构方法\n",
    "        if Car.count>0:\n",
    "            Car.count -= 1\n",
    "        print('car count is %d' % Car.count)\n",
    "        \n",
    "car1=Car()\n",
    "car1.info()\n",
    "# del car1\n",
    "car2=Car()\n",
    "car2.accelerate()\n",
    "car2.info()\n",
    "# del car2   # 显式调用析构方法"
   ]
  },
  {
   "cell_type": "markdown",
   "metadata": {},
   "source": [
    "### <font color=red>注意python解释器会自动进行垃圾收集，所以析构方法的调用时间不确定</font>"
   ]
  },
  {
   "cell_type": "markdown",
   "metadata": {},
   "source": [
    "### 类方法"
   ]
  },
  {
   "cell_type": "code",
   "execution_count": 16,
   "metadata": {},
   "outputs": [
    {
     "ename": "TypeError",
     "evalue": "info() takes 0 positional arguments but 1 was given",
     "output_type": "error",
     "traceback": [
      "\u001b[1;31m-------------------------------------------------------------------------\u001b[0m",
      "\u001b[1;31mTypeError\u001b[0m                               Traceback (most recent call last)",
      "\u001b[1;32m<ipython-input-16-0dcddf8daead>\u001b[0m in \u001b[0;36m<module>\u001b[1;34m\u001b[0m\n\u001b[0;32m      7\u001b[0m \u001b[1;33m\u001b[0m\u001b[0m\n\u001b[0;32m      8\u001b[0m \u001b[0mc\u001b[0m\u001b[1;33m=\u001b[0m\u001b[0mCircle\u001b[0m\u001b[1;33m(\u001b[0m\u001b[1;33m)\u001b[0m\u001b[1;33m\u001b[0m\u001b[1;33m\u001b[0m\u001b[0m\n\u001b[1;32m----> 9\u001b[1;33m \u001b[0mc\u001b[0m\u001b[1;33m.\u001b[0m\u001b[0minfo\u001b[0m\u001b[1;33m(\u001b[0m\u001b[1;33m)\u001b[0m\u001b[1;33m\u001b[0m\u001b[1;33m\u001b[0m\u001b[0m\n\u001b[0m\u001b[0;32m     10\u001b[0m \u001b[0mCircle\u001b[0m\u001b[1;33m.\u001b[0m\u001b[0minfo\u001b[0m\u001b[1;33m(\u001b[0m\u001b[1;33m)\u001b[0m\u001b[1;33m\u001b[0m\u001b[1;33m\u001b[0m\u001b[0m\n",
      "\u001b[1;31mTypeError\u001b[0m: info() takes 0 positional arguments but 1 was given"
     ]
    }
   ],
   "source": [
    "class Circle:\n",
    "    def info(): # 注意没有参数self\n",
    "        print('this is a circle class')\n",
    "        \n",
    "    #def info(self):\n",
    "    #    print('this is a circle object')\n",
    "        \n",
    "c=Circle()\n",
    "# c.info()\n",
    "Circle.info()"
   ]
  },
  {
   "cell_type": "markdown",
   "metadata": {},
   "source": [
    "### 可变对象和不可变对象"
   ]
  },
  {
   "cell_type": "code",
   "execution_count": 4,
   "metadata": {},
   "outputs": [
    {
     "name": "stdout",
     "output_type": "stream",
     "text": [
      "This is a car at speed 0 with max spped at 150, car count 2\n"
     ]
    }
   ],
   "source": [
    "def modify_car(c):\n",
    "    c.max_speed = 150\n",
    "    \n",
    "modify_car(car1)    # 类似于引用传递\n",
    "car1.info()"
   ]
  },
  {
   "cell_type": "code",
   "execution_count": 5,
   "metadata": {},
   "outputs": [
    {
     "data": {
      "text/plain": [
       "1"
      ]
     },
     "execution_count": 5,
     "metadata": {},
     "output_type": "execute_result"
    }
   ],
   "source": [
    "def modify(a):\n",
    "    a+=1\n",
    "a=1\n",
    "modify(a)\n",
    "a"
   ]
  },
  {
   "cell_type": "code",
   "execution_count": 6,
   "metadata": {},
   "outputs": [
    {
     "name": "stdout",
     "output_type": "stream",
     "text": [
      "abc\n"
     ]
    }
   ],
   "source": [
    "def change_str(s):\n",
    "    s = 'new str'\n",
    "\n",
    "a = 'abc'\n",
    "change_str(a)\n",
    "print(a)"
   ]
  },
  {
   "cell_type": "markdown",
   "metadata": {},
   "source": [
    "### 数值对象（int和float）、字符串str、元组tuple都是不可变对象，列表list、字典dict、集合set是可变对象\n",
    "### 其他自定义类的实例对象，一般都是可变对象"
   ]
  },
  {
   "cell_type": "markdown",
   "metadata": {},
   "source": [
    "### 重载（overload）\n",
    "#### Python事实上<font color=red>不支持方法重载了</font>"
   ]
  },
  {
   "cell_type": "code",
   "execution_count": 18,
   "metadata": {},
   "outputs": [
    {
     "ename": "TypeError",
     "evalue": "unsupported operand type(s) for +=: 'int' and 'str'",
     "output_type": "error",
     "traceback": [
      "\u001b[1;31m-------------------------------------------------------------------------\u001b[0m",
      "\u001b[1;31mTypeError\u001b[0m                               Traceback (most recent call last)",
      "\u001b[1;32m<ipython-input-18-d390ce2a6cbd>\u001b[0m in \u001b[0;36m<module>\u001b[1;34m\u001b[0m\n\u001b[0;32m     35\u001b[0m \u001b[1;33m\u001b[0m\u001b[0m\n\u001b[0;32m     36\u001b[0m \u001b[0mcar1\u001b[0m\u001b[1;33m=\u001b[0m\u001b[0mCar\u001b[0m\u001b[1;33m(\u001b[0m\u001b[1;33m)\u001b[0m\u001b[1;33m\u001b[0m\u001b[1;33m\u001b[0m\u001b[0m\n\u001b[1;32m---> 37\u001b[1;33m \u001b[0mcar1\u001b[0m\u001b[1;33m.\u001b[0m\u001b[0maccelerate\u001b[0m\u001b[1;33m(\u001b[0m\u001b[1;34m'abc'\u001b[0m\u001b[1;33m)\u001b[0m    \u001b[1;31m# 想调用重载1方法，但事实上会出错\u001b[0m\u001b[1;33m\u001b[0m\u001b[1;33m\u001b[0m\u001b[0m\n\u001b[0m\u001b[0;32m     38\u001b[0m \u001b[0mcar1\u001b[0m\u001b[1;33m.\u001b[0m\u001b[0maccelerate\u001b[0m\u001b[1;33m(\u001b[0m\u001b[1;36m50\u001b[0m\u001b[1;33m)\u001b[0m\u001b[1;33m\u001b[0m\u001b[1;33m\u001b[0m\u001b[0m\n",
      "\u001b[1;32m<ipython-input-18-d390ce2a6cbd>\u001b[0m in \u001b[0;36maccelerate\u001b[1;34m(self, speed)\u001b[0m\n\u001b[0;32m     23\u001b[0m \u001b[1;33m\u001b[0m\u001b[0m\n\u001b[0;32m     24\u001b[0m     \u001b[1;32mdef\u001b[0m \u001b[0maccelerate\u001b[0m\u001b[1;33m(\u001b[0m\u001b[0mself\u001b[0m\u001b[1;33m,\u001b[0m \u001b[0mspeed\u001b[0m\u001b[1;33m)\u001b[0m\u001b[1;33m:\u001b[0m    \u001b[1;31m# 重载2，但事实上是覆盖了前面的方法\u001b[0m\u001b[1;33m\u001b[0m\u001b[1;33m\u001b[0m\u001b[0m\n\u001b[1;32m---> 25\u001b[1;33m         \u001b[0mself\u001b[0m\u001b[1;33m.\u001b[0m\u001b[0mspeed\u001b[0m\u001b[1;33m+=\u001b[0m\u001b[0mspeed\u001b[0m\u001b[1;33m\u001b[0m\u001b[1;33m\u001b[0m\u001b[0m\n\u001b[0m\u001b[0;32m     26\u001b[0m         \u001b[1;32mif\u001b[0m \u001b[0mself\u001b[0m\u001b[1;33m.\u001b[0m\u001b[0mspeed\u001b[0m \u001b[1;33m>\u001b[0m \u001b[0mself\u001b[0m\u001b[1;33m.\u001b[0m\u001b[0mmax_speed\u001b[0m\u001b[1;33m:\u001b[0m\u001b[1;33m\u001b[0m\u001b[1;33m\u001b[0m\u001b[0m\n\u001b[0;32m     27\u001b[0m             \u001b[0mself\u001b[0m\u001b[1;33m.\u001b[0m\u001b[0mspeed\u001b[0m \u001b[1;33m=\u001b[0m \u001b[0mself\u001b[0m\u001b[1;33m.\u001b[0m\u001b[0mmax_speed\u001b[0m\u001b[1;33m\u001b[0m\u001b[1;33m\u001b[0m\u001b[0m\n",
      "\u001b[1;31mTypeError\u001b[0m: unsupported operand type(s) for +=: 'int' and 'str'"
     ]
    }
   ],
   "source": [
    "class Car:    # 一个带有重载方法的例子\n",
    "    count = 0    # 定义类成员\n",
    "    \n",
    "    def __init__(self):   # 构造方法\n",
    "        self.speed = 0\n",
    "        self.max_speed = 100\n",
    "        Car.count += 1    # 注意如果访问\n",
    "        \n",
    "    def info(self):\n",
    "        print(\"This is a car at speed %d with max spped at %d, car count %d\" % (self.speed, self.max_speed, Car.count))\n",
    "        \n",
    "    def run(self):\n",
    "        if self.speed == 0:\n",
    "            self.speed=1\n",
    "        self.info()\n",
    "    \n",
    "    def stop(self):\n",
    "        self.speed=0\n",
    "        self.info()\n",
    "        \n",
    "    def accelerate(self, s):    # 重载1\n",
    "        print(s)\n",
    "        \n",
    "    def accelerate(self, speed):    # 重载2，但事实上是覆盖了前面的方法\n",
    "        self.speed+=speed\n",
    "        if self.speed > self.max_speed:\n",
    "            self.speed = self.max_speed\n",
    "        self.info()\n",
    "    \n",
    "    def show_brand(self):\n",
    "        print(self.__brand)\n",
    "\n",
    "    def auto_run(self):\n",
    "        pass\n",
    "    \n",
    "car1=Car()\n",
    "#car1.accelerate('abc')    # 想调用重载1方法，但事实上会出错\n",
    "car1.accelerate(50)"
   ]
  },
  {
   "cell_type": "markdown",
   "metadata": {},
   "source": [
    "### 想一下为什么Python不需要重载了？\n",
    "重载的好处或作用是什么？\n",
    "函数重载主要是为了解决两个问题。\n",
    "1. 可变参数类型。\n",
    "2. 可变参数个数。\n",
    "\n",
    "\n",
    "另外，重载基本的设计原则是：当两个函数除了参数类型和参数个数不同以外，其功能是完全相同的，此时才使用函数重载，如果两个函数的功能其实不同，那么不应当使用重载，而应当使用一个名字不同的函数。\n",
    "\n",
    "- 那么对于情况1，函数功能相同，但是参数类型不同，python可以接受任何类型的参数，如果函数的功能相同，那么不同的参数类型在 python 中很可能是相同的代码，没有必要做成两个不同函数。\n",
    "- 那么对于情况2，函数功能相同，但参数个数不同，python使用缺省参数来解决问题。"
   ]
  },
  {
   "cell_type": "markdown",
   "metadata": {},
   "source": [
    "## 继承\n",
    "### python支持多重继承"
   ]
  },
  {
   "cell_type": "code",
   "execution_count": 19,
   "metadata": {},
   "outputs": [
    {
     "name": "stdout",
     "output_type": "stream",
     "text": [
      "This is a car at speed 10 with max speed at 100, car count 1\n"
     ]
    },
    {
     "data": {
      "text/plain": [
       "[__main__.Tesla, __main__.Car, object]"
      ]
     },
     "execution_count": 19,
     "metadata": {},
     "output_type": "execute_result"
    }
   ],
   "source": [
    "class Car:    # 一个带有类成员和析构方法的例子\n",
    "    count = 0    # 定义类成员\n",
    "    \n",
    "    def __init__(self):   # 构造方法\n",
    "        self.speed = 0\n",
    "        self.max_speed = 100\n",
    "        Car.count += 1    # 注意访问方式\n",
    "        \n",
    "    def info(self):\n",
    "        print(\"This is a car at speed %d with max speed at %d, car count %d\" % (self.speed, self.max_speed, Car.count))\n",
    "        \n",
    "    def run(self):\n",
    "        if self.speed == 0:\n",
    "            self.speed=1\n",
    "        self.info()\n",
    "    \n",
    "    def stop(self):\n",
    "        self.speed=0\n",
    "        self.info()\n",
    "        \n",
    "    def accelerate(self, speed=10):\n",
    "        self.speed+=speed\n",
    "        if self.speed > self.max_speed:\n",
    "            self.speed = self.max_speed\n",
    "        self.info()\n",
    "\n",
    "    def auto_run(self):\n",
    "        pass\n",
    "    \n",
    "class Tesla(Car):\n",
    "    def auto_run(self):\n",
    "        self.accelerate()\n",
    "        \n",
    "t = Tesla()\n",
    "t.auto_run()\n",
    "Tesla.mro()  # 查看继承关系"
   ]
  },
  {
   "cell_type": "markdown",
   "metadata": {},
   "source": [
    "### 多重继承的问题\n",
    "<img src='./m.jpg' width=160, height=120>"
   ]
  },
  {
   "cell_type": "code",
   "execution_count": 23,
   "metadata": {},
   "outputs": [
    {
     "name": "stdout",
     "output_type": "stream",
     "text": [
      "m of D called\n",
      "m of C called\n",
      "m of B called\n",
      "m of A called\n"
     ]
    },
    {
     "data": {
      "text/plain": [
       "[__main__.D, __main__.C, __main__.B, __main__.A, object]"
      ]
     },
     "execution_count": 23,
     "metadata": {},
     "output_type": "execute_result"
    }
   ],
   "source": [
    "class A:\n",
    "    def m(self):\n",
    "        print(\"m of A called\")\n",
    "\n",
    "class B(A):\n",
    "    def m(self):\n",
    "        print(\"m of B called\")\n",
    "        # A.m(self)\n",
    "        super().m()\n",
    "    \n",
    "class C(A):\n",
    "    def m(self):\n",
    "        print(\"m of C called\")\n",
    "        # A.m(self)\n",
    "        super().m()\n",
    "\n",
    "class D(C,B):\n",
    "    def m(self):\n",
    "        print(\"m of D called\")\n",
    "        # B.m(self)    # 这样的写法不好\n",
    "        # C.m(self)    # 这样的写法不好\n",
    "        super().m()\n",
    "\n",
    "d=D()\n",
    "# super(C, d)\n",
    "d.m()    # A.m()被执行了两次\n",
    "D.mro()  # Method Resolution Order（方法解析顺序）,查看方法解析顺序"
   ]
  },
  {
   "cell_type": "markdown",
   "metadata": {},
   "source": [
    "### 多态（polymorphic）和动态绑定"
   ]
  },
  {
   "cell_type": "code",
   "execution_count": 19,
   "metadata": {
    "scrolled": true
   },
   "outputs": [
    {
     "name": "stdout",
     "output_type": "stream",
     "text": [
      "Vehicle 100\n",
      "Car 150\n"
     ]
    }
   ],
   "source": [
    "class Vehicle:    # 一个带有类成员和构造方法的例子\n",
    "    count = 0    # 定义类成员\n",
    "    \n",
    "    def __init__(self):   # 构造方法\n",
    "        self.speed = 0\n",
    "        self.name = 'Vehicle'\n",
    "        self.max_speed = 100\n",
    "        Car.count += 1    # 注意如何访问\n",
    "        \n",
    "    def accelerate(self, speed=10):\n",
    "        self.speed+=speed\n",
    "        if self.speed > self.max_speed:\n",
    "            self.speed = self.max_speed\n",
    "\n",
    "class Car(Vehicle):\n",
    "    def __init__(self):\n",
    "        Vehicle.__init__(self)   # 调用父类构造函数\n",
    "        self.name='Car'\n",
    "        self.max_speed = 150\n",
    "        \n",
    "def show_name(v):\n",
    "    print(v.name, v.max_speed)\n",
    "    \n",
    "\n",
    "v = Vehicle()\n",
    "c = Car()\n",
    "show_name(v)\n",
    "show_name(c)"
   ]
  },
  {
   "cell_type": "code",
   "execution_count": 20,
   "metadata": {},
   "outputs": [
    {
     "name": "stdout",
     "output_type": "stream",
     "text": [
      "this is an animal.\n",
      "this is a cat.\n",
      "this is a dog.\n",
      "this is a tiger.\n",
      "this is an animal.\n"
     ]
    }
   ],
   "source": [
    "class Animal(object):      #定义基类\n",
    "    def show(self):\n",
    "        print('this is an animal.')\n",
    "class Cat(Animal):         #派生类，覆盖了基类的show()方法\n",
    "    def show(self):\n",
    "        print('this is a cat.')\n",
    "class Dog(Animal):         #派生类\n",
    "    def show(self):\n",
    "        print('this is a dog.')\n",
    "class Tiger(Animal):       #派生类\n",
    "    def show(self):\n",
    "        print('this is a tiger.')\n",
    "class Test(Animal):        #派生类，没有覆盖基类的show()方法\n",
    "    pass\n",
    "\n",
    "x = [item() for item in (Animal, Cat, Dog, Tiger, Test)]   # 注意X这个列表里面的元素\n",
    "for item in x:        #遍历基类和派生类对象并调用show()方法\n",
    "    item.show()\n"
   ]
  },
  {
   "attachments": {
    "1.png": {
     "image/png": "[encoded data removed]"
    }
   },
   "cell_type": "markdown",
   "metadata": {},
   "source": [
    "## 特殊方法\n",
    "![1.png](attachment:1.png)\n",
    "### 类的基础方法\n",
    "<table style=\"border-spacing:0px;width:851.515px;\"><tbody><tr><th style=\"margin:0px;\">序号</th><th style=\"margin:0px;\">目的</th><th style=\"margin:0px;\">所编写代码</th><th style=\"margin:0px;\">Python 实际调用</th></tr><tr><th style=\"margin:0px;\">1</th><td style=\"margin:0px;\">初始化一个实例</td><td style=\"margin:0px;\"><code style=\"font-size:14px;line-height:22px;\">x = MyClass()</code></td><td style=\"margin:0px;\"><code style=\"font-size:14px;line-height:22px;\">x.<dfn>__init__</dfn>()</code></td></tr><tr><th style=\"margin:0px;\">2</th><td style=\"margin:0px;\">字符串的“官方”表现形式</td><td style=\"margin:0px;\"><code style=\"font-size:14px;line-height:22px;\"><dfn>repr</dfn>(x)</code></td><td style=\"margin:0px;\"><code style=\"font-size:14px;line-height:22px;\">x.<dfn>__repr__</dfn>()</code></td></tr><tr><th style=\"margin:0px;\">3</th><td style=\"margin:0px;\">字符串的“非正式”值</td><td style=\"margin:0px;\"><code style=\"font-size:14px;line-height:22px;\"><dfn>str</dfn>(x)</code></td><td style=\"margin:0px;\"><code style=\"font-size:14px;line-height:22px;\">x.<dfn>__str__</dfn>()</code></td></tr><tr><th style=\"margin:0px;\">4</th><td style=\"margin:0px;\">字节数组的“非正式”值</td><td style=\"margin:0px;\"><code style=\"font-size:14px;line-height:22px;\"><dfn>bytes</dfn>(x)</code></td><td style=\"margin:0px;\"><code style=\"font-size:14px;line-height:22px;\">x.<dfn>__bytes__</dfn>()</code></td></tr><tr><th style=\"margin:0px;\">5</th><td style=\"margin:0px;\">格式化字符串的值</td><td style=\"margin:0px;\"><code style=\"font-size:14px;line-height:22px;\">format(x, <var><var>format</var>_spec</var>)</code></td><td style=\"margin:0px;\"><code style=\"font-size:14px;line-height:22px;\">x.<dfn>__format__</dfn>(<var>format_spec</var>)</code></td></tr></tbody></table>\n",
    "\n",
    "### 行为方式\n",
    "<table style=\"border-spacing:0px;width:851.515px;\"><tbody><tr><th style=\"margin:0px;\">序号</th><th style=\"margin:0px;\">目的</th><th style=\"margin:0px;\">所编写代码</th><th style=\"margin:0px;\">Python 实际调用</th></tr>\n",
    "<tr><th style=\"margin:0px;\">1</th><td style=\"margin:0px;\">遍历某个序列</td><td style=\"margin:0px;\"><code style=\"font-size:14px;line-height:22px;\"><dfn>iter</dfn>(seq)</code></td><td style=\"margin:0px;\"><code style=\"font-size:14px;line-height:22px;\">seq.<dfn>__iter__</dfn>()</code></td></tr>\n",
    "<tr><th style=\"margin:0px;\">2</th><td style=\"margin:0px;\">从迭代器中获取下一个值</td><td style=\"margin:0px;\"><code style=\"font-size:14px;line-height:22px;\"><dfn>next</dfn>(seq)</code></td><td style=\"margin:0px;\"><code style=\"font-size:14px;line-height:22px;\">seq.<dfn>__next__</dfn>()</code></td></tr>\n",
    "<tr><th style=\"margin:0px;\">3</th><td style=\"margin:0px;\">按逆序创建一个迭代器</td><td style=\"margin:0px;\"><code style=\"font-size:14px;line-height:22px;\"><dfn>reversed</dfn>(seq)</code></td><td style=\"margin:0px;\"><code style=\"font-size:14px;line-height:22px;\">seq.<dfn>__reversed__</dfn>()</code></td></tr>\n",
    "<tr><th style=\"margin:0px;\">4</th><td style=\"margin:0px;\">像调用函数一样“调用”一个实例</td><td style=\"margin:0px;\"><code style=\"font-size:14px;line-height:22px;\">my_instance()</code></td><td style=\"margin:0px;\"><code style=\"font-size:14px;line-height:22px;\">my_instance.<dfn>__call__</dfn>()</code></td></tr>\n",
    "</tbody></table>\n",
    "\n",
    "### 计算属性\n",
    "<table style=\"border-spacing:0px;width:851.515px;\"><tbody><tr><th style=\"margin:0px;\">序号</th><th style=\"margin:0px;\">目的</th><th style=\"margin:0px;\">所编写代码</th><th style=\"margin:0px;\">Python 实际调用</th></tr><tr><th style=\"margin:0px;\">1</th><td style=\"margin:0px;\">获取一个计算属性（无条件的）</td><td style=\"margin:0px;\"><code style=\"font-size:14px;line-height:22px;\">x.my_property</code></td><td style=\"margin:0px;\"><code style=\"font-size:14px;line-height:22px;\">x.<dfn>__getattribute__</dfn>(<var>'my_property'</var>)</code></td></tr><tr><th style=\"margin:0px;\">2</th><td style=\"margin:0px;\">获取一个计算属性（后备）</td><td style=\"margin:0px;\"><code style=\"font-size:14px;line-height:22px;\">x.my_property</code></td><td style=\"margin:0px;\"><code style=\"font-size:14px;line-height:22px;\">x.<dfn>__getattr__</dfn>(<var>'my_property'</var>)</code></td></tr><tr><th style=\"margin:0px;\">3</th><td style=\"margin:0px;\">设置某属性</td><td style=\"margin:0px;\"><code style=\"font-size:14px;line-height:22px;\">x.my_property = value</code></td><td style=\"margin:0px;\"><code style=\"font-size:14px;line-height:22px;\">x.<dfn>__setattr__</dfn>(<var>'my_property'</var>,<var>value</var>)</code></td></tr><tr><th style=\"margin:0px;\">4</th><td style=\"margin:0px;\">删除某属性</td><td style=\"margin:0px;\"><code style=\"font-size:14px;line-height:22px;\">del x.my_property</code></td><td style=\"margin:0px;\"><code style=\"font-size:14px;line-height:22px;\">x.<dfn>__delattr__</dfn>(<var>'my_property'</var>)</code></td></tr><tr><th style=\"margin:0px;\">5</th><td style=\"margin:0px;\">列出所有属性和方法</td><td style=\"margin:0px;\"><code style=\"font-size:14px;line-height:22px;\">dir(x)</code></td><td style=\"margin:0px;\"><code style=\"font-size:14px;line-height:22px;\">x.<dfn>__dir__</dfn>()</code></td></tr></tbody></table>\n",
    "\n",
    "### 序列类型相关\n",
    "<table style=\"border-spacing:0px;width:851.515px;\"><tbody>\n",
    "<tr><th style=\"margin:0px;\">序号</th><th style=\"margin:0px;\">目的</th><th style=\"margin:0px;\">所编写代码</th><th style=\"margin:0px;\">Python 实际调用</th></tr>\n",
    "<tr><th style=\"margin:0px;\">1</th><td style=\"margin:0px;\">序列的长度</td><td style=\"margin:0px;\"><code style=\"font-size:14px;line-height:22px;\"><dfn>len</dfn>(seq)</code></td><td style=\"margin:0px;\"><code style=\"font-size:14px;line-height:22px;\">seq.<dfn>__len__</dfn>()</code></td></tr>\n",
    "<tr><th style=\"margin:0px;\">2</th><td style=\"margin:0px;\">了解某序列是否包含特定的值</td><td style=\"margin:0px;\"><code style=\"font-size:14px;line-height:22px;\">x in seq</code></td><td style=\"margin:0px;\"><code style=\"font-size:14px;line-height:22px;\">seq.<dfn>__contains__</dfn>(<var>x</var>)</code></td></tr>\n",
    "\n",
    "<tr><th style=\"margin:0px;\">3以下是字典</th><td style=\"margin:0px;\">通过键来获取值</td><td style=\"margin:0px;\"><code style=\"font-size:14px;line-height:22px;\">x[key]</code></td><td style=\"margin:0px;\"><code style=\"font-size:14px;line-height:22px;\">x.<dfn>__getitem__</dfn>(<var>key</var>)</code></td></tr>\n",
    "<tr><th style=\"margin:0px;\">4</th><td style=\"margin:0px;\">通过键来设置值</td><td style=\"margin:0px;\"><code style=\"font-size:14px;line-height:22px;\">x[key] = value</code></td><td style=\"margin:0px;\"><code style=\"font-size:14px;line-height:22px;\">x.<dfn>__setitem__</dfn>(<var>key</var>, <var>value</var>)</code></td></tr>\n",
    "<tr><th style=\"margin:0px;\">5</th><td style=\"margin:0px;\">删除一个键值对</td><td style=\"margin:0px;\"><code style=\"font-size:14px;line-height:22px;\">del x[key]</code></td><td style=\"margin:0px;\"><code style=\"font-size:14px;line-height:22px;\">x.<dfn>__delitem__</dfn>(<var>key</var>)</code></td></tr>\n",
    "<tr><th style=\"margin:0px;\">6</th><td style=\"margin:0px;\">为缺失键提供默认值</td><td style=\"margin:0px;\"><code style=\"font-size:14px;line-height:22px;\">x[nonexistent_key]</code></td><td style=\"margin:0px;\"><code style=\"font-size:14px;line-height:22px;\">x.<dfn>__missing__</dfn>(<var>nonexistent_key</var>)</code></td></tr>\n",
    "</tbody></table>\n",
    "\n",
    "### 可比较相关\n",
    "<table style=\"border-spacing:0px;width:851.515px;\"><tbody><tr><th style=\"margin:0px;\">序号</th><th style=\"margin:0px;\">目的</th><th style=\"margin:0px;\">所编写代码</th><th style=\"margin:0px;\">Python 实际调用</th></tr>\n",
    "<tr><th style=\"margin:0px;\">1</th><td style=\"margin:0px;\">相等</td><td style=\"margin:0px;\"><code style=\"font-size:14px;line-height:22px;\">x == y</code></td><td style=\"margin:0px;\"><code style=\"font-size:14px;line-height:22px;\">x.<dfn>__eq__</dfn>(<var>y</var>)</code></td></tr>\n",
    "<tr><th style=\"margin:0px;\">2</th><td style=\"margin:0px;\">不相等</td><td style=\"margin:0px;\"><code style=\"font-size:14px;line-height:22px;\">x != y</code></td><td style=\"margin:0px;\"><code style=\"font-size:14px;line-height:22px;\">x.<dfn>__ne__</dfn>(<var>y</var>)</code></td></tr>\n",
    "<tr><th style=\"margin:0px;\">3</th><td style=\"margin:0px;\">小于</td><td style=\"margin:0px;\"><code style=\"font-size:14px;line-height:22px;\">x &lt; y</code></td><td style=\"margin:0px;\"><code style=\"font-size:14px;line-height:22px;\">x.<dfn>__lt__</dfn>(<var>y</var>)</code></td></tr>\n",
    "<tr><th style=\"margin:0px;\">4</th><td style=\"margin:0px;\">小于或等于</td><td style=\"margin:0px;\"><code style=\"font-size:14px;line-height:22px;\">x &lt;= y</code></td><td style=\"margin:0px;\"><code style=\"font-size:14px;line-height:22px;\">x.<dfn>__le__</dfn>(<var>y</var>)</code></td></tr>\n",
    "<tr><th style=\"margin:0px;\">5</th><td style=\"margin:0px;\">大于</td><td style=\"margin:0px;\"><code style=\"font-size:14px;line-height:22px;\">x &gt; y</code></td><td style=\"margin:0px;\"><code style=\"font-size:14px;line-height:22px;\">x.<dfn>__gt__</dfn>(<var>y</var>)</code></td></tr>\n",
    "<tr><th style=\"margin:0px;\">6</th><td style=\"margin:0px;\">大于或等于</td><td style=\"margin:0px;\"><code style=\"font-size:14px;line-height:22px;\">x &gt;= y</code></td><td style=\"margin:0px;\"><code style=\"font-size:14px;line-height:22px;\">x.<dfn>__ge__</dfn>(<var>y</var>)</code></td></tr>\n",
    "<tr><th style=\"margin:0px;\">7</th><td style=\"margin:0px;\">布尔上上下文环境中的真值</td><td style=\"margin:0px;\"><code style=\"font-size:14px;line-height:22px;\">if x:</code></td><td style=\"margin:0px;\"><code style=\"font-size:14px;line-height:22px;\">x.<dfn>__bool__</dfn>()</code></td></tr>\n",
    "</tbody></table>"
   ]
  },
  {
   "cell_type": "code",
   "execution_count": 3,
   "metadata": {},
   "outputs": [
    {
     "name": "stdout",
     "output_type": "stream",
     "text": [
      "杨过, 16 金轮法王, 45\n",
      "杨过, 16\n"
     ]
    }
   ],
   "source": [
    "class Person:\n",
    "    def __init__(self, name, age):\n",
    "        self.name=name\n",
    "        self.age=age\n",
    "        \n",
    "    def __str__(self):\n",
    "        return '{0}, {1}'.format(self.name, self.age)\n",
    "    \n",
    "p1=Person('杨过',16)\n",
    "p2=Person('金轮法王',45)\n",
    "s=p1.__str__()\n",
    "print(p1,p2)\n",
    "print(s)"
   ]
  },
  {
   "cell_type": "code",
   "execution_count": 4,
   "metadata": {},
   "outputs": [
    {
     "data": {
      "text/plain": [
       "(25, 25, False, False)"
      ]
     },
     "execution_count": 4,
     "metadata": {},
     "output_type": "execute_result"
    }
   ],
   "source": [
    "x,y=12,13\n",
    "x+y, x.__add__(y),x>y, x.__gt__(y)"
   ]
  },
  {
   "cell_type": "markdown",
   "metadata": {},
   "source": [
    "## 实验题\n",
    "### 实验题1\n",
    "#### 编写一个平面二维点集类，要求这个类的实例对象（也就是一个点）能够计算到另一个点的距离；再编写一个函数，能够计算覆盖一系列点的最小矩形"
   ]
  },
  {
   "cell_type": "markdown",
   "metadata": {},
   "source": [
    "### 实验题2\n",
    "#### 编写一个类Temperature，这个类只有2个类方法，进行温度转换，to_fahrenheit()用于将温度转换为华氏温度，to_celsius()将温度转换为摄氏温度"
   ]
  },
  {
   "cell_type": "markdown",
   "metadata": {},
   "source": [
    "### 实验题3\n",
    "#### 编写一个电梯类，能够模拟日常电梯的各种操作。"
   ]
  }
 ],
 "metadata": {
  "kernelspec": {
   "display_name": "Python 3",
   "language": "python",
   "name": "python3"
  },
  "language_info": {
   "codemirror_mode": {
    "name": "ipython",
    "version": 3
   },
   "file_extension": ".py",
   "mimetype": "text/x-python",
   "name": "python",
   "nbconvert_exporter": "python",
   "pygments_lexer": "ipython3",
   "version": "3.7.4"
  }
 },
 "nbformat": 4,
 "nbformat_minor": 4
}
