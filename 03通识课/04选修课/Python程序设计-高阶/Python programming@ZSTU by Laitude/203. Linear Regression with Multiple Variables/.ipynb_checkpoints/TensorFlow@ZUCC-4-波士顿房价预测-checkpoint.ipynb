{
 "cells": [
  {
   "cell_type": "markdown",
   "metadata": {},
   "source": [
    "# 波士顿房价预测\n",
    "\n",
    "吴明晖\n",
    "\n",
    "浙江大学城市学院\n",
    "\n",
    "2018.8"
   ]
  },
  {
   "cell_type": "markdown",
   "metadata": {
    "toc": true
   },
   "source": [
    "<h1>目录<span class=\"tocSkip\"></span></h1>\n",
    "<div class=\"toc\"><ul class=\"toc-item\"><li><span><a href=\"#Tensorflow实现单变量线性回归\" data-toc-modified-id=\"Tensorflow实现单变量线性回归-1\"><span class=\"toc-item-num\">1&nbsp;&nbsp;</span>Tensorflow实现单变量线性回归</a></span></li><li><span><a href=\"#Tensorflow实现多变量线性回归\" data-toc-modified-id=\"Tensorflow实现多变量线性回归-2\"><span class=\"toc-item-num\">2&nbsp;&nbsp;</span>Tensorflow实现多变量线性回归</a></span><ul class=\"toc-item\"><li><span><a href=\"#载入数据\" data-toc-modified-id=\"载入数据-2.1\"><span class=\"toc-item-num\">2.1&nbsp;&nbsp;</span>载入数据</a></span></li><li><span><a href=\"#构建模型\" data-toc-modified-id=\"构建模型-2.2\"><span class=\"toc-item-num\">2.2&nbsp;&nbsp;</span>构建模型</a></span></li><li><span><a href=\"#训练模型\" data-toc-modified-id=\"训练模型-2.3\"><span class=\"toc-item-num\">2.3&nbsp;&nbsp;</span>训练模型</a></span></li></ul></li></ul></div>"
   ]
  },
  {
   "cell_type": "markdown",
   "metadata": {},
   "source": [
    "# Tensorflow实现单变量线性回归"
   ]
  },
  {
   "cell_type": "markdown",
   "metadata": {},
   "source": [
    "** 详见示例：单变量线性回归.ipynb **"
   ]
  },
  {
   "cell_type": "markdown",
   "metadata": {},
   "source": [
    "# Tensorflow实现多变量线性回归"
   ]
  },
  {
   "cell_type": "markdown",
   "metadata": {},
   "source": [
    "** 在上一节中，我们使用Tensorflow构建了第一个完整的模型——一元线性回归。在这一节中，我们将构建一个多变量线性模型来实现多维数据的回归。此外，我们还将介绍如何利用Tensorflow自带的可视化工具TensorBoard分析训练过程。 **"
   ]
  },
  {
   "cell_type": "markdown",
   "metadata": {},
   "source": [
    "## 载入数据"
   ]
  },
  {
   "cell_type": "markdown",
   "metadata": {},
   "source": [
    "** 导入相关库 **"
   ]
  },
  {
   "cell_type": "code",
   "execution_count": null,
   "metadata": {
    "collapsed": true
   },
   "outputs": [],
   "source": [
    "%matplotlib notebook\n",
    "\n",
    "import matplotlib.pyplot as plt\n",
    "import tensorflow as tf\n",
    "import tensorflow.contrib.learn as skflow\n",
    "from sklearn.utils import shuffle\n",
    "import numpy as np\n",
    "import pandas as pd"
   ]
  },
  {
   "cell_type": "markdown",
   "metadata": {},
   "source": [
    "** 数据集简介 **"
   ]
  },
  {
   "cell_type": "markdown",
   "metadata": {},
   "source": [
    "本数据集包含与波士顿房价相关的多个因素：<br>\n",
    "** CRIM **：城镇人均犯罪率<br>\n",
    "** ZN **：住宅用地超过25000 sq.ft. 的比例<br>\n",
    "** INDUS ** : 城镇非零售商用土地的比例<br>\n",
    "** CHAS **：Charles河空变量（如果边界是河流，则为1；否则，为0）<br>\n",
    "** NOX **：一氧化氮浓度<br>\n",
    "** RM **：住宅平均房间数<br>\n",
    "**AGE **：1940年之前建成的自用房屋比例<br>\n",
    "** DIS **：到波士顿5个中心区域的加权距离<br>\n",
    "** RAD **：辐射性公路的靠近指数<br>\n",
    "** TAX **：每1万美元的全值财产税率<br>\n",
    "** PTRATIO **：城镇师生比例<br>\n",
    "** LSTAT **：人口中地位低下者的比例<br>\n",
    "** MEDV **：自住房的平均房价，单位：千美元<br>"
   ]
  },
  {
   "cell_type": "markdown",
   "metadata": {},
   "source": [
    "** 数据集以CSV格式存储，可通过Pandas库读取并进行格式转换 **"
   ]
  },
  {
   "cell_type": "markdown",
   "metadata": {},
   "source": [
    "** Pandas库 **可以帮助我们快速读取常规大小的数据文件<br>\n",
    "能够读取CVS文件, 文本文件、MS Excel、SQL数据库以及用于科学用途的HDF5格式文件<br>\n",
    "自动转换为Numpy的多维阵列"
   ]
  },
  {
   "cell_type": "markdown",
   "metadata": {},
   "source": [
    "** 通过Pandas导入数据 **"
   ]
  },
  {
   "cell_type": "code",
   "execution_count": null,
   "metadata": {
    "collapsed": false
   },
   "outputs": [],
   "source": [
    "df = pd.read_csv(\"data/boston.csv\", header=0)\n",
    "print (df.describe())"
   ]
  },
  {
   "cell_type": "markdown",
   "metadata": {},
   "source": [
    "** 载入本示例所需数据 **"
   ]
  },
  {
   "cell_type": "code",
   "execution_count": null,
   "metadata": {
    "collapsed": true
   },
   "outputs": [],
   "source": [
    "x_data = df[['CRIM', 'DIS', 'LSTAT']].values.astype(float) #选取其中3个比较重要的影响因素\n",
    "y_data = df['MEDV'].values.astype(float) #获取y"
   ]
  },
  {
   "cell_type": "markdown",
   "metadata": {},
   "source": [
    "## 构建模型 "
   ]
  },
  {
   "cell_type": "markdown",
   "metadata": {},
   "source": [
    "** 定义$x$和$y$的占位符 **"
   ]
  },
  {
   "cell_type": "code",
   "execution_count": null,
   "metadata": {
    "collapsed": true
   },
   "outputs": [],
   "source": [
    "x = tf.placeholder(tf.float32, [None,3], name = \"x\") # 3个影响因素\n",
    "y = tf.placeholder(tf.float32, [None,1], name = \"y\")"
   ]
  },
  {
   "cell_type": "markdown",
   "metadata": {},
   "source": [
    "** 创建变量 **"
   ]
  },
  {
   "cell_type": "code",
   "execution_count": null,
   "metadata": {
    "collapsed": true
   },
   "outputs": [],
   "source": [
    "with tf.name_scope(\"Model\"):\n",
    "    w = tf.Variable(tf.random_normal([3,1], stddev=0.01), name=\"w0\")\n",
    "    b = tf.Variable(1., name=\"b0\")\n",
    "    def model(x, w, b):\n",
    "        return tf.matmul(x, w) + b\n",
    "\n",
    "    pred= model(x, w, b)"
   ]
  },
  {
   "cell_type": "markdown",
   "metadata": {},
   "source": [
    "<img src=\"name_scope_w.jpg\" >"
   ]
  },
  {
   "cell_type": "markdown",
   "metadata": {},
   "source": [
    "可以看到** b0 **和** w0 **都在命名空间** Model **下"
   ]
  },
  {
   "cell_type": "markdown",
   "metadata": {},
   "source": [
    "** 补充介绍——命名空间name_scope ** <br>\n",
    "Tensorflow中常有数以千计节点，在可视化过程中很难一下子全部展示出来，因此可用name_scope为变量划分范围，在可视化中，这表示在计算图中的一个层级。<br>\n",
    "- name_scope** 不会影响 **用get_variable()创建的变量的名字<br>\n",
    "- name_scope** 会影响 **用Variable()创建的变量以及op_name<br>\n",
    "下面举例说明："
   ]
  },
  {
   "cell_type": "markdown",
   "metadata": {},
   "source": [
    "<img src=\"name_scope.jpg\" >"
   ]
  },
  {
   "cell_type": "markdown",
   "metadata": {},
   "source": [
    "## 训练模型 ##"
   ]
  },
  {
   "cell_type": "markdown",
   "metadata": {},
   "source": [
    "** 设置训练参数 **"
   ]
  },
  {
   "cell_type": "code",
   "execution_count": null,
   "metadata": {
    "collapsed": true
   },
   "outputs": [],
   "source": [
    "train_epochs = 50 # 迭代次数\n",
    "learning_rate = 0.01 #学习率"
   ]
  },
  {
   "cell_type": "markdown",
   "metadata": {},
   "source": [
    "** 定义均方差损失函数 **"
   ]
  },
  {
   "cell_type": "code",
   "execution_count": null,
   "metadata": {
    "collapsed": true
   },
   "outputs": [],
   "source": [
    "with tf.name_scope(\"LossFunction\"):\n",
    "    loss_function = tf.reduce_mean(tf.pow(y-pred, 2)) #均方误差"
   ]
  },
  {
   "cell_type": "markdown",
   "metadata": {},
   "source": [
    "<img src=\"loss_function_multi.jpg\" width=400 height=400/>"
   ]
  },
  {
   "cell_type": "markdown",
   "metadata": {},
   "source": [
    "同样，我们可以通过TensorBoard查看命名空间LossFunction下的操作（op），包括：mean, pow和sub(相减)，与我们定义的loss_function = tf.reduce_mean(tf.pow(y-pred, 2))相一致。"
   ]
  },
  {
   "cell_type": "markdown",
   "metadata": {},
   "source": [
    "** 选择优化器 **"
   ]
  },
  {
   "cell_type": "code",
   "execution_count": null,
   "metadata": {
    "collapsed": true
   },
   "outputs": [],
   "source": [
    "optimizer = tf.train.AdamOptimizer(learning_rate).minimize(loss_function)"
   ]
  },
  {
   "cell_type": "markdown",
   "metadata": {},
   "source": [
    "** 声明会话 **"
   ]
  },
  {
   "cell_type": "code",
   "execution_count": null,
   "metadata": {
    "collapsed": true
   },
   "outputs": [],
   "source": [
    "sess = tf.Session()\n",
    "init = tf.global_variables_initializer()"
   ]
  },
  {
   "cell_type": "markdown",
   "metadata": {},
   "source": [
    "** 生成图协议文件 **"
   ]
  },
  {
   "cell_type": "code",
   "execution_count": null,
   "metadata": {
    "collapsed": false
   },
   "outputs": [],
   "source": [
    "tf.train.write_graph(sess.graph, 'log/boston','graph.pbtxt')"
   ]
  },
  {
   "cell_type": "code",
   "execution_count": null,
   "metadata": {
    "collapsed": true
   },
   "outputs": [],
   "source": [
    "loss_op = tf.summary.scalar(\"loss\", loss_function)\n",
    "merged = tf.summary.merge_all()"
   ]
  },
  {
   "cell_type": "markdown",
   "metadata": {},
   "source": [
    "** 补充介绍——TensorBoard **<br>\n",
    "TensorBoard是Tensorflow自带的可视化工具。<br>\n",
    "目前支持7种可视化对象：** SCALARS, IMAGES,AUDIO,GRAPHS,DISTRIBUTIONS,HISTOGRAMS,EMBEDDINGS **。"
   ]
  },
  {
   "cell_type": "markdown",
   "metadata": {},
   "source": [
    "在训练过程中，通过记录下结构化的数据，然后运行一个本地服务器，监听6006端口，即可实现可视化。<br>\n",
    "先指定需要记录的数据，然后通过以下指令则可打开TensorBoard面板：<br>\n",
    "** tensorboard --logdir=/your/log/path **<br>\n",
    "输入上述指令后，会显示："
   ]
  },
  {
   "cell_type": "markdown",
   "metadata": {},
   "source": [
    "<img src=\"tb_6006.jpg\" />"
   ]
  },
  {
   "cell_type": "markdown",
   "metadata": {},
   "source": [
    "此时，我们就可以在浏览器中打开 ** http://192.168.2.102:6006 **，查看面板各项功能。<br>\n",
    "注意：具体IP地址会因机器不同而不同，查看命令窗口中“You can navigate to”后面所显示的IP即可。<br>\n",
    "例如，本示例中通过** tf.summary.scalar **记录loss_function的值，因此可在TensorBoard的SCALARS面板中查看到如下可视化结果："
   ]
  },
  {
   "cell_type": "markdown",
   "metadata": {},
   "source": [
    "<img src=\"loss_scalar_multi.jpg\" width=600 height=500 />"
   ]
  },
  {
   "cell_type": "markdown",
   "metadata": {},
   "source": [
    "** 启动会话 **"
   ]
  },
  {
   "cell_type": "code",
   "execution_count": null,
   "metadata": {
    "collapsed": true
   },
   "outputs": [],
   "source": [
    "sess.run(init)"
   ]
  },
  {
   "cell_type": "markdown",
   "metadata": {},
   "source": [
    "** 创建摘要的文件写入符（FileWriter） **"
   ]
  },
  {
   "cell_type": "code",
   "execution_count": null,
   "metadata": {
    "collapsed": true
   },
   "outputs": [],
   "source": [
    "writer = tf.summary.FileWriter('log/boston', sess.graph) "
   ]
  },
  {
   "cell_type": "markdown",
   "metadata": {},
   "source": [
    "tf.summary.FileWriter('/path/to/logs', sess.graph) 中所指定的路径‘/path/to/logs’，是运行tensorboard命令时参数logdir的值"
   ]
  },
  {
   "cell_type": "markdown",
   "metadata": {},
   "source": [
    "** 迭代训练 **"
   ]
  },
  {
   "cell_type": "code",
   "execution_count": null,
   "metadata": {
    "collapsed": false
   },
   "outputs": [],
   "source": [
    "for epoch in range (train_epochs):\n",
    "    lossv=0.0\n",
    "    for xs, ys in zip(x_data, y_data):   \n",
    "        z1 = xs.reshape(1,3)\n",
    "        z2 = ys.reshape(1,1)\n",
    "        sess.run(optimizer, feed_dict={x: z1, y: z2}) \n",
    "        summary_str = sess.run(loss_op, feed_dict={x: z1, y: z2})\n",
    "        lossv+=sess.run(loss_function, feed_dict={x: z1, y: z2})/506.00\n",
    "        writer.add_summary(summary_str, epoch) \n",
    "    xvalues, yvalues = shuffle(x_data, y_data)\n",
    "    print (lossv)\n",
    "    b0temp=b.eval(session=sess)\n",
    "    w0temp=w.eval(session=sess)\n",
    "    print(\"epoch=\", epoch+1,\"b=\", b0temp,\"w=\", w0temp )\n",
    "    "
   ]
  },
  {
   "cell_type": "code",
   "execution_count": null,
   "metadata": {
    "collapsed": false
   },
   "outputs": [],
   "source": [
    "print(\"y=\",w0temp[0], \"x1+\",w0temp[1], \"x2+\",w0temp[2], \"x3+\", [b0temp])\n",
    "print(\"y=\",w0temp[0], \"CRIM+\", w0temp[1], 'DIS+', w0temp[2], \"LSTAT+\", [b0temp])"
   ]
  },
  {
   "cell_type": "code",
   "execution_count": null,
   "metadata": {
    "collapsed": true
   },
   "outputs": [],
   "source": []
  }
 ],
 "metadata": {
  "anaconda-cloud": {},
  "kernelspec": {
   "display_name": "Python [default]",
   "language": "python",
   "name": "python3"
  },
  "language_info": {
   "codemirror_mode": {
    "name": "ipython",
    "version": 3
   },
   "file_extension": ".py",
   "mimetype": "text/x-python",
   "name": "python",
   "nbconvert_exporter": "python",
   "pygments_lexer": "ipython3",
   "version": "3.5.2"
  },
  "toc": {
   "base_numbering": 1,
   "nav_menu": {},
   "number_sections": true,
   "sideBar": true,
   "skip_h1_title": false,
   "title_cell": "目录",
   "title_sidebar": "Contents",
   "toc_cell": true,
   "toc_position": {},
   "toc_section_display": true,
   "toc_window_display": true
  }
 },
 "nbformat": 4,
 "nbformat_minor": 2
}
