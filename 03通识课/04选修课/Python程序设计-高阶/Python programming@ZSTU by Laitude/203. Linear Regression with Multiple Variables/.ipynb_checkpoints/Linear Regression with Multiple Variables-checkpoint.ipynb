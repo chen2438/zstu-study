{
 "cells": [
  {
   "cell_type": "markdown",
   "metadata": {},
   "source": [
    "# 多变量线性回归（Linear Regression with Multiple Variables）\n",
    "## 浙江理工大学 沈炜"
   ]
  },
  {
   "cell_type": "markdown",
   "metadata": {},
   "source": [
    "# Tensorflow实现多变量线性回归"
   ]
  },
  {
   "cell_type": "markdown",
   "metadata": {},
   "source": [
    "** 在上一节，使用Tensorflow构建了第一个完整的模型——一元线性回归。在这一节中，将构建一个多变量线性模型来实现多维数据的回归。此外，还将介绍如何利用Tensorflow自带的可视化工具TensorBoard分析训练过程。 **"
   ]
  },
  {
   "cell_type": "markdown",
   "metadata": {},
   "source": [
    "## 载入数据"
   ]
  },
  {
   "cell_type": "markdown",
   "metadata": {},
   "source": [
    "** 导入相关库 **"
   ]
  },
  {
   "cell_type": "code",
   "execution_count": 19,
   "metadata": {},
   "outputs": [],
   "source": [
    "# %matplotlib notebook\n",
    "%matplotlib inline\n",
    "\n",
    "import matplotlib.pyplot as plt\n",
    "import tensorflow as tf\n",
    "import tensorflow.contrib.learn as skflow\n",
    "from sklearn.utils import shuffle\n",
    "import numpy as np\n",
    "import pandas as pd"
   ]
  },
  {
   "cell_type": "markdown",
   "metadata": {},
   "source": [
    "上述运行会有一个警告<br>\n",
    "C:\\Anaconda3\\lib\\site-packages\\h5py\\__init__.py:36: FutureWarning: Conversion of the second argument of issubdtype from `float` to `np.floating` is deprecated. In future, it will be treated as `np.float64 == np.dtype(float).type`.\n",
    "  from ._conv import register_converters as _register_converters<br>\n",
    "解决方法：\n",
    "<img src='h5py.png'>"
   ]
  },
  {
   "cell_type": "markdown",
   "metadata": {},
   "source": [
    "** 数据集简介 **"
   ]
  },
  {
   "cell_type": "markdown",
   "metadata": {},
   "source": [
    "本数据集包含与波士顿房价相关的多个因素，如下图：<br>\n",
    "<img src='columns.png'>"
   ]
  },
  {
   "cell_type": "markdown",
   "metadata": {},
   "source": [
    "** 数据集以CSV格式存储，可通过Pandas库读取并进行格式转换 **"
   ]
  },
  {
   "cell_type": "markdown",
   "metadata": {},
   "source": [
    "** Pandas库 **可以帮助我们快速读取常规大小的数据文件<br>\n",
    "能够读取CVS文件, 文本文件、MS Excel、SQL数据库以及用于科学用途的HDF5格式文件<br>\n",
    "自动转换为Numpy的多维阵列<br>\n",
    "Pandas资源：http://pandas.pydata.org/pandas-docs/stable/basics.html#basics<br>\n",
    "http://python.jobbole.com/84416/<br>\n",
    "HDF相关信息参见：https://baike.baidu.com/item/HDF/1256312?fr=aladdin<br>"
   ]
  },
  {
   "cell_type": "markdown",
   "metadata": {},
   "source": [
    "** 通过Pandas导入数据 **"
   ]
  },
  {
   "cell_type": "code",
   "execution_count": 3,
   "metadata": {},
   "outputs": [
    {
     "name": "stdout",
     "output_type": "stream",
     "text": [
      "<class 'pandas.core.frame.DataFrame'>\n",
      "(506, 13)\n",
      "             CRIM         ZN       INDUS         CHAS         NOX          RM  \\\n",
      "count  506.000000  506.000000  506.000000  506.000000  506.000000  506.000000   \n",
      "mean     3.613524   11.363636   11.136779    0.069170    0.554695    6.284634   \n",
      "std      8.601545   23.322453    6.860353    0.253994    0.115878    0.702617   \n",
      "min      0.006320    0.000000    0.460000    0.000000    0.385000    3.561000   \n",
      "25%      0.082045    0.000000    5.190000    0.000000    0.449000    5.885500   \n",
      "50%      0.256510    0.000000    9.690000    0.000000    0.538000    6.208500   \n",
      "75%      3.677082   12.500000   18.100000    0.000000    0.624000    6.623500   \n",
      "max     88.976200  100.000000   27.740000    1.000000    0.871000    8.780000   \n",
      "\n",
      "              AGE         DIS         RAD         TAX     PTRATIO       LSTAT  \\\n",
      "count  506.000000  506.000000  506.000000  506.000000  506.000000  506.000000   \n",
      "mean    68.574901    3.795043    9.549407  408.237154   18.455534   12.653063   \n",
      "std     28.148861    2.105710    8.707259  168.537116    2.164946    7.141062   \n",
      "min      2.900000    1.129600    1.000000  187.000000   12.600000    1.730000   \n",
      "25%     45.025000    2.100175    4.000000  279.000000   17.400000    6.950000   \n",
      "50%     77.500000    3.207450    5.000000  330.000000   19.050000   11.360000   \n",
      "75%     94.075000    5.188425   24.000000  666.000000   20.200000   16.955000   \n",
      "max    100.000000   12.126500   24.000000  711.000000   22.000000   37.970000   \n",
      "\n",
      "             MEDV  \n",
      "count  506.000000  \n",
      "mean    22.532806  \n",
      "std      9.197104  \n",
      "min      5.000000  \n",
      "25%     17.025000  \n",
      "50%     21.200000  \n",
      "75%     25.000000  \n",
      "max     50.000000  \n"
     ]
    }
   ],
   "source": [
    "df = pd.read_csv(\"data/boston.csv\", header=0)   # 数据在当前目录的data目录下\n",
    "# header = 0是默认情况（即不标明，默认就是header = 0），表示以数据的第一行为列标题。\n",
    "print(type(df))\n",
    "print(df.shape)\n",
    "print (df.describe())  # 输出数据的描述，计数，平均值，标准差，最小值，最大值以及百分位数"
   ]
  },
  {
   "cell_type": "markdown",
   "metadata": {},
   "source": [
    "** 载入本示例所需数据 **"
   ]
  },
  {
   "cell_type": "code",
   "execution_count": 5,
   "metadata": {},
   "outputs": [],
   "source": [
    "x_data = df[['CRIM', 'DIS', 'LSTAT']].values.astype(float) #选取其中3个比较重要的影响因素\n",
    "y_data = df['MEDV'].values.astype(float) #获取y"
   ]
  },
  {
   "cell_type": "markdown",
   "metadata": {},
   "source": [
    "## 构建模型 "
   ]
  },
  {
   "cell_type": "markdown",
   "metadata": {},
   "source": [
    "** 定义$x$和$y$的占位符 **"
   ]
  },
  {
   "cell_type": "code",
   "execution_count": 6,
   "metadata": {},
   "outputs": [],
   "source": [
    "x = tf.placeholder(tf.float32, [None,3], name = \"x\") # 3个影响因素,[None, 3]表示列是3，行不定\n",
    "y = tf.placeholder(tf.float32, [None,1], name = \"y\")"
   ]
  },
  {
   "cell_type": "markdown",
   "metadata": {},
   "source": [
    "** 创建变量 **"
   ]
  },
  {
   "cell_type": "code",
   "execution_count": 7,
   "metadata": {},
   "outputs": [
    {
     "name": "stdout",
     "output_type": "stream",
     "text": [
      "WARNING:tensorflow:From c:\\python37\\lib\\site-packages\\tensorflow\\python\\framework\\op_def_library.py:263: colocate_with (from tensorflow.python.framework.ops) is deprecated and will be removed in a future version.\n",
      "Instructions for updating:\n",
      "Colocations handled automatically by placer.\n"
     ]
    }
   ],
   "source": [
    "with tf.name_scope(\"Model\"):  # 创建了一个命名域，类似于命名空间\n",
    "    w = tf.Variable(tf.random_normal([3,1], stddev=0.01), name=\"w0\")\n",
    "    b = tf.Variable(1., name=\"b0\")\n",
    "    def model(x, w, b):\n",
    "        return tf.matmul(x, w) + b  # 注意这里的matmul，表示矩阵相乘，与上一次课有差别\n",
    "\n",
    "    pred= model(x, w, b)"
   ]
  },
  {
   "cell_type": "markdown",
   "metadata": {},
   "source": [
    "<img src=\"name_scope_w.jpg\" >"
   ]
  },
  {
   "cell_type": "markdown",
   "metadata": {},
   "source": [
    "可以看到** b0 **和** w0 **都在命名空间** Model **下"
   ]
  },
  {
   "cell_type": "markdown",
   "metadata": {},
   "source": [
    "** 补充介绍——命名空间name_scope ** <br>\n",
    "Tensorflow中常有数以千计节点，在可视化过程中很难一下子全部展示出来，因此可用name_scope为变量划分范围，在可视化中，这表示在计算图中的一个层级。<br>\n",
    "- name_scope** 不会影响 **用get_variable()创建的变量的名字<br>\n",
    "- name_scope** 会影响 **用Variable()创建的变量以及op_name<br>\n",
    "参见：https://blog.csdn.net/u012609509/article/details/80045529"
   ]
  },
  {
   "cell_type": "markdown",
   "metadata": {},
   "source": [
    "## 训练模型 ##"
   ]
  },
  {
   "cell_type": "markdown",
   "metadata": {},
   "source": [
    "** 设置训练参数 **"
   ]
  },
  {
   "cell_type": "code",
   "execution_count": 8,
   "metadata": {},
   "outputs": [],
   "source": [
    "train_epochs = 50 # 迭代次数\n",
    "learning_rate = 0.01 #学习率"
   ]
  },
  {
   "cell_type": "markdown",
   "metadata": {},
   "source": [
    "** 定义均方差损失函数 **"
   ]
  },
  {
   "cell_type": "code",
   "execution_count": 9,
   "metadata": {},
   "outputs": [],
   "source": [
    "with tf.name_scope(\"LossFunction\"):\n",
    "    loss_function = tf.reduce_mean(tf.pow(y-pred, 2)) #均方误差"
   ]
  },
  {
   "cell_type": "markdown",
   "metadata": {},
   "source": [
    "<img src=\"loss_function_multi.jpg\" width=400 height=400/>"
   ]
  },
  {
   "cell_type": "markdown",
   "metadata": {},
   "source": [
    "同样，我们可以通过TensorBoard查看命名空间LossFunction下的操作（op），包括：mean, pow和sub(相减)，与我们定义的loss_function = tf.reduce_mean(tf.pow(y-pred, 2))相一致。"
   ]
  },
  {
   "cell_type": "markdown",
   "metadata": {},
   "source": [
    "** 选择优化器 **"
   ]
  },
  {
   "cell_type": "code",
   "execution_count": 11,
   "metadata": {},
   "outputs": [],
   "source": [
    "optimizer = tf.train.AdamOptimizer(learning_rate).minimize(loss_function) # 使用Adam算法的优化器，前一次我们用的是梯度下降\n",
    "# https://blog.csdn.net/leadai/article/details/79178787"
   ]
  },
  {
   "cell_type": "markdown",
   "metadata": {},
   "source": [
    "** 声明会话 **"
   ]
  },
  {
   "cell_type": "code",
   "execution_count": 12,
   "metadata": {},
   "outputs": [],
   "source": [
    "sess = tf.Session()\n",
    "init = tf.global_variables_initializer()"
   ]
  },
  {
   "cell_type": "markdown",
   "metadata": {},
   "source": [
    "** 生成图协议文件 **"
   ]
  },
  {
   "cell_type": "code",
   "execution_count": 13,
   "metadata": {},
   "outputs": [
    {
     "data": {
      "text/plain": [
       "'d:/log/boston\\\\graph.pbtxt'"
      ]
     },
     "execution_count": 13,
     "metadata": {},
     "output_type": "execute_result"
    }
   ],
   "source": [
    "log_dir='d:/log/boston'\n",
    "tf.train.write_graph(sess.graph, log_dir,'graph.pbtxt')"
   ]
  },
  {
   "cell_type": "code",
   "execution_count": 14,
   "metadata": {},
   "outputs": [],
   "source": [
    "loss_op = tf.summary.scalar(\"loss\", loss_function) #tf.summary()的各类方法，能够保存训练过程以及参数分布图并在tensorboard显示\n",
    "merged = tf.summary.merge_all() #合并默认图中收集的所有summaries"
   ]
  },
  {
   "cell_type": "markdown",
   "metadata": {},
   "source": [
    "本示例中通过** tf.summary.scalar **记录loss_function的值，因此可在TensorBoard的SCALARS面板中查看到如下可视化结果："
   ]
  },
  {
   "cell_type": "markdown",
   "metadata": {},
   "source": [
    "<img src=\"loss_scalar_multi.jpg\" width=600 height=500 />"
   ]
  },
  {
   "cell_type": "markdown",
   "metadata": {},
   "source": [
    "** 启动会话 **"
   ]
  },
  {
   "cell_type": "code",
   "execution_count": 15,
   "metadata": {},
   "outputs": [],
   "source": [
    "sess.run(init)"
   ]
  },
  {
   "cell_type": "markdown",
   "metadata": {},
   "source": [
    "** 创建摘要的文件写入符（FileWriter） **"
   ]
  },
  {
   "cell_type": "code",
   "execution_count": 16,
   "metadata": {},
   "outputs": [],
   "source": [
    "writer = tf.summary.FileWriter(log_dir, sess.graph) "
   ]
  },
  {
   "cell_type": "markdown",
   "metadata": {},
   "source": [
    "tf.summary.FileWriter('/path/to/logs', sess.graph) 中所指定的路径‘/path/to/logs’，是运行tensorboard命令时参数logdir的值"
   ]
  },
  {
   "cell_type": "markdown",
   "metadata": {},
   "source": [
    "** 迭代训练 **"
   ]
  },
  {
   "cell_type": "code",
   "execution_count": 17,
   "metadata": {},
   "outputs": [
    {
     "name": "stdout",
     "output_type": "stream",
     "text": [
      "epoch= 1 b= 2.755099 w= [[0.19803663]\n",
      " [1.6627392 ]\n",
      " [0.34754634]]\n",
      "loss= 67698.11190200757\n",
      "epoch= 2 b= 4.055539 w= [[-0.01480419]\n",
      " [ 2.6184928 ]\n",
      " [ 0.30251127]]\n",
      "loss= 37076.040282333684\n",
      "epoch= 3 b= 5.123198 w= [[-0.04913665]\n",
      " [ 2.9066694 ]\n",
      " [ 0.24763727]]\n",
      "loss= 31152.15740076226\n",
      "epoch= 4 b= 6.111701 w= [[-0.02851602]\n",
      " [ 2.9327605 ]\n",
      " [ 0.19572696]]\n",
      "loss= 29328.485920166993\n",
      "epoch= 5 b= 7.074787 w= [[-0.00310784]\n",
      " [ 2.8670511 ]\n",
      " [ 0.15182374]]\n",
      "loss= 27958.063790671542\n",
      "epoch= 6 b= 8.02578 w= [[0.01391256]\n",
      " [2.7681363 ]\n",
      " [0.113151  ]]\n",
      "loss= 26715.00924662661\n",
      "epoch= 7 b= 8.967491 w= [[0.02191003]\n",
      " [2.6572196 ]\n",
      " [0.07732213]]\n",
      "loss= 25556.727169620222\n",
      "epoch= 8 b= 9.899934 w= [[0.0236787]\n",
      " [2.5422552]\n",
      " [0.0431445]]\n",
      "loss= 24463.490885994168\n",
      "epoch= 9 b= 10.822251 w= [[0.02204263]\n",
      " [2.4262812 ]\n",
      " [0.0099385 ]]\n",
      "loss= 23425.657455033193\n",
      "epoch= 10 b= 11.733508 w= [[ 0.01879552]\n",
      " [ 2.3106167 ]\n",
      " [-0.02268666]]\n",
      "loss= 22438.810356230115\n",
      "epoch= 11 b= 12.632834 w= [[ 0.01479816]\n",
      " [ 2.1959333 ]\n",
      " [-0.0548982 ]]\n",
      "loss= 21500.401767305073\n",
      "epoch= 12 b= 13.519493 w= [[ 0.01040052]\n",
      " [ 2.0826135 ]\n",
      " [-0.08674162]]\n",
      "loss= 20608.771419637087\n",
      "epoch= 13 b= 14.39278 w= [[ 0.00574042]\n",
      " [ 1.9708943 ]\n",
      " [-0.11821041]]\n",
      "loss= 19762.703563361934\n",
      "epoch= 14 b= 15.252086 w= [[ 8.8107190e-04]\n",
      " [ 1.8609219e+00]\n",
      " [-1.4928378e-01]]\n",
      "loss= 18961.142967893436\n",
      "epoch= 15 b= 16.096783 w= [[-0.00413799]\n",
      " [ 1.7528052 ]\n",
      " [-0.17993517]]\n",
      "loss= 18203.06888877506\n",
      "epoch= 16 b= 16.926298 w= [[-0.00928517]\n",
      " [ 1.6466322 ]\n",
      " [-0.21014099]]\n",
      "loss= 17487.438963176104\n",
      "epoch= 17 b= 17.740076 w= [[-0.01453211]\n",
      " [ 1.5424681 ]\n",
      " [-0.23987518]]\n",
      "loss= 16813.14153971906\n",
      "epoch= 18 b= 18.53752 w= [[-0.01985186]\n",
      " [ 1.4403818 ]\n",
      " [-0.26911038]]\n",
      "loss= 16179.06855765415\n",
      "epoch= 19 b= 19.318138 w= [[-0.02522031]\n",
      " [ 1.3404291 ]\n",
      " [-0.29782292]]\n",
      "loss= 15584.036302407054\n",
      "epoch= 20 b= 20.081387 w= [[-0.0306151]\n",
      " [ 1.2426705]\n",
      " [-0.3259858]]\n",
      "loss= 15026.811326046993\n",
      "epoch= 21 b= 20.82678 w= [[-0.03601525]\n",
      " [ 1.1471581 ]\n",
      " [-0.3535722 ]]\n",
      "loss= 14506.108385627393\n",
      "epoch= 22 b= 21.55386 w= [[-0.04140257]\n",
      " [ 1.0539446 ]\n",
      " [-0.3805558 ]]\n",
      "loss= 14020.61087810396\n",
      "epoch= 23 b= 22.262207 w= [[-0.0467612 ]\n",
      " [ 0.9630808 ]\n",
      " [-0.40691134]]\n",
      "loss= 13568.958896123151\n",
      "epoch= 24 b= 22.951443 w= [[-0.05207748]\n",
      " [ 0.8746115 ]\n",
      " [-0.43261462]]\n",
      "loss= 13149.74108189873\n",
      "epoch= 25 b= 23.621243 w= [[-0.05733924]\n",
      " [ 0.78858256]\n",
      " [-0.45764416]]\n",
      "loss= 12761.530252426588\n",
      "epoch= 26 b= 24.27132 w= [[-0.06253657]\n",
      " [ 0.7050355 ]\n",
      " [-0.48197922]]\n",
      "loss= 12402.860346452726\n",
      "epoch= 27 b= 24.901424 w= [[-0.06766027]\n",
      " [ 0.62400496]\n",
      " [-0.50560147]]\n",
      "loss= 12072.253242533705\n",
      "epoch= 28 b= 25.511438 w= [[-0.07270417]\n",
      " [ 0.5455211 ]\n",
      " [-0.5284989 ]]\n",
      "loss= 11768.241584619198\n",
      "epoch= 29 b= 26.101257 w= [[-0.07766191]\n",
      " [ 0.46960637]\n",
      " [-0.5506605 ]]\n",
      "loss= 11489.306480213418\n",
      "epoch= 30 b= 26.67085 w= [[-0.08252847]\n",
      " [ 0.3962748 ]\n",
      " [-0.5720781 ]]\n",
      "loss= 11233.974989462506\n",
      "epoch= 31 b= 27.220213 w= [[-0.08729904]\n",
      " [ 0.32553568]\n",
      " [-0.592747  ]]\n",
      "loss= 11000.794791502301\n",
      "epoch= 32 b= 27.749489 w= [[-0.09197018]\n",
      " [ 0.25738767]\n",
      " [-0.6126678 ]]\n",
      "loss= 10788.321902602609\n",
      "epoch= 33 b= 28.258795 w= [[-0.09653749]\n",
      " [ 0.19181888]\n",
      " [-0.6318413 ]]\n",
      "loss= 10595.131766639724\n",
      "epoch= 34 b= 28.748356 w= [[-0.10099886]\n",
      " [ 0.12881358]\n",
      " [-0.6502737 ]]\n",
      "loss= 10419.889584609766\n",
      "epoch= 35 b= 29.218454 w= [[-0.10535027]\n",
      " [ 0.06834203]\n",
      " [-0.6679724 ]]\n",
      "loss= 10261.245725509714\n",
      "epoch= 36 b= 29.669392 w= [[-0.10958946]\n",
      " [ 0.01037012]\n",
      " [-0.6849478 ]]\n",
      "loss= 10117.943248858557\n",
      "epoch= 37 b= 30.101559 w= [[-0.11371404]\n",
      " [-0.04514707]\n",
      " [-0.70121366]]\n",
      "loss= 9988.763961797522\n",
      "epoch= 38 b= 30.515339 w= [[-0.1177217 ]\n",
      " [-0.09825673]\n",
      " [-0.71678334]]\n",
      "loss= 9872.57037915447\n",
      "epoch= 39 b= 30.911179 w= [[-0.12160989]\n",
      " [-0.14901431]\n",
      " [-0.7316736 ]]\n",
      "loss= 9768.263376148712\n",
      "epoch= 40 b= 31.289593 w= [[-0.12537776]\n",
      " [-0.19748424]\n",
      " [-0.74590355]]\n",
      "loss= 9674.815048987473\n",
      "epoch= 41 b= 31.651062 w= [[-0.12902364]\n",
      " [-0.24373172]\n",
      " [-0.7594914 ]]\n",
      "loss= 9591.262203111608\n",
      "epoch= 42 b= 31.996092 w= [[-0.13254677]\n",
      " [-0.28782135]\n",
      " [-0.77245617]]\n",
      "loss= 9516.720119216288\n",
      "epoch= 43 b= 32.32521 w= [[-0.135946  ]\n",
      " [-0.3298273 ]\n",
      " [-0.78481895]]\n",
      "loss= 9450.347650779304\n",
      "epoch= 44 b= 32.639023 w= [[-0.1392225 ]\n",
      " [-0.369824  ]\n",
      " [-0.79660326]]\n",
      "loss= 9391.373643615434\n",
      "epoch= 45 b= 32.93806 w= [[-0.14237516]\n",
      " [-0.4078869 ]\n",
      " [-0.8078283 ]]\n",
      "loss= 9339.073619309629\n",
      "epoch= 46 b= 33.222847 w= [[-0.1454055 ]\n",
      " [-0.4440854 ]\n",
      " [-0.81851524]]\n",
      "loss= 9292.820055741711\n",
      "epoch= 47 b= 33.493946 w= [[-0.14831273]\n",
      " [-0.4785013 ]\n",
      " [-0.8286856 ]]\n",
      "loss= 9251.991030976618\n",
      "epoch= 48 b= 33.75193 w= [[-0.15110053]\n",
      " [-0.511205  ]\n",
      " [-0.838362  ]]\n",
      "loss= 9216.03672440059\n",
      "epoch= 49 b= 33.997375 w= [[-0.15377058]\n",
      " [-0.5422739 ]\n",
      " [-0.84756607]]\n",
      "loss= 9184.468352146876\n",
      "epoch= 50 b= 34.230747 w= [[-0.1563234]\n",
      " [-0.5717814]\n",
      " [-0.8563163]]\n",
      "loss= 9156.803744944209\n"
     ]
    }
   ],
   "source": [
    "loss_list=[]\n",
    "for epoch in range (train_epochs):\n",
    "    lossv=0.0\n",
    "    loss_sum=0\n",
    "    for xs, ys in zip(x_data, y_data):   \n",
    "        z1 = xs.reshape(1,3)\n",
    "        z2 = ys.reshape(1,1)\n",
    "        sess.run(optimizer, feed_dict={x: z1, y: z2}) \n",
    "        summary_str = sess.run(loss_op, feed_dict={x: z1, y: z2})\n",
    "        lossv+=sess.run(loss_function, feed_dict={x: z1, y: z2})\n",
    "        loss_sum+=lossv\n",
    "        writer.add_summary(summary_str, epoch)\n",
    "    xvalues, yvalues = shuffle(x_data, y_data)\n",
    "    b0temp=b.eval(session=sess)\n",
    "    w0temp=w.eval(session=sess)\n",
    "    print(\"epoch=\", epoch+1,\"b=\", b0temp,\"w=\", w0temp )\n",
    "    loss_avg=loss_sum/len(y_data)   # 计算平均损失\n",
    "    loss_list.append(loss_avg)\n",
    "    print ('loss=',loss_avg)"
   ]
  },
  {
   "cell_type": "code",
   "execution_count": 20,
   "metadata": {},
   "outputs": [
    {
     "data": {
      "text/plain": [
       "[<matplotlib.lines.Line2D at 0x14bd9448>]"
      ]
     },
     "execution_count": 20,
     "metadata": {},
     "output_type": "execute_result"
    },
    {
     "data": {
      "image/png": "[encoded data removed]",
      "text/plain": [
       "<Figure size 432x288 with 1 Axes>"
      ]
     },
     "metadata": {
      "needs_background": "light"
     },
     "output_type": "display_data"
    }
   ],
   "source": [
    "plt.plot(loss_list)"
   ]
  },
  {
   "cell_type": "code",
   "execution_count": 21,
   "metadata": {},
   "outputs": [
    {
     "name": "stdout",
     "output_type": "stream",
     "text": [
      "y= [-0.1563234] x1+ [-0.5717814] x2+ [-0.8563163] x3+ [34.230747]\n",
      "y= [-0.1563234] CRIM+ [-0.5717814] DIS+ [-0.8563163] LSTAT+ [34.230747]\n"
     ]
    }
   ],
   "source": [
    "print(\"y=\",w0temp[0], \"x1+\",w0temp[1], \"x2+\",w0temp[2], \"x3+\", [b0temp])\n",
    "print(\"y=\",w0temp[0], \"CRIM+\", w0temp[1], 'DIS+', w0temp[2], \"LSTAT+\", [b0temp])"
   ]
  },
  {
   "cell_type": "code",
   "execution_count": 22,
   "metadata": {},
   "outputs": [
    {
     "name": "stdout",
     "output_type": "stream",
     "text": [
      "361\n",
      "预测值：20.167307\n",
      "标签值：19.900000\n"
     ]
    }
   ],
   "source": [
    "n = np.random.randint(506)       #随机确定一条来看看效果\n",
    "print(n)\n",
    "x_test = x_data[n]\n",
    "\n",
    "x_test = x_test.reshape(1,3)\n",
    "predict = sess.run(pred,feed_dict={x:x_test})\n",
    "print(\"预测值：%f\"%predict)\n",
    "\n",
    "target = y_data[n]\n",
    "print(\"标签值：%f\"%target)"
   ]
  },
  {
   "cell_type": "code",
   "execution_count": 23,
   "metadata": {},
   "outputs": [
    {
     "data": {
      "text/plain": [
       "50"
      ]
     },
     "execution_count": 23,
     "metadata": {},
     "output_type": "execute_result"
    }
   ],
   "source": [
    "len(loss_list)"
   ]
  },
  {
   "cell_type": "markdown",
   "metadata": {},
   "source": [
    "## 实验题\n",
    "### 实验题1：请你修改损失函数，或优化器，再运行本实例，看看运行结果差异。多尝试一下，思考出现差异的原因。"
   ]
  }
 ],
 "metadata": {
  "anaconda-cloud": {},
  "kernelspec": {
   "display_name": "Python 3",
   "language": "python",
   "name": "python3"
  },
  "language_info": {
   "codemirror_mode": {
    "name": "ipython",
    "version": 3
   },
   "file_extension": ".py",
   "mimetype": "text/x-python",
   "name": "python",
   "nbconvert_exporter": "python",
   "pygments_lexer": "ipython3",
   "version": "3.7.4"
  },
  "toc": {
   "base_numbering": 1,
   "nav_menu": {},
   "number_sections": true,
   "sideBar": true,
   "skip_h1_title": false,
   "title_cell": "目录",
   "title_sidebar": "Contents",
   "toc_cell": true,
   "toc_position": {},
   "toc_section_display": true,
   "toc_window_display": true
  }
 },
 "nbformat": 4,
 "nbformat_minor": 4
}
