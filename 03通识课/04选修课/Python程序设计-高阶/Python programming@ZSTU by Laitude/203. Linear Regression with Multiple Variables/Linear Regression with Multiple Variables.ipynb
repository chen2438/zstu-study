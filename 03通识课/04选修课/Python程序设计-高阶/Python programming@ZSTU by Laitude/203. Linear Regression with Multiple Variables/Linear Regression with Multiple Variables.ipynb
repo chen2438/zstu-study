{
 "cells": [
  {
   "cell_type": "markdown",
   "metadata": {},
   "source": [
    "# 多变量线性回归（Linear Regression with Multiple Variables）\n",
    "## 浙江理工大学 沈炜"
   ]
  },
  {
   "cell_type": "markdown",
   "metadata": {},
   "source": [
    "# Tensorflow实现多变量线性回归"
   ]
  },
  {
   "cell_type": "markdown",
   "metadata": {},
   "source": [
    "** 在上一节，使用Tensorflow构建了第一个完整的模型——一元线性回归。在这一节中，将构建一个多变量线性模型来实现多维数据的回归。此外，还将介绍如何利用Tensorflow自带的可视化工具TensorBoard分析训练过程。 **"
   ]
  },
  {
   "cell_type": "markdown",
   "metadata": {},
   "source": [
    "## 载入数据"
   ]
  },
  {
   "cell_type": "markdown",
   "metadata": {},
   "source": [
    "** 导入相关库 **"
   ]
  },
  {
   "cell_type": "code",
   "execution_count": 1,
   "metadata": {},
   "outputs": [
    {
     "name": "stderr",
     "output_type": "stream",
     "text": [
      "c:\\python37\\lib\\site-packages\\tensorflow\\python\\framework\\dtypes.py:526: FutureWarning: Passing (type, 1) or '1type' as a synonym of type is deprecated; in a future version of numpy, it will be understood as (type, (1,)) / '(1,)type'.\n",
      "  _np_qint8 = np.dtype([(\"qint8\", np.int8, 1)])\n",
      "c:\\python37\\lib\\site-packages\\tensorflow\\python\\framework\\dtypes.py:527: FutureWarning: Passing (type, 1) or '1type' as a synonym of type is deprecated; in a future version of numpy, it will be understood as (type, (1,)) / '(1,)type'.\n",
      "  _np_quint8 = np.dtype([(\"quint8\", np.uint8, 1)])\n",
      "c:\\python37\\lib\\site-packages\\tensorflow\\python\\framework\\dtypes.py:528: FutureWarning: Passing (type, 1) or '1type' as a synonym of type is deprecated; in a future version of numpy, it will be understood as (type, (1,)) / '(1,)type'.\n",
      "  _np_qint16 = np.dtype([(\"qint16\", np.int16, 1)])\n",
      "c:\\python37\\lib\\site-packages\\tensorflow\\python\\framework\\dtypes.py:529: FutureWarning: Passing (type, 1) or '1type' as a synonym of type is deprecated; in a future version of numpy, it will be understood as (type, (1,)) / '(1,)type'.\n",
      "  _np_quint16 = np.dtype([(\"quint16\", np.uint16, 1)])\n",
      "c:\\python37\\lib\\site-packages\\tensorflow\\python\\framework\\dtypes.py:530: FutureWarning: Passing (type, 1) or '1type' as a synonym of type is deprecated; in a future version of numpy, it will be understood as (type, (1,)) / '(1,)type'.\n",
      "  _np_qint32 = np.dtype([(\"qint32\", np.int32, 1)])\n",
      "c:\\python37\\lib\\site-packages\\tensorflow\\python\\framework\\dtypes.py:535: FutureWarning: Passing (type, 1) or '1type' as a synonym of type is deprecated; in a future version of numpy, it will be understood as (type, (1,)) / '(1,)type'.\n",
      "  np_resource = np.dtype([(\"resource\", np.ubyte, 1)])\n"
     ]
    }
   ],
   "source": [
    "# %matplotlib notebook\n",
    "%matplotlib inline\n",
    "\n",
    "import matplotlib.pyplot as plt\n",
    "import tensorflow as tf\n",
    "import tensorflow.contrib.learn as skflow\n",
    "from sklearn.utils import shuffle\n",
    "import numpy as np\n",
    "import pandas as pd"
   ]
  },
  {
   "cell_type": "markdown",
   "metadata": {},
   "source": [
    "上述运行会有一个警告<br>\n",
    "C:\\Anaconda3\\lib\\site-packages\\h5py\\__init__.py:36: FutureWarning: Conversion of the second argument of issubdtype from `float` to `np.floating` is deprecated. In future, it will be treated as `np.float64 == np.dtype(float).type`.\n",
    "  from ._conv import register_converters as _register_converters<br>\n",
    "解决方法：\n",
    "<img src='h5py.png'>"
   ]
  },
  {
   "cell_type": "markdown",
   "metadata": {},
   "source": [
    "** 数据集简介 **"
   ]
  },
  {
   "cell_type": "markdown",
   "metadata": {},
   "source": [
    "本数据集包含与波士顿房价相关的多个因素，如下图：<br>\n",
    "<img src='columns.png'>"
   ]
  },
  {
   "cell_type": "markdown",
   "metadata": {},
   "source": [
    "** 数据集以CSV格式存储，可通过Pandas库读取并进行格式转换 **"
   ]
  },
  {
   "cell_type": "markdown",
   "metadata": {},
   "source": [
    "** Pandas库 **可以帮助我们快速读取常规大小的数据文件<br>\n",
    "能够读取CVS文件, 文本文件、MS Excel、SQL数据库以及用于科学用途的HDF5格式文件<br>\n",
    "自动转换为Numpy的多维阵列<br>\n",
    "Pandas资源：http://pandas.pydata.org/pandas-docs/stable/basics.html#basics<br>\n",
    "http://python.jobbole.com/84416/<br>\n",
    "HDF相关信息参见：https://baike.baidu.com/item/HDF/1256312?fr=aladdin<br>"
   ]
  },
  {
   "cell_type": "markdown",
   "metadata": {},
   "source": [
    "** 通过Pandas导入数据 **"
   ]
  },
  {
   "cell_type": "code",
   "execution_count": 7,
   "metadata": {},
   "outputs": [
    {
     "name": "stdout",
     "output_type": "stream",
     "text": [
      "<class 'pandas.core.frame.DataFrame'>\n",
      "(506, 13)\n",
      "             CRIM         ZN       INDUS         CHAS         NOX          RM  \\\n",
      "count  506.000000  506.000000  506.000000  506.000000  506.000000  506.000000   \n",
      "mean     3.613524   11.363636   11.136779    0.069170    0.554695    6.284634   \n",
      "std      8.601545   23.322453    6.860353    0.253994    0.115878    0.702617   \n",
      "min      0.006320    0.000000    0.460000    0.000000    0.385000    3.561000   \n",
      "25%      0.082045    0.000000    5.190000    0.000000    0.449000    5.885500   \n",
      "50%      0.256510    0.000000    9.690000    0.000000    0.538000    6.208500   \n",
      "75%      3.677082   12.500000   18.100000    0.000000    0.624000    6.623500   \n",
      "max     88.976200  100.000000   27.740000    1.000000    0.871000    8.780000   \n",
      "\n",
      "              AGE         DIS         RAD         TAX     PTRATIO       LSTAT  \\\n",
      "count  506.000000  506.000000  506.000000  506.000000  506.000000  506.000000   \n",
      "mean    68.574901    3.795043    9.549407  408.237154   18.455534   12.653063   \n",
      "std     28.148861    2.105710    8.707259  168.537116    2.164946    7.141062   \n",
      "min      2.900000    1.129600    1.000000  187.000000   12.600000    1.730000   \n",
      "25%     45.025000    2.100175    4.000000  279.000000   17.400000    6.950000   \n",
      "50%     77.500000    3.207450    5.000000  330.000000   19.050000   11.360000   \n",
      "75%     94.075000    5.188425   24.000000  666.000000   20.200000   16.955000   \n",
      "max    100.000000   12.126500   24.000000  711.000000   22.000000   37.970000   \n",
      "\n",
      "             MEDV  \n",
      "count  506.000000  \n",
      "mean    22.532806  \n",
      "std      9.197104  \n",
      "min      5.000000  \n",
      "25%     17.025000  \n",
      "50%     21.200000  \n",
      "75%     25.000000  \n",
      "max     50.000000  \n"
     ]
    }
   ],
   "source": [
    "df = pd.read_csv(\"data/boston.csv\", header=0)   # 数据在当前目录的data目录下\n",
    "# header = 0是默认情况（即不标明，默认就是header = 0），表示以数据的第一行为列标题。\n",
    "print(type(df))\n",
    "print(df.shape)\n",
    "print (df.describe())  # 输出数据的描述，计数，平均值，标准差，最小值，最大值以及百分位数"
   ]
  },
  {
   "cell_type": "markdown",
   "metadata": {},
   "source": [
    "** 载入本示例所需数据 **"
   ]
  },
  {
   "cell_type": "code",
   "execution_count": 8,
   "metadata": {},
   "outputs": [],
   "source": [
    "x_data = df[['CRIM', 'DIS', 'LSTAT']].values.astype(float) #选取其中3个比较重要的影响因素\n",
    "y_data = df['MEDV'].values.astype(float) #获取y"
   ]
  },
  {
   "cell_type": "markdown",
   "metadata": {},
   "source": [
    "## 构建模型 "
   ]
  },
  {
   "cell_type": "markdown",
   "metadata": {},
   "source": [
    "** 定义$x$和$y$的占位符 **"
   ]
  },
  {
   "cell_type": "code",
   "execution_count": 9,
   "metadata": {},
   "outputs": [],
   "source": [
    "x = tf.placeholder(tf.float32, [None,3], name = \"x\") # 3个影响因素,[None, 3]表示列是3，行不定\n",
    "y = tf.placeholder(tf.float32, [None,1], name = \"y\")"
   ]
  },
  {
   "cell_type": "markdown",
   "metadata": {},
   "source": [
    "** 创建变量 **"
   ]
  },
  {
   "cell_type": "code",
   "execution_count": 10,
   "metadata": {},
   "outputs": [
    {
     "name": "stdout",
     "output_type": "stream",
     "text": [
      "WARNING:tensorflow:From c:\\python37\\lib\\site-packages\\tensorflow\\python\\framework\\op_def_library.py:263: colocate_with (from tensorflow.python.framework.ops) is deprecated and will be removed in a future version.\n",
      "Instructions for updating:\n",
      "Colocations handled automatically by placer.\n"
     ]
    }
   ],
   "source": [
    "with tf.name_scope(\"Model\"):  # 创建了一个命名域，类似于命名空间\n",
    "    w = tf.Variable(tf.random_normal([3,1], stddev=0.01), name=\"w0\")\n",
    "    b = tf.Variable(1., name=\"b0\")\n",
    "    def model(x, w, b):\n",
    "        return tf.matmul(x, w) + b  # 注意这里的matmul，表示矩阵相乘，与上一次课有差别\n",
    "\n",
    "    pred= model(x, w, b)"
   ]
  },
  {
   "cell_type": "markdown",
   "metadata": {},
   "source": [
    "<img src=\"name_scope_w.jpg\" >"
   ]
  },
  {
   "cell_type": "markdown",
   "metadata": {},
   "source": [
    "可以看到** b0 **和** w0 **都在命名空间** Model **下"
   ]
  },
  {
   "cell_type": "markdown",
   "metadata": {},
   "source": [
    "** 补充介绍——命名空间name_scope ** <br>\n",
    "Tensorflow中常有数以千计节点，在可视化过程中很难一下子全部展示出来，因此可用name_scope为变量划分范围，在可视化中，这表示在计算图中的一个层级。<br>\n",
    "- name_scope** 不会影响 **用get_variable()创建的变量的名字<br>\n",
    "- name_scope** 会影响 **用Variable()创建的变量以及op_name<br>\n",
    "参见：https://blog.csdn.net/u012609509/article/details/80045529"
   ]
  },
  {
   "cell_type": "markdown",
   "metadata": {},
   "source": [
    "## 训练模型 ##"
   ]
  },
  {
   "cell_type": "markdown",
   "metadata": {},
   "source": [
    "** 设置训练参数 **"
   ]
  },
  {
   "cell_type": "code",
   "execution_count": 23,
   "metadata": {},
   "outputs": [],
   "source": [
    "train_epochs = 60 # 迭代次数\n",
    "learning_rate = 0.01 #学习率"
   ]
  },
  {
   "cell_type": "markdown",
   "metadata": {},
   "source": [
    "** 定义均方差损失函数 **"
   ]
  },
  {
   "cell_type": "code",
   "execution_count": 12,
   "metadata": {},
   "outputs": [],
   "source": [
    "with tf.name_scope(\"LossFunction\"):\n",
    "    loss_function = tf.reduce_mean(tf.pow(y-pred, 2)) #均方误差"
   ]
  },
  {
   "cell_type": "markdown",
   "metadata": {},
   "source": [
    "<img src=\"loss_function_multi.jpg\" width=400 height=400/>"
   ]
  },
  {
   "cell_type": "markdown",
   "metadata": {},
   "source": [
    "同样，我们可以通过TensorBoard查看命名空间LossFunction下的操作（op），包括：mean, pow和sub(相减)，与我们定义的loss_function = tf.reduce_mean(tf.pow(y-pred, 2))相一致。"
   ]
  },
  {
   "cell_type": "markdown",
   "metadata": {},
   "source": [
    "** 选择优化器 **"
   ]
  },
  {
   "cell_type": "code",
   "execution_count": 13,
   "metadata": {},
   "outputs": [],
   "source": [
    "optimizer = tf.train.AdamOptimizer(learning_rate).minimize(loss_function) # 使用Adam算法的优化器，前一次我们用的是梯度下降\n",
    "# https://blog.csdn.net/leadai/article/details/79178787"
   ]
  },
  {
   "cell_type": "markdown",
   "metadata": {},
   "source": [
    "** 声明会话 **"
   ]
  },
  {
   "cell_type": "code",
   "execution_count": 14,
   "metadata": {},
   "outputs": [],
   "source": [
    "sess = tf.Session()\n",
    "init = tf.global_variables_initializer()"
   ]
  },
  {
   "cell_type": "markdown",
   "metadata": {},
   "source": [
    "** 生成图协议文件 **"
   ]
  },
  {
   "cell_type": "code",
   "execution_count": 15,
   "metadata": {},
   "outputs": [
    {
     "data": {
      "text/plain": [
       "'d:/log/boston\\\\graph.pbtxt'"
      ]
     },
     "execution_count": 15,
     "metadata": {},
     "output_type": "execute_result"
    }
   ],
   "source": [
    "log_dir='d:/log/boston'\n",
    "tf.train.write_graph(sess.graph, log_dir,'graph.pbtxt')"
   ]
  },
  {
   "cell_type": "code",
   "execution_count": 16,
   "metadata": {},
   "outputs": [],
   "source": [
    "loss_op = tf.summary.scalar(\"loss\", loss_function) #tf.summary()的各类方法，能够保存训练过程以及参数分布图并在tensorboard显示\n",
    "merged = tf.summary.merge_all() #合并默认图中收集的所有summaries"
   ]
  },
  {
   "cell_type": "markdown",
   "metadata": {},
   "source": [
    "本示例中通过** tf.summary.scalar **记录loss_function的值，因此可在TensorBoard的SCALARS面板中查看到如下可视化结果："
   ]
  },
  {
   "cell_type": "markdown",
   "metadata": {},
   "source": [
    "<img src=\"loss_scalar_multi.jpg\" width=600 height=500 />"
   ]
  },
  {
   "cell_type": "markdown",
   "metadata": {},
   "source": [
    "** 启动会话 **"
   ]
  },
  {
   "cell_type": "code",
   "execution_count": 17,
   "metadata": {},
   "outputs": [],
   "source": [
    "sess.run(init)"
   ]
  },
  {
   "cell_type": "markdown",
   "metadata": {},
   "source": [
    "** 创建摘要的文件写入符（FileWriter） **"
   ]
  },
  {
   "cell_type": "code",
   "execution_count": 18,
   "metadata": {},
   "outputs": [],
   "source": [
    "writer = tf.summary.FileWriter(log_dir, sess.graph) "
   ]
  },
  {
   "cell_type": "markdown",
   "metadata": {},
   "source": [
    "tf.summary.FileWriter('/path/to/logs', sess.graph) 中所指定的路径‘/path/to/logs’，是运行tensorboard命令时参数logdir的值"
   ]
  },
  {
   "cell_type": "markdown",
   "metadata": {},
   "source": [
    "** 迭代训练 **"
   ]
  },
  {
   "cell_type": "code",
   "execution_count": 24,
   "metadata": {},
   "outputs": [
    {
     "name": "stdout",
     "output_type": "stream",
     "text": [
      "epoch= 1 b= 34.454224 w= [[-0.15878035]\n",
      " [-0.5999975 ]\n",
      " [-0.86469436]]\n",
      "loss= 9132.50181932595\n",
      "epoch= 2 b= 34.66498 w= [[-0.16110788]\n",
      " [-0.62657297]\n",
      " [-0.87259513]]\n",
      "loss= 9111.507105621047\n",
      "epoch= 3 b= 34.865257 w= [[-0.1633268 ]\n",
      " [-0.65179306]\n",
      " [-0.88010246]]\n",
      "loss= 9093.299800897234\n",
      "epoch= 4 b= 35.055523 w= [[-0.16544156]\n",
      " [-0.67572445]\n",
      " [-0.887236  ]]\n",
      "loss= 9077.575732979636\n",
      "epoch= 5 b= 35.23619 w= [[-0.16745397]\n",
      " [-0.6984216 ]\n",
      " [-0.8940081 ]]\n",
      "loss= 9064.069760599532\n",
      "epoch= 6 b= 35.40777 w= [[-0.16936873]\n",
      " [-0.7199524 ]\n",
      " [-0.90044165]]\n",
      "loss= 9052.514056770802\n",
      "epoch= 7 b= 35.570663 w= [[-0.1711879 ]\n",
      " [-0.7403705 ]\n",
      " [-0.90654916]]\n",
      "loss= 9042.696853304096\n",
      "epoch= 8 b= 35.72528 w= [[-0.17291598]\n",
      " [-0.7597314 ]\n",
      " [-0.91234726]]\n",
      "loss= 9034.408468489339\n",
      "epoch= 9 b= 35.872017 w= [[-0.17455715]\n",
      " [-0.7780856 ]\n",
      " [-0.9178516 ]]\n",
      "loss= 9027.47939010851\n",
      "epoch= 10 b= 36.011303 w= [[-0.17611426]\n",
      " [-0.79548776]\n",
      " [-0.92307717]]\n",
      "loss= 9021.735329286963\n",
      "epoch= 11 b= 36.143482 w= [[-0.17759088]\n",
      " [-0.81198895]\n",
      " [-0.9280369 ]]\n",
      "loss= 9017.041823891126\n",
      "epoch= 12 b= 36.26896 w= [[-0.17899187]\n",
      " [-0.8276355 ]\n",
      " [-0.9327472 ]]\n",
      "loss= 9013.264919602305\n",
      "epoch= 13 b= 36.38795 w= [[-0.18031852]\n",
      " [-0.84246635]\n",
      " [-0.9372148 ]]\n",
      "loss= 9010.294568897272\n",
      "epoch= 14 b= 36.500847 w= [[-0.18157597]\n",
      " [-0.856522  ]\n",
      " [-0.94145465]]\n",
      "loss= 9008.03378440315\n",
      "epoch= 15 b= 36.60792 w= [[-0.18276624]\n",
      " [-0.86984485]\n",
      " [-0.94547665]]\n",
      "loss= 9006.376422001364\n",
      "epoch= 16 b= 36.709526 w= [[-0.1838942 ]\n",
      " [-0.8824733 ]\n",
      " [-0.94929475]]\n",
      "loss= 9005.253304787768\n",
      "epoch= 17 b= 36.80595 w= [[-0.1849623 ]\n",
      " [-0.89444834]\n",
      " [-0.95291924]]\n",
      "loss= 9004.58942944051\n",
      "epoch= 18 b= 36.89737 w= [[-0.18597274]\n",
      " [-0.9057984 ]\n",
      " [-0.956357  ]]\n",
      "loss= 9004.315124845683\n",
      "epoch= 19 b= 36.98414 w= [[-0.18693045]\n",
      " [-0.9165584 ]\n",
      " [-0.9596209 ]]\n",
      "loss= 9004.371491788912\n",
      "epoch= 20 b= 37.066425 w= [[-0.1878359 ]\n",
      " [-0.92675984]\n",
      " [-0.9627167 ]]\n",
      "loss= 9004.726013583186\n",
      "epoch= 21 b= 37.14445 w= [[-0.18869261]\n",
      " [-0.9364296 ]\n",
      " [-0.9656532 ]]\n",
      "loss= 9005.324986428606\n",
      "epoch= 22 b= 37.218468 w= [[-0.18950345]\n",
      " [-0.94559526]\n",
      " [-0.9684396 ]]\n",
      "loss= 9006.129369509314\n",
      "epoch= 23 b= 37.28865 w= [[-0.19027099]\n",
      " [-0.95428056]\n",
      " [-0.9710823 ]]\n",
      "loss= 9007.10595153131\n",
      "epoch= 24 b= 37.355247 w= [[-0.19099765]\n",
      " [-0.962515  ]\n",
      " [-0.9735909 ]]\n",
      "loss= 9008.2181718472\n",
      "epoch= 25 b= 37.418335 w= [[-0.19168344]\n",
      " [-0.97031873]\n",
      " [-0.9759684 ]]\n",
      "loss= 9009.443141307032\n",
      "epoch= 26 b= 37.478203 w= [[-0.1923341 ]\n",
      " [-0.9777129 ]\n",
      " [-0.97822493]]\n",
      "loss= 9010.764442134414\n",
      "epoch= 27 b= 37.535007 w= [[-0.19294946]\n",
      " [-0.9847298 ]\n",
      " [-0.98036677]]\n",
      "loss= 9012.145307120405\n",
      "epoch= 28 b= 37.58889 w= [[-0.19353189]\n",
      " [-0.9913802 ]\n",
      " [-0.9823988 ]]\n",
      "loss= 9013.588496026945\n",
      "epoch= 29 b= 37.639946 w= [[-0.19408242]\n",
      " [-0.99768335]\n",
      " [-0.98432463]]\n",
      "loss= 9015.071445294347\n",
      "epoch= 30 b= 37.688393 w= [[-0.19460343]\n",
      " [-1.003658  ]\n",
      " [-0.9861525 ]]\n",
      "loss= 9016.5720001867\n",
      "epoch= 31 b= 37.73436 w= [[-0.19509642]\n",
      " [-1.0093274 ]\n",
      " [-0.9878879 ]]\n",
      "loss= 9018.081165005053\n",
      "epoch= 32 b= 37.777905 w= [[-0.1955631]\n",
      " [-1.0146977]\n",
      " [-0.9895315]]\n",
      "loss= 9019.603854749475\n",
      "epoch= 33 b= 37.81925 w= [[-0.19600524]\n",
      " [-1.0197912 ]\n",
      " [-0.9910925 ]]\n",
      "loss= 9021.114662910528\n",
      "epoch= 34 b= 37.858444 w= [[-0.19642411]\n",
      " [-1.0246187 ]\n",
      " [-0.9925729 ]]\n",
      "loss= 9022.621095518405\n",
      "epoch= 35 b= 37.895607 w= [[-0.19681956]\n",
      " [-1.0291969 ]\n",
      " [-0.99397653]]\n",
      "loss= 9024.107305519627\n",
      "epoch= 36 b= 37.930836 w= [[-0.19719397]\n",
      " [-1.0335352 ]\n",
      " [-0.99530804]]\n",
      "loss= 9025.563622627345\n",
      "epoch= 37 b= 37.964214 w= [[-0.19754834]\n",
      " [-1.0376438 ]\n",
      " [-0.9965692 ]]\n",
      "loss= 9027.001930634839\n",
      "epoch= 38 b= 37.995914 w= [[-0.19788426]\n",
      " [-1.0415443 ]\n",
      " [-0.997768  ]]\n",
      "loss= 9028.39671521298\n",
      "epoch= 39 b= 38.02602 w= [[-0.19820273]\n",
      " [-1.045245  ]\n",
      " [-0.99890614]]\n",
      "loss= 9029.761715398372\n",
      "epoch= 40 b= 38.054512 w= [[-0.19850375]\n",
      " [-1.0487525 ]\n",
      " [-0.99998313]]\n",
      "loss= 9031.098445396185\n",
      "epoch= 41 b= 38.08156 w= [[-0.19878855]\n",
      " [-1.0520785 ]\n",
      " [-1.001006  ]]\n",
      "loss= 9032.393271375136\n",
      "epoch= 42 b= 38.1072 w= [[-0.19905831]\n",
      " [-1.0552319 ]\n",
      " [-1.0019761 ]]\n",
      "loss= 9033.644671102165\n",
      "epoch= 43 b= 38.131523 w= [[-0.19931392]\n",
      " [-1.0582219 ]\n",
      " [-1.002896  ]]\n",
      "loss= 9034.86395397137\n",
      "epoch= 44 b= 38.15454 w= [[-0.19955562]\n",
      " [-1.0610523 ]\n",
      " [-1.003767  ]]\n",
      "loss= 9036.045606906811\n",
      "epoch= 45 b= 38.176414 w= [[-0.19978537]\n",
      " [-1.063737  ]\n",
      " [-1.0045944 ]]\n",
      "loss= 9037.18011514534\n",
      "epoch= 46 b= 38.19714 w= [[-0.20000197]\n",
      " [-1.0662863 ]\n",
      " [-1.0053791 ]]\n",
      "loss= 9038.269104547688\n",
      "epoch= 47 b= 38.216835 w= [[-0.20020796]\n",
      " [-1.0687037 ]\n",
      " [-1.0061247 ]]\n",
      "loss= 9039.327988982353\n",
      "epoch= 48 b= 38.23549 w= [[-0.20040321]\n",
      " [-1.070994  ]\n",
      " [-1.006831  ]]\n",
      "loss= 9040.349609745537\n",
      "epoch= 49 b= 38.2532 w= [[-0.2005875]\n",
      " [-1.0731682]\n",
      " [-1.0075017]]\n",
      "loss= 9041.318587773021\n",
      "epoch= 50 b= 38.269966 w= [[-0.20076218]\n",
      " [-1.0752286 ]\n",
      " [-1.0081369 ]]\n",
      "loss= 9042.262234948226\n",
      "epoch= 51 b= 38.285934 w= [[-0.20092891]\n",
      " [-1.0771858 ]\n",
      " [-1.0087415 ]]\n",
      "loss= 9043.158918974143\n",
      "epoch= 52 b= 38.30102 w= [[-0.20108542]\n",
      " [-1.0790391 ]\n",
      " [-1.0093125 ]]\n",
      "loss= 9044.026399035616\n",
      "epoch= 53 b= 38.31533 w= [[-0.2012342]\n",
      " [-1.0807972]\n",
      " [-1.0098549]]\n",
      "loss= 9044.859193036797\n",
      "epoch= 54 b= 38.3289 w= [[-0.20137522]\n",
      " [-1.0824633 ]\n",
      " [-1.0103682 ]]\n",
      "loss= 9045.649623408299\n",
      "epoch= 55 b= 38.34177 w= [[-0.20150852]\n",
      " [-1.0840433 ]\n",
      " [-1.0108558 ]]\n",
      "loss= 9046.40974724855\n",
      "epoch= 56 b= 38.354 w= [[-0.20163554]\n",
      " [-1.0855415 ]\n",
      " [-1.0113193 ]]\n",
      "loss= 9047.134720369706\n",
      "epoch= 57 b= 38.36555 w= [[-0.20175548]\n",
      " [-1.0869612 ]\n",
      " [-1.0117569 ]]\n",
      "loss= 9047.832127835829\n",
      "epoch= 58 b= 38.376568 w= [[-0.20186926]\n",
      " [-1.0883111 ]\n",
      " [-1.0121741 ]]\n",
      "loss= 9048.495055309078\n",
      "epoch= 59 b= 38.38697 w= [[-0.20197675]\n",
      " [-1.08959   ]\n",
      " [-1.0125687 ]]\n",
      "loss= 9049.133620037068\n",
      "epoch= 60 b= 38.396828 w= [[-0.20207885]\n",
      " [-1.0907991 ]\n",
      " [-1.0129426 ]]\n",
      "loss= 9049.740365511252\n"
     ]
    }
   ],
   "source": [
    "loss_list=[]\n",
    "for epoch in range (train_epochs):\n",
    "    lossv=0.0\n",
    "    loss_sum=0\n",
    "    for xs, ys in zip(x_data, y_data):   \n",
    "        z1 = xs.reshape(1,3)\n",
    "        z2 = ys.reshape(1,1)\n",
    "        sess.run(optimizer, feed_dict={x: z1, y: z2}) \n",
    "        summary_str = sess.run(loss_op, feed_dict={x: z1, y: z2})\n",
    "        lossv+=sess.run(loss_function, feed_dict={x: z1, y: z2})\n",
    "        loss_sum+=lossv\n",
    "        writer.add_summary(summary_str, epoch)\n",
    "    xvalues, yvalues = shuffle(x_data, y_data)\n",
    "    b0temp=b.eval(session=sess)\n",
    "    w0temp=w.eval(session=sess)\n",
    "    print(\"epoch=\", epoch+1,\"b=\", b0temp,\"w=\", w0temp )\n",
    "    loss_avg=loss_sum/len(y_data)   # 计算平均损失\n",
    "    loss_list.append(loss_avg)\n",
    "    print ('loss=',loss_avg)"
   ]
  },
  {
   "cell_type": "code",
   "execution_count": 25,
   "metadata": {},
   "outputs": [
    {
     "data": {
      "text/plain": [
       "[<matplotlib.lines.Line2D at 0x14ff46c8>]"
      ]
     },
     "execution_count": 25,
     "metadata": {},
     "output_type": "execute_result"
    },
    {
     "data": {
      "image/png": "[encoded data removed]",
      "text/plain": [
       "<Figure size 432x288 with 1 Axes>"
      ]
     },
     "metadata": {
      "needs_background": "light"
     },
     "output_type": "display_data"
    }
   ],
   "source": [
    "plt.plot(loss_list)"
   ]
  },
  {
   "cell_type": "code",
   "execution_count": 26,
   "metadata": {},
   "outputs": [
    {
     "name": "stdout",
     "output_type": "stream",
     "text": [
      "y= [-0.20207885] x1+ [-1.0907991] x2+ [-1.0129426] x3+ [38.396828]\n",
      "y= [-0.20207885] CRIM+ [-1.0907991] DIS+ [-1.0129426] LSTAT+ [38.396828]\n"
     ]
    }
   ],
   "source": [
    "print(\"y=\",w0temp[0], \"x1+\",w0temp[1], \"x2+\",w0temp[2], \"x3+\", [b0temp])\n",
    "print(\"y=\",w0temp[0], \"CRIM+\", w0temp[1], 'DIS+', w0temp[2], \"LSTAT+\", [b0temp])"
   ]
  },
  {
   "cell_type": "code",
   "execution_count": 27,
   "metadata": {},
   "outputs": [
    {
     "name": "stdout",
     "output_type": "stream",
     "text": [
      "257\n",
      "预测值：31.122454\n",
      "标签值：50.000000\n"
     ]
    }
   ],
   "source": [
    "n = np.random.randint(506)       #随机确定一条来看看效果\n",
    "print(n)\n",
    "x_test = x_data[n]\n",
    "\n",
    "x_test = x_test.reshape(1,3)\n",
    "predict = sess.run(pred,feed_dict={x:x_test})\n",
    "print(\"预测值：%f\"%predict)\n",
    "\n",
    "target = y_data[n]\n",
    "print(\"标签值：%f\"%target)"
   ]
  },
  {
   "cell_type": "code",
   "execution_count": 23,
   "metadata": {},
   "outputs": [
    {
     "data": {
      "text/plain": [
       "50"
      ]
     },
     "execution_count": 23,
     "metadata": {},
     "output_type": "execute_result"
    }
   ],
   "source": [
    "len(loss_list)"
   ]
  },
  {
   "cell_type": "markdown",
   "metadata": {},
   "source": [
    "## 实验题\n",
    "### 实验题1：请你修改损失函数，或优化器，再运行本实例，看看运行结果差异。多尝试一下，思考出现差异的原因。"
   ]
  }
 ],
 "metadata": {
  "anaconda-cloud": {},
  "kernelspec": {
   "display_name": "Python 3",
   "language": "python",
   "name": "python3"
  },
  "language_info": {
   "codemirror_mode": {
    "name": "ipython",
    "version": 3
   },
   "file_extension": ".py",
   "mimetype": "text/x-python",
   "name": "python",
   "nbconvert_exporter": "python",
   "pygments_lexer": "ipython3",
   "version": "3.7.4"
  },
  "toc": {
   "base_numbering": 1,
   "nav_menu": {},
   "number_sections": true,
   "sideBar": true,
   "skip_h1_title": false,
   "title_cell": "目录",
   "title_sidebar": "Contents",
   "toc_cell": true,
   "toc_position": {},
   "toc_section_display": true,
   "toc_window_display": true
  }
 },
 "nbformat": 4,
 "nbformat_minor": 4
}
