{
 "cells": [
  {
   "cell_type": "code",
   "execution_count": 9,
   "id": "6fdac737-957e-4a89-8b86-2a6855c63b34",
   "metadata": {
    "tags": []
   },
   "outputs": [
    {
     "name": "stdin",
     "output_type": "stream",
     "text": [
      " a123x67 222y35i088 09x8 c\n"
     ]
    },
    {
     "name": "stdout",
     "output_type": "stream",
     "text": [
      "7\n",
      "123 67 222 35 88 9 8\u0000"
     ]
    }
   ],
   "source": [
    "s=input()\n",
    "s=list(s)\n",
    "i=''\n",
    "r=''\n",
    "count=0\n",
    "for c in s:\n",
    "    if c>='0' and c<='9':\n",
    "        i+=c\n",
    "    elif i:\n",
    "        r+=str(int(i))+' '\n",
    "        i=''\n",
    "        count+=1\n",
    "if i:\n",
    "        r+=str(int(i))\n",
    "        i=''\n",
    "        count+=1\n",
    "r=r.strip()\n",
    "print(count)\n",
    "print(r, end='\\0')\n",
    "# print(r,end='\\0')"
   ]
  },
  {
   "cell_type": "code",
   "execution_count": 6,
   "id": "8a252c66-5f50-422d-acc3-bda18313a9d2",
   "metadata": {
    "tags": []
   },
   "outputs": [
    {
     "name": "stdout",
     "output_type": "stream",
     "text": [
      "1 2 3\u0000"
     ]
    }
   ],
   "source": [
    "a=['1','2','3']\n",
    "s=' '.join(a)\n",
    "s.strip()\n",
    "print(s,end='\\0')"
   ]
  }
 ],
 "metadata": {
  "kernelspec": {
   "display_name": "Python 3 (ipykernel)",
   "language": "python",
   "name": "python3"
  },
  "language_info": {
   "codemirror_mode": {
    "name": "ipython",
    "version": 3
   },
   "file_extension": ".py",
   "mimetype": "text/x-python",
   "name": "python",
   "nbconvert_exporter": "python",
   "pygments_lexer": "ipython3",
   "version": "3.9.12"
  }
 },
 "nbformat": 4,
 "nbformat_minor": 5
}
