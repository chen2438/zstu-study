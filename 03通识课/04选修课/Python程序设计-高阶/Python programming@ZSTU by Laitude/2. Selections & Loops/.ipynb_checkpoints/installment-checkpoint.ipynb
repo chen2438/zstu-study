{
 "cells": [
  {
   "cell_type": "code",
   "execution_count": null,
   "metadata": {},
   "outputs": [],
   "source": [
    "from random import random\n",
    "from math import sqrt\n",
    "darts=2**25\n",
    "hist=0\n",
    "for i in range(1,darts):\n",
    "    x,y=random(),random()\n",
    "    dist=sqrt(x**2+y**2)\n",
    "    if dist<=1.0:\n",
    "        hist=hist+1\n",
    "pi=4*(hist/darts)\n",
    "print('pi is %s'%pi)"
   ]
  },
  {
   "cell_type": "markdown",
   "metadata": {},
   "source": [
    "贷款按揭的计算公式如下<br>\n",
    "$P_t=PM^t-Y(\\frac{M^t-1}{M-1})$，其中$M=1+\\frac{I}{12}$，$I$是年利率，$t$是按揭的期数，<br>\n",
    "如果按揭3年，就是36期，<br>\n",
    "$Y$是每个月付的钱（<font color=red>注意每个月还的钱是一样的</font>），$P$是你分期的金额，也就是借的总金额，<br>\n",
    "$P_t$是你第$t$个月后，还剩下要还的本金。<br>\n",
    "现在要求这个$I$。<br>"
   ]
  },
  {
   "cell_type": "markdown",
   "metadata": {},
   "source": [
    "$P_t=PM^t-Y(\\frac{M^t-1}{M-1})\\Rightarrow$<br>\n",
    "$P_t\\cdot (M-1)=PM^t\\cdot (M-1)-Y(M^t-1)\\Rightarrow$<br>\n",
    "$P_tM-P_t=P(M-1)M^t-YM^t+Y\\Rightarrow$"
   ]
  },
  {
   "cell_type": "markdown",
   "metadata": {},
   "source": [
    "$P_tM-P_t-Y=(PM-P-Y)M^t\\Rightarrow$"
   ]
  },
  {
   "cell_type": "code",
   "execution_count": null,
   "metadata": {},
   "outputs": [],
   "source": [
    "import math\n",
    "\n",
    "loan=2950000   # 这是贷款总额\n",
    "#rate=0.57/100\n",
    "step=204       # 这是期数\n",
    "#service=loan*rate  \n",
    "service=21970.48 # 月手续费\n",
    "month_fee=service+loan/step\n",
    "M=1.01\n",
    "count=0\n",
    "while True:\n",
    "    sub=loan*(M**step+1)-month_fee*(M**step-1)/(M-1)\n",
    "    if sub>0:\n",
    "        M-=0.000001\n",
    "    if 0<loan-sub<0.01 or sub<loan:\n",
    "        print(sub, M)\n",
    "        break\n",
    "    count+=1\n",
    "    # if count>1000:\n",
    "    # break\n",
    "print((M-1)*12)\n",
    "\n",
    "for i in range(step+1):\n",
    "    print(i, ':\\t', loan-loan*M**i+month_fee*(M**i-1)/(M-1))"
   ]
  },
  {
   "cell_type": "code",
   "execution_count": 10,
   "metadata": {},
   "outputs": [
    {
     "data": {
      "text/plain": [
       "10300.0"
      ]
     },
     "execution_count": 10,
     "metadata": {},
     "output_type": "execute_result"
    }
   ],
   "source": [
    "# 下面计算提前还，以先付10个月，然后一次还清为例\n",
    "pay = 10000 - (1781.586141999538-300)\n",
    "sum = pay + 1781.586141999538\n",
    "sum"
   ]
  },
  {
   "cell_type": "markdown",
   "metadata": {},
   "source": [
    "这样相当于1年还了10300，分成12个月还，下面再计算一下利率（相当于按揭贷款）\n",
    "实质上就是：12个月分期了10300元，其中300元是利息，利率还是5.49"
   ]
  },
  {
   "cell_type": "code",
   "execution_count": 2,
   "metadata": {},
   "outputs": [
    {
     "data": {
      "text/plain": [
       "(10300, 12, 25.0, 858.3333333333334)"
      ]
     },
     "execution_count": 2,
     "metadata": {},
     "output_type": "execute_result"
    }
   ],
   "source": [
    "loan=10300   # 这是贷款总额\n",
    "step=12       # 这是期数\n",
    "service=300/step # 月手续费\n",
    "month_fee=loan/step # 这是每月要还的钱\n",
    "loan,step,service,month_fee"
   ]
  },
  {
   "cell_type": "code",
   "execution_count": 5,
   "metadata": {},
   "outputs": [
    {
     "name": "stdout",
     "output_type": "stream",
     "text": [
      "858.3279315522122 1.0117602000010277\n",
      "0.14112240001233278\n",
      "0 :\t 10300.0\n",
      "1 :\t 9562.796726677252\n",
      "2 :\t 8816.923795418816\n",
      "3 :\t 8062.279249313435\n",
      "4 :\t 7298.759932416155\n",
      "5 :\t 6526.26147564753\n",
      "6 :\t 5744.678282526808\n",
      "7 :\t 4953.903514737549\n",
      "8 :\t 4153.82907752333\n",
      "9 :\t 3344.3456049117576\n",
      "10 :\t 2525.342444764745\n",
      "11 :\t 1696.7076436529278\n",
      "12 :\t 858.3279315522122\n"
     ]
    }
   ],
   "source": [
    "M=1.01\n",
    "count=0\n",
    "while True:\n",
    "    sub=loan*M**step-month_fee*(M**step-1)/(M-1) # sub是step期以后的本金\n",
    "    # print(sub)\n",
    "    if abs(month_fee-loan/step)<0.01 or sub>month_fee:\n",
    "        print(sub, M)\n",
    "        break\n",
    "    M+=0.0000001\n",
    "print((M-1)*12)  # 输出等价的按揭利率\n",
    "\n",
    "for i in range(step+1):    # 输出每一期还款后还剩余的本金\n",
    "    print(i, ':\\t', loan*M**i-month_fee*(M**i-1)/(M-1))"
   ]
  },
  {
   "cell_type": "markdown",
   "metadata": {},
   "source": [
    "4. 思考题:利率 <br>\n",
    "你去银行存过钱吧，这个我们并不陌生。我们现在假定银行一年<font color=red>内</font>的年利率都是<font color=red>100%</font>，好像银行大发慈悲。:-)<br>\n",
    "现在，问你，如果你有1元，如何设定存钱策略，让你的收益最大化？<br>\n",
    "你的最大化收益是多少？"
   ]
  },
  {
   "cell_type": "code",
   "execution_count": null,
   "metadata": {},
   "outputs": [],
   "source": [
    "import pdb\n",
    "duration=365\n",
    "sum=0\n",
    "for duration in range(365,0,-1):\n",
    "    new_sum=1\n",
    "    cycle=365//duration  # 可以存几个周期\n",
    "    for j in range(cycle):\n",
    "        new_sum+=new_sum*1/365*duration\n",
    "    new_sum+=1/365*(365-duration*cycle)\n",
    "    if new_sum>sum:\n",
    "        sum=new_sum\n",
    "    print(duration,new_sum)\n",
    "print(sum)"
   ]
  },
  {
   "cell_type": "code",
   "execution_count": 3,
   "metadata": {},
   "outputs": [
    {
     "data": {
      "text/plain": [
       "(26367.6662570307, 15435.0)"
      ]
     },
     "execution_count": 3,
     "metadata": {},
     "output_type": "execute_result"
    }
   ],
   "source": [
    "all=4200000\n",
    "rate=0.0441\n",
    "step=20*12\n",
    "rest=0.0001\n",
    "M=1+rate/12\n",
    "Y=all*M**240/(M**240-1)*(M-1)\n",
    "Y,all*rate/12"
   ]
  },
  {
   "cell_type": "code",
   "execution_count": null,
   "metadata": {},
   "outputs": [],
   "source": []
  }
 ],
 "metadata": {
  "kernelspec": {
   "display_name": "Python 3",
   "language": "python",
   "name": "python3"
  },
  "language_info": {
   "codemirror_mode": {
    "name": "ipython",
    "version": 3
   },
   "file_extension": ".py",
   "mimetype": "text/x-python",
   "name": "python",
   "nbconvert_exporter": "python",
   "pygments_lexer": "ipython3",
   "version": "3.7.4"
  }
 },
 "nbformat": 4,
 "nbformat_minor": 4
}
