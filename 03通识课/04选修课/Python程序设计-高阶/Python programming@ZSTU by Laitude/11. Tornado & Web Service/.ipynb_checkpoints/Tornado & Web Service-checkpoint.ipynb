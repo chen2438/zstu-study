{
 "cells": [
  {
   "cell_type": "markdown",
   "metadata": {},
   "source": [
    "# 用Tornado构建Web服务（Tornado & Web Service）\n",
    "## 浙江理工大学 沈炜"
   ]
  },
  {
   "cell_type": "markdown",
   "metadata": {},
   "source": [
    "## 客户机服务器模式和浏览器服务器模式"
   ]
  },
  {
   "cell_type": "markdown",
   "metadata": {},
   "source": [
    "### 客户机服务器模式\n",
    "一切将服务提供者（服务器）和服务消费者（客户端）分开的分布式计算模式。各个计算机之间以客户机和服务器的关系进行工作与交换信息，客户机首先向服务器发送请求，然后服务器完成请求的操作，并把结果返回给客户机。<br>\n",
    "<center><img src='cs.jpg' width=320 > </center><br>\n",
    "在客户机运行的程序，一般称为客户端（Client），在服务器运行的程序一般称为服务端（Server），客户机服务器模式一般就是指这二者的数据交换模式，简写成C/S。\n",
    "所以我们以下在称C/S时，一般只是说作为客户端和服务端的程序，而忽略硬件。"
   ]
  },
  {
   "cell_type": "markdown",
   "metadata": {},
   "source": [
    "### C/S的例子\n",
    "<img src='qq.jpg' width=64><img src='wechat.jpg' width=64><br>\n",
    "<img src='stock.jpg'>"
   ]
  },
  {
   "cell_type": "markdown",
   "metadata": {},
   "source": [
    "### C/S的优缺点\n",
    "#### 优点\n",
    "- 客户端可以使用客户机的所有资源\n",
    "- 客户端一般会有比较好的性能\n",
    "\n",
    "#### 缺点\n",
    "- 不同的客户端，必须安装不同的程序，维护工作量大\n",
    "- 软件之间容易引起冲突，同时系统庞大、臃肿\n",
    "- 对客户机性能要求高，设备投资大"
   ]
  },
  {
   "cell_type": "markdown",
   "metadata": {},
   "source": [
    "## 浏览器服务器模式\n",
    "B/S架构即浏览器和服务器架构模式，是随着Internet技术的兴起，对C/S架构的一种变化或者改进的架构。在这种架构下，用户工作界面是通过WWW浏览器来实现，极少部分事务逻辑在前端（Browser）实现，但是主要事务逻辑在服务器端(Server)实现。B/S架构是WEB兴起后的一种网络架构模式，WEB浏览器是客户端最主要的应用软件。这种模式统一了客户端，将系统功能实现的核心部分集中到服务器上，简化了系统的开发、维护和使用。客户机上只要安装一个浏览器（Browser），浏览器通过Web Server同数据库进行数据交互。这样就大大简化了客户端电脑载荷，减轻了系统维护与升级的成本和工作量，降低了用户的总体成本(TCO)。<br>\n",
    "<center><img src='bs.jpg' width=320></center>"
   ]
  },
  {
   "cell_type": "markdown",
   "metadata": {},
   "source": [
    "### 三层架构\n",
    "C/S下，开始是客户端和端的两层架构，典型的就是客户端是一层，直接连接数据库服务，数据库服务作为服务端是另一层，这样两层架构。<br>\n",
    "B/S下，三层架构开始成为主流，从上图可以看出，浏览器作为客户端是一层，Web Server作为一层，Application Server作为一层，形成三层架构。<br>"
   ]
  },
  {
   "cell_type": "markdown",
   "metadata": {},
   "source": [
    "### 前端和后端\n",
    "接着三层架构，因为浏览器基本上没有什么需要用户来安装的应用（一个常见的例外就是银行的安全控件），所以三层架构最主要就是实现Web Server和Application Server。<br>\n",
    "一个简单的划分就是Web Server上的实现就是前端（现在的前端一般都是Web Server），一般负责数据的展示和简单的业务处理，在Application Server上的实现就是后端，一般负责较为复杂的业务操作，包括对数据库的操作，还要考虑负载均衡、并发等性能上的需求。<br>\n",
    "前端和后端一般通过Http协议来实现数据交互，目前的前后端一般通过REST（英文：Representational State Transfer，简称REST）来进行交互，见https://baike.baidu.com/item/RESTful/4406165?fr=aladdin<br>\n",
    "REST指的是一组架构约束条件和原则，满足这些约束条件和原则的应用程序或设计就是RESTful。目前的前后端交互都是按RESTful来实现的。<br>"
   ]
  },
  {
   "cell_type": "markdown",
   "metadata": {},
   "source": [
    "### 请求\n",
    "前端一般发起HTTP请求，后端响应请求并返回数据或结果。<br>\n",
    "HTTP请求的完全过程如下：\n",
    "1. 浏览器根据域名解析IP地址\n",
    "2. 浏览器与WEB服务器建立一个TCP连接\n",
    "3. 浏览器给WEB服务器发送一个HTTP请求\n",
    "\n",
    "一个HTTP请求报文由请求行（request line）、请求头部（headers）、空行（blank line）和请求数据（request body）4个部分组成。<br>\n",
    "<center><img src='http_request.png'></center><br>\n",
    "HTTP/1.1 定义的请求方法有8种：GET（完整请求一个资源）、POST（提交表单）、PUT（上传文件）、DELETE（删除）、PATCH、HEAD（仅请求响应首部）、OPTIONS（返回请求的资源所支持的方法）、TRACE（追求一个资源请求中间所经过的代理）。最常的两种GET和POST，如果是RESTful接口的话一般会用到GET、POST、DELETE、PUT。<br>\n",
    "<center><img src='http_type.png' width=640></center><br> \n",
    "所谓的后端开发，最基本的，就是响应前端的请求，完成对应的业务操作，并返回结果或数据。"
   ]
  },
  {
   "cell_type": "markdown",
   "metadata": {},
   "source": [
    "### 请求的URL(Uniform Resource Locator)\n",
    "URL：统一资源定位符，是一种资源位置的抽象唯一识别方法。<br>\n",
    "组成：<协议>://<主机>:<端口>/<路径><br>\n",
    "端口和路径有时可以省略（HTTP默认端口号是80）<br>\n",
    "<center><img src='url.png' width=640></center>\n",
    "后端响应前端请求的实质，就是：由前端访问特定的URL来调用后端的服务"
   ]
  },
  {
   "cell_type": "code",
   "execution_count": 1,
   "metadata": {},
   "outputs": [
    {
     "name": "stdout",
     "output_type": "stream",
     "text": [
      "Status code: 200\n",
      "dict_keys(['total_count', 'incomplete_results', 'items'])\n"
     ]
    }
   ],
   "source": [
    "import requests\n",
    "\n",
    "# 执行API调用并存储响应\n",
    "url = 'https://api.github.com/search/repositories?q=language:python&sort=stars'\n",
    "r = requests.get(url)\n",
    "print(\"Status code:\", r.status_code)\n",
    "\n",
    "# 将API响应存储在一个变量中\n",
    "response_dict = r.json()\n",
    "\n",
    "# 处理结果\n",
    "print(response_dict.keys())"
   ]
  },
  {
   "cell_type": "code",
   "execution_count": 2,
   "metadata": {},
   "outputs": [
    {
     "name": "stdout",
     "output_type": "stream",
     "text": [
      "Status code: 200\n",
      "Total repositories: 6264395\n",
      "Repositories returned: 30\n",
      "\n",
      "Keys: 74\n",
      "archive_url\n",
      "archived\n",
      "assignees_url\n",
      "blobs_url\n",
      "branches_url\n",
      "clone_url\n",
      "collaborators_url\n",
      "comments_url\n",
      "commits_url\n",
      "compare_url\n",
      "contents_url\n",
      "contributors_url\n",
      "created_at\n",
      "default_branch\n",
      "deployments_url\n",
      "description\n",
      "disabled\n",
      "downloads_url\n",
      "events_url\n",
      "fork\n",
      "forks\n",
      "forks_count\n",
      "forks_url\n",
      "full_name\n",
      "git_commits_url\n",
      "git_refs_url\n",
      "git_tags_url\n",
      "git_url\n",
      "has_downloads\n",
      "has_issues\n",
      "has_pages\n",
      "has_projects\n",
      "has_wiki\n",
      "homepage\n",
      "hooks_url\n",
      "html_url\n",
      "id\n",
      "issue_comment_url\n",
      "issue_events_url\n",
      "issues_url\n",
      "keys_url\n",
      "labels_url\n",
      "language\n",
      "languages_url\n",
      "license\n",
      "merges_url\n",
      "milestones_url\n",
      "mirror_url\n",
      "name\n",
      "node_id\n",
      "notifications_url\n",
      "open_issues\n",
      "open_issues_count\n",
      "owner\n",
      "private\n",
      "pulls_url\n",
      "pushed_at\n",
      "releases_url\n",
      "score\n",
      "size\n",
      "ssh_url\n",
      "stargazers_count\n",
      "stargazers_url\n",
      "statuses_url\n",
      "subscribers_url\n",
      "subscription_url\n",
      "svn_url\n",
      "tags_url\n",
      "teams_url\n",
      "trees_url\n",
      "updated_at\n",
      "url\n",
      "watchers\n",
      "watchers_count\n"
     ]
    }
   ],
   "source": [
    "import requests\n",
    "\n",
    "# 执行API调用并存储响应\n",
    "url = 'https://api.github.com/search/repositories?q=language:python&sort=stars'\n",
    "r = requests.get(url)\n",
    "print(\"Status code:\", r.status_code)\n",
    "\n",
    "# 将API响应存储在一个变量中\n",
    "response_dict = r.json()\n",
    "print(\"Total repositories:\", response_dict['total_count'])\n",
    "\n",
    "# 探索有关仓库的信息\n",
    "repo_dicts = response_dict['items']\n",
    "print(\"Repositories returned:\", len(repo_dicts))\n",
    "\n",
    "# 研究第一个仓库\n",
    "repo_dict = repo_dicts[0]\n",
    "print(\"\\nKeys:\", len(repo_dict))\n",
    "for key in sorted(repo_dict.keys()):\n",
    "    print(key)"
   ]
  },
  {
   "cell_type": "markdown",
   "metadata": {},
   "source": [
    "### 怎么理解后端服务\n",
    "考虑一个问题，如果有一个函数，在一台远程的计算机的上，我如何调用它？<br>\n",
    "事实上，后端服务调用，就可以理解为：对一个远程的函数调用，函数名就是URL，而参数就是URL后面跟的参数。<br>\n",
    "这样的每一个函数，一般都叫做Handler。<br>\n",
    "从这个角度来说，后端开发，就是要确定远程被调用函数的URL，然后编写这些函数。"
   ]
  },
  {
   "cell_type": "markdown",
   "metadata": {},
   "source": [
    "<img src='tornado.jpg'>\n",
    "Tornado全称Tornado Web Server，是一个用Python语言写成的Web服务器兼Web应用框架，由FriendFeed公司在自己的网站FriendFeed中使用，被Facebook收购以后框架在2009年9月以开源软件形式开放给大众。<br>\n",
    "Tornado是一个Python web框架和异步网络库，利用非阻塞网络IO，文档中声明可支持千万级连接，处理长连接，WebSockets的理想选择。<br>\n",
    "Tornado走的是少而精的方向，注重的是性能优越，它最出名的是异步非阻塞的设计方式。<br>\n",
    "\n",
    "- HTTP服务器\n",
    "- 异步编程\n",
    "- WebSockets"
   ]
  },
  {
   "cell_type": "markdown",
   "metadata": {},
   "source": [
    "## Tornado安装"
   ]
  },
  {
   "cell_type": "code",
   "execution_count": null,
   "metadata": {},
   "outputs": [],
   "source": [
    "!pip install tornado\n",
    "!pip install pyrestful\n",
    "# !pip install -i https://pypi.tuna.tsinghua.edu.cn/simple tornado"
   ]
  },
  {
   "cell_type": "markdown",
   "metadata": {},
   "source": [
    "## 一个简单但完整的例子\n",
    "- 注意冰山原则,很多代码你没看到,自己去目录下看\n",
    "- 运行代码:python server.py\n",
    "- 如果出错,其实进程没有退出，要手动杀掉进程"
   ]
  },
  {
   "cell_type": "code",
   "execution_count": null,
   "metadata": {},
   "outputs": [],
   "source": [
    "# server.py\n",
    "import config   # 引入config,在同一个目录下\n",
    "import nest_asyncio\n",
    "from application import Application   # 引入applicaiton,在同一个目录下,application是一个路由类\n",
    "from tornado import ioloop, httpserver    # 引入tornado\n",
    "\n",
    "if __name__ == '__main__':\n",
    "\n",
    "    application = Application()\n",
    "    http_server = httpserver.HTTPServer(application)  # 根据application创建一个http服务\n",
    "    http_server.bind(config.options['port'])  # 绑定在由config中指定的端口,就是URL中的端口\n",
    "    http_server.start(1)  # 启动http服务\n",
    "\n",
    "    ioloop.IOLoop.current().start()  "
   ]
  },
  {
   "cell_type": "code",
   "execution_count": null,
   "metadata": {},
   "outputs": [],
   "source": [
    "# application.py\n",
    "# 确定每一个handler的路径\n",
    "import os\n",
    "import tornado.web\n",
    "import config\n",
    "from views import index\n",
    "\n",
    "\n",
    "class Application(tornado.web.Application):\n",
    "    def __init__(self):\n",
    "        handlers = [\n",
    "            # (r'/', index.MainPageHandler),\n",
    "\n",
    "\n",
    "            # 服务器传参数\n",
    "            (r'/kain', index.KainHandler, {'item1': 'kain', 'item2': 'huck'}),  # 注意，这里就是url的路径\n",
    "            # 反向解析\n",
    "            tornado.web.url(r'/huck', index.HuckHandler, {'item3': 'kain', 'item4': 'huck'}, name='huck'),\n",
    "\n",
    "            # 匹配URL中的特定部分\n",
    "            (r'/kainhuck/(\\w+)/(\\w+)/(\\w+)', index.KainHuckHandler),\n",
    "            # 第二种写法,取名字,使用较少\n",
    "            # (r'/kainhuck/(?P<h1>\\w+)/(?P<h3>\\w+)/(?P<h2>\\w+)', index.KainHuckHandler),"
   ]
  },
  {
   "cell_type": "code",
   "execution_count": null,
   "metadata": {},
   "outputs": [],
   "source": [
    "# views/index.py\n",
    "from tornado.web import RequestHandler, authenticated\n",
    "from tornado.httpclient import AsyncHTTPClient\n",
    "import tornado.web\n",
    "import config\n",
    "import os\n",
    "import json\n",
    "\n",
    "# 操作数据库\n",
    "from models import Users\n",
    "\n",
    "class KainHandler(RequestHandler):   # 每一个类就是一个Handler,可以看成被调用的函数\n",
    "    # 该方法会在http方法之前调用\n",
    "    def initialize(self, item1, item2):\n",
    "        self.item1 = item1\n",
    "        self.itme2 = item2\n",
    "\n",
    "    def get(self, *args, **kwargs):\n",
    "        # print(self.item1, self.itme2)\n",
    "        self.write('Hello Kain')\n",
    "\n",
    "class HuckHandler(RequestHandler):\n",
    "    def initialize(self, item3, item4):\n",
    "        self.item3 = item3\n",
    "        self.item4 = item4\n",
    "\n",
    "    def get(self, *args, **kwargs):\n",
    "        self.write('Hello huck')\n"
   ]
  },
  {
   "cell_type": "markdown",
   "metadata": {},
   "source": [
    "### 思考：\n",
    "前面的代码确定URL的端口和路径，那IP在哪里指定？"
   ]
  },
  {
   "cell_type": "markdown",
   "metadata": {},
   "source": [
    "## 实验题\n",
    "1.在本课目录下,有一个tornado_project.zip,这是另一个工程的例子,里面带有mysql数据库读写的功能,请仔细分析这个例子,并对这个例子进行修改,增加你觉得需要的功能。"
   ]
  },
  {
   "cell_type": "markdown",
   "metadata": {},
   "source": [
    "## 以下是一些可能你会遇到的内容\n",
    "### ORM是什么？\n",
    "ORM 即Object Relational Mapping，全称对象关系映射。\n",
    "可是它到底是干啥的呢？\n",
    "\n",
    "如果接触过一些web后台的化，我们知道web后台有很大一部分工作都是数据的增删改查，如果每次操作数据库都要连接数据库，构造sql语句，执行sql语句的话，那未免太麻烦了，所以我们可以将数据库中的表，字段，行，与我们的面向对象编程中的类，类的属性，以及对象建立一一对应的映射关系，这样我们便可以避免直接操作数据库，而只要调用相应的方法就可以了。\n",
    "\n",
    "比如实现一个用户注册，以前是前台拿到数据，传给后台，然后后台字符串拼接形成sql语句，后台执行。\n",
    "\n",
    "而有了ORM以后，只需要用数据实例化一个User对象，然后调用该对象的save方法，便保存到了数据库，作为使用者的角度，不需要操作一句sql语句。\n",
    "\n",
    "### http路由\n",
    "HTTP路由组件负责将HTTP请求交给对应的action(一个控制器Controller的公共静态方法)处理。\n",
    "\n",
    "在tornado web框架中，路由表中的任意一项是一个元组,每个元组包含pattern(模式)和handler(处理器)。当httpserver接收到一个http请求，server从接收到的请求中解析出url path(http协议start line中)，然后顺序遍历路由表，如果发现url path可以匹配某个pattern，则将此http request交给web应用中对应的handler去处理。\n",
    "\n",
    "由于有了url路由机制，web应用开发者不必和复杂的http server层代码打交道，只需要写好web应用层的逻辑(handler)即可。Tornado中每个url对应的是一个类。"
   ]
  }
 ],
 "metadata": {
  "kernelspec": {
   "display_name": "Python 3",
   "language": "python",
   "name": "python3"
  },
  "language_info": {
   "codemirror_mode": {
    "name": "ipython",
    "version": 3
   },
   "file_extension": ".py",
   "mimetype": "text/x-python",
   "name": "python",
   "nbconvert_exporter": "python",
   "pygments_lexer": "ipython3",
   "version": "3.7.4"
  }
 },
 "nbformat": 4,
 "nbformat_minor": 4
}
