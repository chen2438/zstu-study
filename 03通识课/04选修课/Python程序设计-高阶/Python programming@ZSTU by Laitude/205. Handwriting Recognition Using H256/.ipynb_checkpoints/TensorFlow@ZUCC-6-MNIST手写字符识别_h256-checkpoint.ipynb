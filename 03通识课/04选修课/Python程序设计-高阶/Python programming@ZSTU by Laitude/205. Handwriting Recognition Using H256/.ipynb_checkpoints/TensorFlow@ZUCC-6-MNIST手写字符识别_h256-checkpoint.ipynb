{
 "cells": [
  {
   "cell_type": "markdown",
   "metadata": {},
   "source": [
    "# 基于单隐层神经网络的手写数字识别\n",
    "\n",
    "吴明晖\n",
    "\n",
    "浙江大学城市学院\n",
    "\n",
    "2018.7"
   ]
  },
  {
   "cell_type": "markdown",
   "metadata": {
    "toc": true
   },
   "source": [
    "<h1>目录<span class=\"tocSkip\"></span></h1>\n",
    "<div class=\"toc\"><ul class=\"toc-item\"><li><span><a href=\"#Tensorflow实现基于单隐层神经网络的手写数字识别\" data-toc-modified-id=\"Tensorflow实现基于单隐层神经网络的手写数字识别-3\"><span class=\"toc-item-num\">3&nbsp;&nbsp;</span>Tensorflow实现基于单隐层神经网络的手写数字识别</a></span><ul class=\"toc-item\"><li><span><a href=\"#载入数据\" data-toc-modified-id=\"载入数据-3.1\"><span class=\"toc-item-num\">3.1&nbsp;&nbsp;</span>载入数据</a></span></li><li><span><a href=\"#建立模型\" data-toc-modified-id=\"建立模型-3.2\"><span class=\"toc-item-num\">3.2&nbsp;&nbsp;</span>建立模型</a></span><ul class=\"toc-item\"><li><span><a href=\"#构建输入层\" data-toc-modified-id=\"构建输入层-3.2.1\"><span class=\"toc-item-num\">3.2.1&nbsp;&nbsp;</span>构建输入层</a></span></li><li><span><a href=\"#构建隐藏层\" data-toc-modified-id=\"构建隐藏层-3.2.2\"><span class=\"toc-item-num\">3.2.2&nbsp;&nbsp;</span>构建隐藏层</a></span></li><li><span><a href=\"#构建输出层\" data-toc-modified-id=\"构建输出层-3.2.3\"><span class=\"toc-item-num\">3.2.3&nbsp;&nbsp;</span>构建输出层</a></span></li></ul></li><li><span><a href=\"#训练模型\" data-toc-modified-id=\"训练模型-3.3\"><span class=\"toc-item-num\">3.3&nbsp;&nbsp;</span>训练模型</a></span><ul class=\"toc-item\"><li><span><a href=\"#定义损失函数\" data-toc-modified-id=\"定义损失函数-3.3.1\"><span class=\"toc-item-num\">3.3.1&nbsp;&nbsp;</span>定义损失函数</a></span></li><li><span><a href=\"#设置训练参数\" data-toc-modified-id=\"设置训练参数-3.3.2\"><span class=\"toc-item-num\">3.3.2&nbsp;&nbsp;</span>设置训练参数</a></span></li><li><span><a href=\"#选择优化器\" data-toc-modified-id=\"选择优化器-3.3.3\"><span class=\"toc-item-num\">3.3.3&nbsp;&nbsp;</span>选择优化器</a></span></li><li><span><a href=\"#定义准确率\" data-toc-modified-id=\"定义准确率-3.3.4\"><span class=\"toc-item-num\">3.3.4&nbsp;&nbsp;</span>定义准确率</a></span></li><li><span><a href=\"#训练并存储模型\" data-toc-modified-id=\"训练并存储模型-3.3.5\"><span class=\"toc-item-num\">3.3.5&nbsp;&nbsp;</span>训练并存储模型</a></span></li></ul></li><li><span><a href=\"#进行预测\" data-toc-modified-id=\"进行预测-3.4\"><span class=\"toc-item-num\">3.4&nbsp;&nbsp;</span>进行预测</a></span><ul class=\"toc-item\"><li><span><a href=\"#读取模型\" data-toc-modified-id=\"读取模型-3.4.1\"><span class=\"toc-item-num\">3.4.1&nbsp;&nbsp;</span>读取模型</a></span></li><li><span><a href=\"#查看预测结果\" data-toc-modified-id=\"查看预测结果-3.4.2\"><span class=\"toc-item-num\">3.4.2&nbsp;&nbsp;</span>查看预测结果</a></span></li><li><span><a href=\"#可视化\" data-toc-modified-id=\"可视化-3.4.3\"><span class=\"toc-item-num\">3.4.3&nbsp;&nbsp;</span>可视化</a></span></li></ul></li><li><span><a href=\"#找出预测错误\" data-toc-modified-id=\"找出预测错误-3.5\"><span class=\"toc-item-num\">3.5&nbsp;&nbsp;</span>找出预测错误</a></span></li></ul></li></ul></div>"
   ]
  },
  {
   "cell_type": "markdown",
   "metadata": {},
   "source": [
    "#  Tensorflow实现基于单隐层神经网络的手写数字识别"
   ]
  },
  {
   "cell_type": "markdown",
   "metadata": {},
   "source": [
    "** 上一节我们用单个神经元实现手写数字识别，本节我们将在此基础上拓展神经网络的深度，使其从包含单个神经元的网络拓展为包含256个神经元的单隐层神经网络。本节我们将掌握： **<br>\n",
    "- 神经网络的搭建：通过定义全连接操作来简化网络搭建\n",
    "- 存储模型：在检查点checkpoint保存参数\n",
    "- 读取模型：通过读取ckpt文件将已训练模型用于预测"
   ]
  },
  {
   "cell_type": "markdown",
   "metadata": {},
   "source": [
    "## 载入数据"
   ]
  },
  {
   "cell_type": "code",
   "execution_count": 1,
   "metadata": {
    "collapsed": false
   },
   "outputs": [
    {
     "name": "stdout",
     "output_type": "stream",
     "text": [
      "Extracting MNIST_data/train-images-idx3-ubyte.gz\n",
      "Extracting MNIST_data/train-labels-idx1-ubyte.gz\n",
      "Extracting MNIST_data/t10k-images-idx3-ubyte.gz\n",
      "Extracting MNIST_data/t10k-labels-idx1-ubyte.gz\n"
     ]
    }
   ],
   "source": [
    "import os\n",
    "import tensorflow as tf #导入Tensorflow\n",
    "import tensorflow.examples.tutorials.mnist.input_data as input_data #导入Tensorflow提供的读取MNIST的模块\n",
    "\n",
    "mnist = input_data.read_data_sets(\"MNIST_data/\", one_hot=True) # 读取MNIST数据"
   ]
  },
  {
   "cell_type": "markdown",
   "metadata": {},
   "source": [
    "## 建立模型"
   ]
  },
  {
   "cell_type": "markdown",
   "metadata": {},
   "source": [
    "无论是第3部分介绍的含单隐层的神经网络还是第4部分介绍的多层神经网络，上一层与下一层神经元之间都是全连接，因此，这种网络称为全连接网络（Fully Connected Networks, FCN），有时也称为多层感知机（Multi-Layer Perceptron，MLP）。<br>\n",
    "<br>\n",
    "定义全连接层是构建FCN或MLP的基础，因此，我们先定义全连接层的函数fcn_layer."
   ]
  },
  {
   "cell_type": "code",
   "execution_count": 2,
   "metadata": {
    "collapsed": true
   },
   "outputs": [],
   "source": [
    "def fcn_layer(output_dim,input_dim,inputs, activation=None):\n",
    "#input_dim为输入神经元数量，output_dim为输出神经元数量\n",
    "#inputs是输入的二维数组placeholder, activation是激活函数\n",
    "    W = tf.Variable(tf.random_normal([input_dim, output_dim])) #以正态分布的随机数初始化W\n",
    "    b = tf.Variable(tf.random_normal([1, output_dim])) #以正态分布的随机数初始化b\n",
    "    XWb = tf.matmul(inputs, W) + b # 建立表达式：inputs x W + b\n",
    "    if activation is None: # 默认不使用激活函数\n",
    "        outputs = XWb\n",
    "    else: # 若传入激活函数，则用其对输出结果进行变换\n",
    "        outputs = activation(XWb)\n",
    "    return outputs"
   ]
  },
  {
   "cell_type": "markdown",
   "metadata": {
    "collapsed": true
   },
   "source": [
    "### 构建输入层 "
   ]
  },
  {
   "cell_type": "code",
   "execution_count": 3,
   "metadata": {
    "collapsed": true
   },
   "outputs": [],
   "source": [
    "x = tf.placeholder(\"float\", [None, 784])"
   ]
  },
  {
   "cell_type": "markdown",
   "metadata": {
    "collapsed": true
   },
   "source": [
    "### 构建隐藏层"
   ]
  },
  {
   "cell_type": "code",
   "execution_count": 4,
   "metadata": {
    "collapsed": true
   },
   "outputs": [],
   "source": [
    "# 隐藏层包含256个神经元\n",
    "h1=fcn_layer(output_dim=256,input_dim=784,\n",
    "         inputs=x ,activation=tf.nn.relu)  "
   ]
  },
  {
   "cell_type": "markdown",
   "metadata": {
    "collapsed": true
   },
   "source": [
    "### 构建输出层"
   ]
  },
  {
   "cell_type": "code",
   "execution_count": 5,
   "metadata": {
    "collapsed": true
   },
   "outputs": [],
   "source": [
    "pred=fcn_layer(output_dim=10,input_dim=256,\n",
    "                    inputs=h1,activation=None)\n"
   ]
  },
  {
   "cell_type": "markdown",
   "metadata": {},
   "source": [
    "## 训练模型"
   ]
  },
  {
   "cell_type": "markdown",
   "metadata": {},
   "source": [
    "### 定义损失函数"
   ]
  },
  {
   "cell_type": "code",
   "execution_count": 6,
   "metadata": {
    "collapsed": true
   },
   "outputs": [],
   "source": [
    "y = tf.placeholder(\"float\", [None, 10])\n",
    "# 交叉熵\n",
    "loss_function = tf.reduce_mean( \n",
    "                  tf.nn.softmax_cross_entropy_with_logits\n",
    "                         (logits=pred, \n",
    "                          labels=y))"
   ]
  },
  {
   "cell_type": "markdown",
   "metadata": {},
   "source": [
    "### 设置训练参数"
   ]
  },
  {
   "cell_type": "code",
   "execution_count": 7,
   "metadata": {
    "collapsed": true
   },
   "outputs": [],
   "source": [
    "train_epochs = 30\n",
    "batch_size = 100\n",
    "total_batch = int(mnist.train.num_examples/batch_size)\n",
    "display_step = 1\n",
    "save_step=5\n",
    "learning_rate = 0.001\n",
    "epoch_list=[];loss_list=[];accuracy_list=[]\n",
    "\n",
    "ckpt_dir = \"./ckpt_dir/\"\n",
    "if not os.path.exists(ckpt_dir):\n",
    "    os.makedirs(ckpt_dir)\n",
    "\n",
    "from time import time\n",
    "startTime=time()"
   ]
  },
  {
   "cell_type": "markdown",
   "metadata": {},
   "source": [
    "每个固定间隔（save_step）在检查点保存一个模型（.ckpt文件），可便于随时将模型拿来进行预测。<br>\n",
    "通常，观察前几次的预测效果就可以粗略估计出神经网络设计得是否合理。"
   ]
  },
  {
   "cell_type": "markdown",
   "metadata": {
    "collapsed": true
   },
   "source": [
    "### 选择优化器"
   ]
  },
  {
   "cell_type": "code",
   "execution_count": 8,
   "metadata": {
    "collapsed": true
   },
   "outputs": [],
   "source": [
    "optimizer = tf.train.AdamOptimizer(learning_rate).minimize(loss_function)  "
   ]
  },
  {
   "cell_type": "markdown",
   "metadata": {},
   "source": [
    "### 定义准确率"
   ]
  },
  {
   "cell_type": "code",
   "execution_count": 9,
   "metadata": {
    "collapsed": true
   },
   "outputs": [],
   "source": [
    "correct_prediction = tf.equal(tf.argmax(y, 1), tf.argmax(pred, 1))\n",
    "accuracy = tf.reduce_mean(tf.cast(correct_prediction, \"float\"))\n"
   ]
  },
  {
   "cell_type": "markdown",
   "metadata": {},
   "source": [
    "### 训练并存储模型"
   ]
  },
  {
   "cell_type": "code",
   "execution_count": 10,
   "metadata": {
    "collapsed": false
   },
   "outputs": [
    {
     "name": "stdout",
     "output_type": "stream",
     "text": [
      "Train Epoch: 01 Loss= 7.174070358  Accuracy= 0.8242\n",
      "Train Epoch: 02 Loss= 4.587728977  Accuracy= 0.8804\n",
      "Train Epoch: 03 Loss= 3.519593477  Accuracy= 0.8974\n",
      "Train Epoch: 04 Loss= 2.898706913  Accuracy= 0.9088\n",
      "Train Epoch: 05 Loss= 2.476191044  Accuracy= 0.9160\n",
      "mnist_h256_model_000005.ckpt saved\n",
      "Train Epoch: 06 Loss= 2.143674374  Accuracy= 0.9230\n",
      "Train Epoch: 07 Loss= 1.981351614  Accuracy= 0.9262\n",
      "Train Epoch: 08 Loss= 1.796832204  Accuracy= 0.9312\n",
      "Train Epoch: 09 Loss= 1.667586327  Accuracy= 0.9362\n",
      "Train Epoch: 10 Loss= 1.602135539  Accuracy= 0.9364\n",
      "mnist_h256_model_000010.ckpt saved\n",
      "Train Epoch: 11 Loss= 1.482113242  Accuracy= 0.9412\n",
      "Train Epoch: 12 Loss= 1.424398184  Accuracy= 0.9426\n",
      "Train Epoch: 13 Loss= 1.377074718  Accuracy= 0.9454\n",
      "Train Epoch: 14 Loss= 1.332799554  Accuracy= 0.9436\n",
      "Train Epoch: 15 Loss= 1.304890871  Accuracy= 0.9460\n",
      "mnist_h256_model_000015.ckpt saved\n",
      "Train Epoch: 16 Loss= 1.273419142  Accuracy= 0.9474\n",
      "Train Epoch: 17 Loss= 1.293388247  Accuracy= 0.9456\n",
      "Train Epoch: 18 Loss= 1.239151359  Accuracy= 0.9492\n",
      "Train Epoch: 19 Loss= 1.210141540  Accuracy= 0.9524\n",
      "Train Epoch: 20 Loss= 1.207224369  Accuracy= 0.9496\n",
      "mnist_h256_model_000020.ckpt saved\n",
      "Train Epoch: 21 Loss= 1.188370824  Accuracy= 0.9496\n",
      "Train Epoch: 22 Loss= 1.181343317  Accuracy= 0.9532\n",
      "Train Epoch: 23 Loss= 1.188222289  Accuracy= 0.9486\n",
      "Train Epoch: 24 Loss= 1.117061138  Accuracy= 0.9538\n",
      "Train Epoch: 25 Loss= 1.119020462  Accuracy= 0.9528\n",
      "mnist_h256_model_000025.ckpt saved\n",
      "Train Epoch: 26 Loss= 1.149993420  Accuracy= 0.9524\n",
      "Train Epoch: 27 Loss= 1.094741225  Accuracy= 0.9534\n",
      "Train Epoch: 28 Loss= 1.179369092  Accuracy= 0.9498\n",
      "Train Epoch: 29 Loss= 1.139044166  Accuracy= 0.9516\n",
      "Train Epoch: 30 Loss= 1.118228078  Accuracy= 0.9524\n",
      "mnist_h256_model_000030.ckpt saved\n",
      "Train Finished takes: 77.85\n",
      "Model saved!\n"
     ]
    }
   ],
   "source": [
    "#声明完所有变量后，调用tf.train.Saver\n",
    "saver = tf.train.Saver()\n",
    "\n",
    "sess = tf.Session()\n",
    "sess.run(tf.global_variables_initializer())\n",
    "\n",
    "for epoch in range(train_epochs):\n",
    "    for batch in range(total_batch):\n",
    "        xs, ys = mnist.train.next_batch(batch_size)# 读取批次数据\n",
    "        sess.run(optimizer,feed_dict={x: xs,y: ys}) # 执行批次训练\n",
    "           \n",
    "    #total_batch个批次训练完成后，使用验证数据计算误差与准确率   \n",
    "    loss,acc = sess.run([loss_function,accuracy],\n",
    "                        feed_dict={x: mnist.validation.images, y: mnist.validation.labels})\n",
    "    \n",
    "    epoch_list.append(epoch)\n",
    "    loss_list.append(loss)\n",
    "    accuracy_list.append(acc)    \n",
    "    \n",
    "    if (epoch+1) % display_step == 0:\n",
    "        print(\"Train Epoch:\", '%02d' % (epoch+1), \"Loss=\", \"{:.9f}\".format(loss),\" Accuracy=\",\"{:.4f}\".format(acc))\n",
    "    if (epoch+1) % save_step == 0:\n",
    "            saver.save(sess, os.path.join(ckpt_dir, 'mnist_h256_model_{:06d}.ckpt'.format(epoch+1)))#存储模型\n",
    "            print('mnist_h256_model_{:06d}.ckpt saved'.format(epoch+1))\n",
    "\n",
    "# 显示运行总时间    \n",
    "duration =time()-startTime\n",
    "print(\"Train Finished takes:\",\"{:.2f}\".format(duration))\n",
    "\n",
    "saver.save(sess, os.path.join(ckpt_dir, 'mnist_h256_model.ckpt'))#生成检查点文件\n",
    "print(\"Model saved!\")"
   ]
  },
  {
   "cell_type": "markdown",
   "metadata": {},
   "source": [
    "从上述打印结果可以看出包含256个神经元的单隐层神经网络的分类性能比仅包含一个神经元的神经网络更优。"
   ]
  },
  {
   "cell_type": "code",
   "execution_count": 11,
   "metadata": {
    "collapsed": true
   },
   "outputs": [],
   "source": [
    "sess.close()"
   ]
  },
  {
   "cell_type": "markdown",
   "metadata": {},
   "source": [
    "## 进行预测"
   ]
  },
  {
   "cell_type": "markdown",
   "metadata": {},
   "source": [
    "在建立模型并进行训练后，若认为在验证集上的准确率可以接受，则可以使用此模型进行预测。<br>\n",
    "我们之前通过** tf.train.Saver **对已训练的模型进行了保存，我们可以在./ckpt_dir/文件夹下找到相关文件，如下图所示："
   ]
  },
  {
   "cell_type": "markdown",
   "metadata": {},
   "source": [
    "<img src=\"ckpt_files_list.jpg\" />"
   ]
  },
  {
   "cell_type": "markdown",
   "metadata": {},
   "source": [
    "共包含16个文件，包括，5个.data文件，5个.index文件，5个.meta文件，以及1个检查点文件checkpoint。<br>\n",
    "可以发现无论迭代训练多少次，检查点文件中最多只保存当前最新5个模型，这是Tensorflow中默认的设置。"
   ]
  },
  {
   "cell_type": "markdown",
   "metadata": {},
   "source": [
    "### 读取模型"
   ]
  },
  {
   "cell_type": "code",
   "execution_count": 12,
   "metadata": {
    "collapsed": false
   },
   "outputs": [
    {
     "name": "stdout",
     "output_type": "stream",
     "text": [
      "Starting another session for prediction\n",
      "INFO:tensorflow:Restoring parameters from ./ckpt_dir/mnist_h256_model.ckpt\n",
      "Accuracy: 0.9537\n"
     ]
    }
   ],
   "source": [
    "print(\"Starting another session for prediction\")\n",
    "saver = tf.train.Saver()\n",
    "\n",
    "sess = tf.Session() \n",
    "init = tf.global_variables_initializer() \n",
    "sess.run(init)\n",
    "\n",
    "ckpt = tf.train.get_checkpoint_state(ckpt_dir)\n",
    "\n",
    "if ckpt and ckpt.model_checkpoint_path:\n",
    "    saver.restore(sess, ckpt.model_checkpoint_path)# 从已保存的模型中读取参数\n",
    "print (\"Accuracy:\", accuracy.eval(session=sess, feed_dict={x: mnist.test.images, y: mnist.test.labels}))       "
   ]
  },
  {
   "cell_type": "markdown",
   "metadata": {},
   "source": [
    "### 可视化"
   ]
  },
  {
   "cell_type": "code",
   "execution_count": 13,
   "metadata": {
    "collapsed": true
   },
   "outputs": [],
   "source": [
    "import matplotlib.pyplot as plt\n",
    "import numpy as np\n",
    "def plot_images_labels_prediction(images,labels,\n",
    "                                  prediction,idx,num=10):\n",
    "    fig = plt.gcf()\n",
    "    fig.set_size_inches(10, 12)\n",
    "    if num>25: num=25 \n",
    "    for i in range(0, num):\n",
    "        ax=plt.subplot(5,5, 1+i)\n",
    "        \n",
    "        ax.imshow(np.reshape(images[idx],(28, 28)), \n",
    "                  cmap='binary')\n",
    "            \n",
    "        title= \"label=\" +str(np.argmax(labels[idx]))\n",
    "        if len(prediction)>0:\n",
    "            title+=\",predict=\"+str(prediction[idx]) \n",
    "            \n",
    "        ax.set_title(title,fontsize=10) \n",
    "        ax.set_xticks([]);ax.set_yticks([])        \n",
    "        idx+=1 \n",
    "    plt.show()"
   ]
  },
  {
   "cell_type": "code",
   "execution_count": 14,
   "metadata": {
    "collapsed": false
   },
   "outputs": [
    {
     "data": {
      "image/png": "[encoded data removed]",
      "text/plain": [
       "<matplotlib.figure.Figure at 0x21b6ba47f98>"
      ]
     },
     "metadata": {},
     "output_type": "display_data"
    }
   ],
   "source": [
    "prediction_result=sess.run(tf.argmax(pred,1), # 由于pred预测结果是one-hot编码格式，所以需要转换为0~9数字\n",
    "                           feed_dict={x: mnist.test.images })\n",
    "plot_images_labels_prediction(mnist.test.images,\n",
    "                              mnist.test.labels,\n",
    "                              prediction_result,10)"
   ]
  },
  {
   "cell_type": "markdown",
   "metadata": {},
   "source": [
    "## 找出预测错误"
   ]
  },
  {
   "cell_type": "code",
   "execution_count": 15,
   "metadata": {
    "collapsed": false
   },
   "outputs": [
    {
     "name": "stdout",
     "output_type": "stream",
     "text": [
      "i=8   label= 5 predict= 2\n",
      "i=126   label= 0 predict= 9\n",
      "i=149   label= 2 predict= 9\n",
      "i=158   label= 3 predict= 2\n",
      "i=195   label= 3 predict= 2\n",
      "i=217   label= 6 predict= 5\n",
      "i=247   label= 4 predict= 2\n",
      "i=259   label= 6 predict= 0\n",
      "i=268   label= 8 predict= 5\n",
      "i=291   label= 2 predict= 8\n",
      "i=321   label= 2 predict= 7\n",
      "i=340   label= 5 predict= 3\n",
      "i=381   label= 3 predict= 7\n",
      "i=394   label= 9 predict= 7\n",
      "i=404   label= 2 predict= 7\n",
      "i=421   label= 2 predict= 0\n",
      "i=435   label= 8 predict= 7\n",
      "i=445   label= 6 predict= 0\n",
      "i=448   label= 9 predict= 8\n",
      "i=449   label= 3 predict= 5\n",
      "i=464   label= 3 predict= 7\n",
      "i=478   label= 5 predict= 6\n",
      "i=492   label= 2 predict= 1\n",
      "count= 23\n"
     ]
    }
   ],
   "source": [
    "count=0\n",
    "for i in range(500):\n",
    "    if prediction_result[i]!=np.argmax(mnist.test.labels[i]):\n",
    "        print(\"i=\"+str(i)+\n",
    "              \"   label=\",np.argmax(mnist.test.labels[i]),\n",
    "              \"predict=\",prediction_result[i])\n",
    "        count+=1\n",
    "print(\"count=\", count)\n",
    "    "
   ]
  },
  {
   "cell_type": "code",
   "execution_count": 16,
   "metadata": {
    "collapsed": true
   },
   "outputs": [],
   "source": [
    "sess.close()"
   ]
  },
  {
   "cell_type": "code",
   "execution_count": null,
   "metadata": {
    "collapsed": true
   },
   "outputs": [],
   "source": []
  }
 ],
 "metadata": {
  "anaconda-cloud": {},
  "kernelspec": {
   "display_name": "Python [default]",
   "language": "python",
   "name": "python3"
  },
  "language_info": {
   "codemirror_mode": {
    "name": "ipython",
    "version": 3
   },
   "file_extension": ".py",
   "mimetype": "text/x-python",
   "name": "python",
   "nbconvert_exporter": "python",
   "pygments_lexer": "ipython3",
   "version": "3.5.2"
  },
  "toc": {
   "base_numbering": "3",
   "nav_menu": {},
   "number_sections": true,
   "sideBar": true,
   "skip_h1_title": false,
   "title_cell": "目录",
   "title_sidebar": "Contents",
   "toc_cell": true,
   "toc_position": {
    "height": "calc(100% - 180px)",
    "left": "10px",
    "top": "150px",
    "width": "273px"
   },
   "toc_section_display": true,
   "toc_window_display": true
  }
 },
 "nbformat": 4,
 "nbformat_minor": 1
}
