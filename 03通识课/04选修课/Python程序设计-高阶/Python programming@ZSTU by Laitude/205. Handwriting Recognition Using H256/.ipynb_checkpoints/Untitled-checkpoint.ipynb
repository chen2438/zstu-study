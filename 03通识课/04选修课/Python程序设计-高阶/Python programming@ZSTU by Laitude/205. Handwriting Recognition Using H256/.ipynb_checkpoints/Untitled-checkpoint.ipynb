{
 "cells": [
  {
   "cell_type": "code",
   "execution_count": null,
   "metadata": {},
   "outputs": [],
   "source": [
    "import tensorflow as tf"
   ]
  },
  {
   "cell_type": "code",
   "execution_count": null,
   "metadata": {},
   "outputs": [],
   "source": [
    "from tensorflow.examples.tutorials.mnist import input_data\n",
    "mnist=input_data.read_data_sets(\"MNIST_data\",one_hot=True)"
   ]
  },
  {
   "cell_type": "code",
   "execution_count": null,
   "metadata": {},
   "outputs": [],
   "source": [
    "x=tf.placeholder(tf.float32,[None,784],name=\"X\")\n",
    "y=tf.placeholder(tf.float32,[None,10],name=\"Y\")"
   ]
  },
  {
   "cell_type": "code",
   "execution_count": null,
   "metadata": {},
   "outputs": [],
   "source": [
    "H1_NN=256\n",
    "\n",
    "W1=tf.Variable(tf.random_normal([784,H1_NN]))\n",
    "b1=tf.Variable(tf.zeros([H1_NN]))\n",
    "\n",
    "Y1=tf.nn.relu(tf.matmul(x,W1)+b1)"
   ]
  },
  {
   "cell_type": "code",
   "execution_count": null,
   "metadata": {},
   "outputs": [],
   "source": [
    "W2=tf.Variable(tf.random_normal([H1_NN,10]))\n",
    "b2=tf.Variable(tf.zeros([10]))\n",
    "\n",
    "pred=tf.matmul(Y1,W2)+b2\n",
    "#forward=tf.nn.relu(tf.matmul(Y1,W2)+b2)\n",
    "#pred=tf.nn.softmax(forward)   #softmax分类"
   ]
  },
  {
   "cell_type": "code",
   "execution_count": null,
   "metadata": {},
   "outputs": [],
   "source": [
    "loss_function=tf.reduce_mean(\n",
    "      tf.nn.softmax_cross_entropy_with_logits(logits=pred,labels=y))  #交叉熵 "
   ]
  },
  {
   "cell_type": "code",
   "execution_count": null,
   "metadata": {},
   "outputs": [],
   "source": [
    "train_epochs=40\n",
    "batch_size=50\n",
    "total_batch=int(mnist.train.num_examples/batch_size)\n",
    "display_step=1  #显示粒度\n",
    "learning_rate=0.01"
   ]
  },
  {
   "cell_type": "code",
   "execution_count": null,
   "metadata": {},
   "outputs": [],
   "source": [
    "optimizer=tf.train.AdamOptimizer(learning_rate).minimize(loss_function) #梯度下降"
   ]
  },
  {
   "cell_type": "code",
   "execution_count": null,
   "metadata": {},
   "outputs": [],
   "source": [
    "correct_prediction=tf.equal(tf.argmax(pred,1),tf.argmax(y,1))\n",
    "accuracy=tf.reduce_mean(tf.cast(correct_prediction,tf.float32))"
   ]
  },
  {
   "cell_type": "code",
   "execution_count": null,
   "metadata": {},
   "outputs": [],
   "source": [
    "#记录训练开始时间\n",
    "from time import time\n",
    "startTime=time()\n",
    "\n",
    "sess=tf.Session()\n",
    "sess.run(tf.global_variables_initializer())  #变量初始化"
   ]
  },
  {
   "cell_type": "code",
   "execution_count": null,
   "metadata": {},
   "outputs": [],
   "source": [
    "for epoch in range(train_epochs):\n",
    "    for batch in range(total_batch):\n",
    "        xs,ys=mnist.train.next_batch(batch_size) #读取批次数据\n",
    "        sess.run(optimizer,feed_dict={x:xs,y:ys}) #进行批次训练\n",
    "    #total_batch个批次训练完成后，使用验证数据计算误差与准确率，验证集没有分批\n",
    "    loss,acc=sess.run([loss_function,accuracy],\n",
    "                     feed_dict={x:mnist.validation.images, \n",
    "                                y:mnist.validation.labels})\n",
    "    \n",
    "    #打印训练过程中的详细信息\n",
    "    if (epoch+1) % display_step==0:\n",
    "        print(\"Train Epoch:\",'%02d' %(epoch+1), \"Loss=\",\"{:.9f}\".format(loss),\\\n",
    "             \"Accuracy=\",\"{:.4f}\".format(acc))\n",
    "        \n",
    "duration=time()-startTime\n",
    "print(\"Train finished takes:\",\"{:,2f}\",format(duration))"
   ]
  },
  {
   "cell_type": "code",
   "execution_count": null,
   "metadata": {},
   "outputs": [],
   "source": [
    "def plot_images_labels_prediction(images,\n",
    "                                 labels,\n",
    "                                 prediction,\n",
    "                                 index,\n",
    "                                 num=10):\n",
    "    fig=plt.gcf()\n",
    "    fig.set_size_inches(10,12)\n",
    "    if num > 25:\n",
    "        num=25\n",
    "    for i in range(0, num):\n",
    "        ax=plt.subplot(5,5,i+1)\n",
    "        \n",
    "        ax.imshow(np.reshape(images[index],(28,28)),\n",
    "                 camp='binary')\n",
    "        \n",
    "        title=\"label=\"+str(np.argmax(lables[index]))\n",
    "        if len(predicition)>0:\n",
    "            title +=\",predict\"+str(prediction[inex])\n",
    "            \n",
    "        ax.set_title(title,fontsize=10)\n",
    "        ax.set_xticks([])\n",
    "        ax.set_yticks([])\n",
    "        index+=1\n",
    "    plt.show()    "
   ]
  },
  {
   "cell_type": "code",
   "execution_count": null,
   "metadata": {},
   "outputs": [],
   "source": [
    "plot_images_labels_prediction(mnist.test.images,\n",
    "                             mnist.test.labels,\n",
    "                             pred,10,10)"
   ]
  },
  {
   "cell_type": "code",
   "execution_count": null,
   "metadata": {},
   "outputs": [],
   "source": []
  }
 ],
 "metadata": {
  "kernelspec": {
   "display_name": "Python 3",
   "language": "python",
   "name": "python3"
  },
  "language_info": {
   "codemirror_mode": {
    "name": "ipython",
    "version": 3
   },
   "file_extension": ".py",
   "mimetype": "text/x-python",
   "name": "python",
   "nbconvert_exporter": "python",
   "pygments_lexer": "ipython3",
   "version": "3.6.5"
  }
 },
 "nbformat": 4,
 "nbformat_minor": 2
}
