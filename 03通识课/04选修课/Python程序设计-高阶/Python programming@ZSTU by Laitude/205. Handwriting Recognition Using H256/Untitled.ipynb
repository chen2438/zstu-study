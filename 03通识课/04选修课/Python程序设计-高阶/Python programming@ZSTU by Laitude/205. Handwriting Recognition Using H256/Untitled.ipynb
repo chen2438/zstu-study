{
 "cells": [
  {
   "cell_type": "code",
   "execution_count": 1,
   "metadata": {},
   "outputs": [],
   "source": [
    "import tensorflow as tf"
   ]
  },
  {
   "cell_type": "code",
   "execution_count": 2,
   "metadata": {},
   "outputs": [
    {
     "name": "stderr",
     "output_type": "stream",
     "text": [
      "C:\\Anaconda3\\lib\\site-packages\\h5py\\__init__.py:36: FutureWarning: Conversion of the second argument of issubdtype from `float` to `np.floating` is deprecated. In future, it will be treated as `np.float64 == np.dtype(float).type`.\n",
      "  from ._conv import register_converters as _register_converters\n"
     ]
    },
    {
     "name": "stdout",
     "output_type": "stream",
     "text": [
      "Extracting MNIST_data\\train-images-idx3-ubyte.gz\n",
      "Extracting MNIST_data\\train-labels-idx1-ubyte.gz\n",
      "Extracting MNIST_data\\t10k-images-idx3-ubyte.gz\n",
      "Extracting MNIST_data\\t10k-labels-idx1-ubyte.gz\n"
     ]
    }
   ],
   "source": [
    "from tensorflow.examples.tutorials.mnist import input_data\n",
    "mnist=input_data.read_data_sets(\"MNIST_data\",one_hot=True)"
   ]
  },
  {
   "cell_type": "code",
   "execution_count": 3,
   "metadata": {},
   "outputs": [],
   "source": [
    "x=tf.placeholder(tf.float32,[None,784],name=\"X\")\n",
    "y=tf.placeholder(tf.float32,[None,10],name=\"Y\")"
   ]
  },
  {
   "cell_type": "code",
   "execution_count": 4,
   "metadata": {},
   "outputs": [],
   "source": [
    "H1_NN=256\n",
    "\n",
    "W1=tf.Variable(tf.random_normal([784,H1_NN]))\n",
    "b1=tf.Variable(tf.zeros([H1_NN]))\n",
    "\n",
    "Y1=tf.nn.relu(tf.matmul(x,W1)+b1)"
   ]
  },
  {
   "cell_type": "code",
   "execution_count": 5,
   "metadata": {},
   "outputs": [],
   "source": [
    "W2=tf.Variable(tf.random_normal([H1_NN,10]))\n",
    "b2=tf.Variable(tf.zeros([10]))\n",
    "\n",
    "pred=tf.matmul(Y1,W2)+b2\n",
    "#forward=tf.nn.relu(tf.matmul(Y1,W2)+b2)\n",
    "#pred=tf.nn.softmax(forward)   #softmax分类"
   ]
  },
  {
   "cell_type": "code",
   "execution_count": 6,
   "metadata": {},
   "outputs": [],
   "source": [
    "loss_function=tf.reduce_mean(\n",
    "      tf.nn.softmax_cross_entropy_with_logits(logits=pred,labels=y))  #交叉熵 "
   ]
  },
  {
   "cell_type": "code",
   "execution_count": 7,
   "metadata": {},
   "outputs": [],
   "source": [
    "train_epochs=40\n",
    "batch_size=50\n",
    "total_batch=int(mnist.train.num_examples/batch_size)\n",
    "display_step=1  #显示粒度\n",
    "learning_rate=0.01"
   ]
  },
  {
   "cell_type": "code",
   "execution_count": 8,
   "metadata": {},
   "outputs": [],
   "source": [
    "optimizer=tf.train.AdamOptimizer(learning_rate).minimize(loss_function) #梯度下降"
   ]
  },
  {
   "cell_type": "code",
   "execution_count": 9,
   "metadata": {},
   "outputs": [],
   "source": [
    "correct_prediction=tf.equal(tf.argmax(pred,1),tf.argmax(y,1))\n",
    "accuracy=tf.reduce_mean(tf.cast(correct_prediction,tf.float32))"
   ]
  },
  {
   "cell_type": "code",
   "execution_count": 10,
   "metadata": {},
   "outputs": [],
   "source": [
    "#记录训练开始时间\n",
    "from time import time\n",
    "startTime=time()\n",
    "\n",
    "sess=tf.Session()\n",
    "sess.run(tf.global_variables_initializer())  #变量初始化"
   ]
  },
  {
   "cell_type": "code",
   "execution_count": 11,
   "metadata": {},
   "outputs": [
    {
     "name": "stdout",
     "output_type": "stream",
     "text": [
      "Train Epoch: 01 Loss= 1.217397094 Accuracy= 0.9362\n",
      "Train Epoch: 02 Loss= 0.644813001 Accuracy= 0.9494\n",
      "Train Epoch: 03 Loss= 0.544447958 Accuracy= 0.9566\n",
      "Train Epoch: 04 Loss= 0.434665442 Accuracy= 0.9606\n",
      "Train Epoch: 05 Loss= 0.408738613 Accuracy= 0.9578\n",
      "Train Epoch: 06 Loss= 0.445045024 Accuracy= 0.9586\n",
      "Train Epoch: 07 Loss= 0.381642938 Accuracy= 0.9574\n",
      "Train Epoch: 08 Loss= 0.386711478 Accuracy= 0.9620\n",
      "Train Epoch: 09 Loss= 0.330154896 Accuracy= 0.9634\n",
      "Train Epoch: 10 Loss= 0.322798848 Accuracy= 0.9656\n",
      "Train Epoch: 11 Loss= 0.351887882 Accuracy= 0.9644\n",
      "Train Epoch: 12 Loss= 0.350427866 Accuracy= 0.9634\n",
      "Train Epoch: 13 Loss= 0.381578177 Accuracy= 0.9634\n",
      "Train Epoch: 14 Loss= 0.354442418 Accuracy= 0.9640\n",
      "Train Epoch: 15 Loss= 0.356475770 Accuracy= 0.9726\n",
      "Train Epoch: 16 Loss= 0.415797472 Accuracy= 0.9664\n",
      "Train Epoch: 17 Loss= 0.379587144 Accuracy= 0.9740\n",
      "Train Epoch: 18 Loss= 0.470125526 Accuracy= 0.9668\n",
      "Train Epoch: 19 Loss= 0.443067908 Accuracy= 0.9748\n",
      "Train Epoch: 20 Loss= 0.425458193 Accuracy= 0.9714\n",
      "Train Epoch: 21 Loss= 0.508395910 Accuracy= 0.9696\n",
      "Train Epoch: 22 Loss= 0.479823530 Accuracy= 0.9690\n",
      "Train Epoch: 23 Loss= 0.430941880 Accuracy= 0.9732\n",
      "Train Epoch: 24 Loss= 0.608629227 Accuracy= 0.9728\n",
      "Train Epoch: 25 Loss= 0.577206075 Accuracy= 0.9700\n",
      "Train Epoch: 26 Loss= 0.571308196 Accuracy= 0.9720\n",
      "Train Epoch: 27 Loss= 0.485450774 Accuracy= 0.9748\n",
      "Train Epoch: 28 Loss= 0.573636353 Accuracy= 0.9734\n",
      "Train Epoch: 29 Loss= 0.590339899 Accuracy= 0.9750\n",
      "Train Epoch: 30 Loss= 0.704509079 Accuracy= 0.9730\n",
      "Train Epoch: 31 Loss= 0.616621852 Accuracy= 0.9740\n",
      "Train Epoch: 32 Loss= 0.663725615 Accuracy= 0.9728\n",
      "Train Epoch: 33 Loss= 0.716212928 Accuracy= 0.9734\n",
      "Train Epoch: 34 Loss= 0.720920205 Accuracy= 0.9718\n",
      "Train Epoch: 35 Loss= 0.717376351 Accuracy= 0.9756\n",
      "Train Epoch: 36 Loss= 0.737221599 Accuracy= 0.9764\n",
      "Train Epoch: 37 Loss= 0.722279906 Accuracy= 0.9750\n",
      "Train Epoch: 38 Loss= 0.740980685 Accuracy= 0.9710\n",
      "Train Epoch: 39 Loss= 0.725359976 Accuracy= 0.9750\n",
      "Train Epoch: 40 Loss= 0.797273219 Accuracy= 0.9738\n",
      "Train finished takes: {:,2f} 153.09675645828247\n"
     ]
    }
   ],
   "source": [
    "for epoch in range(train_epochs):\n",
    "    for batch in range(total_batch):\n",
    "        xs,ys=mnist.train.next_batch(batch_size) #读取批次数据\n",
    "        sess.run(optimizer,feed_dict={x:xs,y:ys}) #进行批次训练\n",
    "    #total_batch个批次训练完成后，使用验证数据计算误差与准确率，验证集没有分批\n",
    "    loss,acc=sess.run([loss_function,accuracy],\n",
    "                     feed_dict={x:mnist.validation.images, \n",
    "                                y:mnist.validation.labels})\n",
    "    \n",
    "    #打印训练过程中的详细信息\n",
    "    if (epoch+1) % display_step==0:\n",
    "        print(\"Train Epoch:\",'%02d' %(epoch+1), \"Loss=\",\"{:.9f}\".format(loss),\\\n",
    "             \"Accuracy=\",\"{:.4f}\".format(acc))\n",
    "        \n",
    "duration=time()-startTime\n",
    "print(\"Train finished takes:\",\"{:,2f}\",format(duration))"
   ]
  },
  {
   "cell_type": "code",
   "execution_count": 12,
   "metadata": {},
   "outputs": [],
   "source": [
    "def plot_images_labels_prediction(images,\n",
    "                                 labels,\n",
    "                                 prediction,\n",
    "                                 index,\n",
    "                                 num=10):\n",
    "    fig=plt.gcf()\n",
    "    fig.set_size_inches(10,12)\n",
    "    if num > 25:\n",
    "        num=25\n",
    "    for i in range(0, num):\n",
    "        ax=plt.subplot(5,5,i+1)\n",
    "        \n",
    "        ax.imshow(np.reshape(images[index],(28,28)),\n",
    "                 camp='binary')\n",
    "        \n",
    "        title=\"label=\"+str(np.argmax(lables[index]))\n",
    "        if len(predicition)>0:\n",
    "            title +=\",predict\"+str(prediction[inex])\n",
    "            \n",
    "        ax.set_title(title,fontsize=10)\n",
    "        ax.set_xticks([])\n",
    "        ax.set_yticks([])\n",
    "        index+=1\n",
    "    plt.show()    "
   ]
  },
  {
   "cell_type": "code",
   "execution_count": 13,
   "metadata": {},
   "outputs": [
    {
     "ename": "NameError",
     "evalue": "name 'plt' is not defined",
     "output_type": "error",
     "traceback": [
      "\u001b[1;31m---------------------------------------------------------------------------\u001b[0m",
      "\u001b[1;31mNameError\u001b[0m                                 Traceback (most recent call last)",
      "\u001b[1;32m<ipython-input-13-832b529560e3>\u001b[0m in \u001b[0;36m<module>\u001b[1;34m()\u001b[0m\n\u001b[0;32m      1\u001b[0m plot_images_labels_prediction(mnist.test.images,\n\u001b[0;32m      2\u001b[0m                              \u001b[0mmnist\u001b[0m\u001b[1;33m.\u001b[0m\u001b[0mtest\u001b[0m\u001b[1;33m.\u001b[0m\u001b[0mlabels\u001b[0m\u001b[1;33m,\u001b[0m\u001b[1;33m\u001b[0m\u001b[0m\n\u001b[1;32m----> 3\u001b[1;33m                              pred,10,10)\n\u001b[0m",
      "\u001b[1;32m<ipython-input-12-f61f257614a7>\u001b[0m in \u001b[0;36mplot_images_labels_prediction\u001b[1;34m(images, labels, prediction, index, num)\u001b[0m\n\u001b[0;32m      4\u001b[0m                                  \u001b[0mindex\u001b[0m\u001b[1;33m,\u001b[0m\u001b[1;33m\u001b[0m\u001b[0m\n\u001b[0;32m      5\u001b[0m                                  num=10):\n\u001b[1;32m----> 6\u001b[1;33m     \u001b[0mfig\u001b[0m\u001b[1;33m=\u001b[0m\u001b[0mplt\u001b[0m\u001b[1;33m.\u001b[0m\u001b[0mgcf\u001b[0m\u001b[1;33m(\u001b[0m\u001b[1;33m)\u001b[0m\u001b[1;33m\u001b[0m\u001b[0m\n\u001b[0m\u001b[0;32m      7\u001b[0m     \u001b[0mfig\u001b[0m\u001b[1;33m.\u001b[0m\u001b[0mset_size_inches\u001b[0m\u001b[1;33m(\u001b[0m\u001b[1;36m10\u001b[0m\u001b[1;33m,\u001b[0m\u001b[1;36m12\u001b[0m\u001b[1;33m)\u001b[0m\u001b[1;33m\u001b[0m\u001b[0m\n\u001b[0;32m      8\u001b[0m     \u001b[1;32mif\u001b[0m \u001b[0mnum\u001b[0m \u001b[1;33m>\u001b[0m \u001b[1;36m25\u001b[0m\u001b[1;33m:\u001b[0m\u001b[1;33m\u001b[0m\u001b[0m\n",
      "\u001b[1;31mNameError\u001b[0m: name 'plt' is not defined"
     ]
    }
   ],
   "source": [
    "plot_images_labels_prediction(mnist.test.images,\n",
    "                             mnist.test.labels,\n",
    "                             pred,10,10)"
   ]
  },
  {
   "cell_type": "code",
   "execution_count": null,
   "metadata": {},
   "outputs": [],
   "source": []
  }
 ],
 "metadata": {
  "kernelspec": {
   "display_name": "Python 3",
   "language": "python",
   "name": "python3"
  },
  "language_info": {
   "codemirror_mode": {
    "name": "ipython",
    "version": 3
   },
   "file_extension": ".py",
   "mimetype": "text/x-python",
   "name": "python",
   "nbconvert_exporter": "python",
   "pygments_lexer": "ipython3",
   "version": "3.6.5"
  }
 },
 "nbformat": 4,
 "nbformat_minor": 2
}
